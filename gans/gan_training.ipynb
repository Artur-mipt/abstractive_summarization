{
 "cells": [
  {
   "cell_type": "code",
   "execution_count": 1,
   "metadata": {},
   "outputs": [],
   "source": [
    "import sentencepiece as spm\n",
    "from tqdm import tqdm\n",
    "import pandas as pd\n",
    "import numpy as np\n",
    "import seaborn as sns\n",
    "import scipy.stats as sps\n",
    "import nlp\n",
    "\n",
    "from sklearn.model_selection import train_test_split\n",
    "\n",
    "import torch\n",
    "import torch.nn as nn\n",
    "import torch.optim as optim\n",
    "import torch.nn.functional as F\n",
    "from torch.utils.data import DataLoader\n",
    "from torch.utils.tensorboard import SummaryWriter\n",
    "\n",
    "from src.seq2seq_generator import Seq2Seq, Encoder, Decoder\n",
    "from src.cnn_discriminator import CNNDiscriminator\n",
    "from src.utils import *\n",
    "from src.dataset import Dataset, Padder\n",
    "\n",
    "import gensim.corpora as corpora\n",
    "from gensim.utils import simple_preprocess\n",
    "from gensim.models import CoherenceModel\n",
    "\n",
    "sns.set_style('whitegrid')"
   ]
  },
  {
   "cell_type": "markdown",
   "metadata": {},
   "source": [
    "### 1. load data"
   ]
  },
  {
   "cell_type": "code",
   "execution_count": 2,
   "metadata": {},
   "outputs": [],
   "source": [
    "dataset_name = 'news'"
   ]
  },
  {
   "cell_type": "code",
   "execution_count": 3,
   "metadata": {
    "scrolled": true
   },
   "outputs": [
    {
     "name": "stdout",
     "output_type": "stream",
     "text": [
      "CPU times: user 670 ms, sys: 20.2 ms, total: 690 ms\n",
      "Wall time: 690 ms\n"
     ]
    }
   ],
   "source": [
    "%%time\n",
    "\n",
    "if dataset_name == 'cnn':\n",
    "    train_dataset = nlp.load_dataset(\"cnn_dailymail\", \"3.0.0\", split=\"train\")\n",
    "    val_dataset = nlp.load_dataset(\"cnn_dailymail\", \"3.0.0\", split=\"validation\")\n",
    "    test_dataset = nlp.load_dataset(\"cnn_dailymail\", \"3.0.0\", split=\"test\")\n",
    "    train_articles = [item['article'] for item in train_dataset]\n",
    "    train_highlights = [item['highlights'] for item in train_dataset]\n",
    "    val_articles = [item['article'] for item in val_dataset]\n",
    "    val_highlights = [item['highlights'] for item in val_dataset]\n",
    "elif dataset_name == 'news':\n",
    "    news = pd.read_csv('data/news_summary.csv')\n",
    "    news.headlines = [process_str(s) for s in news.headlines]\n",
    "    news.text = [process_str(s) for s in news.text]\n",
    "    X_train, X_test = train_test_split(news, test_size=0.3,\n",
    "                                       random_state=42)\n",
    "    train_articles = X_train.text.values\n",
    "    train_highlights = X_train.headlines.values\n",
    "    val_articles = X_test.text.values\n",
    "    val_highlights = X_test.headlines.values"
   ]
  },
  {
   "cell_type": "markdown",
   "metadata": {},
   "source": [
    "### 2. sentencepiece model"
   ]
  },
  {
   "cell_type": "code",
   "execution_count": 4,
   "metadata": {},
   "outputs": [],
   "source": [
    "train_new_model = False"
   ]
  },
  {
   "cell_type": "code",
   "execution_count": 5,
   "metadata": {},
   "outputs": [
    {
     "name": "stdout",
     "output_type": "stream",
     "text": [
      "CPU times: user 1 µs, sys: 0 ns, total: 1 µs\n",
      "Wall time: 2.62 µs\n"
     ]
    }
   ],
   "source": [
    "%%time\n",
    "if train_new_model:\n",
    "    with open('data/news_texts.txt', 'a') as f:\n",
    "        for article in tqdm(train_articles):\n",
    "            f.write(article + '\\n')\n",
    "        for highlight in tqdm(train_highlights):\n",
    "            f.write(highlight + '\\n')\n",
    "        for article in tqdm(val_articles):\n",
    "            f.write(article + '\\n')\n",
    "        for highlight in tqdm(val_highlights):\n",
    "            f.write(highlight + '\\n')\n",
    "            \n",
    "    spm.SentencePieceTrainer.train(input='data/news_texts.txt',\n",
    "                                   model_prefix='news10k',\n",
    "                                   vocab_size=10000,\n",
    "                                   pad_id=0,\n",
    "                                   bos_id=1,\n",
    "                                   eos_id=2,\n",
    "                                   unk_id=3)"
   ]
  },
  {
   "cell_type": "markdown",
   "metadata": {},
   "source": [
    "### 3. dataset and dataloaders"
   ]
  },
  {
   "cell_type": "code",
   "execution_count": 6,
   "metadata": {},
   "outputs": [],
   "source": [
    "vocab_size = 10000\n",
    "sp_modelname = f'sentencepiece_models/news{int(vocab_size/1000)}k.model'"
   ]
  },
  {
   "cell_type": "code",
   "execution_count": 7,
   "metadata": {},
   "outputs": [],
   "source": [
    "sp = spm.SentencePieceProcessor(model_file=sp_modelname)"
   ]
  },
  {
   "cell_type": "code",
   "execution_count": 8,
   "metadata": {},
   "outputs": [],
   "source": [
    "train_dataset = Dataset(train_articles, train_highlights, sp=sp)\n",
    "val_dataset = Dataset(val_articles, val_highlights, sp=sp)\n",
    "\n",
    "train_dataloader = DataLoader(train_dataset, batch_size=128,\n",
    "                              collate_fn=Padder(), shuffle=True)\n",
    "val_dataloader = DataLoader(val_dataset, batch_size=128,\n",
    "                            collate_fn=Padder(), shuffle=False)"
   ]
  },
  {
   "cell_type": "code",
   "execution_count": 9,
   "metadata": {},
   "outputs": [
    {
     "name": "stdout",
     "output_type": "stream",
     "text": [
      "torch.Size([97, 128])\n",
      "torch.Size([23, 128])\n"
     ]
    }
   ],
   "source": [
    "for batch in train_dataloader:\n",
    "    print(batch[0].size())\n",
    "    print(batch[1].size())\n",
    "    break"
   ]
  },
  {
   "cell_type": "markdown",
   "metadata": {},
   "source": [
    "### 4. model architecture"
   ]
  },
  {
   "cell_type": "code",
   "execution_count": 10,
   "metadata": {},
   "outputs": [
    {
     "name": "stdout",
     "output_type": "stream",
     "text": [
      "cuda:0\n"
     ]
    }
   ],
   "source": [
    "device = 'cuda:0' if torch.cuda.is_available() else 'cpu'\n",
    "print(device)"
   ]
  },
  {
   "cell_type": "code",
   "execution_count": 11,
   "metadata": {},
   "outputs": [],
   "source": [
    "writer = SummaryWriter()"
   ]
  },
  {
   "cell_type": "code",
   "execution_count": 12,
   "metadata": {},
   "outputs": [],
   "source": [
    "INPUT_DIM = vocab_size\n",
    "OUTPUT_DIM = vocab_size\n",
    "ENC_EMB_DIM = 256\n",
    "DEC_EMB_DIM = 256\n",
    "HID_DIM = 256\n",
    "N_LAYERS = 3\n",
    "ENC_DROPOUT = 0.1\n",
    "DEC_DROPOUT = 0.1\n",
    "\n",
    "enc = Encoder(INPUT_DIM, ENC_EMB_DIM, HID_DIM, N_LAYERS, ENC_DROPOUT)\n",
    "dec = Decoder(OUTPUT_DIM, DEC_EMB_DIM, HID_DIM, N_LAYERS, DEC_DROPOUT)\n",
    "\n",
    "G = Seq2Seq(enc, dec, device).to(device)"
   ]
  },
  {
   "cell_type": "code",
   "execution_count": 13,
   "metadata": {},
   "outputs": [],
   "source": [
    "emb_dim = 256\n",
    "hidden_dim = 256\n",
    "vocab_size = 10000\n",
    "padding_idx = 0\n",
    "D = CNNDiscriminator(embed_dim=emb_dim,\n",
    "                     vocab_size=vocab_size,\n",
    "                     num_classes=2,\n",
    "                     filter_sizes=[2, 3, 3],\n",
    "                     num_filters=200,\n",
    "                     padding_idx=padding_idx).to(device)"
   ]
  },
  {
   "cell_type": "markdown",
   "metadata": {},
   "source": [
    "### 5. generator pretraining"
   ]
  },
  {
   "cell_type": "code",
   "execution_count": 14,
   "metadata": {},
   "outputs": [],
   "source": [
    "criterion = nn.CrossEntropyLoss(ignore_index=0)\n",
    "lr = 1e-4\n",
    "opt = torch.optim.Adam(G.parameters(), lr=lr)\n",
    "n_epochs = 40\n",
    "\n",
    "epoch_losses = []\n",
    "val_losses = []\n",
    "iter_num = -1"
   ]
  },
  {
   "cell_type": "code",
   "execution_count": null,
   "metadata": {
    "scrolled": true
   },
   "outputs": [
    {
     "name": "stderr",
     "output_type": "stream",
     "text": [
      "539it [01:23,  6.42it/s]\n",
      "2it [00:00, 16.68it/s]"
     ]
    },
    {
     "name": "stdout",
     "output_type": "stream",
     "text": [
      "epoch 0 train loss: 7.088446982757001\n"
     ]
    },
    {
     "name": "stderr",
     "output_type": "stream",
     "text": [
      "231it [00:13, 17.29it/s]\n"
     ]
    },
    {
     "name": "stdout",
     "output_type": "stream",
     "text": [
      "epoch 0 val loss: 6.885697969329587\n"
     ]
    },
    {
     "name": "stderr",
     "output_type": "stream",
     "text": [
      "1it [00:00,  5.51it/s]"
     ]
    },
    {
     "name": "stdout",
     "output_type": "stream",
     "text": [
      "predicted: issssssssss\n",
      "truth: india are smelling blood we will show them great respect langer\n",
      "predicted: issssssssss\n",
      "truth: us man awarded 4 8 crore after beer burns his organs\n",
      "predicted: issssssssss\n",
      "truth: nasa spacecraft landed on mars with names of over 1l indians\n"
     ]
    },
    {
     "name": "stderr",
     "output_type": "stream",
     "text": [
      "539it [01:24,  6.39it/s]\n",
      "2it [00:00, 17.15it/s]"
     ]
    },
    {
     "name": "stdout",
     "output_type": "stream",
     "text": [
      "epoch 1 train loss: 6.862518388081372\n"
     ]
    },
    {
     "name": "stderr",
     "output_type": "stream",
     "text": [
      "231it [00:13, 17.23it/s]\n"
     ]
    },
    {
     "name": "stdout",
     "output_type": "stream",
     "text": [
      "epoch 1 val loss: 6.859455553126333\n"
     ]
    },
    {
     "name": "stderr",
     "output_type": "stream",
     "text": [
      "1it [00:00,  5.78it/s]"
     ]
    },
    {
     "name": "stdout",
     "output_type": "stream",
     "text": [
      "predicted: isssssssssss\n",
      "truth: f1 driver crashes after race ends rides back on another car\n",
      "predicted: issssssssss\n",
      "truth: would like to work with ranbir kapoor again rajkumar hirani\n",
      "predicted: isssssssssss\n",
      "truth: fake news of srk s death emerges on european news channel\n"
     ]
    },
    {
     "name": "stderr",
     "output_type": "stream",
     "text": [
      "539it [01:24,  6.41it/s]\n",
      "2it [00:00, 16.87it/s]"
     ]
    },
    {
     "name": "stdout",
     "output_type": "stream",
     "text": [
      "epoch 2 train loss: 6.839442179898075\n"
     ]
    },
    {
     "name": "stderr",
     "output_type": "stream",
     "text": [
      "231it [00:13, 17.00it/s]\n"
     ]
    },
    {
     "name": "stdout",
     "output_type": "stream",
     "text": [
      "epoch 2 val loss: 6.847000865794784\n"
     ]
    },
    {
     "name": "stderr",
     "output_type": "stream",
     "text": [
      "1it [00:00,  5.65it/s]"
     ]
    },
    {
     "name": "stdout",
     "output_type": "stream",
     "text": [
      "predicted: issssssssss\n",
      "truth: barcelona become world s 1st team to spend 500 million on wages\n",
      "predicted: isssssssssss\n",
      "truth: game of thrones puts women at the forefront gwendoline\n",
      "predicted: isssssssssss\n",
      "truth: farmers dump vegetables spill milk on roads during protest\n"
     ]
    },
    {
     "name": "stderr",
     "output_type": "stream",
     "text": [
      "539it [01:24,  6.39it/s]\n",
      "2it [00:00, 16.94it/s]"
     ]
    },
    {
     "name": "stdout",
     "output_type": "stream",
     "text": [
      "epoch 3 train loss: 6.815205231554693\n"
     ]
    },
    {
     "name": "stderr",
     "output_type": "stream",
     "text": [
      "231it [00:13, 17.03it/s]\n"
     ]
    },
    {
     "name": "stdout",
     "output_type": "stream",
     "text": [
      "epoch 3 val loss: 6.803446948780672\n"
     ]
    },
    {
     "name": "stderr",
     "output_type": "stream",
     "text": [
      "1it [00:00,  5.07it/s]"
     ]
    },
    {
     "name": "stdout",
     "output_type": "stream",
     "text": [
      "predicted: manssssssssss\n",
      "truth: french singer barbara weldens dies on stage during concert\n",
      "predicted: isssssssss\n",
      "truth: first look poster of sushant kriti s raabta unveiled\n",
      "predicted: isssssssss\n",
      "truth: delhi cm discharged in defamation case over thulla remark\n"
     ]
    },
    {
     "name": "stderr",
     "output_type": "stream",
     "text": [
      "539it [01:25,  6.34it/s]\n",
      "2it [00:00, 16.90it/s]"
     ]
    },
    {
     "name": "stdout",
     "output_type": "stream",
     "text": [
      "epoch 4 train loss: 6.745788951479461\n"
     ]
    },
    {
     "name": "stderr",
     "output_type": "stream",
     "text": [
      "231it [00:13, 16.97it/s]\n"
     ]
    },
    {
     "name": "stdout",
     "output_type": "stream",
     "text": [
      "epoch 4 val loss: 6.744473919878645\n"
     ]
    },
    {
     "name": "stderr",
     "output_type": "stream",
     "text": [
      "1it [00:00,  6.03it/s]"
     ]
    },
    {
     "name": "stdout",
     "output_type": "stream",
     "text": [
      "predicted: i tossssssss\n",
      "truth: enough evidence to convict syrian prez of war crimes un\n",
      "predicted: usssssssssss\n",
      "truth: sledging is a fun part of the game aus coach justin langer\n",
      "predicted: i tossssssss\n",
      "truth: whatsapp must have grievance officer in india it min to ceo\n"
     ]
    },
    {
     "name": "stderr",
     "output_type": "stream",
     "text": [
      "539it [01:25,  6.32it/s]\n",
      "2it [00:00, 16.50it/s]"
     ]
    },
    {
     "name": "stdout",
     "output_type": "stream",
     "text": [
      "epoch 5 train loss: 6.690013065958411\n"
     ]
    },
    {
     "name": "stderr",
     "output_type": "stream",
     "text": [
      "231it [00:13, 16.91it/s]\n"
     ]
    },
    {
     "name": "stdout",
     "output_type": "stream",
     "text": [
      "epoch 5 val loss: 6.711893868306631\n"
     ]
    },
    {
     "name": "stderr",
     "output_type": "stream",
     "text": [
      "1it [00:00,  5.50it/s]"
     ]
    },
    {
     "name": "stdout",
     "output_type": "stream",
     "text": [
      "predicted: mansssssssss\n",
      "truth: b luru police ask people to wear helmets share 10 secs challenge\n",
      "predicted: ussssssssss\n",
      "truth: india are smelling blood we will show them great respect langer\n",
      "predicted: i tossssssss\n",
      "truth: satya pal malik sworn in as governor of bihar\n"
     ]
    },
    {
     "name": "stderr",
     "output_type": "stream",
     "text": [
      "539it [01:24,  6.37it/s]\n",
      "2it [00:00, 17.01it/s]"
     ]
    },
    {
     "name": "stdout",
     "output_type": "stream",
     "text": [
      "epoch 6 train loss: 6.649639253915395\n"
     ]
    },
    {
     "name": "stderr",
     "output_type": "stream",
     "text": [
      "231it [00:13, 17.06it/s]\n"
     ]
    },
    {
     "name": "stdout",
     "output_type": "stream",
     "text": [
      "epoch 6 val loss: 6.678534217136169\n"
     ]
    },
    {
     "name": "stderr",
     "output_type": "stream",
     "text": [
      "1it [00:00,  5.90it/s]"
     ]
    },
    {
     "name": "stdout",
     "output_type": "stream",
     "text": [
      "predicted: mansssssssss\n",
      "truth: b luru police ask people to wear helmets share 10 secs challenge\n",
      "predicted: issssssssss\n",
      "truth: soldiers to face action for disrespecting militants bodies\n",
      "predicted: indiassssssssss\n",
      "truth: 3 075 grooms got married in bihar at gunpoint in 2016\n"
     ]
    },
    {
     "name": "stderr",
     "output_type": "stream",
     "text": [
      "539it [01:24,  6.37it/s]\n",
      "2it [00:00, 16.80it/s]"
     ]
    },
    {
     "name": "stdout",
     "output_type": "stream",
     "text": [
      "epoch 7 train loss: 6.599526145593907\n"
     ]
    },
    {
     "name": "stderr",
     "output_type": "stream",
     "text": [
      "231it [00:13, 16.97it/s]\n"
     ]
    },
    {
     "name": "stdout",
     "output_type": "stream",
     "text": [
      "epoch 7 val loss: 6.626243485622962\n"
     ]
    },
    {
     "name": "stderr",
     "output_type": "stream",
     "text": [
      "1it [00:00,  5.16it/s]"
     ]
    },
    {
     "name": "stdout",
     "output_type": "stream",
     "text": [
      "predicted: issssssssss\n",
      "truth: threat to my life claims aimim leader akbaruddin owaisi\n",
      "predicted: usssssssssss\n",
      "truth: 4 missiles fired into pakistan from afghanistan\n",
      "predicted: india sssssssssss\n",
      "truth: aus ke score par laga gst bhaari pad gaya sehwag on india s loss\n"
     ]
    },
    {
     "name": "stderr",
     "output_type": "stream",
     "text": [
      "539it [01:24,  6.36it/s]\n",
      "2it [00:00, 16.84it/s]"
     ]
    },
    {
     "name": "stdout",
     "output_type": "stream",
     "text": [
      "epoch 8 train loss: 6.528411806640448\n"
     ]
    },
    {
     "name": "stderr",
     "output_type": "stream",
     "text": [
      "231it [00:13, 16.92it/s]\n"
     ]
    },
    {
     "name": "stdout",
     "output_type": "stream",
     "text": [
      "epoch 8 val loss: 6.553303218954749\n"
     ]
    },
    {
     "name": "stderr",
     "output_type": "stream",
     "text": [
      "1it [00:00,  5.79it/s]"
     ]
    },
    {
     "name": "stdout",
     "output_type": "stream",
     "text": [
      "predicted: ussssssssss\n",
      "truth: social media giants are silencing millions of people trump\n",
      "predicted: manssssssssss\n",
      "truth: b luru police ask people to wear helmets share 10 secs challenge\n",
      "predicted: india ssssssssssss\n",
      "truth: aus ke score par laga gst bhaari pad gaya sehwag on india s loss\n"
     ]
    },
    {
     "name": "stderr",
     "output_type": "stream",
     "text": [
      "539it [01:25,  6.28it/s]\n",
      "2it [00:00, 16.94it/s]"
     ]
    },
    {
     "name": "stdout",
     "output_type": "stream",
     "text": [
      "epoch 9 train loss: 6.443201536030165\n"
     ]
    },
    {
     "name": "stderr",
     "output_type": "stream",
     "text": [
      "231it [00:13, 17.09it/s]\n"
     ]
    },
    {
     "name": "stdout",
     "output_type": "stream",
     "text": [
      "epoch 9 val loss: 6.485739276498069\n"
     ]
    },
    {
     "name": "stderr",
     "output_type": "stream",
     "text": [
      "1it [00:00,  5.95it/s]"
     ]
    },
    {
     "name": "stdout",
     "output_type": "stream",
     "text": [
      "predicted: pm modissssssss\n",
      "truth: pm modi to attend brics summit in china\n",
      "predicted: scientistssssssssss\n",
      "truth: online volunteers help find star that exploded 97 cr yrs ago\n",
      "predicted: us tossssssss\n",
      "truth: amazon must pay real costs and taxes now donald trump\n"
     ]
    },
    {
     "name": "stderr",
     "output_type": "stream",
     "text": [
      "539it [01:24,  6.37it/s]\n",
      "2it [00:00, 16.44it/s]"
     ]
    },
    {
     "name": "stdout",
     "output_type": "stream",
     "text": [
      "epoch 10 train loss: 6.37056450782891\n"
     ]
    },
    {
     "name": "stderr",
     "output_type": "stream",
     "text": [
      "231it [00:13, 17.02it/s]\n"
     ]
    },
    {
     "name": "stdout",
     "output_type": "stream",
     "text": [
      "epoch 10 val loss: 6.4274803370440265\n"
     ]
    },
    {
     "name": "stderr",
     "output_type": "stream",
     "text": [
      "1it [00:00,  6.16it/s]"
     ]
    },
    {
     "name": "stdout",
     "output_type": "stream",
     "text": [
      "predicted: i tossssssss\n",
      "truth: sports can t be run by bureaucrats sports minister rathore\n",
      "predicted: trump koreassssssss\n",
      "truth: social media giants are silencing millions of people trump\n",
      "predicted: google tossssssss\n",
      "truth: amazon must pay real costs and taxes now donald trump\n"
     ]
    },
    {
     "name": "stderr",
     "output_type": "stream",
     "text": [
      "539it [01:25,  6.33it/s]\n",
      "2it [00:00, 16.13it/s]"
     ]
    },
    {
     "name": "stdout",
     "output_type": "stream",
     "text": [
      "epoch 11 train loss: 6.308527766924425\n"
     ]
    },
    {
     "name": "stderr",
     "output_type": "stream",
     "text": [
      "231it [00:13, 16.98it/s]\n"
     ]
    },
    {
     "name": "stdout",
     "output_type": "stream",
     "text": [
      "epoch 11 val loss: 6.377452556673684\n"
     ]
    },
    {
     "name": "stderr",
     "output_type": "stream",
     "text": [
      "1it [00:00,  5.81it/s]"
     ]
    },
    {
     "name": "stdout",
     "output_type": "stream",
     "text": [
      "predicted: i wassssssssss\n",
      "truth: de villiers hid love letters he wrote in his house s roof\n",
      "predicted: ssssssssss\n",
      "truth: csk pacer lungi reveals he used to sell peanuts on roadside\n",
      "predicted: delhisssssss in in\n",
      "truth: docs chant mantra for hours to bring down deaths in hospital\n"
     ]
    },
    {
     "name": "stderr",
     "output_type": "stream",
     "text": [
      "539it [01:25,  6.30it/s]\n",
      "2it [00:00, 16.85it/s]"
     ]
    },
    {
     "name": "stdout",
     "output_type": "stream",
     "text": [
      "epoch 12 train loss: 6.254474636126617\n"
     ]
    },
    {
     "name": "stderr",
     "output_type": "stream",
     "text": [
      "231it [00:13, 16.99it/s]\n"
     ]
    },
    {
     "name": "stdout",
     "output_type": "stream",
     "text": [
      "epoch 12 val loss: 6.3524874404720375\n"
     ]
    },
    {
     "name": "stderr",
     "output_type": "stream",
     "text": [
      "1it [00:00,  5.96it/s]"
     ]
    },
    {
     "name": "stdout",
     "output_type": "stream",
     "text": [
      "predicted: i to to to to to to toss\n",
      "truth: india are smelling blood we will show them great respect langer\n",
      "predicted: pm modisssssssss\n",
      "truth: kartarpur corridor atonement for mistake made in 1947 pm modi\n",
      "predicted: man manssssssss\n",
      "truth: italian nurse jailed for calming newborn with morphine\n"
     ]
    },
    {
     "name": "stderr",
     "output_type": "stream",
     "text": [
      "539it [01:24,  6.35it/s]\n",
      "2it [00:00, 16.92it/s]"
     ]
    },
    {
     "name": "stdout",
     "output_type": "stream",
     "text": [
      "epoch 13 train loss: 6.20216066003815\n"
     ]
    },
    {
     "name": "stderr",
     "output_type": "stream",
     "text": [
      "231it [00:13, 17.02it/s]\n"
     ]
    },
    {
     "name": "stdout",
     "output_type": "stream",
     "text": [
      "epoch 13 val loss: 6.299816197073922\n"
     ]
    },
    {
     "name": "stderr",
     "output_type": "stream",
     "text": [
      "1it [00:00,  5.89it/s]"
     ]
    },
    {
     "name": "stdout",
     "output_type": "stream",
     "text": [
      "predicted: govt tos to to to to to toss\n",
      "truth: delhi metro moves sc against 60 crore payment to rinfra arm\n",
      "predicted: man year oldedededingingss in\n",
      "truth: scolded for using phone mumbai teen hangs self dies in hospital\n",
      "predicted: trump sssssssss\n",
      "truth: enough evidence to convict syrian prez of war crimes un\n"
     ]
    },
    {
     "name": "stderr",
     "output_type": "stream",
     "text": [
      "539it [01:24,  6.35it/s]\n",
      "2it [00:00, 16.64it/s]"
     ]
    },
    {
     "name": "stdout",
     "output_type": "stream",
     "text": [
      "epoch 14 train loss: 6.156431270891781\n"
     ]
    },
    {
     "name": "stderr",
     "output_type": "stream",
     "text": [
      "231it [00:13, 17.00it/s]\n"
     ]
    },
    {
     "name": "stdout",
     "output_type": "stream",
     "text": [
      "epoch 14 val loss: 6.265845449921933\n"
     ]
    },
    {
     "name": "stderr",
     "output_type": "stream",
     "text": [
      "1it [00:00,  5.52it/s]"
     ]
    },
    {
     "name": "stdout",
     "output_type": "stream",
     "text": [
      "predicted: bjpsssssssssss\n",
      "truth: kerala treating sabarimala pilgrims like gulag inmates shah\n",
      "predicted: i t t to to tosssss\n",
      "truth: india are smelling blood we will show them great respect langer\n",
      "predicted: startup startup startup startup startup startup raises raises\n",
      "truth: car rental startup zoomcar raises 40 million in series c\n"
     ]
    },
    {
     "name": "stderr",
     "output_type": "stream",
     "text": [
      "539it [01:24,  6.39it/s]\n",
      "2it [00:00, 16.91it/s]"
     ]
    },
    {
     "name": "stdout",
     "output_type": "stream",
     "text": [
      "epoch 15 train loss: 6.114098820702955\n"
     ]
    },
    {
     "name": "stderr",
     "output_type": "stream",
     "text": [
      "231it [00:13, 17.04it/s]\n"
     ]
    },
    {
     "name": "stdout",
     "output_type": "stream",
     "text": [
      "epoch 15 val loss: 6.2437677745561295\n"
     ]
    },
    {
     "name": "stderr",
     "output_type": "stream",
     "text": [
      "1it [00:00,  5.53it/s]"
     ]
    },
    {
     "name": "stdout",
     "output_type": "stream",
     "text": [
      "predicted: 2 killedededs in in in in in\n",
      "truth: 20 yr old killed in clashes after eid prayers in kashmir\n",
      "predicted: sc courtsssssss case\n",
      "truth: delhi cm discharged in defamation case over thulla remark\n",
      "predicted: apple to to to to to to to to to\n",
      "truth: amazon to test one hour delivery for fashion show clothes\n"
     ]
    },
    {
     "name": "stderr",
     "output_type": "stream",
     "text": [
      "539it [01:25,  6.34it/s]\n",
      "2it [00:00, 16.96it/s]"
     ]
    },
    {
     "name": "stdout",
     "output_type": "stream",
     "text": [
      "epoch 16 train loss: 6.070729208047935\n"
     ]
    },
    {
     "name": "stderr",
     "output_type": "stream",
     "text": [
      "231it [00:13, 17.05it/s]\n"
     ]
    },
    {
     "name": "stdout",
     "output_type": "stream",
     "text": [
      "epoch 16 val loss: 6.216702288475823\n"
     ]
    },
    {
     "name": "stderr",
     "output_type": "stream",
     "text": [
      "1it [00:00,  5.65it/s]"
     ]
    },
    {
     "name": "stdout",
     "output_type": "stream",
     "text": [
      "predicted: videoassssss in in in\n",
      "truth: french singer barbara weldens dies on stage during concert\n",
      "predicted: ussssssss in in\n",
      "truth: 4 missiles fired into pakistan from afghanistan\n",
      "predicted: man yr old girlss foringingss\n",
      "truth: scolded for using phone mumbai teen hangs self dies in hospital\n"
     ]
    },
    {
     "name": "stderr",
     "output_type": "stream",
     "text": [
      "539it [01:24,  6.39it/s]\n",
      "2it [00:00, 16.91it/s]"
     ]
    },
    {
     "name": "stdout",
     "output_type": "stream",
     "text": [
      "epoch 17 train loss: 6.031909400882344\n"
     ]
    },
    {
     "name": "stderr",
     "output_type": "stream",
     "text": [
      "231it [00:13, 17.04it/s]\n"
     ]
    },
    {
     "name": "stdout",
     "output_type": "stream",
     "text": [
      "epoch 17 val loss: 6.181861846622487\n"
     ]
    },
    {
     "name": "stderr",
     "output_type": "stream",
     "text": [
      "1it [00:00,  5.49it/s]"
     ]
    },
    {
     "name": "stdout",
     "output_type": "stream",
     "text": [
      "predicted: man yr oldss for foringingings\n",
      "truth: scolded for using phone mumbai teen hangs self dies in hospital\n",
      "predicted: 2 killed in in in in in in in in in\n",
      "truth: 20 yr old killed in clashes after eid prayers in kashmir\n",
      "predicted: no t t to to to pm pms\n",
      "truth: modi is a contractor of social welfare rss chief bhagwat\n"
     ]
    },
    {
     "name": "stderr",
     "output_type": "stream",
     "text": [
      "539it [01:25,  6.33it/s]\n",
      "2it [00:00, 16.72it/s]"
     ]
    },
    {
     "name": "stdout",
     "output_type": "stream",
     "text": [
      "epoch 18 train loss: 5.99396507903397\n"
     ]
    },
    {
     "name": "stderr",
     "output_type": "stream",
     "text": [
      "231it [00:13, 16.96it/s]\n"
     ]
    },
    {
     "name": "stdout",
     "output_type": "stream",
     "text": [
      "epoch 18 val loss: 6.158686655904578\n"
     ]
    },
    {
     "name": "stderr",
     "output_type": "stream",
     "text": [
      "1it [00:00,  6.45it/s]"
     ]
    },
    {
     "name": "stdout",
     "output_type": "stream",
     "text": [
      "predicted: muslimsssssssss\n",
      "truth: cbi planted witnesses in aarushi murder case allahabad hc\n",
      "predicted: nasa ssssss in in in\n",
      "truth: minor solar flare expected to hit earth today cause auroras\n",
      "predicted: i t ts tos i isssss\n",
      "truth: i never think about what i should ve done differently kajol\n"
     ]
    },
    {
     "name": "stderr",
     "output_type": "stream",
     "text": [
      "539it [01:24,  6.34it/s]\n",
      "2it [00:00, 16.77it/s]"
     ]
    },
    {
     "name": "stdout",
     "output_type": "stream",
     "text": [
      "epoch 19 train loss: 5.952022083960344\n"
     ]
    },
    {
     "name": "stderr",
     "output_type": "stream",
     "text": [
      "231it [00:13, 16.96it/s]\n"
     ]
    },
    {
     "name": "stdout",
     "output_type": "stream",
     "text": [
      "epoch 19 val loss: 6.1465697474751195\n"
     ]
    },
    {
     "name": "stderr",
     "output_type": "stream",
     "text": [
      "1it [00:00,  6.00it/s]"
     ]
    },
    {
     "name": "stdout",
     "output_type": "stream",
     "text": [
      "predicted: man manssssssss\n",
      "truth: suffering for no fault driver who let langur control steering\n",
      "predicted: sachin tendulkar seded s s s s\n",
      "truth: sachin tendulkar attends krunal pandya s wedding in mumbai\n",
      "predicted: salmanssss in from from s\n",
      "truth: received best compliment from dilip kumar for black big b\n"
     ]
    },
    {
     "name": "stderr",
     "output_type": "stream",
     "text": [
      "539it [01:24,  6.35it/s]\n",
      "2it [00:00, 16.92it/s]"
     ]
    },
    {
     "name": "stdout",
     "output_type": "stream",
     "text": [
      "epoch 20 train loss: 5.916264149314712\n"
     ]
    },
    {
     "name": "stderr",
     "output_type": "stream",
     "text": [
      "231it [00:13, 16.97it/s]\n"
     ]
    },
    {
     "name": "stdout",
     "output_type": "stream",
     "text": [
      "epoch 20 val loss: 6.112096998193336\n"
     ]
    },
    {
     "name": "stderr",
     "output_type": "stream",
     "text": [
      "1it [00:00,  5.87it/s]"
     ]
    },
    {
     "name": "stdout",
     "output_type": "stream",
     "text": [
      "predicted: 3 yearsssss in in in in in\n",
      "truth: 3 075 grooms got married in bihar at gunpoint in 2016\n",
      "predicted: i is to to to ranbir ranbir on ranb\n",
      "truth: would like to work with ranbir kapoor again rajkumar hirani\n",
      "predicted: srksalmanssssssssss\n",
      "truth: amitabh aishwarya submit documents in panama papers probe\n"
     ]
    },
    {
     "name": "stderr",
     "output_type": "stream",
     "text": [
      "539it [01:24,  6.35it/s]\n",
      "2it [00:00, 16.44it/s]"
     ]
    },
    {
     "name": "stdout",
     "output_type": "stream",
     "text": [
      "epoch 21 train loss: 5.878172752056941\n"
     ]
    },
    {
     "name": "stderr",
     "output_type": "stream",
     "text": [
      "231it [00:13, 17.02it/s]\n"
     ]
    },
    {
     "name": "stdout",
     "output_type": "stream",
     "text": [
      "epoch 21 val loss: 6.0891910880518365\n"
     ]
    },
    {
     "name": "stderr",
     "output_type": "stream",
     "text": [
      "1it [00:00,  6.14it/s]"
     ]
    },
    {
     "name": "stdout",
     "output_type": "stream",
     "text": [
      "predicted: bjp cmsssssssss\n",
      "truth: kerala treating sabarimala pilgrims like gulag inmates shah\n",
      "predicted: us of of of of ofedededed\n",
      "truth: event guests sing you ll never walk alone over terror threat\n",
      "predicted: i s ssededededededed\n",
      "truth: fake news of srk s death emerges on european news channel\n"
     ]
    },
    {
     "name": "stderr",
     "output_type": "stream",
     "text": [
      "539it [01:24,  6.38it/s]\n",
      "2it [00:00, 16.92it/s]"
     ]
    },
    {
     "name": "stdout",
     "output_type": "stream",
     "text": [
      "epoch 22 train loss: 5.842356841655558\n"
     ]
    },
    {
     "name": "stderr",
     "output_type": "stream",
     "text": [
      "231it [00:13, 17.03it/s]\n"
     ]
    },
    {
     "name": "stdout",
     "output_type": "stream",
     "text": [
      "epoch 22 val loss: 6.067246124813144\n"
     ]
    },
    {
     "name": "stderr",
     "output_type": "stream",
     "text": [
      "1it [00:00,  5.80it/s]"
     ]
    },
    {
     "name": "stdout",
     "output_type": "stream",
     "text": [
      "predicted: 2 killed in in in in in in in in\n",
      "truth: gorkhaland supporter killed in police firing in darjeeling\n",
      "predicted: world sssssssss in\n",
      "truth: 27 hurun rich list billionaires passed away last year\n",
      "predicted: mansssssssss\n",
      "truth: man turns his car into a drivable hot tub\n"
     ]
    },
    {
     "name": "stderr",
     "output_type": "stream",
     "text": [
      "539it [01:24,  6.38it/s]\n",
      "2it [00:00, 16.94it/s]"
     ]
    },
    {
     "name": "stdout",
     "output_type": "stream",
     "text": [
      "epoch 23 train loss: 5.807628951698507\n"
     ]
    },
    {
     "name": "stderr",
     "output_type": "stream",
     "text": [
      "231it [00:13, 17.01it/s]\n"
     ]
    },
    {
     "name": "stdout",
     "output_type": "stream",
     "text": [
      "epoch 23 val loss: 6.049769565966317\n"
     ]
    },
    {
     "name": "stderr",
     "output_type": "stream",
     "text": [
      "1it [00:00,  5.82it/s]"
     ]
    },
    {
     "name": "stdout",
     "output_type": "stream",
     "text": [
      "predicted: videossssss in in in in\n",
      "truth: french singer barbara weldens dies on stage during concert\n",
      "predicted: i to to to to in s s s s\n",
      "truth: pak will become asian tiger under imran khan shoaib akhtar\n",
      "predicted: i toed to to to for for for fors\n",
      "truth: akmal should be ashamed for being sent back to pak waqar\n"
     ]
    },
    {
     "name": "stderr",
     "output_type": "stream",
     "text": [
      "539it [01:24,  6.36it/s]\n",
      "2it [00:00, 16.84it/s]"
     ]
    },
    {
     "name": "stdout",
     "output_type": "stream",
     "text": [
      "epoch 24 train loss: 5.774549917116952\n"
     ]
    },
    {
     "name": "stderr",
     "output_type": "stream",
     "text": [
      "231it [00:13, 16.99it/s]\n"
     ]
    },
    {
     "name": "stdout",
     "output_type": "stream",
     "text": [
      "epoch 24 val loss: 6.026976798229321\n"
     ]
    },
    {
     "name": "stderr",
     "output_type": "stream",
     "text": [
      "1it [00:00,  5.74it/s]"
     ]
    },
    {
     "name": "stdout",
     "output_type": "stream",
     "text": [
      "predicted: iir to to to ranbir ranbir ranbir\n",
      "truth: would like to work with ranbir kapoor again rajkumar hirani\n",
      "predicted: i sssss in in inssss\n",
      "truth: received best compliment from dilip kumar for black big b\n",
      "predicted: ex ministerssss in in in in\n",
      "truth: satya pal malik sworn in as governor of bihar\n"
     ]
    },
    {
     "name": "stderr",
     "output_type": "stream",
     "text": [
      "539it [01:24,  6.37it/s]\n",
      "2it [00:00, 15.96it/s]"
     ]
    },
    {
     "name": "stdout",
     "output_type": "stream",
     "text": [
      "epoch 25 train loss: 5.743990244294985\n"
     ]
    },
    {
     "name": "stderr",
     "output_type": "stream",
     "text": [
      "231it [00:13, 17.05it/s]\n"
     ]
    },
    {
     "name": "stdout",
     "output_type": "stream",
     "text": [
      "epoch 25 val loss: 6.001842843053108\n"
     ]
    },
    {
     "name": "stderr",
     "output_type": "stream",
     "text": [
      "1it [00:00,  5.65it/s]"
     ]
    },
    {
     "name": "stdout",
     "output_type": "stream",
     "text": [
      "predicted: salman khanssssssssss\n",
      "truth: amitabh aishwarya submit documents in panama papers probe\n",
      "predicted: sunnyasssssssssss\n",
      "truth: game of thrones puts women at the forefront gwendoline\n",
      "predicted: sachin tendulkar ss s s s s s\n",
      "truth: sachin tendulkar attends krunal pandya s wedding in mumbai\n"
     ]
    },
    {
     "name": "stderr",
     "output_type": "stream",
     "text": [
      "539it [01:24,  6.38it/s]\n",
      "2it [00:00, 16.80it/s]"
     ]
    },
    {
     "name": "stdout",
     "output_type": "stream",
     "text": [
      "epoch 26 train loss: 5.7115317847532125\n"
     ]
    },
    {
     "name": "stderr",
     "output_type": "stream",
     "text": [
      "231it [00:13, 17.02it/s]\n"
     ]
    },
    {
     "name": "stdout",
     "output_type": "stream",
     "text": [
      "epoch 26 val loss: 5.98255180544511\n"
     ]
    },
    {
     "name": "stderr",
     "output_type": "stream",
     "text": [
      "1it [00:00,  5.89it/s]"
     ]
    },
    {
     "name": "stdout",
     "output_type": "stream",
     "text": [
      "predicted: man manss crore crore crore crore worth caring\n",
      "truth: us man awarded 4 8 crore after beer burns his organs\n",
      "predicted: i t t t i i i i issss\n",
      "truth: i never think about what i should ve done differently kajol\n",
      "predicted: kohliis kohliiiiiiiii\n",
      "truth: aus ke score par laga gst bhaari pad gaya sehwag on india s loss\n"
     ]
    },
    {
     "name": "stderr",
     "output_type": "stream",
     "text": [
      "539it [01:24,  6.37it/s]\n",
      "2it [00:00, 16.75it/s]"
     ]
    },
    {
     "name": "stdout",
     "output_type": "stream",
     "text": [
      "epoch 27 train loss: 5.679177348815882\n"
     ]
    },
    {
     "name": "stderr",
     "output_type": "stream",
     "text": [
      "231it [00:13, 17.01it/s]\n"
     ]
    },
    {
     "name": "stdout",
     "output_type": "stream",
     "text": [
      "epoch 27 val loss: 5.967853670403554\n"
     ]
    },
    {
     "name": "stderr",
     "output_type": "stream",
     "text": [
      "\r",
      "0it [00:00, ?it/s]"
     ]
    },
    {
     "name": "stdout",
     "output_type": "stream",
     "text": [
      "predicted: i shouldsed for for for foring pak\n",
      "truth: akmal should be ashamed for being sent back to pak waqar\n",
      "predicted: mansssssssss\n",
      "truth: us thieves try to steal tv return it as it didn t fit in car\n",
      "predicted: man manss foringinginginging\n",
      "truth: italian nurse jailed for calming newborn with morphine\n"
     ]
    },
    {
     "name": "stderr",
     "output_type": "stream",
     "text": [
      "34it [00:05,  6.31it/s]"
     ]
    }
   ],
   "source": [
    "for epoch_idx in range(n_epochs):\n",
    "    G.train()\n",
    "    total_loss = 0.\n",
    "    for batch_idx, data_input in tqdm(enumerate(train_dataloader), position=0, leave=True):\n",
    "        article = data_input[0].to(device)\n",
    "        highlight = data_input[1].to(device)\n",
    "        opt.zero_grad()\n",
    "        out = G(article, highlight, teacher_forcing_ratio=0.2)\n",
    "        loss = criterion(out.permute(1, 2, 0), highlight.permute(1, 0))\n",
    "        loss.backward()\n",
    "        opt.step()\n",
    "        total_loss += loss.data.item() * article.size(1)\n",
    "        iter_num += 1\n",
    "        writer.add_scalar('Loss/train', loss.data.item(), iter_num)\n",
    "    \n",
    "    epoch_losses.append(total_loss / len(train_dataset))\n",
    "    print(f'epoch {epoch_idx} train loss: {epoch_losses[-1]}')\n",
    "    \n",
    "    G.eval()\n",
    "    total_loss = 0.\n",
    "    for batch_idx, data_input in tqdm(enumerate(val_dataloader), position=0, leave=True):\n",
    "        article = data_input[0].to(device)\n",
    "        highlight = data_input[1].to(device)\n",
    "        out = G(article, highlight, teacher_forcing_ratio=0.)\n",
    "        loss = criterion(out.permute(1, 2, 0), highlight.permute(1, 0))\n",
    "        total_loss += loss.data.item() * article.size(1)\n",
    "\n",
    "    val_losses.append(total_loss / len(val_dataset))\n",
    "    print(f'epoch {epoch_idx} val loss: {val_losses[-1]}')\n",
    "    writer.add_scalar('Loss/val', val_losses[-1], iter_num)\n",
    "    \n",
    "    indices = sps.randint(0, out.size(1)).rvs(size=3)\n",
    "    pred_texts = tensor_to_text(out[:, indices, :], sp, beam_search=True)\n",
    "    truth_texts = tensor_to_text(highlight[:, indices], sp)\n",
    "    for pred, truth in zip(pred_texts, truth_texts):\n",
    "        print(f'predicted: {pred}')\n",
    "        print(f'truth: {truth}')"
   ]
  },
  {
   "cell_type": "code",
   "execution_count": null,
   "metadata": {},
   "outputs": [],
   "source": [
    "plt.figure(figsize=(7, 5))\n",
    "plt.title('generator pretraining')\n",
    "plt.plot(np.arange(0, len(epoch_losses)), epoch_losses,\n",
    "         label='train')\n",
    "plt.plot(np.arange(0, len(val_losses)), val_losses,\n",
    "         label='val')\n",
    "plt.xlabel('epoch')\n",
    "plt.ylabel('loss')\n",
    "plt.legend()\n",
    "plt.show()"
   ]
  },
  {
   "cell_type": "code",
   "execution_count": null,
   "metadata": {},
   "outputs": [],
   "source": [
    "save_path = 'saved_models/pretrained_seq2seq_gen_2.pth'\n",
    "torch.save(G.state_dict(), save_path)"
   ]
  },
  {
   "cell_type": "markdown",
   "metadata": {},
   "source": [
    "### 6. discriminator pretraining"
   ]
  },
  {
   "cell_type": "code",
   "execution_count": null,
   "metadata": {},
   "outputs": [],
   "source": [
    "save_path = 'saved_models/pretrained_seq2seq_gen.pth'\n",
    "G.load_state_dict(torch.load(save_path))"
   ]
  },
  {
   "cell_type": "code",
   "execution_count": 20,
   "metadata": {},
   "outputs": [
    {
     "data": {
      "text/plain": [
       "Seq2Seq(\n",
       "  (encoder): Encoder(\n",
       "    (embedding): Embedding(10000, 256)\n",
       "    (rnn): LSTM(256, 256, num_layers=3, dropout=0.1)\n",
       "    (dropout): Dropout(p=0.1, inplace=False)\n",
       "  )\n",
       "  (decoder): Decoder(\n",
       "    (embedding): Embedding(10000, 256)\n",
       "    (rnn): LSTM(256, 256, num_layers=3, dropout=0.1)\n",
       "    (out): Linear(in_features=512, out_features=10000, bias=True)\n",
       "    (w): Linear(in_features=256, out_features=256, bias=True)\n",
       "    (attn_lin): Linear(in_features=512, out_features=512, bias=True)\n",
       "    (dropout): Dropout(p=0.1, inplace=False)\n",
       "  )\n",
       ")"
      ]
     },
     "execution_count": 20,
     "metadata": {},
     "output_type": "execute_result"
    }
   ],
   "source": [
    "G.eval()"
   ]
  },
  {
   "cell_type": "code",
   "execution_count": 21,
   "metadata": {},
   "outputs": [],
   "source": [
    "emb_dim = 256\n",
    "hidden_dim = 256\n",
    "vocab_size = 10000\n",
    "padding_idx = 0\n",
    "D = CNNDiscriminator(embed_dim=emb_dim,\n",
    "                     vocab_size=vocab_size,\n",
    "                     num_classes=2,\n",
    "                     filter_sizes=[2, 3, 3],\n",
    "                     num_filters=200,\n",
    "                     padding_idx=padding_idx).to(device)"
   ]
  },
  {
   "cell_type": "code",
   "execution_count": 22,
   "metadata": {},
   "outputs": [],
   "source": [
    "criterion = nn.BCELoss()\n",
    "lr = 0.01\n",
    "opt = torch.optim.Adam(D.parameters(), lr=lr)\n",
    "n_epochs = 1\n",
    "\n",
    "epoch_losses = []\n",
    "val_losses = []\n",
    "iter_num = -1\n",
    "writer = SummaryWriter()"
   ]
  },
  {
   "cell_type": "code",
   "execution_count": 23,
   "metadata": {
    "scrolled": true
   },
   "outputs": [
    {
     "name": "stderr",
     "output_type": "stream",
     "text": [
      "539it [00:34, 15.60it/s]\n",
      "2it [00:00, 17.01it/s]"
     ]
    },
    {
     "name": "stdout",
     "output_type": "stream",
     "text": [
      "epoch 0 train loss: 0.010462811072112782\n"
     ]
    },
    {
     "name": "stderr",
     "output_type": "stream",
     "text": [
      "231it [00:13, 17.16it/s]"
     ]
    },
    {
     "name": "stdout",
     "output_type": "stream",
     "text": [
      "epoch 0 val loss: 5.129965581755138e-09\n"
     ]
    },
    {
     "name": "stderr",
     "output_type": "stream",
     "text": [
      "\n"
     ]
    }
   ],
   "source": [
    "for epoch_idx in range(n_epochs):\n",
    "    D.train()\n",
    "    total_loss = 0.\n",
    "    \n",
    "    for batch_idx, data_input in tqdm(enumerate(train_dataloader)):\n",
    "        article = data_input[0].to(device)\n",
    "        highlight = data_input[1].to(device)\n",
    "        generated_highlight = G(article, highlight, teacher_forcing_ratio=0.)\n",
    "        generated_highlight = torch.argmax(F.softmax(generated_highlight, dim=2), dim=2).permute(1, 0)\n",
    "        highlight = highlight.permute(1, 0)\n",
    "        batch = torch.cat([generated_highlight, highlight], dim=0)\n",
    "        targets = torch.tensor([0]*generated_highlight.size(0) + [1]*highlight.size(0)).to(device)\n",
    "        opt.zero_grad()\n",
    "        out = D(batch)\n",
    "        loss = criterion(out.squeeze(1), targets.float())\n",
    "        loss.backward()\n",
    "        opt.step()\n",
    "        total_loss += loss.data.item() * article.size(1) * 2\n",
    "        iter_num += 1\n",
    "        writer.add_scalar('Loss/train', loss.data.item(), iter_num)\n",
    "    \n",
    "    epoch_losses.append(total_loss / len(train_dataset) / 2)\n",
    "    print(f'epoch {epoch_idx} train loss: {epoch_losses[-1]}')\n",
    "    \n",
    "    D.eval()\n",
    "    total_loss = 0.\n",
    "    for batch_idx, data_input in tqdm(enumerate(val_dataloader)):\n",
    "        article = data_input[0].to(device)\n",
    "        highlight = data_input[1].to(device)\n",
    "        generated_highlight = G(article, highlight, teacher_forcing_ratio=0.)\n",
    "        generated_highlight = torch.argmax(F.softmax(generated_highlight, dim=2), dim=2).permute(1, 0)\n",
    "        highlight = highlight.permute(1, 0)\n",
    "        batch = torch.cat([generated_highlight, highlight], dim=0)\n",
    "        targets = torch.tensor([0]*generated_highlight.size(0) + [1]*highlight.size(0)).to(device)\n",
    "        out = D(batch)\n",
    "        loss = criterion(out.squeeze(1), targets.float())\n",
    "        total_loss += loss.data.item() * article.size(1) * 2\n",
    "\n",
    "    val_losses.append(total_loss / len(val_dataset) / 2)\n",
    "    writer.add_scalar('Loss/val', val_losses[-1], iter_num)\n",
    "    print(f'epoch {epoch_idx} val loss: {val_losses[-1]}')"
   ]
  },
  {
   "cell_type": "code",
   "execution_count": 24,
   "metadata": {},
   "outputs": [
    {
     "data": {
      "image/png": "[encoded data removed]",
      "text/plain": [
       "<Figure size 504x360 with 1 Axes>"
      ]
     },
     "metadata": {},
     "output_type": "display_data"
    }
   ],
   "source": [
    "plt.figure(figsize=(7, 5))\n",
    "plt.title('discriminator pretraining')\n",
    "plt.plot(np.arange(0, len(epoch_losses)), epoch_losses,\n",
    "         label='train')\n",
    "plt.plot(np.arange(0, len(val_losses)), val_losses,\n",
    "         label='val')\n",
    "plt.xlabel('epoch')\n",
    "plt.ylabel('loss')\n",
    "plt.legend()\n",
    "plt.show()"
   ]
  },
  {
   "cell_type": "code",
   "execution_count": 25,
   "metadata": {},
   "outputs": [],
   "source": [
    "# save_path = 'saved_models/pretrained_dis2.pth'\n",
    "# torch.save(D.state_dict(), save_path)"
   ]
  },
  {
   "cell_type": "markdown",
   "metadata": {},
   "source": [
    "### 6. adversarial training"
   ]
  },
  {
   "cell_type": "code",
   "execution_count": 26,
   "metadata": {},
   "outputs": [],
   "source": [
    "device = 'cuda:0' if torch.cuda.is_available() else 'cpu'"
   ]
  },
  {
   "cell_type": "code",
   "execution_count": 27,
   "metadata": {},
   "outputs": [
    {
     "data": {
      "text/plain": [
       "<All keys matched successfully>"
      ]
     },
     "execution_count": 27,
     "metadata": {},
     "output_type": "execute_result"
    }
   ],
   "source": [
    "vocab_size = 10000\n",
    "INPUT_DIM = vocab_size\n",
    "OUTPUT_DIM = vocab_size\n",
    "ENC_EMB_DIM = 256\n",
    "DEC_EMB_DIM = 256\n",
    "HID_DIM = 256\n",
    "N_LAYERS = 3\n",
    "ENC_DROPOUT = 0.1\n",
    "DEC_DROPOUT = 0.1\n",
    "\n",
    "enc = Encoder(INPUT_DIM, ENC_EMB_DIM, HID_DIM, N_LAYERS, ENC_DROPOUT)\n",
    "dec = Decoder(OUTPUT_DIM, DEC_EMB_DIM, HID_DIM, N_LAYERS, DEC_DROPOUT)\n",
    "\n",
    "G = Seq2Seq(enc, dec, device).to(device)\n",
    "save_path = 'saved_models/pretrained_seq2seq_gen.pth'\n",
    "G.load_state_dict(torch.load(save_path))"
   ]
  },
  {
   "cell_type": "code",
   "execution_count": 28,
   "metadata": {},
   "outputs": [
    {
     "data": {
      "text/plain": [
       "<All keys matched successfully>"
      ]
     },
     "execution_count": 28,
     "metadata": {},
     "output_type": "execute_result"
    }
   ],
   "source": [
    "emb_dim = 256\n",
    "hidden_dim = 256\n",
    "vocab_size = 10000\n",
    "padding_idx = 0\n",
    "D = CNNDiscriminator(embed_dim=emb_dim,\n",
    "                     vocab_size=vocab_size,\n",
    "                     num_classes=2,\n",
    "                     filter_sizes=[2, 3, 3],\n",
    "                     num_filters=200,\n",
    "                     padding_idx=padding_idx).to(device)\n",
    "save_path = 'saved_models/pretrained_dis2.pth'\n",
    "D.load_state_dict(torch.load(save_path))"
   ]
  },
  {
   "cell_type": "code",
   "execution_count": 29,
   "metadata": {},
   "outputs": [],
   "source": [
    "n_epochs = 1"
   ]
  },
  {
   "cell_type": "code",
   "execution_count": 30,
   "metadata": {},
   "outputs": [],
   "source": [
    "writer = SummaryWriter()"
   ]
  },
  {
   "cell_type": "code",
   "execution_count": 31,
   "metadata": {},
   "outputs": [
    {
     "data": {
      "text/plain": [
       "Seq2Seq(\n",
       "  (encoder): Encoder(\n",
       "    (embedding): Embedding(10000, 256)\n",
       "    (rnn): LSTM(256, 256, num_layers=3, dropout=0.1)\n",
       "    (dropout): Dropout(p=0.1, inplace=False)\n",
       "  )\n",
       "  (decoder): Decoder(\n",
       "    (embedding): Embedding(10000, 256)\n",
       "    (rnn): LSTM(256, 256, num_layers=3, dropout=0.1)\n",
       "    (out): Linear(in_features=512, out_features=10000, bias=True)\n",
       "    (w): Linear(in_features=256, out_features=256, bias=True)\n",
       "    (attn_lin): Linear(in_features=512, out_features=512, bias=True)\n",
       "    (dropout): Dropout(p=0.1, inplace=False)\n",
       "  )\n",
       ")"
      ]
     },
     "execution_count": 31,
     "metadata": {},
     "output_type": "execute_result"
    }
   ],
   "source": [
    "G.train()"
   ]
  },
  {
   "cell_type": "code",
   "execution_count": 32,
   "metadata": {
    "scrolled": true
   },
   "outputs": [
    {
     "name": "stderr",
     "output_type": "stream",
     "text": [
      "539it [02:21,  3.80it/s]\n",
      "0it [00:00, ?it/s]"
     ]
    },
    {
     "name": "stdout",
     "output_type": "stream",
     "text": [
      "epoch 0 G loss: 62.34072942346092\n",
      "epoch 0 D loss: 0.002295435727957926\n"
     ]
    },
    {
     "name": "stderr",
     "output_type": "stream",
     "text": [
      "231it [00:23,  9.89it/s]\n",
      "231it [00:13, 17.22it/s]"
     ]
    },
    {
     "name": "stdout",
     "output_type": "stream",
     "text": [
      "epoch 0 val loss: 6.240956735741797\n",
      "predicted: uae deports 36 yr old kashmiri over suspected links isis\n",
      "truth: uae deports indian over suspected links with isis\n"
     ]
    },
    {
     "name": "stderr",
     "output_type": "stream",
     "text": [
      "\n"
     ]
    }
   ],
   "source": [
    "discriminator_optimizer = torch.optim.Adam(D.parameters(), lr=1e-3)\n",
    "generator_optimizer = torch.optim.Adam(G.parameters(), lr=1e-4)\n",
    "criterion = nn.CrossEntropyLoss(ignore_index=0)\n",
    "dis_criterion = nn.BCELoss()\n",
    "\n",
    "G_losses = []\n",
    "D_losses = []\n",
    "iter_num = -1\n",
    "G_ce_val_losses = []\n",
    "\n",
    "for epoch_idx in range(n_epochs):\n",
    "    total_G_loss = 0.\n",
    "    total_D_loss = 0.\n",
    "    G.train()\n",
    "    D.train()\n",
    "    for batch_idx, data_input in tqdm(enumerate(train_dataloader)):\n",
    "        article = data_input[0].to(device)\n",
    "        highlight = data_input[1].to(device)\n",
    "        \n",
    "        # Discriminator\n",
    "        generated_highlight = G(article, highlight, teacher_forcing_ratio=0.)\n",
    "        generated_highlight = torch.argmax(F.softmax(generated_highlight, dim=2), dim=2).permute(1, 0)\n",
    "        batch = torch.cat([generated_highlight, highlight.permute(1, 0)], dim=0)\n",
    "        targets = torch.tensor([0]*generated_highlight.size(0) + [1]*highlight.size(1)).to(device)\n",
    "        discriminator_optimizer.zero_grad()\n",
    "        generator_optimizer.zero_grad()\n",
    "        out = D(batch)\n",
    "        loss = dis_criterion(out.squeeze(1), targets.float())\n",
    "        loss.backward()\n",
    "        discriminator_optimizer.step()\n",
    "        total_D_loss += loss.data.item() * highlight.size(1) * 2\n",
    "        iter_num += 1\n",
    "        writer.add_scalar('Loss/dis_adv_train', loss.data.item(), iter_num)\n",
    "        \n",
    "        # Generator\n",
    "        generator_optimizer.zero_grad()\n",
    "        discriminator_optimizer.zero_grad()\n",
    "        gen_out = G(article, highlight, teacher_forcing_ratio=0.)\n",
    "        generated_highlight = torch.argmax(F.softmax(gen_out, dim=2), dim=2).permute(1, 0)\n",
    "        rewards = D(generated_highlight).squeeze(1)\n",
    "        rewards = 1 - rewards\n",
    "        pg_loss = G.batch_pgloss(article, highlight, rewards)\n",
    "        pg_loss.backward()\n",
    "        generator_optimizer.step()\n",
    "        writer.add_scalar('Loss/gen_pg_train', pg_loss.data.item(), iter_num)\n",
    "        total_G_loss += pg_loss.data.item() * article.size(1)\n",
    "\n",
    "    G_losses.append(total_G_loss / len(train_dataset))\n",
    "    D_losses.append(total_D_loss / len(train_dataset) / 2)\n",
    "    print(f'epoch {epoch_idx} G loss: {G_losses[-1]}')\n",
    "    print(f'epoch {epoch_idx} D loss: {D_losses[-1]}')\n",
    "    \n",
    "    G.eval()\n",
    "    total_loss = 0.\n",
    "    for batch_idx, data_input in tqdm(enumerate(val_dataloader), position=0, leave=True):\n",
    "        article = data_input[0].to(device)\n",
    "        highlight = data_input[1].to(device)\n",
    "        gen_out = G(article, highlight, teacher_forcing_ratio=0.)\n",
    "        generated_highlight = torch.argmax(F.softmax(gen_out, dim=2), dim=2).permute(1, 0)\n",
    "        rewards = D(generated_highlight).squeeze(1)\n",
    "        rewards = 1 - rewards\n",
    "        pg_loss = G.batch_pgloss(article, highlight, rewards)\n",
    "        total_loss += pg_loss.data.item() * article.size(1)\n",
    "    writer.add_scalar('Loss/gen_pg_val', total_loss / len(val_dataset), iter_num)\n",
    "    \n",
    "    total_loss = 0.\n",
    "    for batch_idx, data_input in tqdm(enumerate(val_dataloader), position=0, leave=True):\n",
    "        article = data_input[0].to(device)\n",
    "        highlight = data_input[1].to(device)\n",
    "        out = G(article, highlight, teacher_forcing_ratio=0.)\n",
    "        loss = criterion(out.permute(1, 2, 0), highlight.permute(1, 0))\n",
    "        total_loss += loss.data.item() * article.size(1)\n",
    "\n",
    "    G_ce_val_losses.append(total_loss / len(val_dataset))\n",
    "    print(f'epoch {epoch_idx} val loss: {G_ce_val_losses[-1]}')\n",
    "    writer.add_scalar('Loss/gen_ce_val', G_ce_val_losses[-1], iter_num)\n",
    "    ind = sps.randint(0, out.size(1)).rvs(size=1)[0]\n",
    "    print(f'predicted: {tensor_to_text(out, sp)[ind]}')\n",
    "    print(f'truth: {tensor_to_text(highlight, sp)[ind]}')"
   ]
  },
  {
   "cell_type": "code",
   "execution_count": 49,
   "metadata": {},
   "outputs": [],
   "source": [
    "#save_path = 'saved_models/dis2_adv.pth'\n",
    "#torch.save(D.state_dict(), save_path)\n",
    "\n",
    "#save_path = 'saved_models/gen_adv.pth'\n",
    "#torch.save(G.state_dict(), save_path)"
   ]
  },
  {
   "cell_type": "code",
   "execution_count": null,
   "metadata": {},
   "outputs": [],
   "source": []
  }
 ],
 "metadata": {
  "kernelspec": {
   "display_name": "Python 3",
   "language": "python",
   "name": "python3"
  },
  "language_info": {
   "codemirror_mode": {
    "name": "ipython",
    "version": 3
   },
   "file_extension": ".py",
   "mimetype": "text/x-python",
   "name": "python",
   "nbconvert_exporter": "python",
   "pygments_lexer": "ipython3",
   "version": "3.7.9"
  }
 },
 "nbformat": 4,
 "nbformat_minor": 4
}
