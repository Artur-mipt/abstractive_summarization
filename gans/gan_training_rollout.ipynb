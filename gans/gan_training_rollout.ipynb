{
 "cells": [
  {
   "cell_type": "code",
   "execution_count": 1,
   "metadata": {},
   "outputs": [],
   "source": [
    "import sentencepiece as spm\n",
    "from tqdm import tqdm\n",
    "import pandas as pd\n",
    "import numpy as np\n",
    "import seaborn as sns\n",
    "import scipy.stats as sps\n",
    "import nlp\n",
    "\n",
    "from sklearn.model_selection import train_test_split\n",
    "\n",
    "import torch\n",
    "import torch.nn as nn\n",
    "import torch.optim as optim\n",
    "import torch.nn.functional as F\n",
    "from torch.utils.data import DataLoader\n",
    "from torch.utils.tensorboard import SummaryWriter\n",
    "\n",
    "from src.seq2seq_generator import Seq2Seq, Encoder, Decoder\n",
    "from src.cnn_discriminator import CNNDiscriminator\n",
    "from src.rollout import ROLLOUT\n",
    "from src.utils import *\n",
    "from src.dataset import Dataset, Padder\n",
    "\n",
    "import gensim.corpora as corpora\n",
    "from gensim.utils import simple_preprocess\n",
    "from gensim.models import CoherenceModel\n",
    "\n",
    "sns.set_style('whitegrid')"
   ]
  },
  {
   "cell_type": "markdown",
   "metadata": {},
   "source": [
    "### 1. load data"
   ]
  },
  {
   "cell_type": "code",
   "execution_count": 2,
   "metadata": {},
   "outputs": [],
   "source": [
    "dataset_name = 'news'"
   ]
  },
  {
   "cell_type": "code",
   "execution_count": 3,
   "metadata": {
    "scrolled": true
   },
   "outputs": [
    {
     "name": "stdout",
     "output_type": "stream",
     "text": [
      "CPU times: user 736 ms, sys: 32.2 ms, total: 768 ms\n",
      "Wall time: 768 ms\n"
     ]
    }
   ],
   "source": [
    "%%time\n",
    "\n",
    "if dataset_name == 'cnn':\n",
    "    train_dataset = nlp.load_dataset(\"cnn_dailymail\", \"3.0.0\", split=\"train\")\n",
    "    val_dataset = nlp.load_dataset(\"cnn_dailymail\", \"3.0.0\", split=\"validation\")\n",
    "    test_dataset = nlp.load_dataset(\"cnn_dailymail\", \"3.0.0\", split=\"test\")\n",
    "    train_articles = [item['article'] for item in train_dataset]\n",
    "    train_highlights = [item['highlights'] for item in train_dataset]\n",
    "    val_articles = [item['article'] for item in val_dataset]\n",
    "    val_highlights = [item['highlights'] for item in val_dataset]\n",
    "elif dataset_name == 'news':\n",
    "    news = pd.read_csv('data/news_summary.csv')\n",
    "    news.headlines = [process_str(s) for s in news.headlines]\n",
    "    news.text = [process_str(s) for s in news.text]\n",
    "    X_train, X_test = train_test_split(news, test_size=0.3,\n",
    "                                       random_state=42)\n",
    "    train_articles = X_train.text.values\n",
    "    train_highlights = X_train.headlines.values\n",
    "    val_articles = X_test.text.values\n",
    "    val_highlights = X_test.headlines.values"
   ]
  },
  {
   "cell_type": "markdown",
   "metadata": {},
   "source": [
    "### 2. sentencepiece model"
   ]
  },
  {
   "cell_type": "code",
   "execution_count": 4,
   "metadata": {},
   "outputs": [],
   "source": [
    "train_new_model = False"
   ]
  },
  {
   "cell_type": "code",
   "execution_count": 5,
   "metadata": {},
   "outputs": [
    {
     "name": "stdout",
     "output_type": "stream",
     "text": [
      "CPU times: user 1 µs, sys: 0 ns, total: 1 µs\n",
      "Wall time: 2.86 µs\n"
     ]
    }
   ],
   "source": [
    "%%time\n",
    "if train_new_model:\n",
    "    with open('data/news_texts.txt', 'a') as f:\n",
    "        for article in tqdm(train_articles):\n",
    "            f.write(article + '\\n')\n",
    "        for highlight in tqdm(train_highlights):\n",
    "            f.write(highlight + '\\n')\n",
    "        for article in tqdm(val_articles):\n",
    "            f.write(article + '\\n')\n",
    "        for highlight in tqdm(val_highlights):\n",
    "            f.write(highlight + '\\n')\n",
    "            \n",
    "    spm.SentencePieceTrainer.train(input='data/news_texts.txt',\n",
    "                                   model_prefix='news10k',\n",
    "                                   vocab_size=10000,\n",
    "                                   pad_id=0,\n",
    "                                   bos_id=1,\n",
    "                                   eos_id=2,\n",
    "                                   unk_id=3)"
   ]
  },
  {
   "cell_type": "markdown",
   "metadata": {},
   "source": [
    "### 3. dataset and dataloaders"
   ]
  },
  {
   "cell_type": "code",
   "execution_count": 6,
   "metadata": {},
   "outputs": [],
   "source": [
    "vocab_size = 10000\n",
    "sp_modelname = f'sentencepiece_models/news{int(vocab_size/1000)}k.model'"
   ]
  },
  {
   "cell_type": "code",
   "execution_count": 7,
   "metadata": {},
   "outputs": [],
   "source": [
    "sp = spm.SentencePieceProcessor(model_file=sp_modelname)"
   ]
  },
  {
   "cell_type": "code",
   "execution_count": 8,
   "metadata": {},
   "outputs": [],
   "source": [
    "train_dataset = Dataset(train_articles, train_highlights, sp=sp)\n",
    "val_dataset = Dataset(val_articles, val_highlights, sp=sp)\n",
    "\n",
    "train_dataloader = DataLoader(train_dataset, batch_size=128,\n",
    "                              collate_fn=Padder(), shuffle=True)\n",
    "val_dataloader = DataLoader(val_dataset, batch_size=128,\n",
    "                            collate_fn=Padder(), shuffle=False)"
   ]
  },
  {
   "cell_type": "code",
   "execution_count": 9,
   "metadata": {},
   "outputs": [
    {
     "name": "stdout",
     "output_type": "stream",
     "text": [
      "torch.Size([99, 128])\n",
      "torch.Size([20, 128])\n"
     ]
    }
   ],
   "source": [
    "for batch in train_dataloader:\n",
    "    print(batch[0].size())\n",
    "    print(batch[1].size())\n",
    "    break"
   ]
  },
  {
   "cell_type": "markdown",
   "metadata": {},
   "source": [
    "### 4. model architecture"
   ]
  },
  {
   "cell_type": "code",
   "execution_count": 10,
   "metadata": {},
   "outputs": [
    {
     "name": "stdout",
     "output_type": "stream",
     "text": [
      "cuda:0\n"
     ]
    }
   ],
   "source": [
    "device = 'cuda:0' if torch.cuda.is_available() else 'cpu'\n",
    "print(device)"
   ]
  },
  {
   "cell_type": "code",
   "execution_count": 11,
   "metadata": {},
   "outputs": [],
   "source": [
    "writer = SummaryWriter()"
   ]
  },
  {
   "cell_type": "code",
   "execution_count": 12,
   "metadata": {},
   "outputs": [],
   "source": [
    "INPUT_DIM = vocab_size\n",
    "OUTPUT_DIM = vocab_size\n",
    "ENC_EMB_DIM = 256\n",
    "DEC_EMB_DIM = 256\n",
    "HID_DIM = 256\n",
    "N_LAYERS = 3\n",
    "ENC_DROPOUT = 0.1\n",
    "DEC_DROPOUT = 0.1\n",
    "\n",
    "enc = Encoder(INPUT_DIM, ENC_EMB_DIM, HID_DIM, N_LAYERS, ENC_DROPOUT)\n",
    "dec = Decoder(OUTPUT_DIM, DEC_EMB_DIM, HID_DIM, N_LAYERS, DEC_DROPOUT)\n",
    "\n",
    "G = Seq2Seq(enc, dec, device).to(device)"
   ]
  },
  {
   "cell_type": "code",
   "execution_count": 13,
   "metadata": {},
   "outputs": [],
   "source": [
    "emb_dim = 256\n",
    "hidden_dim = 256\n",
    "vocab_size = 10000\n",
    "padding_idx = 0\n",
    "D = CNNDiscriminator(embed_dim=emb_dim,\n",
    "                     vocab_size=vocab_size,\n",
    "                     num_classes=2,\n",
    "                     filter_sizes=[2, 3, 3],\n",
    "                     num_filters=200,\n",
    "                     padding_idx=padding_idx).to(device)"
   ]
  },
  {
   "cell_type": "markdown",
   "metadata": {},
   "source": [
    "### 5. generator pretraining"
   ]
  },
  {
   "cell_type": "code",
   "execution_count": 14,
   "metadata": {},
   "outputs": [],
   "source": [
    "def get_lr(optimizer):\n",
    "    for param_group in optimizer.param_groups:\n",
    "        return param_group['lr']"
   ]
  },
  {
   "cell_type": "code",
   "execution_count": 15,
   "metadata": {},
   "outputs": [],
   "source": [
    "criterion = nn.CrossEntropyLoss(ignore_index=0)\n",
    "lr = 1e-3\n",
    "opt = torch.optim.Adam(G.parameters(), lr=lr)\n",
    "scheduler = torch.optim.lr_scheduler.ReduceLROnPlateau(opt, 'min', patience=5)\n",
    "start_teacher_forcing = 0.5\n",
    "teacher_forcing_decay = 0.025\n",
    "n_epochs = 50\n",
    "\n",
    "epoch_losses = []\n",
    "val_losses = []\n",
    "iter_num = -1"
   ]
  },
  {
   "cell_type": "code",
   "execution_count": 16,
   "metadata": {
    "scrolled": true
   },
   "outputs": [
    {
     "name": "stderr",
     "output_type": "stream",
     "text": [
      "20it [00:03,  6.21it/s]\n"
     ]
    },
    {
     "ename": "KeyboardInterrupt",
     "evalue": "",
     "output_type": "error",
     "traceback": [
      "\u001b[0;31m---------------------------------------------------------------------------\u001b[0m",
      "\u001b[0;31mKeyboardInterrupt\u001b[0m                         Traceback (most recent call last)",
      "\u001b[0;32m<ipython-input-16-16dba62ccf83>\u001b[0m in \u001b[0;36m<module>\u001b[0;34m\u001b[0m\n\u001b[1;32m      9\u001b[0m         \u001b[0mout\u001b[0m \u001b[0;34m=\u001b[0m \u001b[0mG\u001b[0m\u001b[0;34m(\u001b[0m\u001b[0marticle\u001b[0m\u001b[0;34m,\u001b[0m \u001b[0mhighlight\u001b[0m\u001b[0;34m,\u001b[0m \u001b[0mteacher_forcing_ratio\u001b[0m\u001b[0;34m=\u001b[0m\u001b[0mteacher_forcing\u001b[0m\u001b[0;34m)\u001b[0m\u001b[0;34m\u001b[0m\u001b[0;34m\u001b[0m\u001b[0m\n\u001b[1;32m     10\u001b[0m         \u001b[0mloss\u001b[0m \u001b[0;34m=\u001b[0m \u001b[0mcriterion\u001b[0m\u001b[0;34m(\u001b[0m\u001b[0mout\u001b[0m\u001b[0;34m.\u001b[0m\u001b[0mpermute\u001b[0m\u001b[0;34m(\u001b[0m\u001b[0;36m1\u001b[0m\u001b[0;34m,\u001b[0m \u001b[0;36m2\u001b[0m\u001b[0;34m,\u001b[0m \u001b[0;36m0\u001b[0m\u001b[0;34m)\u001b[0m\u001b[0;34m,\u001b[0m \u001b[0mhighlight\u001b[0m\u001b[0;34m.\u001b[0m\u001b[0mpermute\u001b[0m\u001b[0;34m(\u001b[0m\u001b[0;36m1\u001b[0m\u001b[0;34m,\u001b[0m \u001b[0;36m0\u001b[0m\u001b[0;34m)\u001b[0m\u001b[0;34m)\u001b[0m\u001b[0;34m\u001b[0m\u001b[0;34m\u001b[0m\u001b[0m\n\u001b[0;32m---> 11\u001b[0;31m         \u001b[0mloss\u001b[0m\u001b[0;34m.\u001b[0m\u001b[0mbackward\u001b[0m\u001b[0;34m(\u001b[0m\u001b[0;34m)\u001b[0m\u001b[0;34m\u001b[0m\u001b[0;34m\u001b[0m\u001b[0m\n\u001b[0m\u001b[1;32m     12\u001b[0m         \u001b[0mopt\u001b[0m\u001b[0;34m.\u001b[0m\u001b[0mstep\u001b[0m\u001b[0;34m(\u001b[0m\u001b[0;34m)\u001b[0m\u001b[0;34m\u001b[0m\u001b[0;34m\u001b[0m\u001b[0m\n\u001b[1;32m     13\u001b[0m         \u001b[0mtotal_loss\u001b[0m \u001b[0;34m+=\u001b[0m \u001b[0mloss\u001b[0m\u001b[0;34m.\u001b[0m\u001b[0mdata\u001b[0m\u001b[0;34m.\u001b[0m\u001b[0mitem\u001b[0m\u001b[0;34m(\u001b[0m\u001b[0;34m)\u001b[0m \u001b[0;34m*\u001b[0m \u001b[0marticle\u001b[0m\u001b[0;34m.\u001b[0m\u001b[0msize\u001b[0m\u001b[0;34m(\u001b[0m\u001b[0;36m1\u001b[0m\u001b[0;34m)\u001b[0m\u001b[0;34m\u001b[0m\u001b[0;34m\u001b[0m\u001b[0m\n",
      "\u001b[0;32m~/anaconda3/envs/texts37/lib/python3.7/site-packages/torch/tensor.py\u001b[0m in \u001b[0;36mbackward\u001b[0;34m(self, gradient, retain_graph, create_graph)\u001b[0m\n\u001b[1;32m    219\u001b[0m                 \u001b[0mretain_graph\u001b[0m\u001b[0;34m=\u001b[0m\u001b[0mretain_graph\u001b[0m\u001b[0;34m,\u001b[0m\u001b[0;34m\u001b[0m\u001b[0;34m\u001b[0m\u001b[0m\n\u001b[1;32m    220\u001b[0m                 create_graph=create_graph)\n\u001b[0;32m--> 221\u001b[0;31m         \u001b[0mtorch\u001b[0m\u001b[0;34m.\u001b[0m\u001b[0mautograd\u001b[0m\u001b[0;34m.\u001b[0m\u001b[0mbackward\u001b[0m\u001b[0;34m(\u001b[0m\u001b[0mself\u001b[0m\u001b[0;34m,\u001b[0m \u001b[0mgradient\u001b[0m\u001b[0;34m,\u001b[0m \u001b[0mretain_graph\u001b[0m\u001b[0;34m,\u001b[0m \u001b[0mcreate_graph\u001b[0m\u001b[0;34m)\u001b[0m\u001b[0;34m\u001b[0m\u001b[0;34m\u001b[0m\u001b[0m\n\u001b[0m\u001b[1;32m    222\u001b[0m \u001b[0;34m\u001b[0m\u001b[0m\n\u001b[1;32m    223\u001b[0m     \u001b[0;32mdef\u001b[0m \u001b[0mregister_hook\u001b[0m\u001b[0;34m(\u001b[0m\u001b[0mself\u001b[0m\u001b[0;34m,\u001b[0m \u001b[0mhook\u001b[0m\u001b[0;34m)\u001b[0m\u001b[0;34m:\u001b[0m\u001b[0;34m\u001b[0m\u001b[0;34m\u001b[0m\u001b[0m\n",
      "\u001b[0;32m~/anaconda3/envs/texts37/lib/python3.7/site-packages/torch/autograd/__init__.py\u001b[0m in \u001b[0;36mbackward\u001b[0;34m(tensors, grad_tensors, retain_graph, create_graph, grad_variables)\u001b[0m\n\u001b[1;32m    130\u001b[0m     Variable._execution_engine.run_backward(\n\u001b[1;32m    131\u001b[0m         \u001b[0mtensors\u001b[0m\u001b[0;34m,\u001b[0m \u001b[0mgrad_tensors_\u001b[0m\u001b[0;34m,\u001b[0m \u001b[0mretain_graph\u001b[0m\u001b[0;34m,\u001b[0m \u001b[0mcreate_graph\u001b[0m\u001b[0;34m,\u001b[0m\u001b[0;34m\u001b[0m\u001b[0;34m\u001b[0m\u001b[0m\n\u001b[0;32m--> 132\u001b[0;31m         allow_unreachable=True)  # allow_unreachable flag\n\u001b[0m\u001b[1;32m    133\u001b[0m \u001b[0;34m\u001b[0m\u001b[0m\n\u001b[1;32m    134\u001b[0m \u001b[0;34m\u001b[0m\u001b[0m\n",
      "\u001b[0;31mKeyboardInterrupt\u001b[0m: "
     ]
    }
   ],
   "source": [
    "for epoch_idx in range(n_epochs):\n",
    "    G.train()\n",
    "    total_loss = 0.\n",
    "    teacher_forcing = start_teacher_forcing - epoch_idx*teacher_forcing_decay\n",
    "    for batch_idx, data_input in tqdm(enumerate(train_dataloader), position=0, leave=True):\n",
    "        article = data_input[0].to(device)\n",
    "        highlight = data_input[1].to(device)\n",
    "        opt.zero_grad()\n",
    "        out = G(article, highlight, teacher_forcing_ratio=teacher_forcing)\n",
    "        loss = criterion(out.permute(1, 2, 0), highlight.permute(1, 0))\n",
    "        loss.backward()\n",
    "        opt.step()\n",
    "        total_loss += loss.data.item() * article.size(1)\n",
    "        iter_num += 1\n",
    "        writer.add_scalar('Loss/train', loss.data.item(), iter_num)\n",
    "    \n",
    "    epoch_losses.append(total_loss / len(train_dataset))\n",
    "    print(f'epoch {epoch_idx} train loss: {epoch_losses[-1]}')\n",
    "    \n",
    "    G.eval()\n",
    "    total_loss = 0.\n",
    "    for batch_idx, data_input in tqdm(enumerate(val_dataloader), position=0, leave=True):\n",
    "        article = data_input[0].to(device)\n",
    "        highlight = data_input[1].to(device)\n",
    "        out = G(article, highlight, teacher_forcing_ratio=0.)\n",
    "        loss = criterion(out.permute(1, 2, 0), highlight.permute(1, 0))\n",
    "        total_loss += loss.data.item() * article.size(1)\n",
    "\n",
    "    val_loss = total_loss / len(val_dataset)\n",
    "    val_losses.append(val_loss)\n",
    "    print(f'epoch {epoch_idx} val loss: {val_losses[-1]}')\n",
    "    writer.add_scalar('Loss/val', val_losses[-1], iter_num)\n",
    "    \n",
    "    scheduler.step(val_loss)\n",
    "    print(f'current lr {get_lr(opt)}')\n",
    "    print(f'current teacher forcing: {teacher_forcing}')\n",
    "    \n",
    "    indices = sps.randint(0, out.size(1)).rvs(size=5)\n",
    "    pred_texts = tensor_to_text(out[:, indices, :], sp, beam_search=True)\n",
    "    truth_texts = tensor_to_text(highlight[:, indices], sp)\n",
    "    for pred, truth in zip(pred_texts, truth_texts):\n",
    "        print(f'predicted: {pred}')\n",
    "        print(f'truth: {truth}\\n')"
   ]
  },
  {
   "cell_type": "code",
   "execution_count": null,
   "metadata": {},
   "outputs": [],
   "source": [
    "plt.figure(figsize=(7, 5))\n",
    "plt.title('generator pretraining')\n",
    "plt.plot(np.arange(0, len(epoch_losses)), epoch_losses,\n",
    "         label='train')\n",
    "plt.plot(np.arange(0, len(val_losses)), val_losses,\n",
    "         label='val')\n",
    "plt.xlabel('epoch')\n",
    "plt.ylabel('loss')\n",
    "plt.legend()\n",
    "plt.show()"
   ]
  },
  {
   "cell_type": "code",
   "execution_count": null,
   "metadata": {},
   "outputs": [],
   "source": [
    "# save_path = 'saved_models/pretrained_seq2seq_gen_3.pth'\n",
    "# torch.save(G.state_dict(), save_path)"
   ]
  },
  {
   "cell_type": "markdown",
   "metadata": {},
   "source": [
    "### 6. discriminator pretraining"
   ]
  },
  {
   "cell_type": "code",
   "execution_count": 14,
   "metadata": {},
   "outputs": [
    {
     "data": {
      "text/plain": [
       "<All keys matched successfully>"
      ]
     },
     "execution_count": 14,
     "metadata": {},
     "output_type": "execute_result"
    }
   ],
   "source": [
    "save_path = 'saved_models/pretrained_seq2seq_gen_3.pth'\n",
    "G.load_state_dict(torch.load(save_path))"
   ]
  },
  {
   "cell_type": "code",
   "execution_count": 15,
   "metadata": {},
   "outputs": [
    {
     "data": {
      "text/plain": [
       "Seq2Seq(\n",
       "  (encoder): Encoder(\n",
       "    (embedding): Embedding(10000, 256)\n",
       "    (rnn): LSTM(256, 256, num_layers=3, dropout=0.1)\n",
       "    (dropout): Dropout(p=0.1, inplace=False)\n",
       "  )\n",
       "  (decoder): Decoder(\n",
       "    (embedding): Embedding(10000, 256)\n",
       "    (rnn): LSTM(256, 256, num_layers=3, dropout=0.1)\n",
       "    (out): Linear(in_features=512, out_features=10000, bias=True)\n",
       "    (w): Linear(in_features=256, out_features=256, bias=True)\n",
       "    (attn_lin): Linear(in_features=512, out_features=512, bias=True)\n",
       "    (dropout): Dropout(p=0.1, inplace=False)\n",
       "  )\n",
       ")"
      ]
     },
     "execution_count": 15,
     "metadata": {},
     "output_type": "execute_result"
    }
   ],
   "source": [
    "G.eval()"
   ]
  },
  {
   "cell_type": "code",
   "execution_count": 16,
   "metadata": {},
   "outputs": [],
   "source": [
    "emb_dim = 256\n",
    "hidden_dim = 256\n",
    "vocab_size = 10000\n",
    "padding_idx = 0\n",
    "D = CNNDiscriminator(embed_dim=emb_dim,\n",
    "                     vocab_size=vocab_size,\n",
    "                     num_classes=2,\n",
    "                     filter_sizes=[2, 3, 3],\n",
    "                     num_filters=3,\n",
    "                     padding_idx=padding_idx).to(device)"
   ]
  },
  {
   "cell_type": "code",
   "execution_count": 18,
   "metadata": {},
   "outputs": [],
   "source": [
    "criterion = nn.BCELoss()\n",
    "lr = 1e-4\n",
    "opt = torch.optim.Adam(D.parameters(), lr=lr)\n",
    "n_epochs = 2\n",
    "\n",
    "epoch_losses = []\n",
    "val_losses = []\n",
    "iter_num = -1\n",
    "writer = SummaryWriter()"
   ]
  },
  {
   "cell_type": "code",
   "execution_count": 19,
   "metadata": {
    "scrolled": true
   },
   "outputs": [
    {
     "name": "stderr",
     "output_type": "stream",
     "text": [
      "539it [00:44, 12.18it/s]\n",
      "2it [00:00, 14.04it/s]"
     ]
    },
    {
     "name": "stdout",
     "output_type": "stream",
     "text": [
      "epoch 0 train loss: 0.23779804286710338\n"
     ]
    },
    {
     "name": "stderr",
     "output_type": "stream",
     "text": [
      "231it [00:16, 14.16it/s]\n",
      "2it [00:00, 11.64it/s]"
     ]
    },
    {
     "name": "stdout",
     "output_type": "stream",
     "text": [
      "epoch 0 val loss: 0.031208537723029284\n"
     ]
    },
    {
     "name": "stderr",
     "output_type": "stream",
     "text": [
      "539it [00:43, 12.32it/s]\n",
      "2it [00:00, 13.94it/s]"
     ]
    },
    {
     "name": "stdout",
     "output_type": "stream",
     "text": [
      "epoch 1 train loss: 0.06076200075888883\n"
     ]
    },
    {
     "name": "stderr",
     "output_type": "stream",
     "text": [
      "231it [00:16, 14.15it/s]"
     ]
    },
    {
     "name": "stdout",
     "output_type": "stream",
     "text": [
      "epoch 1 val loss: 0.005752120049201727\n"
     ]
    },
    {
     "name": "stderr",
     "output_type": "stream",
     "text": [
      "\n"
     ]
    }
   ],
   "source": [
    "for epoch_idx in range(n_epochs):\n",
    "    D.train()\n",
    "    total_loss = 0.\n",
    "    \n",
    "    for batch_idx, data_input in tqdm(enumerate(train_dataloader)):\n",
    "        article = data_input[0].to(device)\n",
    "        highlight = data_input[1].to(device)\n",
    "        generated_highlight = G(article, highlight, teacher_forcing_ratio=0.)\n",
    "        generated_highlight = torch.argmax(F.softmax(generated_highlight, dim=2), dim=2).permute(1, 0)\n",
    "        highlight = highlight.permute(1, 0)\n",
    "        batch = torch.cat([generated_highlight, highlight], dim=0)\n",
    "        targets = torch.tensor([0]*generated_highlight.size(0) + [1]*highlight.size(0)).to(device)\n",
    "        opt.zero_grad()\n",
    "        out = D(batch)\n",
    "        loss = criterion(out.squeeze(1), targets.float())\n",
    "        loss.backward()\n",
    "        opt.step()\n",
    "        total_loss += loss.data.item() * article.size(1) * 2\n",
    "        iter_num += 1\n",
    "        writer.add_scalar('Loss/train', loss.data.item(), iter_num)\n",
    "    \n",
    "    epoch_losses.append(total_loss / len(train_dataset) / 2)\n",
    "    print(f'epoch {epoch_idx} train loss: {epoch_losses[-1]}')\n",
    "    \n",
    "    D.eval()\n",
    "    total_loss = 0.\n",
    "    for batch_idx, data_input in tqdm(enumerate(val_dataloader)):\n",
    "        article = data_input[0].to(device)\n",
    "        highlight = data_input[1].to(device)\n",
    "        generated_highlight = G(article, highlight, teacher_forcing_ratio=0.)\n",
    "        generated_highlight = torch.argmax(F.softmax(generated_highlight, dim=2), dim=2).permute(1, 0)\n",
    "        highlight = highlight.permute(1, 0)\n",
    "        batch = torch.cat([generated_highlight, highlight], dim=0)\n",
    "        targets = torch.tensor([0]*generated_highlight.size(0) + [1]*highlight.size(0)).to(device)\n",
    "        out = D(batch)\n",
    "        loss = criterion(out.squeeze(1), targets.float())\n",
    "        total_loss += loss.data.item() * article.size(1) * 2\n",
    "\n",
    "    val_losses.append(total_loss / len(val_dataset) / 2)\n",
    "    writer.add_scalar('Loss/val', val_losses[-1], iter_num)\n",
    "    print(f'epoch {epoch_idx} val loss: {val_losses[-1]}')"
   ]
  },
  {
   "cell_type": "code",
   "execution_count": 22,
   "metadata": {},
   "outputs": [
    {
     "data": {
      "image/png": "[encoded data removed]",
      "text/plain": [
       "<Figure size 504x360 with 1 Axes>"
      ]
     },
     "metadata": {},
     "output_type": "display_data"
    }
   ],
   "source": [
    "plt.figure(figsize=(7, 5))\n",
    "plt.title('discriminator pretraining')\n",
    "plt.plot(np.arange(0, len(epoch_losses)), epoch_losses,\n",
    "         label='train')\n",
    "plt.plot(np.arange(0, len(val_losses)), val_losses,\n",
    "         label='val')\n",
    "plt.xlabel('epoch')\n",
    "plt.ylabel('loss')\n",
    "plt.legend()\n",
    "plt.show()"
   ]
  },
  {
   "cell_type": "code",
   "execution_count": 23,
   "metadata": {},
   "outputs": [],
   "source": [
    "save_path = 'saved_models/pretrained_dis3.pth'\n",
    "torch.save(D.state_dict(), save_path)"
   ]
  },
  {
   "cell_type": "markdown",
   "metadata": {},
   "source": [
    "### 7. adversarial training"
   ]
  },
  {
   "cell_type": "code",
   "execution_count": 11,
   "metadata": {},
   "outputs": [],
   "source": [
    "device = 'cuda:0' if torch.cuda.is_available() else 'cpu'"
   ]
  },
  {
   "cell_type": "code",
   "execution_count": 12,
   "metadata": {},
   "outputs": [
    {
     "data": {
      "text/plain": [
       "<All keys matched successfully>"
      ]
     },
     "execution_count": 12,
     "metadata": {},
     "output_type": "execute_result"
    }
   ],
   "source": [
    "vocab_size = 10000\n",
    "INPUT_DIM = vocab_size\n",
    "OUTPUT_DIM = vocab_size\n",
    "ENC_EMB_DIM = 256\n",
    "DEC_EMB_DIM = 256\n",
    "HID_DIM = 256\n",
    "N_LAYERS = 3\n",
    "ENC_DROPOUT = 0.1\n",
    "DEC_DROPOUT = 0.1\n",
    "\n",
    "enc = Encoder(INPUT_DIM, ENC_EMB_DIM, HID_DIM, N_LAYERS, ENC_DROPOUT)\n",
    "dec = Decoder(OUTPUT_DIM, DEC_EMB_DIM, HID_DIM, N_LAYERS, DEC_DROPOUT)\n",
    "\n",
    "G = Seq2Seq(enc, dec, device).to(device)\n",
    "save_path = 'saved_models/pretrained_seq2seq_gen_3.pth'\n",
    "G.load_state_dict(torch.load(save_path))"
   ]
  },
  {
   "cell_type": "code",
   "execution_count": 13,
   "metadata": {},
   "outputs": [
    {
     "data": {
      "text/plain": [
       "<All keys matched successfully>"
      ]
     },
     "execution_count": 13,
     "metadata": {},
     "output_type": "execute_result"
    }
   ],
   "source": [
    "emb_dim = 256\n",
    "hidden_dim = 256\n",
    "vocab_size = 10000\n",
    "padding_idx = 0\n",
    "D = CNNDiscriminator(embed_dim=emb_dim,\n",
    "                     vocab_size=vocab_size,\n",
    "                     num_classes=2,\n",
    "                     filter_sizes=[2, 3, 3],\n",
    "                     num_filters=3,\n",
    "                     padding_idx=padding_idx).to(device)\n",
    "save_path = 'saved_models/pretrained_dis3.pth'\n",
    "D.load_state_dict(torch.load(save_path))"
   ]
  },
  {
   "cell_type": "code",
   "execution_count": 14,
   "metadata": {},
   "outputs": [],
   "source": [
    "n_epochs = 60\n",
    "rollout_num = 2\n",
    "beta = 0.2\n",
    "teacher_forcing = 0.6"
   ]
  },
  {
   "cell_type": "code",
   "execution_count": 15,
   "metadata": {},
   "outputs": [],
   "source": [
    "writer = SummaryWriter()"
   ]
  },
  {
   "cell_type": "code",
   "execution_count": 16,
   "metadata": {},
   "outputs": [
    {
     "data": {
      "text/plain": [
       "Seq2Seq(\n",
       "  (encoder): Encoder(\n",
       "    (embedding): Embedding(10000, 256)\n",
       "    (rnn): LSTM(256, 256, num_layers=3, dropout=0.1)\n",
       "    (dropout): Dropout(p=0.1, inplace=False)\n",
       "  )\n",
       "  (decoder): Decoder(\n",
       "    (embedding): Embedding(10000, 256)\n",
       "    (rnn): LSTM(256, 256, num_layers=3, dropout=0.1)\n",
       "    (out): Linear(in_features=512, out_features=10000, bias=True)\n",
       "    (w): Linear(in_features=256, out_features=256, bias=True)\n",
       "    (attn_lin): Linear(in_features=512, out_features=512, bias=True)\n",
       "    (dropout): Dropout(p=0.1, inplace=False)\n",
       "  )\n",
       ")"
      ]
     },
     "execution_count": 16,
     "metadata": {},
     "output_type": "execute_result"
    }
   ],
   "source": [
    "G.train()"
   ]
  },
  {
   "cell_type": "code",
   "execution_count": 17,
   "metadata": {},
   "outputs": [
    {
     "data": {
      "text/plain": [
       "CNNDiscriminator(\n",
       "  (embed): Embedding(10000, 256, padding_idx=0)\n",
       "  (convs): ModuleList(\n",
       "    (0): Conv2d(1, 3, kernel_size=(2, 256), stride=(1, 1))\n",
       "    (1): Conv2d(1, 3, kernel_size=(3, 256), stride=(1, 1))\n",
       "    (2): Conv2d(1, 3, kernel_size=(3, 256), stride=(1, 1))\n",
       "  )\n",
       "  (dropout): Dropout(p=0.2, inplace=False)\n",
       "  (fc1): Linear(in_features=9, out_features=1, bias=True)\n",
       ")"
      ]
     },
     "execution_count": 17,
     "metadata": {},
     "output_type": "execute_result"
    }
   ],
   "source": [
    "D.train()"
   ]
  },
  {
   "cell_type": "code",
   "execution_count": 18,
   "metadata": {},
   "outputs": [
    {
     "name": "stderr",
     "output_type": "stream",
     "text": [
      "539it [15:49,  1.76s/it]\n",
      "0it [00:00, ?it/s]"
     ]
    },
    {
     "name": "stdout",
     "output_type": "stream",
     "text": [
      "epoch 0 G loss: 2.605969012600481\n",
      "epoch 0 D loss: 0.5976863747412873\n"
     ]
    },
    {
     "name": "stderr",
     "output_type": "stream",
     "text": [
      "231it [04:39,  1.21s/it]\n"
     ]
    },
    {
     "name": "stdout",
     "output_type": "stream",
     "text": [
      "epoch 0 val loss: 4.832602296925945\n"
     ]
    },
    {
     "name": "stderr",
     "output_type": "stream",
     "text": [
      "\r",
      "0it [00:00, ?it/s]"
     ]
    },
    {
     "name": "stdout",
     "output_type": "stream",
     "text": [
      "predicted: was toed to changed birth to schools rape victims\n",
      "truth: was threatened to change asaram rape victim s age principal\n",
      "\n",
      "predicted: whatsapp should have a difference in india union minister ceo\n",
      "truth: whatsapp must have grievance officer in india it min to ceo\n",
      "\n",
      "predicted: delhi metro moves sc to 60 60 crore to reliance\n",
      "truth: delhi metro moves sc against 60 crore payment to rinfra arm\n",
      "\n",
      "predicted: social media mediasenencsss trump trump\n",
      "truth: social media giants are silencing millions of people trump\n",
      "\n",
      "predicted: social media mediasenencsss trump trump\n",
      "truth: social media giants are silencing millions of people trump\n",
      "\n",
      "predicted: isi ak ak to be ashamed from trophy s\n",
      "truth: akmal should be ashamed for being sent back to pak waqar\n",
      "\n",
      "predicted: pm pm pm pm pm sssnanana s resigns\n",
      "truth: georgia pm kvirikashvili resigns amid rift with ruling party\n",
      "\n",
      "predicted: pm modi to visit china in first week of summit summit\n",
      "truth: pm modi to attend brics summit in china\n",
      "\n",
      "predicted: 355 men marri married atpointpoint in bihar 2016\n",
      "truth: 3 075 grooms got married in bihar at gunpoint in 2016\n",
      "\n",
      "predicted: first look poster of sushant kriti starrer raabta unveiled\n",
      "truth: first look poster of sushant kriti s raabta unveiled\n",
      "\n"
     ]
    },
    {
     "name": "stderr",
     "output_type": "stream",
     "text": [
      "539it [15:57,  1.78s/it]\n",
      "0it [00:00, ?it/s]"
     ]
    },
    {
     "name": "stdout",
     "output_type": "stream",
     "text": [
      "epoch 1 G loss: 2.518196712996763\n",
      "epoch 1 D loss: 0.513051236769602\n"
     ]
    },
    {
     "name": "stderr",
     "output_type": "stream",
     "text": [
      "231it [04:40,  1.22s/it]\n"
     ]
    },
    {
     "name": "stdout",
     "output_type": "stream",
     "text": [
      "epoch 1 val loss: 4.740161946826073\n"
     ]
    },
    {
     "name": "stderr",
     "output_type": "stream",
     "text": [
      "\r",
      "0it [00:00, ?it/s]"
     ]
    },
    {
     "name": "stdout",
     "output_type": "stream",
     "text": [
      "predicted: 4 missiles fired from afghanistan in pakistan\n",
      "truth: 4 missiles fired into pakistan from afghanistan\n",
      "\n",
      "predicted: big b aishwarya aishwaryas documents of   panama papers\n",
      "truth: amitabh aishwarya submit documents in panama papers probe\n",
      "\n",
      "predicted: india smelling blood but we would be under great pressure coach\n",
      "truth: india are smelling blood we will show them great respect langer\n",
      "\n",
      "predicted: man creates robot that in in cars water of the engine\n",
      "truth: man turns his car into a drivable hot tub\n",
      "\n",
      "predicted: whatsapp should have a new news union minister ceo\n",
      "truth: whatsapp must have grievance officer in india it min to ceo\n",
      "\n",
      "predicted: was to change birth to birth in schools school rapes rape\n",
      "truth: was threatened to change asaram rape victim s age principal\n",
      "\n",
      "predicted: iit roorkee tests floating electricity from water water\n",
      "truth: iit roorkee tests device to generate electricity from river flow\n",
      "\n",
      "predicted: north korea coulded engines for for test tests study\n",
      "truth: n korea missiles used russian or ukrainian engines reports\n",
      "\n",
      "predicted: airbus probe probe into corruption charges over 146 crore\n",
      "truth: airbus launches internal corruption investigation\n",
      "\n",
      "predicted: union union minister satya pal sworn in in bihar of bihar governor\n",
      "truth: satya pal malik sworn in as governor of bihar\n",
      "\n"
     ]
    },
    {
     "name": "stderr",
     "output_type": "stream",
     "text": [
      "539it [15:58,  1.78s/it]\n",
      "0it [00:00, ?it/s]"
     ]
    },
    {
     "name": "stdout",
     "output_type": "stream",
     "text": [
      "epoch 2 G loss: 2.443887748230902\n",
      "epoch 2 D loss: 0.5066792928383326\n"
     ]
    },
    {
     "name": "stderr",
     "output_type": "stream",
     "text": [
      "231it [04:41,  1.22s/it]\n"
     ]
    },
    {
     "name": "stdout",
     "output_type": "stream",
     "text": [
      "epoch 2 val loss: 4.573483243842568\n"
     ]
    },
    {
     "name": "stderr",
     "output_type": "stream",
     "text": [
      "\r",
      "0it [00:00, ?it/s]"
     ]
    },
    {
     "name": "stdout",
     "output_type": "stream",
     "text": [
      "predicted: airbus probe probe into corruption charges over 146 cr fraud\n",
      "truth: airbus launches internal corruption investigation\n",
      "\n",
      "predicted: sc issues notice for rahul gandhi foringing for foring\n",
      "truth: rahul given notice over nude dalit kids being beaten up video\n",
      "\n",
      "predicted: ddkock rules out of ipl match of ipl match to injury\n",
      "truth: delhi s last year top scorer quinton de kock out of ipl 2017\n",
      "\n",
      "predicted: society has pm modi pm for welfare chief rss chief\n",
      "truth: modi is a contractor of social welfare rss chief bhagwat\n",
      "\n",
      "predicted: i would like work with any action with dutt dutt dutt rajkumar dutt\n",
      "truth: would like to work with ranbir kapoor again rajkumar hirani\n",
      "\n",
      "predicted: first look poster of sushant kriti starrer raabta unveiled\n",
      "truth: first look poster of sushant kriti s raabta unveiled\n",
      "\n",
      "predicted: amazon to test one hour for items in fashion show show\n",
      "truth: amazon to test one hour delivery for fashion show clothes\n",
      "\n",
      "predicted: 20 killed in j k after eid attacks in j k\n",
      "truth: 20 yr old killed in clashes after eid prayers in kashmir\n",
      "\n",
      "predicted: zoomcar raises 40 million infrom mahindra valuations\n",
      "truth: car rental startup zoomcar raises 40 million in series c\n",
      "\n",
      "predicted: zos got women at at foree gtful tvs\n",
      "truth: game of thrones puts women at the forefront gwendoline\n",
      "\n"
     ]
    },
    {
     "name": "stderr",
     "output_type": "stream",
     "text": [
      "539it [15:56,  1.78s/it]\n",
      "0it [00:00, ?it/s]"
     ]
    },
    {
     "name": "stdout",
     "output_type": "stream",
     "text": [
      "epoch 3 G loss: 2.3782261119625434\n",
      "epoch 3 D loss: 0.506032413528079\n"
     ]
    },
    {
     "name": "stderr",
     "output_type": "stream",
     "text": [
      "231it [04:44,  1.23s/it]\n"
     ]
    },
    {
     "name": "stdout",
     "output_type": "stream",
     "text": [
      "epoch 3 val loss: 4.289505266407504\n"
     ]
    },
    {
     "name": "stderr",
     "output_type": "stream",
     "text": [
      "\r",
      "0it [00:00, ?it/s]"
     ]
    },
    {
     "name": "stdout",
     "output_type": "stream",
     "text": [
      "predicted: un evidence of human rights abuses al of syria\n",
      "truth: enough evidence to convict syrian prez of war crimes un\n",
      "\n",
      "predicted: rhea s sister  sister s 1st at cannes film fest fest\n",
      "truth: sonam wears custom made jewellery by sister rhea at cannes\n",
      "\n",
      "predicted: barcelona 1st club club to earn over over 126s in\n",
      "truth: barcelona become world s 1st team to spend 500 million on wages\n",
      "\n",
      "predicted: kartarpur corridor calls kartarpur for for mistake pm modi\n",
      "truth: kartarpur corridor atonement for mistake made in 1947 pm modi\n",
      "\n",
      "predicted: mccullum s test to fastest fastest in his last last match\n",
      "truth: brendon mccullum hit test cricket s fastest ton in his last match\n",
      "\n",
      "predicted: gotaradhya for the from my my actor on on 13 years\n",
      "truth: received best compliment from dilip kumar for black big b\n",
      "\n",
      "predicted: india smelling blood buty would be under great pressure coach\n",
      "truth: india are smelling blood we will show them great respect langer\n",
      "\n",
      "predicted: us man awarded 4 8 8 after eating corpse fossil\n",
      "truth: us man awarded 4 8 crore after beer burns his organs\n",
      "\n",
      "predicted: rhea s sister  sister s 1st at cannes film fest fest\n",
      "truth: sonam wears custom made jewellery by sister rhea at cannes\n",
      "\n",
      "predicted: kerala govting sabarimalasssssssss shah\n",
      "truth: kerala treating sabarimala pilgrims like gulag inmates shah\n",
      "\n"
     ]
    },
    {
     "name": "stderr",
     "output_type": "stream",
     "text": [
      "539it [15:56,  1.77s/it]\n",
      "0it [00:00, ?it/s]"
     ]
    },
    {
     "name": "stdout",
     "output_type": "stream",
     "text": [
      "epoch 4 G loss: 2.289727535314261\n",
      "epoch 4 D loss: 0.513671950942271\n"
     ]
    },
    {
     "name": "stderr",
     "output_type": "stream",
     "text": [
      "231it [04:44,  1.23s/it]\n"
     ]
    },
    {
     "name": "stdout",
     "output_type": "stream",
     "text": [
      "epoch 4 val loss: 3.9579189585531345\n"
     ]
    },
    {
     "name": "stderr",
     "output_type": "stream",
     "text": [
      "\r",
      "0it [00:00, ?it/s]"
     ]
    },
    {
     "name": "stdout",
     "output_type": "stream",
     "text": [
      "predicted: amazon to test 1 hr for items in fashion show show show\n",
      "truth: amazon to test one hour delivery for fashion show clothes\n",
      "\n",
      "predicted: bars to be take against soldiers on militants army\n",
      "truth: soldiers to face action for disrespecting militants bodies\n",
      "\n",
      "predicted: model models dead dead dead dead dead dead\n",
      "truth: 22 year old model shot dead inside her porsche in iraq\n",
      "\n",
      "predicted: aus australia is good good good good good good aus coach\n",
      "truth: sledging is a fun part of the game aus coach justin langer\n",
      "\n",
      "predicted: 4 missiles fired from afghanistan in pakistan\n",
      "truth: 4 missiles fired into pakistan from afghanistan\n",
      "\n",
      "predicted: barcelona 1st club to world record over over 126ss\n",
      "truth: barcelona become world s 1st team to spend 500 million on wages\n",
      "\n",
      "predicted: society has pm modi pm for welfare chief rss chief\n",
      "truth: modi is a contractor of social welfare rss chief bhagwat\n",
      "\n",
      "predicted: french singeras dies after collapsing in concert\n",
      "truth: french singer barbara weldens dies on stage during concert\n",
      "\n",
      "predicted: thievesess in under house house housen instead of itn\n",
      "truth: us thieves try to steal tv return it as it didn t fit in car\n",
      "\n",
      "predicted: cong congress joins for for for for poll by poll\n",
      "truth: cong ncp join hands against bjp for maha council by poll\n",
      "\n"
     ]
    },
    {
     "name": "stderr",
     "output_type": "stream",
     "text": [
      "539it [15:57,  1.78s/it]\n",
      "0it [00:00, ?it/s]"
     ]
    },
    {
     "name": "stdout",
     "output_type": "stream",
     "text": [
      "epoch 5 G loss: 2.190731929375873\n",
      "epoch 5 D loss: 0.5154967768543965\n"
     ]
    },
    {
     "name": "stderr",
     "output_type": "stream",
     "text": [
      "231it [04:44,  1.23s/it]\n"
     ]
    },
    {
     "name": "stdout",
     "output_type": "stream",
     "text": [
      "epoch 5 val loss: 3.511560177052757\n"
     ]
    },
    {
     "name": "stderr",
     "output_type": "stream",
     "text": [
      "\r",
      "0it [00:00, ?it/s]"
     ]
    },
    {
     "name": "stdout",
     "output_type": "stream",
     "text": [
      "predicted: ddkock rules out of ipl ipl match of ipl match\n",
      "truth: delhi s last year top scorer quinton de kock out of ipl 2017\n",
      "\n",
      "predicted: doctors put inmrityityss toss in telangana\n",
      "truth: docs chant mantra for hours to bring down deaths in hospital\n",
      "\n",
      "predicted: he am death penaltyeacheacheacheachss owaisi owaisi\n",
      "truth: threat to my life claims aimim leader akbaruddin owaisi\n",
      "\n",
      "predicted: 20 killed in j k after eid attacks in j k\n",
      "truth: 20 yr old killed in clashes after eid prayers in kashmir\n",
      "\n",
      "predicted: facebook asks equi to share info info info info info\n",
      "truth: facebook asks us banks for users financial data report\n",
      "\n",
      "predicted: srikanthambis padma shri india s highestst asiali\n",
      "truth: kidambi srikanth conferred with padma shri award\n",
      "\n",
      "predicted: airbus probe probe probe corruption charges oversexexexs\n",
      "truth: airbus launches internal corruption investigation\n",
      "\n",
      "predicted: aus australia is good good good good good good aus coach\n",
      "truth: sledging is a fun part of the game aus coach justin langer\n",
      "\n",
      "predicted: cbi of witch hunting in kasau s kaarushi\n",
      "truth: cbi planted witnesses in aarushi murder case allahabad hc\n",
      "\n",
      "predicted: amazon to test 1 hr for for items in fashion show show\n",
      "truth: amazon to test one hour delivery for fashion show clothes\n",
      "\n"
     ]
    },
    {
     "name": "stderr",
     "output_type": "stream",
     "text": [
      "539it [15:54,  1.77s/it]\n",
      "0it [00:00, ?it/s]"
     ]
    },
    {
     "name": "stdout",
     "output_type": "stream",
     "text": [
      "epoch 6 G loss: 2.0692515438580483\n",
      "epoch 6 D loss: 0.5126686879012919\n"
     ]
    },
    {
     "name": "stderr",
     "output_type": "stream",
     "text": [
      "231it [04:44,  1.23s/it]\n"
     ]
    },
    {
     "name": "stdout",
     "output_type": "stream",
     "text": [
      "epoch 6 val loss: 3.0410978867107077\n"
     ]
    },
    {
     "name": "stderr",
     "output_type": "stream",
     "text": [
      "\r",
      "0it [00:00, ?it/s]"
     ]
    },
    {
     "name": "stdout",
     "output_type": "stream",
     "text": [
      "predicted: sehwag moreinging sehwag oninginging pad pad\n",
      "truth: aus ke score par laga gst bhaari pad gaya sehwag on india s loss\n",
      "\n",
      "predicted: farmer farmers makinging dumpingssss strike strike strike\n",
      "truth: farmers dump vegetables spill milk on roads during protest\n",
      "\n",
      "predicted: doctors doctorss inmityityrssss\n",
      "truth: docs chant mantra for hours to bring down deaths in hospital\n",
      "\n",
      "predicted: thievesess screen under inside house housen in\n",
      "truth: us thieves try to steal tv return it as it didn t fit in car\n",
      "\n",
      "predicted: barable to be against soldiers armyss army army\n",
      "truth: soldiers to face action for disrespecting militants bodies\n",
      "\n",
      "predicted: pm modi to visit china in first week summits summit\n",
      "truth: pm modi to attend brics summit in china\n",
      "\n",
      "predicted: thievesess screen under inside house housen in\n",
      "truth: us thieves try to steal tv return it as it didn t fit in car\n",
      "\n",
      "predicted: french singerass dies after duringing concert\n",
      "truth: french singer barbara weldens dies on stage during concert\n",
      "\n",
      "predicted: barable to be against soldiers armyss army army\n",
      "truth: soldiers to face action for disrespecting militants bodies\n",
      "\n",
      "predicted: north korea could crack engines for for test tests study\n",
      "truth: n korea missiles used russian or ukrainian engines reports\n",
      "\n"
     ]
    },
    {
     "name": "stderr",
     "output_type": "stream",
     "text": [
      "539it [15:49,  1.76s/it]\n",
      "0it [00:00, ?it/s]"
     ]
    },
    {
     "name": "stdout",
     "output_type": "stream",
     "text": [
      "epoch 7 G loss: 1.9108256471281684\n",
      "epoch 7 D loss: 0.4493603262613321\n"
     ]
    },
    {
     "name": "stderr",
     "output_type": "stream",
     "text": [
      "231it [04:44,  1.23s/it]\n"
     ]
    },
    {
     "name": "stdout",
     "output_type": "stream",
     "text": [
      "epoch 7 val loss: 2.4714261342635915\n"
     ]
    },
    {
     "name": "stderr",
     "output_type": "stream",
     "text": [
      "\r",
      "0it [00:00, ?it/s]"
     ]
    },
    {
     "name": "stdout",
     "output_type": "stream",
     "text": [
      "predicted: used toanansssss on s s rashid\n",
      "truth: csk pacer lungi reveals he used to sell peanuts on roadside\n",
      "\n",
      "predicted: farmer farmers makinginging dumpssss strike strike strike\n",
      "truth: farmers dump vegetables spill milk on roads during protest\n",
      "\n",
      "predicted: kerala govtingsssssssssss shah\n",
      "truth: kerala treating sabarimala pilgrims like gulag inmates shah\n",
      "\n",
      "predicted: man dies after rid dies dies dies in s car into car\n",
      "truth: man dies after crashing his scooter into zareen khan s car in goa\n",
      "\n",
      "predicted: world s mostedededs neuros\n",
      "truth: how does the world s smallest computer work\n",
      "\n",
      "predicted: world s mostedededs neuros\n",
      "truth: how does the world s smallest computer work\n",
      "\n",
      "predicted: india smell noting blood buty would be under great coach coach\n",
      "truth: india are smelling blood we will show them great respect langer\n",
      "\n",
      "predicted: social media mediasenenenss trump trumps\n",
      "truth: social media giants are silencing millions of people trump\n",
      "\n",
      "predicted: us man awarded 4 4 for afteringing fossil fossil fossil\n",
      "truth: us man awarded 4 8 crore after beer burns his organs\n",
      "\n",
      "predicted: thousands can walk walk walk walk on attack attack attack attack\n",
      "truth: event guests sing you ll never walk alone over terror threat\n",
      "\n"
     ]
    },
    {
     "name": "stderr",
     "output_type": "stream",
     "text": [
      "539it [15:51,  1.77s/it]\n",
      "0it [00:00, ?it/s]"
     ]
    },
    {
     "name": "stdout",
     "output_type": "stream",
     "text": [
      "epoch 8 G loss: 1.666291037724547\n",
      "epoch 8 D loss: 0.3808399245298698\n"
     ]
    },
    {
     "name": "stderr",
     "output_type": "stream",
     "text": [
      "231it [04:43,  1.23s/it]\n"
     ]
    },
    {
     "name": "stdout",
     "output_type": "stream",
     "text": [
      "epoch 8 val loss: 1.8990632335464748\n"
     ]
    },
    {
     "name": "stderr",
     "output_type": "stream",
     "text": [
      "\r",
      "0it [00:00, ?it/s]"
     ]
    },
    {
     "name": "stdout",
     "output_type": "stream",
     "text": [
      "predicted: srikanthambis padma shri shri india s highest asia\n",
      "truth: kidambi srikanth conferred with padma shri award\n",
      "\n",
      "predicted: nurse whosed foringing woman to baby to to\n",
      "truth: italian nurse jailed for calming newborn with morphine\n",
      "\n",
      "predicted: man dies after rid dies dies dies in s car s car\n",
      "truth: man dies after crashing his scooter into zareen khan s car in goa\n",
      "\n",
      "predicted: wheelchair bound passengersed flight flight flight flight flight passengers\n",
      "truth: air india refuses to let wheelchair bound passenger on plane\n",
      "\n",
      "predicted: un evidenceed evidence rights rightss of of\n",
      "truth: enough evidence to convict syrian prez of war crimes un\n",
      "\n",
      "predicted: 18 cpi mss life life lifeed  tmc tmc\n",
      "truth: 18 cpi m men get life term for killing tmc workers in 2010\n",
      "\n",
      "predicted: big b aishwarya bs documents documents with  paper\n",
      "truth: amitabh aishwarya submit documents in panama papers probe\n",
      "\n",
      "predicted: 14 yr old killss watch watch watch video videoed in\n",
      "truth: scolded for using phone mumbai teen hangs self dies in hospital\n",
      "\n",
      "predicted: wased to changed birth to in school schools rape rape\n",
      "truth: was threatened to change asaram rape victim s age principal\n",
      "\n",
      "predicted: un evidenceed evidence rights rightss of of\n",
      "truth: enough evidence to convict syrian prez of war crimes un\n",
      "\n"
     ]
    },
    {
     "name": "stderr",
     "output_type": "stream",
     "text": [
      "539it [15:50,  1.76s/it]\n",
      "0it [00:00, ?it/s]"
     ]
    },
    {
     "name": "stdout",
     "output_type": "stream",
     "text": [
      "epoch 9 G loss: 1.6128117696471884\n",
      "epoch 9 D loss: 0.2750131170370299\n"
     ]
    },
    {
     "name": "stderr",
     "output_type": "stream",
     "text": [
      "231it [04:44,  1.23s/it]\n"
     ]
    },
    {
     "name": "stdout",
     "output_type": "stream",
     "text": [
      "epoch 9 val loss: 1.7719717218657747\n"
     ]
    },
    {
     "name": "stderr",
     "output_type": "stream",
     "text": [
      "\r",
      "0it [00:00, ?it/s]"
     ]
    },
    {
     "name": "stdout",
     "output_type": "stream",
     "text": [
      "predicted: wheelchair passengerseded flight flight flight flight flight passenger flight\n",
      "truth: air india refuses to let wheelchair bound passenger on plane\n",
      "\n",
      "predicted: zoomcar raises 40 million from mahindra mahind startup others\n",
      "truth: car rental startup zoomcar raises 40 million in series c\n",
      "\n",
      "predicted: 18 cpi msed life life lifeed  tmc tmc\n",
      "truth: 18 cpi m men get life term for killing tmc workers in 2010\n",
      "\n",
      "predicted: man buildssable  in in water water of the\n",
      "truth: man turns his car into a drivable hot tub\n",
      "\n",
      "predicted: 14 yr old killssing watch watch video videoing video\n",
      "truth: scolded for using phone mumbai teen hangs self dies in hospital\n",
      "\n",
      "predicted: zos got women at at at foree gnnve\n",
      "truth: game of thrones puts women at the forefront gwendoline\n",
      "\n",
      "predicted: gotara award for for  from aurilip on on 13 years\n",
      "truth: received best compliment from dilip kumar for black big b\n",
      "\n",
      "predicted: isi ak ak ashamhameded      \n",
      "truth: akmal should be ashamed for being sent back to pak waqar\n",
      "\n",
      "predicted: doctorss insmityityityityss in telangana\n",
      "truth: docs chant mantra for hours to bring down deaths in hospital\n",
      "\n",
      "predicted: un evidenceed rights rights rights rights of syrian\n",
      "truth: enough evidence to convict syrian prez of war crimes un\n",
      "\n"
     ]
    },
    {
     "name": "stderr",
     "output_type": "stream",
     "text": [
      "539it [15:52,  1.77s/it]\n",
      "0it [00:00, ?it/s]"
     ]
    },
    {
     "name": "stdout",
     "output_type": "stream",
     "text": [
      "epoch 10 G loss: 1.586977348427324\n",
      "epoch 10 D loss: 0.22131294235673654\n"
     ]
    },
    {
     "name": "stderr",
     "output_type": "stream",
     "text": [
      "231it [04:44,  1.23s/it]\n"
     ]
    },
    {
     "name": "stdout",
     "output_type": "stream",
     "text": [
      "epoch 10 val loss: 1.7059225912707263\n"
     ]
    },
    {
     "name": "stderr",
     "output_type": "stream",
     "text": [
      "\r",
      "0it [00:00, ?it/s]"
     ]
    },
    {
     "name": "stdout",
     "output_type": "stream",
     "text": [
      "predicted: my child senenclaimssss s abd abd de\n",
      "truth: de villiers hid love letters he wrote in his house s roof\n",
      "\n",
      "predicted: google us us its power that ai ai chip chip chip chip\n",
      "truth: google using ai to improve battery life on android phones\n",
      "\n",
      "predicted: srikanthambis padma shri shri india s highest\n",
      "truth: kidambi srikanth conferred with padma shri award\n",
      "\n",
      "predicted: amazon to test 1 hr for for itemss show show show show\n",
      "truth: amazon to test one hour delivery for fashion show clothes\n",
      "\n",
      "predicted: daughter daughter should should t  good good touch touch touch mp cm\n",
      "truth: daughters should be taught about good bad touch mp cm\n",
      "\n",
      "predicted: pak ak ak as ashameded     s\n",
      "truth: akmal should be ashamed for being sent back to pak waqar\n",
      "\n",
      "predicted: uae deports 36 yr old over over over links links isi isi\n",
      "truth: uae deports indian over suspected links with isis\n",
      "\n",
      "predicted: un evidences rights rights rights rights of al\n",
      "truth: enough evidence to convict syrian prez of war crimes un\n",
      "\n",
      "predicted: barcelona 1s club to in world over over 126s\n",
      "truth: barcelona become world s 1st team to spend 500 million on wages\n",
      "\n",
      "predicted: airbus probe probe probe probe corruption fraudssexexex\n",
      "truth: airbus launches internal corruption investigation\n",
      "\n"
     ]
    },
    {
     "name": "stderr",
     "output_type": "stream",
     "text": [
      "539it [15:51,  1.77s/it]\n",
      "0it [00:00, ?it/s]"
     ]
    },
    {
     "name": "stdout",
     "output_type": "stream",
     "text": [
      "epoch 11 G loss: 1.6203682917197268\n",
      "epoch 11 D loss: 0.1995774938738997\n"
     ]
    },
    {
     "name": "stderr",
     "output_type": "stream",
     "text": [
      "231it [04:43,  1.23s/it]\n"
     ]
    },
    {
     "name": "stdout",
     "output_type": "stream",
     "text": [
      "epoch 11 val loss: 1.7703791155263842\n"
     ]
    },
    {
     "name": "stderr",
     "output_type": "stream",
     "text": [
      "\r",
      "0it [00:00, ?it/s]"
     ]
    },
    {
     "name": "stdout",
     "output_type": "stream",
     "text": [
      "predicted: 23 billionaire billionairess   sts\n",
      "truth: 27 hurun rich list billionaires passed away last year\n",
      "\n",
      "predicted: aus australiaing is good good good good good australialangerlangerlangerlanger\n",
      "truth: sledging is a fun part of the game aus coach justin langer\n",
      "\n",
      "predicted: kerala govtingssssssssss shah\n",
      "truth: kerala treating sabarimala pilgrims like gulag inmates shah\n",
      "\n",
      "predicted: first look poster of sushantshant starrer raabta unveil\n",
      "truth: first look poster of sushant kriti s raabta unveiled\n",
      "\n",
      "predicted: amazon to test 1 hr for for itemsnn fashion show show\n",
      "truth: amazon to test one hour delivery for fashion show clothes\n",
      "\n",
      "predicted: bars to be against soldiersst armys army army army army\n",
      "truth: soldiers to face action for disrespecting militants bodies\n",
      "\n",
      "predicted: 14 year old killss watch watch watch video videoing\n",
      "truth: scolded for using phone mumbai teen hangs self dies in hospital\n",
      "\n",
      "predicted: kock rules out ipl ipl ipl 10 ipl ipl\n",
      "truth: delhi s last year top scorer quinton de kock out of ipl 2017\n",
      "\n",
      "predicted: 18 cpi mss life term life for  tmc tmc\n",
      "truth: 18 cpi m men get life term for killing tmc workers in 2010\n",
      "\n",
      "predicted: farmer farmersinging dumpingsss strike strike strike strike\n",
      "truth: farmers dump vegetables spill milk on roads during protest\n",
      "\n"
     ]
    },
    {
     "name": "stderr",
     "output_type": "stream",
     "text": [
      "539it [15:50,  1.76s/it]\n",
      "0it [00:00, ?it/s]"
     ]
    },
    {
     "name": "stdout",
     "output_type": "stream",
     "text": [
      "epoch 12 G loss: 1.6040080182643717\n",
      "epoch 12 D loss: 0.173853911014661\n"
     ]
    },
    {
     "name": "stderr",
     "output_type": "stream",
     "text": [
      "231it [04:42,  1.22s/it]\n"
     ]
    },
    {
     "name": "stdout",
     "output_type": "stream",
     "text": [
      "epoch 12 val loss: 1.714317682090561\n"
     ]
    },
    {
     "name": "stderr",
     "output_type": "stream",
     "text": [
      "\r",
      "0it [00:00, ?it/s]"
     ]
    },
    {
     "name": "stdout",
     "output_type": "stream",
     "text": [
      "predicted: pitcha teamseded bengaluruu bengaluruu\n",
      "truth: match s pre lunch session extended as food stuck in b luru traffic\n",
      "\n",
      "predicted: 20 killed in j k after eidss in in in\n",
      "truth: 20 yr old killed in clashes after eid prayers in kashmir\n",
      "\n",
      "predicted: india is noting bloody would be under under to coach coach\n",
      "truth: india are smelling blood we will show them great respect langer\n",
      "\n",
      "predicted: keralaingingsssssssssss shah\n",
      "truth: kerala treating sabarimala pilgrims like gulag inmates shah\n",
      "\n",
      "predicted: death kills in dead by ins in in\n",
      "truth: gorkhaland supporter killed in police firing in darjeeling\n",
      "\n",
      "predicted: pitcha teamseded bengaluruu bengaluruu\n",
      "truth: match s pre lunch session extended as food stuck in b luru traffic\n",
      "\n",
      "predicted: un evidences rights rights rightsss of\n",
      "truth: enough evidence to convict syrian prez of war crimes un\n",
      "\n",
      "predicted: delhi metro moves sc to 60 60 60 to to reliance\n",
      "truth: delhi metro moves sc against 60 crore payment to rinfra arm\n",
      "\n",
      "predicted: mel characterss at at at foree gtn\n",
      "truth: game of thrones puts women at the forefront gwendoline\n",
      "\n",
      "predicted: astronomers identify creatededed space year years ago study\n",
      "truth: online volunteers help find star that exploded 97 cr yrs ago\n",
      "\n"
     ]
    },
    {
     "name": "stderr",
     "output_type": "stream",
     "text": [
      "539it [15:51,  1.77s/it]\n",
      "0it [00:00, ?it/s]"
     ]
    },
    {
     "name": "stdout",
     "output_type": "stream",
     "text": [
      "epoch 13 G loss: 1.625386834006138\n",
      "epoch 13 D loss: 0.1671757952849901\n"
     ]
    },
    {
     "name": "stderr",
     "output_type": "stream",
     "text": [
      "231it [04:42,  1.22s/it]\n"
     ]
    },
    {
     "name": "stdout",
     "output_type": "stream",
     "text": [
      "epoch 13 val loss: 1.69902852205382\n"
     ]
    },
    {
     "name": "stderr",
     "output_type": "stream",
     "text": [
      "\r",
      "0it [00:00, ?it/s]"
     ]
    },
    {
     "name": "stdout",
     "output_type": "stream",
     "text": [
      "predicted: i taka for foringing conductor conductor conductor conductor bus driver\n",
      "truth: suffering for no fault driver who let langur control steering\n",
      "\n",
      "predicted: north korea coulded engines for test testss study\n",
      "truth: n korea missiles used russian or ukrainian engines reports\n",
      "\n",
      "predicted: demonetising was parliamentededededed minister law minister\n",
      "truth: manmohan s speech on demonetisation was scripted prasad\n",
      "\n",
      "predicted: 18 cpi msss life lifeed  3 tmc\n",
      "truth: 18 cpi m men get life term for killing tmc workers in 2010\n",
      "\n",
      "predicted: nasa probesssss lakh lakhss ons\n",
      "truth: nasa spacecraft landed on mars with names of over 1l indians\n",
      "\n",
      "predicted: 23 billionaire billionairess  stst s\n",
      "truth: 27 hurun rich list billionaires passed away last year\n",
      "\n",
      "predicted: model models dead dead dead dead dead dead dead\n",
      "truth: 22 year old model shot dead inside her porsche in iraq\n",
      "\n",
      "predicted: barable to be take againstst armysss armys\n",
      "truth: soldiers to face action for disrespecting militants bodies\n",
      "\n",
      "predicted: cannot be run by bysss sports sports minister\n",
      "truth: sports can t be run by bureaucrats sports minister rathore\n",
      "\n",
      "predicted: pm modi to visit china in first week sept summit summits\n",
      "truth: pm modi to attend brics summit in china\n",
      "\n"
     ]
    },
    {
     "name": "stderr",
     "output_type": "stream",
     "text": [
      "539it [15:50,  1.76s/it]\n",
      "0it [00:00, ?it/s]"
     ]
    },
    {
     "name": "stdout",
     "output_type": "stream",
     "text": [
      "epoch 14 G loss: 1.61573601732686\n",
      "epoch 14 D loss: 0.15953078939385806\n"
     ]
    },
    {
     "name": "stderr",
     "output_type": "stream",
     "text": [
      "231it [04:43,  1.23s/it]\n"
     ]
    },
    {
     "name": "stdout",
     "output_type": "stream",
     "text": [
      "epoch 14 val loss: 1.708591141693799\n"
     ]
    },
    {
     "name": "stderr",
     "output_type": "stream",
     "text": [
      "\r",
      "0it [00:00, ?it/s]"
     ]
    },
    {
     "name": "stdout",
     "output_type": "stream",
     "text": [
      "predicted: airbus probe probe probe corruptiononssexexexex\n",
      "truth: airbus launches internal corruption investigation\n",
      "\n",
      "predicted: solar solar is to to earth earth earth\n",
      "truth: minor solar flare expected to hit earth today cause auroras\n",
      "\n",
      "predicted: airbus probe probe probe corruptiononssexexexex\n",
      "truth: airbus launches internal corruption investigation\n",
      "\n",
      "predicted: india is noting blood to will be under to coach coach\n",
      "truth: india are smelling blood we will show them great respect langer\n",
      "\n",
      "predicted: airbus probe probe probe corruptiononssexexexex\n",
      "truth: airbus launches internal corruption investigation\n",
      "\n",
      "predicted: nasas proposess co comicmicmicmicing\n",
      "truth: nasa team proposes using sun as cosmic magnifying glass\n",
      "\n",
      "predicted: got original award for for   my his d d on\n",
      "truth: received best compliment from dilip kumar for black big b\n",
      "\n",
      "predicted: union union minister minister minister swor swor in in bihar governor\n",
      "truth: satya pal malik sworn in as governor of bihar\n",
      "\n",
      "predicted: us gets 4 4 for after eating fossil fossil fossil\n",
      "truth: us man awarded 4 8 crore after beer burns his organs\n",
      "\n",
      "predicted: vajpayee was first to to a speech in in s\n",
      "truth: late pm vajpayee was 1st person to give hindi speech at un\n",
      "\n"
     ]
    },
    {
     "name": "stderr",
     "output_type": "stream",
     "text": [
      "539it [15:56,  1.77s/it]\n",
      "0it [00:00, ?it/s]"
     ]
    },
    {
     "name": "stdout",
     "output_type": "stream",
     "text": [
      "epoch 15 G loss: 1.6597251505801902\n",
      "epoch 15 D loss: 0.1734506294148586\n"
     ]
    },
    {
     "name": "stderr",
     "output_type": "stream",
     "text": [
      "231it [04:43,  1.23s/it]\n"
     ]
    },
    {
     "name": "stdout",
     "output_type": "stream",
     "text": [
      "epoch 15 val loss: 1.7555193832414\n"
     ]
    },
    {
     "name": "stderr",
     "output_type": "stream",
     "text": [
      "\r",
      "0it [00:00, ?it/s]"
     ]
    },
    {
     "name": "stdout",
     "output_type": "stream",
     "text": [
      "predicted: model models dead dead dead dead dead dead dead\n",
      "truth: 22 year old model shot dead inside her porsche in iraq\n",
      "\n",
      "predicted: kejriwal kejriwal kejriwal defamationion case overststst police\n",
      "truth: delhi cm discharged in defamation case over thulla remark\n",
      "\n",
      "predicted: ferrari mercede driver driver car car car car car pr pr car car car\n",
      "truth: f1 driver crashes after race ends rides back on another car\n",
      "\n",
      "predicted: never think about what i have have done hardinging kajol kajol\n",
      "truth: i never think about what i should ve done differently kajol\n",
      "\n",
      "predicted: thiev thievesss transparent inside house housen in\n",
      "truth: us thieves try to steal tv return it as it didn t fit in car\n",
      "\n",
      "predicted: ddkock rules out ipl ipl ipl of ipl 10\n",
      "truth: delhi s last year top scorer quinton de kock out of ipl 2017\n",
      "\n",
      "predicted: google using its power to ai ai ai chips chips\n",
      "truth: google using ai to improve battery life on android phones\n",
      "\n",
      "predicted: societies has pm modi for for welfare chief rss chief\n",
      "truth: modi is a contractor of social welfare rss chief bhagwat\n",
      "\n",
      "predicted: man createssable hot in ins water of the system\n",
      "truth: man turns his car into a drivable hot tub\n",
      "\n",
      "predicted: woman womanss after being litings in in\n",
      "truth: us woman severely injured after mistaking dynamite for candle\n",
      "\n"
     ]
    },
    {
     "name": "stderr",
     "output_type": "stream",
     "text": [
      "539it [15:54,  1.77s/it]\n",
      "0it [00:00, ?it/s]"
     ]
    },
    {
     "name": "stdout",
     "output_type": "stream",
     "text": [
      "epoch 16 G loss: 1.6468785033408773\n",
      "epoch 16 D loss: 0.16049542070888892\n"
     ]
    },
    {
     "name": "stderr",
     "output_type": "stream",
     "text": [
      "231it [04:43,  1.23s/it]\n"
     ]
    },
    {
     "name": "stdout",
     "output_type": "stream",
     "text": [
      "epoch 16 val loss: 1.7169791327627333\n"
     ]
    },
    {
     "name": "stderr",
     "output_type": "stream",
     "text": [
      "\r",
      "0it [00:00, ?it/s]"
     ]
    },
    {
     "name": "stdout",
     "output_type": "stream",
     "text": [
      "predicted: my  was 16enclaimsss s s abd abd de \n",
      "truth: de villiers hid love letters he wrote in his house s roof\n",
      "\n",
      "predicted: 23 billionaire billionaire ss   ss\n",
      "truth: 27 hurun rich list billionaires passed away last year\n",
      "\n",
      "predicted: india smelling blood bloody would be be under to coach coach\n",
      "truth: india are smelling blood we will show them great respect langer\n",
      "\n",
      "predicted: cong congress joins for for for for for poll\n",
      "truth: cong ncp join hands against bjp for maha council by poll\n",
      "\n",
      "predicted: world s smallest computer stretchedsss\n",
      "truth: how does the world s smallest computer work\n",
      "\n",
      "predicted: model model model shot dead dead dead dead dead dead\n",
      "truth: 22 year old model shot dead inside her porsche in iraq\n",
      "\n",
      "predicted: wased to to to birth in school schools rape rape rape\n",
      "truth: was threatened to change asaram rape victim s age principal\n",
      "\n",
      "predicted: sachin attend attend b day s b m m m ambani\n",
      "truth: sachin tendulkar attends krunal pandya s wedding in mumbai\n",
      "\n",
      "predicted: i think about what i have have done ininging film kajol\n",
      "truth: i never think about what i should ve done differently kajol\n",
      "\n",
      "predicted: zos got put at at at for fore g harttdo\n",
      "truth: game of thrones puts women at the forefront gwendoline\n",
      "\n"
     ]
    },
    {
     "name": "stderr",
     "output_type": "stream",
     "text": [
      "539it [15:54,  1.77s/it]\n",
      "0it [00:00, ?it/s]"
     ]
    },
    {
     "name": "stdout",
     "output_type": "stream",
     "text": [
      "epoch 17 G loss: 1.5807764060821268\n",
      "epoch 17 D loss: 0.10581957550414348\n"
     ]
    },
    {
     "name": "stderr",
     "output_type": "stream",
     "text": [
      "231it [04:45,  1.23s/it]\n"
     ]
    },
    {
     "name": "stdout",
     "output_type": "stream",
     "text": [
      "epoch 17 val loss: 1.6620209788061457\n"
     ]
    },
    {
     "name": "stderr",
     "output_type": "stream",
     "text": [
      "\r",
      "0it [00:00, ?it/s]"
     ]
    },
    {
     "name": "stdout",
     "output_type": "stream",
     "text": [
      "predicted: sehwag moreinging sehwag seh sehwag onss winsss\n",
      "truth: aus ke score par laga gst bhaari pad gaya sehwag on india s loss\n",
      "\n",
      "predicted: am b aishwarya bs documents documents with paper paper\n",
      "truth: amitabh aishwarya submit documents in panama papers probe\n",
      "\n",
      "predicted: amazon to test 1 hr for forss show show show show london\n",
      "truth: amazon to test one hour delivery for fashion show clothes\n",
      "\n",
      "predicted: my child wasenenclaimsss s abd abd abd de de\n",
      "truth: de villiers hid love letters he wrote in his house s roof\n",
      "\n",
      "predicted: i taka for for amma conductor conductor conductor conductor driver driver driver\n",
      "truth: suffering for no fault driver who let langur control steering\n",
      "\n",
      "predicted: i taka for for amma conductor conductor conductor conductor driver driver driver\n",
      "truth: suffering for no fault driver who let langur control steering\n",
      "\n",
      "predicted: social media mediasenensss trump trumps trump\n",
      "truth: social media giants are silencing millions of people trump\n",
      "\n",
      "predicted: srikanth sed padma shri padma s highest 53\n",
      "truth: kidambi srikanth conferred with padma shri award\n",
      "\n",
      "predicted: australian australia is is good good good a good coachlangerlanger\n",
      "truth: sledging is a fun part of the game aus coach justin langer\n",
      "\n",
      "predicted: nurse whosedinginginginemesese to to breastfeed\n",
      "truth: italian nurse jailed for calming newborn with morphine\n",
      "\n"
     ]
    },
    {
     "name": "stderr",
     "output_type": "stream",
     "text": [
      "539it [15:52,  1.77s/it]\n",
      "0it [00:00, ?it/s]"
     ]
    },
    {
     "name": "stdout",
     "output_type": "stream",
     "text": [
      "epoch 18 G loss: 1.575540501675401\n",
      "epoch 18 D loss: 0.10235732492842602\n"
     ]
    },
    {
     "name": "stderr",
     "output_type": "stream",
     "text": [
      "231it [04:44,  1.23s/it]\n"
     ]
    },
    {
     "name": "stdout",
     "output_type": "stream",
     "text": [
      "epoch 18 val loss: 1.6899158368124063\n"
     ]
    },
    {
     "name": "stderr",
     "output_type": "stream",
     "text": [
      "\r",
      "0it [00:00, ?it/s]"
     ]
    },
    {
     "name": "stdout",
     "output_type": "stream",
     "text": [
      "predicted: north korea could crack engines for for test test study study\n",
      "truth: n korea missiles used russian or ukrainian engines reports\n",
      "\n",
      "predicted: i think think about i have have have in in film kajol kajol\n",
      "truth: i never think about what i should ve done differently kajol\n",
      "\n",
      "predicted: sachin tend attendss kl and b b m ambani\n",
      "truth: sachin tendulkar attends krunal pandya s wedding in mumbai\n",
      "\n",
      "predicted: srikanth sed padma shri shri india s highest 53\n",
      "truth: kidambi srikanth conferred with padma shri award\n",
      "\n",
      "predicted: society has pm modi pm for wel welfare chief rss chief\n",
      "truth: modi is a contractor of social welfare rss chief bhagwat\n",
      "\n",
      "predicted: aus australia is is good good good good good auslanger\n",
      "truth: sledging is a fun part of the game aus coach justin langer\n",
      "\n",
      "predicted: un evidences evidence rights rights rightsss\n",
      "truth: enough evidence to convict syrian prez of war crimes un\n",
      "\n",
      "predicted: astronomers helped waveseded yearss\n",
      "truth: online volunteers help find star that exploded 97 cr yrs ago\n",
      "\n",
      "predicted: who was 1st first teacher teacher teacher in child child\n",
      "truth: who was savitribai phule india s first female teacher\n",
      "\n",
      "predicted: amazon to test 1 hr for forss show show show show london\n",
      "truth: amazon to test one hour delivery for fashion show clothes\n",
      "\n"
     ]
    },
    {
     "name": "stderr",
     "output_type": "stream",
     "text": [
      "539it [15:46,  1.76s/it]\n",
      "0it [00:00, ?it/s]"
     ]
    },
    {
     "name": "stdout",
     "output_type": "stream",
     "text": [
      "epoch 19 G loss: 1.588713440039432\n",
      "epoch 19 D loss: 0.09357299670386675\n"
     ]
    },
    {
     "name": "stderr",
     "output_type": "stream",
     "text": [
      "231it [04:44,  1.23s/it]\n"
     ]
    },
    {
     "name": "stdout",
     "output_type": "stream",
     "text": [
      "epoch 19 val loss: 1.711888846050477\n"
     ]
    },
    {
     "name": "stderr",
     "output_type": "stream",
     "text": [
      "\r",
      "0it [00:00, ?it/s]"
     ]
    },
    {
     "name": "stdout",
     "output_type": "stream",
     "text": [
      "predicted: un evidences evidence rights rights rightsss\n",
      "truth: enough evidence to convict syrian prez of war crimes un\n",
      "\n",
      "predicted: zoomcar raises 40 mn infrom mahindra startups\n",
      "truth: car rental startup zoomcar raises 40 million in series c\n",
      "\n",
      "predicted: b luru policesss challenge onoutoutout\n",
      "truth: b luru police ask people to wear helmets share 10 secs challenge\n",
      "\n",
      "predicted: cbi witch evidence with hunting kasau s saarushi\n",
      "truth: cbi planted witnesses in aarushi murder case allahabad hc\n",
      "\n",
      "predicted: my senclaimclaimsss s s abd abd abd de villiers\n",
      "truth: de villiers hid love letters he wrote in his house s roof\n",
      "\n",
      "predicted: us maned 4 4 4 afteringing fossil fossil fossil\n",
      "truth: us man awarded 4 8 crore after beer burns his organs\n",
      "\n",
      "predicted: amazon should pay real moneys taxesss donald trump\n",
      "truth: amazon must pay real costs and taxes now donald trump\n",
      "\n",
      "predicted: barable to be against soldiers armysss army armys\n",
      "truth: soldiers to face action for disrespecting militants bodies\n",
      "\n",
      "predicted: youth killed in j kssss in in\n",
      "truth: 20 yr old killed in clashes after eid prayers in kashmir\n",
      "\n",
      "predicted: pitch cricket venuesed to bengaluruuuuu\n",
      "truth: match s pre lunch session extended as food stuck in b luru traffic\n",
      "\n"
     ]
    },
    {
     "name": "stderr",
     "output_type": "stream",
     "text": [
      "539it [15:50,  1.76s/it]\n",
      "0it [00:00, ?it/s]"
     ]
    },
    {
     "name": "stdout",
     "output_type": "stream",
     "text": [
      "epoch 20 G loss: 1.6308116108421389\n",
      "epoch 20 D loss: 0.10319310197916041\n"
     ]
    },
    {
     "name": "stderr",
     "output_type": "stream",
     "text": [
      "231it [04:44,  1.23s/it]\n"
     ]
    },
    {
     "name": "stdout",
     "output_type": "stream",
     "text": [
      "epoch 20 val loss: 1.7565417275681234\n"
     ]
    },
    {
     "name": "stderr",
     "output_type": "stream",
     "text": [
      "\r",
      "0it [00:00, ?it/s]"
     ]
    },
    {
     "name": "stdout",
     "output_type": "stream",
     "text": [
      "predicted: astronomers helped wavesed earthsss\n",
      "truth: online volunteers help find star that exploded 97 cr yrs ago\n",
      "\n",
      "predicted: 4 missile fires from naval base in in\n",
      "truth: 4 missiles fired into pakistan from afghanistan\n",
      "\n",
      "predicted: would would like work with any any actor dutt dutt dutt dutt\n",
      "truth: would like to work with ranbir kapoor again rajkumar hirani\n",
      "\n",
      "predicted: iitians testing floating electricit plant from water water\n",
      "truth: iit roorkee tests device to generate electricity from river flow\n",
      "\n",
      "predicted: airline passengers passengers to flight air flight flight passenger\n",
      "truth: air india refuses to let wheelchair bound passenger on plane\n",
      "\n",
      "predicted: nasa propose proposes planeting comicmicmicmic\n",
      "truth: nasa team proposes using sun as cosmic magnifying glass\n",
      "\n",
      "predicted: kartarpur corridor calls on for for for pm modi modi\n",
      "truth: kartarpur corridor atonement for mistake made in 1947 pm modi\n",
      "\n",
      "predicted: barcelo becomes 1st club to earn over 126sss\n",
      "truth: barcelona become world s 1st team to spend 500 million on wages\n",
      "\n",
      "predicted: who was the first first teacher teacher teacher in in child\n",
      "truth: who was savitribai phule india s first female teacher\n",
      "\n",
      "predicted: australian australia is is good good good good good australialanger\n",
      "truth: sledging is a fun part of the game aus coach justin langer\n",
      "\n"
     ]
    },
    {
     "name": "stderr",
     "output_type": "stream",
     "text": [
      "539it [15:52,  1.77s/it]\n",
      "0it [00:00, ?it/s]"
     ]
    },
    {
     "name": "stdout",
     "output_type": "stream",
     "text": [
      "epoch 21 G loss: 1.6446171113976757\n",
      "epoch 21 D loss: 0.08760514423060776\n"
     ]
    },
    {
     "name": "stderr",
     "output_type": "stream",
     "text": [
      "231it [04:44,  1.23s/it]\n"
     ]
    },
    {
     "name": "stdout",
     "output_type": "stream",
     "text": [
      "epoch 21 val loss: 1.7053393879571883\n"
     ]
    },
    {
     "name": "stderr",
     "output_type": "stream",
     "text": [
      "\r",
      "0it [00:00, ?it/s]"
     ]
    },
    {
     "name": "stdout",
     "output_type": "stream",
     "text": [
      "predicted: gotara award for for   my my dilip on 13 years\n",
      "truth: received best compliment from dilip kumar for black big b\n",
      "\n",
      "predicted: i never should have done ve have ve ve in in in film kajol\n",
      "truth: i never think about what i should ve done differently kajol\n",
      "\n",
      "predicted: google using deepmind ai ai ai ai device\n",
      "truth: google using ai to improve battery life on android phones\n",
      "\n",
      "predicted: 20 killed in j k aftersss in in in\n",
      "truth: 20 yr old killed in clashes after eid prayers in kashmir\n",
      "\n",
      "predicted: i never should have done ve have ve ve in in in film kajol\n",
      "truth: i never think about what i should ve done differently kajol\n",
      "\n",
      "predicted: goa man dies after dies s dies in bike into into into brother\n",
      "truth: man dies after crashing his scooter into zareen khan s car in goa\n",
      "\n",
      "predicted: woman womans with after after lit litering\n",
      "truth: us woman severely injured after mistaking dynamite for candle\n",
      "\n",
      "predicted: nation will become asian pure another imran imran khan akhtarakhtarakhtar\n",
      "truth: pak will become asian tiger under imran khan shoaib akhtar\n",
      "\n",
      "predicted: saed toanananssss on s s rashid\n",
      "truth: csk pacer lungi reveals he used to sell peanuts on roadside\n",
      "\n",
      "predicted: airline passengersed to flight flight flight flight flight flight\n",
      "truth: air india refuses to let wheelchair bound passenger on plane\n",
      "\n"
     ]
    },
    {
     "name": "stderr",
     "output_type": "stream",
     "text": [
      "539it [15:49,  1.76s/it]\n",
      "0it [00:00, ?it/s]"
     ]
    },
    {
     "name": "stdout",
     "output_type": "stream",
     "text": [
      "epoch 22 G loss: 1.594165507758536\n",
      "epoch 22 D loss: 0.06019230956572966\n"
     ]
    },
    {
     "name": "stderr",
     "output_type": "stream",
     "text": [
      "231it [04:43,  1.23s/it]\n"
     ]
    },
    {
     "name": "stdout",
     "output_type": "stream",
     "text": [
      "epoch 22 val loss: 1.6692236268517529\n"
     ]
    },
    {
     "name": "stderr",
     "output_type": "stream",
     "text": [
      "\r",
      "0it [00:00, ?it/s]"
     ]
    },
    {
     "name": "stdout",
     "output_type": "stream",
     "text": [
      "predicted: sehwag slams more sehinginging seh pad pad pad\n",
      "truth: aus ke score par laga gst bhaari pad gaya sehwag on india s loss\n",
      "\n",
      "predicted: congress congressss for for for for for poll\n",
      "truth: cong ncp join hands against bjp for maha council by poll\n",
      "\n",
      "predicted: amazon should pay real moneysssss donald trump\n",
      "truth: amazon must pay real costs and taxes now donald trump\n",
      "\n",
      "predicted: australian australia is is good good good good good australialanger\n",
      "truth: sledging is a fun part of the game aus coach justin langer\n",
      "\n",
      "predicted: delhi metro moves orders to 60 60 to to relian\n",
      "truth: delhi metro moves sc against 60 crore payment to rinfra arm\n",
      "\n",
      "predicted: govt issues notice notice rahul rahul rahul foringingings\n",
      "truth: rahul given notice over nude dalit kids being beaten up video\n",
      "\n",
      "predicted: daughters should t t good good good touch touch mp mp chouhan\n",
      "truth: daughters should be taught about good bad touch mp cm\n",
      "\n",
      "predicted: thousands can walk walk walk a on attack attack attack attack\n",
      "truth: event guests sing you ll never walk alone over terror threat\n",
      "\n",
      "predicted: saed toanananssss on s s rashid s\n",
      "truth: csk pacer lungi reveals he used to sell peanuts on roadside\n",
      "\n",
      "predicted: daughters should t t good good good touch touch mp mp chouhan\n",
      "truth: daughters should be taught about good bad touch mp cm\n",
      "\n"
     ]
    },
    {
     "name": "stderr",
     "output_type": "stream",
     "text": [
      "539it [15:51,  1.76s/it]\n",
      "0it [00:00, ?it/s]"
     ]
    },
    {
     "name": "stdout",
     "output_type": "stream",
     "text": [
      "epoch 23 G loss: 1.596021906728667\n",
      "epoch 23 D loss: 0.05790741342908414\n"
     ]
    },
    {
     "name": "stderr",
     "output_type": "stream",
     "text": [
      "231it [04:44,  1.23s/it]\n"
     ]
    },
    {
     "name": "stdout",
     "output_type": "stream",
     "text": [
      "epoch 23 val loss: 1.681828925209088\n"
     ]
    },
    {
     "name": "stderr",
     "output_type": "stream",
     "text": [
      "\r",
      "0it [00:00, ?it/s]"
     ]
    },
    {
     "name": "stdout",
     "output_type": "stream",
     "text": [
      "predicted: we will become strong pure another imran imran khan akhtarakhtar\n",
      "truth: pak will become asian tiger under imran khan shoaib akhtar\n",
      "\n",
      "predicted: 23 billionaire billionairess   st \n",
      "truth: 27 hurun rich list billionaires passed away last year\n",
      "\n",
      "predicted: cbi witch huntingingsss sarushia\n",
      "truth: cbi planted witnesses in aarushi murder case allahabad hc\n",
      "\n",
      "predicted: kartarpur corridor call called a for for mistake pm modi\n",
      "truth: kartarpur corridor atonement for mistake made in 1947 pm modi\n",
      "\n",
      "predicted: airline passengers flyers flight flight to flight flight flight flyer\n",
      "truth: air india refuses to let wheelchair bound passenger on plane\n",
      "\n",
      "predicted: farmer farmersinging dumpings fruitss strike strike strike\n",
      "truth: farmers dump vegetables spill milk on roads during protest\n",
      "\n",
      "predicted: gotara award for for   my actor d on on years\n",
      "truth: received best compliment from dilip kumar for black big b\n",
      "\n",
      "predicted: isi akmal to be as ased     pakni\n",
      "truth: akmal should be ashamed for being sent back to pak waqar\n",
      "\n",
      "predicted: telangana doctorsssmityityrshya toss\n",
      "truth: docs chant mantra for hours to bring down deaths in hospital\n",
      "\n",
      "predicted: pm pm pm pm pm sssnananana\n",
      "truth: georgia pm kvirikashvili resigns amid rift with ruling party\n",
      "\n"
     ]
    },
    {
     "name": "stderr",
     "output_type": "stream",
     "text": [
      "539it [15:51,  1.77s/it]\n",
      "0it [00:00, ?it/s]"
     ]
    },
    {
     "name": "stdout",
     "output_type": "stream",
     "text": [
      "epoch 24 G loss: 1.5931228035418414\n",
      "epoch 24 D loss: 0.053881739656268926\n"
     ]
    },
    {
     "name": "stderr",
     "output_type": "stream",
     "text": [
      "231it [04:43,  1.23s/it]\n"
     ]
    },
    {
     "name": "stdout",
     "output_type": "stream",
     "text": [
      "epoch 24 val loss: 1.7004265510140668\n"
     ]
    },
    {
     "name": "stderr",
     "output_type": "stream",
     "text": [
      "\r",
      "0it [00:00, ?it/s]"
     ]
    },
    {
     "name": "stdout",
     "output_type": "stream",
     "text": [
      "predicted: kartarpur corridor call calleded for for mistake pm modi\n",
      "truth: kartarpur corridor atonement for mistake made in 1947 pm modi\n",
      "\n",
      "predicted: farmer farmersinging dumpings fruitss strike strike strike\n",
      "truth: farmers dump vegetables spill milk on roads during protest\n",
      "\n",
      "predicted: north korea could crack engines for for test tests study\n",
      "truth: n korea missiles used russian or ukrainian engines reports\n",
      "\n",
      "predicted: amazon to test 1 hr for for items show in show show show\n",
      "truth: amazon to test one hour delivery for fashion show clothes\n",
      "\n",
      "predicted: d de des rule out of ipl ipl 10 ipl match\n",
      "truth: delhi s last year top scorer quinton de kock out of ipl 2017\n",
      "\n",
      "predicted: uae deports yr yr old  over over links links links\n",
      "truth: uae deports indian over suspected links with isis\n",
      "\n",
      "predicted: 18 cpi msss life lifeed  tmc tmc\n",
      "truth: 18 cpi m men get life term for killing tmc workers in 2010\n",
      "\n",
      "predicted: barcelo becomes 1st club to earn over ins in\n",
      "truth: barcelona become world s 1st team to spend 500 million on wages\n",
      "\n",
      "predicted: frenchasss dies duringing concert\n",
      "truth: french singer barbara weldens dies on stage during concert\n",
      "\n",
      "predicted: vajpayee first first to deliver speech in in  in the\n",
      "truth: late pm vajpayee was 1st person to give hindi speech at un\n",
      "\n"
     ]
    },
    {
     "name": "stderr",
     "output_type": "stream",
     "text": [
      "539it [15:52,  1.77s/it]\n",
      "0it [00:00, ?it/s]"
     ]
    },
    {
     "name": "stdout",
     "output_type": "stream",
     "text": [
      "epoch 25 G loss: 1.604218140877913\n",
      "epoch 25 D loss: 0.047734775696205066\n"
     ]
    },
    {
     "name": "stderr",
     "output_type": "stream",
     "text": [
      "231it [04:43,  1.23s/it]\n"
     ]
    },
    {
     "name": "stdout",
     "output_type": "stream",
     "text": [
      "epoch 25 val loss: 1.7299870018358012\n"
     ]
    },
    {
     "name": "stderr",
     "output_type": "stream",
     "text": [
      "\r",
      "0it [00:00, ?it/s]"
     ]
    },
    {
     "name": "stdout",
     "output_type": "stream",
     "text": [
      "predicted: kerala panchayats makes freess for for marriages\n",
      "truth: village issues marriage certificate only after green wedding\n",
      "\n",
      "predicted: thievesess screen under inside house housenn in\n",
      "truth: us thieves try to steal tv return it as it didn t fit in car\n",
      "\n",
      "predicted: frenchasss dies duringing concert\n",
      "truth: french singer barbara weldens dies on stage during concert\n",
      "\n",
      "predicted: climb climbs 30 ft ft ft jump jump back back ex ex e\n",
      "truth: man climbs 30 feet ghaziabad hoarding to win back ex fianc e\n",
      "\n",
      "predicted: demonetismohan speechedededededed minister minister\n",
      "truth: manmohan s speech on demonetisation was scripted prasad\n",
      "\n",
      "predicted: barcelo becomes 1st club to earn over inss\n",
      "truth: barcelona become world s 1st team to spend 500 million on wages\n",
      "\n",
      "predicted: would would like work with any any actor dutt dutt dutt\n",
      "truth: would like to work with ranbir kapoor again rajkumar hirani\n",
      "\n",
      "predicted: sehwag moreinginging sehing pad pad pad seh seh\n",
      "truth: aus ke score par laga gst bhaari pad gaya sehwag on india s loss\n",
      "\n",
      "predicted: sc issues notice notice rahul rahul foringing dalitss\n",
      "truth: rahul given notice over nude dalit kids being beaten up video\n",
      "\n",
      "predicted: union union minister minister swor sworn in governor bihar governor\n",
      "truth: satya pal malik sworn in as governor of bihar\n",
      "\n"
     ]
    },
    {
     "name": "stderr",
     "output_type": "stream",
     "text": [
      "539it [15:49,  1.76s/it]\n",
      "0it [00:00, ?it/s]"
     ]
    },
    {
     "name": "stdout",
     "output_type": "stream",
     "text": [
      "epoch 26 G loss: 1.6154099373590378\n",
      "epoch 26 D loss: 0.04566998091568515\n"
     ]
    },
    {
     "name": "stderr",
     "output_type": "stream",
     "text": [
      "231it [04:44,  1.23s/it]\n"
     ]
    },
    {
     "name": "stdout",
     "output_type": "stream",
     "text": [
      "epoch 26 val loss: 1.719825552503315\n"
     ]
    },
    {
     "name": "stderr",
     "output_type": "stream",
     "text": [
      "\r",
      "0it [00:00, ?it/s]"
     ]
    },
    {
     "name": "stdout",
     "output_type": "stream",
     "text": [
      "predicted: why picturess walk walk walk on attack attack attack attack\n",
      "truth: event guests sing you ll never walk alone over terror threat\n",
      "\n",
      "predicted: nurse whosed foringingingmememese\n",
      "truth: italian nurse jailed for calming newborn with morphine\n",
      "\n",
      "predicted: amazon should pay real realss taxess donald trump\n",
      "truth: amazon must pay real costs and taxes now donald trump\n",
      "\n",
      "predicted: zoomcar raises 40 million from mahindra mahind startup other\n",
      "truth: car rental startup zoomcar raises 40 million in series c\n",
      "\n",
      "predicted: cbi witch huntingingsss saarushi\n",
      "truth: cbi planted witnesses in aarushi murder case allahabad hc\n",
      "\n",
      "predicted: uae deports yr yr old  over over links links links\n",
      "truth: uae deports indian over suspected links with isis\n",
      "\n",
      "predicted: astronomers helped wave wavess earth years\n",
      "truth: online volunteers help find star that exploded 97 cr yrs ago\n",
      "\n",
      "predicted: 14 year old killssing watch watch video videoing video\n",
      "truth: scolded for using phone mumbai teen hangs self dies in hospital\n",
      "\n",
      "predicted: vajpayee first first to deliver speech in in in  the\n",
      "truth: late pm vajpayee was 1st person to give hindi speech at un\n",
      "\n",
      "predicted: we will become strong pure with imran imran khan akhtarakhtar\n",
      "truth: pak will become asian tiger under imran khan shoaib akhtar\n",
      "\n"
     ]
    },
    {
     "name": "stderr",
     "output_type": "stream",
     "text": [
      "539it [15:49,  1.76s/it]\n",
      "0it [00:00, ?it/s]"
     ]
    },
    {
     "name": "stdout",
     "output_type": "stream",
     "text": [
      "epoch 27 G loss: 1.62682568187913\n",
      "epoch 27 D loss: 0.041693902026070116\n"
     ]
    },
    {
     "name": "stderr",
     "output_type": "stream",
     "text": [
      "231it [04:43,  1.23s/it]\n"
     ]
    },
    {
     "name": "stdout",
     "output_type": "stream",
     "text": [
      "epoch 27 val loss: 1.7481345343180317\n"
     ]
    },
    {
     "name": "stderr",
     "output_type": "stream",
     "text": [
      "\r",
      "0it [00:00, ?it/s]"
     ]
    },
    {
     "name": "stdout",
     "output_type": "stream",
     "text": [
      "predicted: armyable to be againstst army army armyss armys\n",
      "truth: soldiers to face action for disrespecting militants bodies\n",
      "\n",
      "predicted: solar solar is to to earth earth earth\n",
      "truth: minor solar flare expected to hit earth today cause auroras\n",
      "\n",
      "predicted: armyable to be againstst army army armyss armys\n",
      "truth: soldiers to face action for disrespecting militants bodies\n",
      "\n",
      "predicted: would would work with any any with dutt dutt dutt dutt rajkumar\n",
      "truth: would like to work with ranbir kapoor again rajkumar hirani\n",
      "\n",
      "predicted: sehwag moreinginging sehing pad pad pad seh seh\n",
      "truth: aus ke score par laga gst bhaari pad gaya sehwag on india s loss\n",
      "\n",
      "predicted: us man awarded 4 4 afteringing fossil fossil fossil fossil\n",
      "truth: us man awarded 4 8 crore after beer burns his organs\n",
      "\n",
      "predicted: un evidence of rights rights rightsss of\n",
      "truth: enough evidence to convict syrian prez of war crimes un\n",
      "\n",
      "predicted: google using using ai ai ai ai ai android\n",
      "truth: google using ai to improve battery life on android phones\n",
      "\n",
      "predicted: never think about what i should have done in in in kajol\n",
      "truth: i never think about what i should ve done differently kajol\n",
      "\n",
      "predicted: delhi metro moves move to 60 60 to to relian metro\n",
      "truth: delhi metro moves sc against 60 crore payment to rinfra arm\n",
      "\n"
     ]
    },
    {
     "name": "stderr",
     "output_type": "stream",
     "text": [
      "539it [15:50,  1.76s/it]\n",
      "0it [00:00, ?it/s]"
     ]
    },
    {
     "name": "stdout",
     "output_type": "stream",
     "text": [
      "epoch 28 G loss: 1.6350206742580207\n",
      "epoch 28 D loss: 0.03653994369278386\n"
     ]
    },
    {
     "name": "stderr",
     "output_type": "stream",
     "text": [
      "231it [04:43,  1.23s/it]\n"
     ]
    },
    {
     "name": "stdout",
     "output_type": "stream",
     "text": [
      "epoch 28 val loss: 1.7458709060796485\n"
     ]
    },
    {
     "name": "stderr",
     "output_type": "stream",
     "text": [
      "\r",
      "0it [00:00, ?it/s]"
     ]
    },
    {
     "name": "stdout",
     "output_type": "stream",
     "text": [
      "predicted: facebook askss us to share info info info infos\n",
      "truth: facebook asks us banks for users financial data report\n",
      "\n",
      "predicted: 20 killed in j k after eidss in in in\n",
      "truth: 20 yr old killed in clashes after eid prayers in kashmir\n",
      "\n",
      "predicted: 20 killed in j k after eidss in in in\n",
      "truth: 20 yr old killed in clashes after eid prayers in kashmir\n",
      "\n",
      "predicted: facebook askss us to share info info info infos\n",
      "truth: facebook asks us banks for users financial data report\n",
      "\n",
      "predicted: sc issues notice notice rahul rahul rahul foringing dalits\n",
      "truth: rahul given notice over nude dalit kids being beaten up video\n",
      "\n",
      "predicted: indonesian model kills dead dead dead dead dead\n",
      "truth: 22 year old model shot dead inside her porsche in iraq\n",
      "\n",
      "predicted: d de des rule out of ipl ipl 10 ipl match\n",
      "truth: delhi s last year top scorer quinton de kock out of ipl 2017\n",
      "\n",
      "predicted: woman leaves off after after litingings in\n",
      "truth: us woman severely injured after mistaking dynamite for candle\n",
      "\n",
      "predicted: facebook askss us to share info info info infos\n",
      "truth: facebook asks us banks for users financial data report\n",
      "\n",
      "predicted: people picturess walk walk walk on attack attack attack attack\n",
      "truth: event guests sing you ll never walk alone over terror threat\n",
      "\n"
     ]
    },
    {
     "name": "stderr",
     "output_type": "stream",
     "text": [
      "539it [15:48,  1.76s/it]\n",
      "0it [00:00, ?it/s]"
     ]
    },
    {
     "name": "stdout",
     "output_type": "stream",
     "text": [
      "epoch 29 G loss: 1.640132578629373\n",
      "epoch 29 D loss: 0.03722306060259697\n"
     ]
    },
    {
     "name": "stderr",
     "output_type": "stream",
     "text": [
      "231it [04:43,  1.23s/it]\n"
     ]
    },
    {
     "name": "stdout",
     "output_type": "stream",
     "text": [
      "epoch 29 val loss: 1.7625346332985325\n"
     ]
    },
    {
     "name": "stderr",
     "output_type": "stream",
     "text": [
      "\r",
      "0it [00:00, ?it/s]"
     ]
    },
    {
     "name": "stdout",
     "output_type": "stream",
     "text": [
      "predicted: india smell smelling bloody would be be under to coach coach\n",
      "truth: india are smelling blood we will show them great respect langer\n",
      "\n",
      "predicted: india smell smelling bloody would be be under to coach coach\n",
      "truth: india are smelling blood we will show them great respect langer\n",
      "\n",
      "predicted: nasas proposess co comicmicmicmicing glass\n",
      "truth: nasa team proposes using sun as cosmic magnifying glass\n",
      "\n",
      "predicted: woman leaves off after afteringingss in\n",
      "truth: us woman severely injured after mistaking dynamite for candle\n",
      "\n",
      "predicted: north korea could crack engines for for test tests study\n",
      "truth: n korea missiles used russian or ukrainian engines reports\n",
      "\n",
      "predicted: cong congressss to for for for for poll\n",
      "truth: cong ncp join hands against bjp for maha council by poll\n",
      "\n",
      "predicted: doctorsss inmrityityrssss gana\n",
      "truth: docs chant mantra for hours to bring down deaths in hospital\n",
      "\n",
      "predicted: nasas proposess co comicmicmicmicing glass\n",
      "truth: nasa team proposes using sun as cosmic magnifying glass\n",
      "\n",
      "predicted: solar solar is to to earth earth earth\n",
      "truth: minor solar flare expected to hit earth today cause auroras\n",
      "\n",
      "predicted: srk s of of srk sed kill kill killed crash crash\n",
      "truth: fake news of srk s death emerges on european news channel\n",
      "\n"
     ]
    },
    {
     "name": "stderr",
     "output_type": "stream",
     "text": [
      "539it [15:48,  1.76s/it]\n",
      "0it [00:00, ?it/s]"
     ]
    },
    {
     "name": "stdout",
     "output_type": "stream",
     "text": [
      "epoch 30 G loss: 1.6451295560799133\n",
      "epoch 30 D loss: 0.03225738590433934\n"
     ]
    },
    {
     "name": "stderr",
     "output_type": "stream",
     "text": [
      "231it [04:44,  1.23s/it]\n"
     ]
    },
    {
     "name": "stdout",
     "output_type": "stream",
     "text": [
      "epoch 30 val loss: 1.7573044860570162\n"
     ]
    },
    {
     "name": "stderr",
     "output_type": "stream",
     "text": [
      "\r",
      "0it [00:00, ?it/s]"
     ]
    },
    {
     "name": "stdout",
     "output_type": "stream",
     "text": [
      "predicted: zoomcar raises 40 million infrom mahindra mahind startup other\n",
      "truth: car rental startup zoomcar raises 40 million in series c\n",
      "\n",
      "predicted: mccullum scores test test s faste fastest in in last last last match\n",
      "truth: brendon mccullum hit test cricket s fastest ton in his last match\n",
      "\n",
      "predicted: clash inss women at at fore gtntdo\n",
      "truth: game of thrones puts women at the forefront gwendoline\n",
      "\n",
      "predicted: kartarpur corridor call calleded for for modi pm modi\n",
      "truth: kartarpur corridor atonement for mistake made in 1947 pm modi\n",
      "\n",
      "predicted: astronomers helped wave wavess yearss\n",
      "truth: online volunteers help find star that exploded 97 cr yrs ago\n",
      "\n",
      "predicted: indonesian model kills dead dead dead dead dead\n",
      "truth: 22 year old model shot dead inside her porsche in iraq\n",
      "\n",
      "predicted: demonetismohan speechedededededed minister minister\n",
      "truth: manmohan s speech on demonetisation was scripted prasad\n",
      "\n",
      "predicted: 4 missiles fire from naval base in in pakistan\n",
      "truth: 4 missiles fired into pakistan from afghanistan\n",
      "\n",
      "predicted: sachin attend attend b day celebration b b ambani ambani\n",
      "truth: sachin tendulkar attends krunal pandya s wedding in mumbai\n",
      "\n",
      "predicted: woman leaves off after afteringingss in\n",
      "truth: us woman severely injured after mistaking dynamite for candle\n",
      "\n"
     ]
    },
    {
     "name": "stderr",
     "output_type": "stream",
     "text": [
      "539it [15:49,  1.76s/it]\n",
      "0it [00:00, ?it/s]"
     ]
    },
    {
     "name": "stdout",
     "output_type": "stream",
     "text": [
      "epoch 31 G loss: 1.6561212500905602\n",
      "epoch 31 D loss: 0.032073101854767395\n"
     ]
    },
    {
     "name": "stderr",
     "output_type": "stream",
     "text": [
      "231it [04:43,  1.23s/it]\n"
     ]
    },
    {
     "name": "stdout",
     "output_type": "stream",
     "text": [
      "epoch 31 val loss: 1.7678576728676656\n"
     ]
    },
    {
     "name": "stderr",
     "output_type": "stream",
     "text": [
      "\r",
      "0it [00:00, ?it/s]"
     ]
    },
    {
     "name": "stdout",
     "output_type": "stream",
     "text": [
      "predicted: pitch cricket venueeded to bengaluruuuuu\n",
      "truth: match s pre lunch session extended as food stuck in b luru traffic\n",
      "\n",
      "predicted: big b aishwarya bs document documents with  panama paper\n",
      "truth: amitabh aishwarya submit documents in panama papers probe\n",
      "\n",
      "predicted: sachin attend attend b day celebration b b ambani ambani\n",
      "truth: sachin tendulkar attends krunal pandya s wedding in mumbai\n",
      "\n",
      "predicted: google using using ai ai ai ai to chipsroid\n",
      "truth: google using ai to improve battery life on android phones\n",
      "\n",
      "predicted: solar solar is to to earth earth earth\n",
      "truth: minor solar flare expected to hit earth today cause auroras\n",
      "\n",
      "predicted: airline passengers flyers flight flight to flight flight flight\n",
      "truth: air india refuses to let wheelchair bound passenger on plane\n",
      "\n",
      "predicted: un evidence of rights rights rightss of attack\n",
      "truth: enough evidence to convict syrian prez of war crimes un\n",
      "\n",
      "predicted: frenchasss dies duringing concert\n",
      "truth: french singer barbara weldens dies on stage during concert\n",
      "\n",
      "predicted: climb climbs 30 ft ft in jump jump back back ex ex e e\n",
      "truth: man climbs 30 feet ghaziabad hoarding to win back ex fianc e\n",
      "\n",
      "predicted: nation will become asian pure with imran imran khan akhtarakhtar\n",
      "truth: pak will become asian tiger under imran khan shoaib akhtar\n",
      "\n"
     ]
    },
    {
     "name": "stderr",
     "output_type": "stream",
     "text": [
      "539it [15:50,  1.76s/it]\n",
      "0it [00:00, ?it/s]"
     ]
    },
    {
     "name": "stdout",
     "output_type": "stream",
     "text": [
      "epoch 32 G loss: 1.6684077522065166\n",
      "epoch 32 D loss: 0.029277795650125518\n"
     ]
    },
    {
     "name": "stderr",
     "output_type": "stream",
     "text": [
      "231it [04:43,  1.23s/it]\n"
     ]
    },
    {
     "name": "stdout",
     "output_type": "stream",
     "text": [
      "epoch 32 val loss: 1.7663757436050398\n"
     ]
    },
    {
     "name": "stderr",
     "output_type": "stream",
     "text": [
      "\r",
      "0it [00:00, ?it/s]"
     ]
    },
    {
     "name": "stdout",
     "output_type": "stream",
     "text": [
      "predicted: airbus probe probe probe corruption chargesssexexex\n",
      "truth: airbus launches internal corruption investigation\n",
      "\n",
      "predicted: zoomcar raises 40 million infrom mahindra mahind startup other\n",
      "truth: car rental startup zoomcar raises 40 million in series c\n",
      "\n",
      "predicted: demonetismohan speechedededededed minister minister\n",
      "truth: manmohan s speech on demonetisation was scripted prasad\n",
      "\n",
      "predicted: sonam ss  sister forst at cannes cannes cannes fest\n",
      "truth: sonam wears custom made jewellery by sister rhea at cannes\n",
      "\n",
      "predicted: thievesess screen under inside house housenn in\n",
      "truth: us thieves try to steal tv return it as it didn t fit in car\n",
      "\n",
      "predicted: daughters should t t good good good touch touch touch mp chouhan\n",
      "truth: daughters should be taught about good bad touch mp cm\n",
      "\n",
      "predicted: cannot run run by byss sports sports sports min\n",
      "truth: sports can t be run by bureaucrats sports minister rathore\n",
      "\n",
      "predicted: vajpayee first first to deliver speech in in  in the\n",
      "truth: late pm vajpayee was 1st person to give hindi speech at un\n",
      "\n",
      "predicted: nurse whosed foringingingmememese\n",
      "truth: italian nurse jailed for calming newborn with morphine\n",
      "\n",
      "predicted: 2015 mens marri marri marri atpointpoint in bihar bihar 201\n",
      "truth: 3 075 grooms got married in bihar at gunpoint in 2016\n",
      "\n"
     ]
    },
    {
     "name": "stderr",
     "output_type": "stream",
     "text": [
      "539it [15:46,  1.76s/it]\n",
      "0it [00:00, ?it/s]"
     ]
    },
    {
     "name": "stdout",
     "output_type": "stream",
     "text": [
      "epoch 33 G loss: 1.67285591849882\n",
      "epoch 33 D loss: 0.0304708551827485\n"
     ]
    },
    {
     "name": "stderr",
     "output_type": "stream",
     "text": [
      "231it [04:43,  1.23s/it]\n"
     ]
    },
    {
     "name": "stdout",
     "output_type": "stream",
     "text": [
      "epoch 33 val loss: 1.7945645170997448\n"
     ]
    },
    {
     "name": "stderr",
     "output_type": "stream",
     "text": [
      "\r",
      "0it [00:00, ?it/s]"
     ]
    },
    {
     "name": "stdout",
     "output_type": "stream",
     "text": [
      "predicted: nurse whosed foringingingmememese\n",
      "truth: italian nurse jailed for calming newborn with morphine\n",
      "\n",
      "predicted: clash inss women at at fore gtntdo\n",
      "truth: game of thrones puts women at the forefront gwendoline\n",
      "\n",
      "predicted: nation will become asian pure with imran imran khan akhtarakhtar\n",
      "truth: pak will become asian tiger under imran khan shoaib akhtar\n",
      "\n",
      "predicted: saed toanananssss on s rashid s rashid\n",
      "truth: csk pacer lungi reveals he used to sell peanuts on roadside\n",
      "\n",
      "predicted: cbi witch huntingingss s onaarushi\n",
      "truth: cbi planted witnesses in aarushi murder case allahabad hc\n",
      "\n",
      "predicted: barable to be againstst army armys army armys army\n",
      "truth: soldiers to face action for disrespecting militants bodies\n",
      "\n",
      "predicted: would would work with any any any dutt dutt dutt dutt\n",
      "truth: would like to work with ranbir kapoor again rajkumar hirani\n",
      "\n",
      "predicted: nation will become asian pure with imran imran khan akhtarakhtar\n",
      "truth: pak will become asian tiger under imran khan shoaib akhtar\n",
      "\n",
      "predicted: us man awarded 4 4 afteringing fossil fossil fossil fossil\n",
      "truth: us man awarded 4 8 crore after beer burns his organs\n",
      "\n",
      "predicted: solar solar is to to earth earth earth\n",
      "truth: minor solar flare expected to hit earth today cause auroras\n",
      "\n"
     ]
    },
    {
     "name": "stderr",
     "output_type": "stream",
     "text": [
      "539it [15:48,  1.76s/it]\n",
      "0it [00:00, ?it/s]"
     ]
    },
    {
     "name": "stdout",
     "output_type": "stream",
     "text": [
      "epoch 34 G loss: 1.6776479480435484\n",
      "epoch 34 D loss: 0.026406087174267442\n"
     ]
    },
    {
     "name": "stderr",
     "output_type": "stream",
     "text": [
      "231it [04:43,  1.23s/it]\n"
     ]
    },
    {
     "name": "stdout",
     "output_type": "stream",
     "text": [
      "epoch 34 val loss: 1.7895623978502095\n"
     ]
    },
    {
     "name": "stderr",
     "output_type": "stream",
     "text": [
      "\r",
      "0it [00:00, ?it/s]"
     ]
    },
    {
     "name": "stdout",
     "output_type": "stream",
     "text": [
      "predicted: woman leaves off after afteringingss in\n",
      "truth: us woman severely injured after mistaking dynamite for candle\n",
      "\n",
      "predicted: astronomers helped wave wavess yearss\n",
      "truth: online volunteers help find star that exploded 97 cr yrs ago\n",
      "\n",
      "predicted: indonesian model kills dead dead dead dead dead\n",
      "truth: 22 year old model shot dead inside her porsche in iraq\n",
      "\n",
      "predicted: b luru policesss challenge onoutoutout\n",
      "truth: b luru police ask people to wear helmets share 10 secs challenge\n",
      "\n",
      "predicted: cbi witch huntingingss s onaarushi\n",
      "truth: cbi planted witnesses in aarushi murder case allahabad hc\n",
      "\n",
      "predicted: union union minister minister swor sworn in governor bihar governor\n",
      "truth: satya pal malik sworn in as governor of bihar\n",
      "\n",
      "predicted: us man awarded 4 4 afteringing fossil fossil fossil fossil\n",
      "truth: us man awarded 4 8 crore after beer burns his organs\n",
      "\n",
      "predicted: kejriwal cm kejriwal defamat defamation case overstibib\n",
      "truth: delhi cm discharged in defamation case over thulla remark\n",
      "\n",
      "predicted: zoomcar raises 40 million infrom mahindra mahind startup other\n",
      "truth: car rental startup zoomcar raises 40 million in series c\n",
      "\n",
      "predicted: cbi witch huntingingss s onaarushi\n",
      "truth: cbi planted witnesses in aarushi murder case allahabad hc\n",
      "\n"
     ]
    },
    {
     "name": "stderr",
     "output_type": "stream",
     "text": [
      "539it [15:46,  1.76s/it]\n",
      "0it [00:00, ?it/s]"
     ]
    },
    {
     "name": "stdout",
     "output_type": "stream",
     "text": [
      "epoch 35 G loss: 1.6780336466954284\n",
      "epoch 35 D loss: 0.028668186179298418\n"
     ]
    },
    {
     "name": "stderr",
     "output_type": "stream",
     "text": [
      "231it [04:43,  1.23s/it]\n"
     ]
    },
    {
     "name": "stdout",
     "output_type": "stream",
     "text": [
      "epoch 35 val loss: 1.8112364628140445\n"
     ]
    },
    {
     "name": "stderr",
     "output_type": "stream",
     "text": [
      "\r",
      "0it [00:00, ?it/s]"
     ]
    },
    {
     "name": "stdout",
     "output_type": "stream",
     "text": [
      "predicted: google using using ai ai ai ai to chipsroid\n",
      "truth: google using ai to improve battery life on android phones\n",
      "\n",
      "predicted: my child senenclaimssss s abd abd\n",
      "truth: de villiers hid love letters he wrote in his house s roof\n",
      "\n",
      "predicted: un evidence of rights rights rightss of attack\n",
      "truth: enough evidence to convict syrian prez of war crimes un\n",
      "\n",
      "predicted: amazon should pay real realss taxess donald trump\n",
      "truth: amazon must pay real costs and taxes now donald trump\n",
      "\n",
      "predicted: solar solar is to to earth earth earth\n",
      "truth: minor solar flare expected to hit earth today cause auroras\n",
      "\n",
      "predicted: first look poster of sushantshant ser raabta unveiled\n",
      "truth: first look poster of sushant kriti s raabta unveiled\n",
      "\n",
      "predicted: world s smallest computer computersss\n",
      "truth: how does the world s smallest computer work\n",
      "\n",
      "predicted: barcelona 1st 1 club to earn over over ins\n",
      "truth: barcelona become world s 1st team to spend 500 million on wages\n",
      "\n",
      "predicted: sehwag moreinginging sehing pad pad pad seh seh\n",
      "truth: aus ke score par laga gst bhaari pad gaya sehwag on india s loss\n",
      "\n",
      "predicted: maharashtra s 1st teacher teacher teacher teachers in child child\n",
      "truth: who was savitribai phule india s first female teacher\n",
      "\n"
     ]
    },
    {
     "name": "stderr",
     "output_type": "stream",
     "text": [
      "539it [15:49,  1.76s/it]\n",
      "0it [00:00, ?it/s]"
     ]
    },
    {
     "name": "stdout",
     "output_type": "stream",
     "text": [
      "epoch 36 G loss: 1.6896835269828292\n",
      "epoch 36 D loss: 0.026986521146715587\n"
     ]
    },
    {
     "name": "stderr",
     "output_type": "stream",
     "text": [
      "231it [04:43,  1.23s/it]\n"
     ]
    },
    {
     "name": "stdout",
     "output_type": "stream",
     "text": [
      "epoch 36 val loss: 1.810421396374343\n"
     ]
    },
    {
     "name": "stderr",
     "output_type": "stream",
     "text": [
      "\r",
      "0it [00:00, ?it/s]"
     ]
    },
    {
     "name": "stdout",
     "output_type": "stream",
     "text": [
      "predicted: keralaingingssssssssss shah\n",
      "truth: kerala treating sabarimala pilgrims like gulag inmates shah\n",
      "\n",
      "predicted: keralaingingssssssssss shah\n",
      "truth: kerala treating sabarimala pilgrims like gulag inmates shah\n",
      "\n",
      "predicted: vajpayee first first to deliver speech in in  in the\n",
      "truth: late pm vajpayee was 1st person to give hindi speech at un\n",
      "\n",
      "predicted: big b aishwarya bs document documents with  panama paper\n",
      "truth: amitabh aishwarya submit documents in panama papers probe\n",
      "\n",
      "predicted: delhi metro moves sc to 60 60 60 to to reliance\n",
      "truth: delhi metro moves sc against 60 crore payment to rinfra arm\n",
      "\n",
      "predicted: indonesian model kills dead dead dead dead dead\n",
      "truth: 22 year old model shot dead inside her porsche in iraq\n",
      "\n",
      "predicted: 18 cpi mssed life lifeed  tmc tmc\n",
      "truth: 18 cpi m men get life term for killing tmc workers in 2010\n",
      "\n",
      "predicted: kartarpur corridor call calleded for for modi pm modi\n",
      "truth: kartarpur corridor atonement for mistake made in 1947 pm modi\n",
      "\n",
      "predicted: airbus probe probe probe corruption chargesssexexex\n",
      "truth: airbus launches internal corruption investigation\n",
      "\n",
      "predicted: barcelona 1st 1 club to earn over over ins\n",
      "truth: barcelona become world s 1st team to spend 500 million on wages\n",
      "\n"
     ]
    },
    {
     "name": "stderr",
     "output_type": "stream",
     "text": [
      "539it [15:48,  1.76s/it]\n",
      "0it [00:00, ?it/s]"
     ]
    },
    {
     "name": "stdout",
     "output_type": "stream",
     "text": [
      "epoch 37 G loss: 1.6938792919586483\n",
      "epoch 37 D loss: 0.025452116372779825\n"
     ]
    },
    {
     "name": "stderr",
     "output_type": "stream",
     "text": [
      "231it [04:44,  1.23s/it]\n"
     ]
    },
    {
     "name": "stdout",
     "output_type": "stream",
     "text": [
      "epoch 37 val loss: 1.8000055686644367\n"
     ]
    },
    {
     "name": "stderr",
     "output_type": "stream",
     "text": [
      "\r",
      "0it [00:00, ?it/s]"
     ]
    },
    {
     "name": "stdout",
     "output_type": "stream",
     "text": [
      "predicted: union union minister minister swor sworn in governor bihar governor\n",
      "truth: satya pal malik sworn in as governor of bihar\n",
      "\n",
      "predicted: india smell smelling bloody would be be under to coach coach\n",
      "truth: india are smelling blood we will show them great respect langer\n",
      "\n",
      "predicted: pm pm pm pm pm sssnananana\n",
      "truth: georgia pm kvirikashvili resigns amid rift with ruling party\n",
      "\n",
      "predicted: un evidence of rights rights rightss of attack\n",
      "truth: enough evidence to convict syrian prez of war crimes un\n",
      "\n",
      "predicted: google using using ai ai ai ai to chipsroid\n",
      "truth: google using ai to improve battery life on android phones\n",
      "\n",
      "predicted: north korea could crack engines for for test tests study\n",
      "truth: n korea missiles used russian or ukrainian engines reports\n",
      "\n",
      "predicted: nurse whosed foringingingmememese\n",
      "truth: italian nurse jailed for calming newborn with morphine\n",
      "\n",
      "predicted: 4 missiles fire from naval base in in pakistan\n",
      "truth: 4 missiles fired into pakistan from afghanistan\n",
      "\n",
      "predicted: 20 killed in j k after eidss in in in\n",
      "truth: 20 yr old killed in clashes after eid prayers in kashmir\n",
      "\n",
      "predicted: 23 billionaire billionairess  stst \n",
      "truth: 27 hurun rich list billionaires passed away last year\n",
      "\n"
     ]
    },
    {
     "name": "stderr",
     "output_type": "stream",
     "text": [
      "539it [15:50,  1.76s/it]\n",
      "0it [00:00, ?it/s]"
     ]
    },
    {
     "name": "stdout",
     "output_type": "stream",
     "text": [
      "epoch 38 G loss: 1.698015497093555\n",
      "epoch 38 D loss: 0.023246868030231935\n"
     ]
    },
    {
     "name": "stderr",
     "output_type": "stream",
     "text": [
      "231it [04:43,  1.23s/it]\n"
     ]
    },
    {
     "name": "stdout",
     "output_type": "stream",
     "text": [
      "epoch 38 val loss: 1.8172580259553195\n"
     ]
    },
    {
     "name": "stderr",
     "output_type": "stream",
     "text": [
      "\r",
      "0it [00:00, ?it/s]"
     ]
    },
    {
     "name": "stdout",
     "output_type": "stream",
     "text": [
      "predicted: media media firmsenenensss trump trump trump\n",
      "truth: social media giants are silencing millions of people trump\n",
      "\n",
      "predicted: whatsapp musts the in in news union minister ceo\n",
      "truth: whatsapp must have grievance officer in india it min to ceo\n",
      "\n",
      "predicted: why picturess walk walk walk on attack attack attack attack\n",
      "truth: event guests sing you ll never walk alone over terror threat\n",
      "\n",
      "predicted: 20 killed in j k after eidss in in in\n",
      "truth: 20 yr old killed in clashes after eid prayers in kashmir\n",
      "\n",
      "predicted: airbus probe probe probe corruption chargesssexexex\n",
      "truth: airbus launches internal corruption investigation\n",
      "\n",
      "predicted: saed toanananssss on s rashid s rashid\n",
      "truth: csk pacer lungi reveals he used to sell peanuts on roadside\n",
      "\n",
      "predicted: demonetismohan speechedededededed minister minister\n",
      "truth: manmohan s speech on demonetisation was scripted prasad\n",
      "\n",
      "predicted: maharashtra s 1st teacher teacher teacher teachers in child child\n",
      "truth: who was savitribai phule india s first female teacher\n",
      "\n",
      "predicted: 4 missiles fire from naval base in in pakistan\n",
      "truth: 4 missiles fired into pakistan from afghanistan\n",
      "\n",
      "predicted: india smell smelling bloody would be be under to coach coach\n",
      "truth: india are smelling blood we will show them great respect langer\n",
      "\n"
     ]
    },
    {
     "name": "stderr",
     "output_type": "stream",
     "text": [
      "539it [15:50,  1.76s/it]\n",
      "0it [00:00, ?it/s]"
     ]
    },
    {
     "name": "stdout",
     "output_type": "stream",
     "text": [
      "epoch 39 G loss: 1.706936359294754\n",
      "epoch 39 D loss: 0.023208019944745074\n"
     ]
    },
    {
     "name": "stderr",
     "output_type": "stream",
     "text": [
      "231it [04:43,  1.23s/it]\n"
     ]
    },
    {
     "name": "stdout",
     "output_type": "stream",
     "text": [
      "epoch 39 val loss: 1.827427395063422\n"
     ]
    },
    {
     "name": "stderr",
     "output_type": "stream",
     "text": [
      "\r",
      "0it [00:00, ?it/s]"
     ]
    },
    {
     "name": "stdout",
     "output_type": "stream",
     "text": [
      "predicted: union union minister minister swor sworn in governor bihar governor\n",
      "truth: satya pal malik sworn in as governor of bihar\n",
      "\n",
      "predicted: nurse whosed foringingingmememese\n",
      "truth: italian nurse jailed for calming newborn with morphine\n",
      "\n",
      "predicted: north korea could crack engines for for test tests study\n",
      "truth: n korea missiles used russian or ukrainian engines reports\n",
      "\n",
      "predicted: frenchasss dies duringing of\n",
      "truth: french singer barbara weldens dies on stage during concert\n",
      "\n",
      "predicted: farmer farmersing milking dumpsss strike strike strike strike\n",
      "truth: farmers dump vegetables spill milk on roads during protest\n",
      "\n",
      "predicted: nasa probe probes of lakh lakh lakhs on on on a\n",
      "truth: nasa spacecraft landed on mars with names of over 1l indians\n",
      "\n",
      "predicted: union union minister minister swor sworn in governor bihar governor\n",
      "truth: satya pal malik sworn in as governor of bihar\n",
      "\n",
      "predicted: i am death everyeacheacheacheacheachs owaisi owaisi\n",
      "truth: threat to my life claims aimim leader akbaruddin owaisi\n",
      "\n",
      "predicted: zoomcar raises 40 million infrom mahindra mahind startup other\n",
      "truth: car rental startup zoomcar raises 40 million in series c\n",
      "\n",
      "predicted: society has pm modi pm for for wel unnecessar rss chief\n",
      "truth: modi is a contractor of social welfare rss chief bhagwat\n",
      "\n"
     ]
    },
    {
     "name": "stderr",
     "output_type": "stream",
     "text": [
      "539it [15:50,  1.76s/it]\n",
      "0it [00:00, ?it/s]"
     ]
    },
    {
     "name": "stdout",
     "output_type": "stream",
     "text": [
      "epoch 40 G loss: 1.716080150787008\n",
      "epoch 40 D loss: 0.023190531730824925\n"
     ]
    },
    {
     "name": "stderr",
     "output_type": "stream",
     "text": [
      "231it [04:43,  1.23s/it]\n"
     ]
    },
    {
     "name": "stdout",
     "output_type": "stream",
     "text": [
      "epoch 40 val loss: 1.8286806818374568\n"
     ]
    },
    {
     "name": "stderr",
     "output_type": "stream",
     "text": [
      "\r",
      "0it [00:00, ?it/s]"
     ]
    },
    {
     "name": "stdout",
     "output_type": "stream",
     "text": [
      "predicted: uae deports yr yr old  over over over links links\n",
      "truth: uae deports indian over suspected links with isis\n",
      "\n",
      "predicted: isi akmal should be ashameded    ni\n",
      "truth: akmal should be ashamed for being sent back to pak waqar\n",
      "\n",
      "predicted: wased to chang to birth in school school schools rape rape\n",
      "truth: was threatened to change asaram rape victim s age principal\n",
      "\n",
      "predicted: uae deports yr yr old  over over over links links\n",
      "truth: uae deports indian over suspected links with isis\n",
      "\n",
      "predicted: indonesian model kills dead dead dead dead dead\n",
      "truth: 22 year old model shot dead inside her porsche in iraq\n",
      "\n",
      "predicted: demonetismohan speechedededededed minister minister\n",
      "truth: manmohan s speech on demonetisation was scripted prasad\n",
      "\n",
      "predicted: facebook askss us to share info info info infos\n",
      "truth: facebook asks us banks for users financial data report\n",
      "\n",
      "predicted: i never been about i should ve ve in in in film kajol\n",
      "truth: i never think about what i should ve done differently kajol\n",
      "\n",
      "predicted: srk s of of srk sed kill kill killed crash crash\n",
      "truth: fake news of srk s death emerges on european news channel\n",
      "\n",
      "predicted: gotara award for for   my in d on on years\n",
      "truth: received best compliment from dilip kumar for black big b\n",
      "\n"
     ]
    },
    {
     "name": "stderr",
     "output_type": "stream",
     "text": [
      "539it [15:51,  1.77s/it]\n",
      "0it [00:00, ?it/s]"
     ]
    },
    {
     "name": "stdout",
     "output_type": "stream",
     "text": [
      "epoch 41 G loss: 1.7202462766228652\n",
      "epoch 41 D loss: 0.022109865535236677\n"
     ]
    },
    {
     "name": "stderr",
     "output_type": "stream",
     "text": [
      "231it [04:43,  1.23s/it]\n"
     ]
    },
    {
     "name": "stdout",
     "output_type": "stream",
     "text": [
      "epoch 41 val loss: 1.8354625962605213\n"
     ]
    },
    {
     "name": "stderr",
     "output_type": "stream",
     "text": [
      "\r",
      "0it [00:00, ?it/s]"
     ]
    },
    {
     "name": "stdout",
     "output_type": "stream",
     "text": [
      "predicted: sonam ss  sister forst at cannes cannes cannes fest\n",
      "truth: sonam wears custom made jewellery by sister rhea at cannes\n",
      "\n",
      "predicted: mccullum scores test test s faste fastest in in last last last match\n",
      "truth: brendon mccullum hit test cricket s fastest ton in his last match\n",
      "\n",
      "predicted: north korea could crack engines for for test tests study\n",
      "truth: n korea missiles used russian or ukrainian engines reports\n",
      "\n",
      "predicted: death kills in death by by by gorkhaland\n",
      "truth: gorkhaland supporter killed in police firing in darjeeling\n",
      "\n",
      "predicted: we will become asian pure with imran imran khan akhtarakhtar\n",
      "truth: pak will become asian tiger under imran khan shoaib akhtar\n",
      "\n",
      "predicted: climb climbs 30 ft ft in jump back back ex ex ex e\n",
      "truth: man climbs 30 feet ghaziabad hoarding to win back ex fianc e\n",
      "\n",
      "predicted: keralaingingssssssssss shah\n",
      "truth: kerala treating sabarimala pilgrims like gulag inmates shah\n",
      "\n",
      "predicted: sehwag moreinginging sehing pad pad pad seh seh\n",
      "truth: aus ke score par laga gst bhaari pad gaya sehwag on india s loss\n",
      "\n",
      "predicted: gotara award for for   my in d on on years\n",
      "truth: received best compliment from dilip kumar for black big b\n",
      "\n",
      "predicted: 2015 mens marri marri marri atpointpoint in bihar bihar 201\n",
      "truth: 3 075 grooms got married in bihar at gunpoint in 2016\n",
      "\n"
     ]
    },
    {
     "name": "stderr",
     "output_type": "stream",
     "text": [
      "539it [15:51,  1.77s/it]\n",
      "0it [00:00, ?it/s]"
     ]
    },
    {
     "name": "stdout",
     "output_type": "stream",
     "text": [
      "epoch 42 G loss: 1.7252819995569988\n",
      "epoch 42 D loss: 0.020986693426014794\n"
     ]
    },
    {
     "name": "stderr",
     "output_type": "stream",
     "text": [
      "231it [04:43,  1.23s/it]\n"
     ]
    },
    {
     "name": "stdout",
     "output_type": "stream",
     "text": [
      "epoch 42 val loss: 1.8351020095010853\n"
     ]
    },
    {
     "name": "stderr",
     "output_type": "stream",
     "text": [
      "\r",
      "0it [00:00, ?it/s]"
     ]
    },
    {
     "name": "stdout",
     "output_type": "stream",
     "text": [
      "predicted: sc issues notice notice rahul rahul rahul foringing dalits\n",
      "truth: rahul given notice over nude dalit kids being beaten up video\n",
      "\n",
      "predicted: thievesess screen under inside house housenn in\n",
      "truth: us thieves try to steal tv return it as it didn t fit in car\n",
      "\n",
      "predicted: d de des rule out of ipl ipl 10 ipl match\n",
      "truth: delhi s last year top scorer quinton de kock out of ipl 2017\n",
      "\n",
      "predicted: union union minister minister swor sworn in governor bihar governor\n",
      "truth: satya pal malik sworn in as governor of bihar\n",
      "\n",
      "predicted: gotara award for for   my in d on on years\n",
      "truth: received best compliment from dilip kumar for black big b\n",
      "\n",
      "predicted: barcelona 1st 1 club to earn over over ins\n",
      "truth: barcelona become world s 1st team to spend 500 million on wages\n",
      "\n",
      "predicted: kejriwal cm kejriwal defamat defamation case overstibib\n",
      "truth: delhi cm discharged in defamation case over thulla remark\n",
      "\n",
      "predicted: 14 yr old killssing watch watch watch videoing video\n",
      "truth: scolded for using phone mumbai teen hangs self dies in hospital\n",
      "\n",
      "predicted: sc issues notice notice rahul rahul rahul foringing dalits\n",
      "truth: rahul given notice over nude dalit kids being beaten up video\n",
      "\n",
      "predicted: zoomcar raises 40 million infrom mahindra mahind startup other\n",
      "truth: car rental startup zoomcar raises 40 million in series c\n",
      "\n"
     ]
    },
    {
     "name": "stderr",
     "output_type": "stream",
     "text": [
      "539it [15:50,  1.76s/it]\n",
      "0it [00:00, ?it/s]"
     ]
    },
    {
     "name": "stdout",
     "output_type": "stream",
     "text": [
      "epoch 43 G loss: 1.7271532658777446\n",
      "epoch 43 D loss: 0.020707584102394688\n"
     ]
    },
    {
     "name": "stderr",
     "output_type": "stream",
     "text": [
      "231it [04:41,  1.22s/it]\n"
     ]
    },
    {
     "name": "stdout",
     "output_type": "stream",
     "text": [
      "epoch 43 val loss: 1.8532239599346787\n"
     ]
    },
    {
     "name": "stderr",
     "output_type": "stream",
     "text": [
      "\r",
      "0it [00:00, ?it/s]"
     ]
    },
    {
     "name": "stdout",
     "output_type": "stream",
     "text": [
      "predicted: kerala panchayats makes freess for for marriage marriage\n",
      "truth: village issues marriage certificate only after green wedding\n",
      "\n",
      "predicted: india smell smelling bloody would be be under to coach coach\n",
      "truth: india are smelling blood we will show them great respect langer\n",
      "\n",
      "predicted: whatsapp musts the in in news union minister ceo\n",
      "truth: whatsapp must have grievance officer in india it min to ceo\n",
      "\n",
      "predicted: big b aishwarya bs document documents with  panama paper\n",
      "truth: amitabh aishwarya submit documents in panama papers probe\n",
      "\n",
      "predicted: doctorsss inmrityityrssss gana\n",
      "truth: docs chant mantra for hours to bring down deaths in hospital\n",
      "\n",
      "predicted: pitch cricket venueeded to bengaluruuuuu\n",
      "truth: match s pre lunch session extended as food stuck in b luru traffic\n",
      "\n",
      "predicted: pm pm pm pm pm sssnananana\n",
      "truth: georgia pm kvirikashvili resigns amid rift with ruling party\n",
      "\n",
      "predicted: saed toanananssss on s rashid s rashid\n",
      "truth: csk pacer lungi reveals he used to sell peanuts on roadside\n",
      "\n",
      "predicted: airbus probe probe probe corruption chargesssexexex\n",
      "truth: airbus launches internal corruption investigation\n",
      "\n",
      "predicted: society has pm modi pm for for wel unnecessar rss chief\n",
      "truth: modi is a contractor of social welfare rss chief bhagwat\n",
      "\n"
     ]
    },
    {
     "name": "stderr",
     "output_type": "stream",
     "text": [
      "539it [15:48,  1.76s/it]\n",
      "0it [00:00, ?it/s]"
     ]
    },
    {
     "name": "stdout",
     "output_type": "stream",
     "text": [
      "epoch 44 G loss: 1.7295086276932738\n",
      "epoch 44 D loss: 0.018991571087628153\n"
     ]
    },
    {
     "name": "stderr",
     "output_type": "stream",
     "text": [
      "231it [04:41,  1.22s/it]\n"
     ]
    },
    {
     "name": "stdout",
     "output_type": "stream",
     "text": [
      "epoch 44 val loss: 1.843379793566565\n"
     ]
    },
    {
     "name": "stderr",
     "output_type": "stream",
     "text": [
      "\r",
      "0it [00:00, ?it/s]"
     ]
    },
    {
     "name": "stdout",
     "output_type": "stream",
     "text": [
      "predicted: frenchasss dies duringing of\n",
      "truth: french singer barbara weldens dies on stage during concert\n",
      "\n",
      "predicted: barable to be againstst army armys armys army army\n",
      "truth: soldiers to face action for disrespecting militants bodies\n",
      "\n",
      "predicted: barable to be againstst army armys armys army army\n",
      "truth: soldiers to face action for disrespecting militants bodies\n",
      "\n",
      "predicted: maharashtra s 1st teacher teacher teacher teachers in child child\n",
      "truth: who was savitribai phule india s first female teacher\n",
      "\n",
      "predicted: pm modi to visit china in first week sept summit summit summit\n",
      "truth: pm modi to attend brics summit in china\n",
      "\n",
      "predicted: uae deports yr yr old  over over over links links\n",
      "truth: uae deports indian over suspected links with isis\n",
      "\n",
      "predicted: i never been about i should ve ve in in in film kajol\n",
      "truth: i never think about what i should ve done differently kajol\n",
      "\n",
      "predicted: 20 killed in j k after eidss in in in\n",
      "truth: 20 yr old killed in clashes after eid prayers in kashmir\n",
      "\n",
      "predicted: uae deports yr yr old  over over over links links\n",
      "truth: uae deports indian over suspected links with isis\n",
      "\n",
      "predicted: union union minister minister swor sworn in governor bihar governor\n",
      "truth: satya pal malik sworn in as governor of bihar\n",
      "\n"
     ]
    },
    {
     "name": "stderr",
     "output_type": "stream",
     "text": [
      "539it [15:45,  1.75s/it]\n",
      "0it [00:00, ?it/s]"
     ]
    },
    {
     "name": "stdout",
     "output_type": "stream",
     "text": [
      "epoch 45 G loss: 1.7317169722502794\n",
      "epoch 45 D loss: 0.0203232764920845\n"
     ]
    },
    {
     "name": "stderr",
     "output_type": "stream",
     "text": [
      "231it [04:41,  1.22s/it]\n"
     ]
    },
    {
     "name": "stdout",
     "output_type": "stream",
     "text": [
      "epoch 45 val loss: 1.852048664157466\n"
     ]
    },
    {
     "name": "stderr",
     "output_type": "stream",
     "text": [
      "\r",
      "0it [00:00, ?it/s]"
     ]
    },
    {
     "name": "stdout",
     "output_type": "stream",
     "text": [
      "predicted: whatsapp musts the in in news union minister ceo\n",
      "truth: whatsapp must have grievance officer in india it min to ceo\n",
      "\n",
      "predicted: airline passengers flyer to flight flight flight flight flight flight\n",
      "truth: air india refuses to let wheelchair bound passenger on plane\n",
      "\n",
      "predicted: astronomers helped wavesed earth yearss\n",
      "truth: online volunteers help find star that exploded 97 cr yrs ago\n",
      "\n",
      "predicted: my child senenclaimssss s abd abd\n",
      "truth: de villiers hid love letters he wrote in his house s roof\n",
      "\n",
      "predicted: 4 missiles fire from naval base in in pakistan\n",
      "truth: 4 missiles fired into pakistan from afghanistan\n",
      "\n",
      "predicted: world s smallest computer computersss\n",
      "truth: how does the world s smallest computer work\n",
      "\n",
      "predicted: amazon should pay real realss taxess donald trump\n",
      "truth: amazon must pay real costs and taxes now donald trump\n",
      "\n",
      "predicted: keralaingingssssssssss shah\n",
      "truth: kerala treating sabarimala pilgrims like gulag inmates shah\n",
      "\n",
      "predicted: aus australiaing is a good good good good australialanger\n",
      "truth: sledging is a fun part of the game aus coach justin langer\n",
      "\n",
      "predicted: my child senenclaimssss s abd abd\n",
      "truth: de villiers hid love letters he wrote in his house s roof\n",
      "\n"
     ]
    },
    {
     "name": "stderr",
     "output_type": "stream",
     "text": [
      "539it [15:45,  1.75s/it]\n",
      "0it [00:00, ?it/s]"
     ]
    },
    {
     "name": "stdout",
     "output_type": "stream",
     "text": [
      "epoch 46 G loss: 1.7413363811446398\n",
      "epoch 46 D loss: 0.018288853160526416\n"
     ]
    },
    {
     "name": "stderr",
     "output_type": "stream",
     "text": [
      "231it [04:42,  1.22s/it]\n"
     ]
    },
    {
     "name": "stdout",
     "output_type": "stream",
     "text": [
      "epoch 46 val loss: 1.8581651762117277\n"
     ]
    },
    {
     "name": "stderr",
     "output_type": "stream",
     "text": [
      "\r",
      "0it [00:00, ?it/s]"
     ]
    },
    {
     "name": "stdout",
     "output_type": "stream",
     "text": [
      "predicted: frenchasss dies duringing of\n",
      "truth: french singer barbara weldens dies on stage during concert\n",
      "\n",
      "predicted: i taka for for aing conductor conductor conductor conductor driver driver driver\n",
      "truth: suffering for no fault driver who let langur control steering\n",
      "\n",
      "predicted: aus australiaing is a good good good good australialanger\n",
      "truth: sledging is a fun part of the game aus coach justin langer\n",
      "\n",
      "predicted: saed toanananssss on s rashid s rashid\n",
      "truth: csk pacer lungi reveals he used to sell peanuts on roadside\n",
      "\n",
      "predicted: 23 billionaire billionairess  stst \n",
      "truth: 27 hurun rich list billionaires passed away last year\n",
      "\n",
      "predicted: i am death everyeacheacheacheacheachs owaisi owaisi\n",
      "truth: threat to my life claims aimim leader akbaruddin owaisi\n",
      "\n",
      "predicted: b luru policesss challenge onoutoutout\n",
      "truth: b luru police ask people to wear helmets share 10 secs challenge\n",
      "\n",
      "predicted: woman leaves off after afteringingss in\n",
      "truth: us woman severely injured after mistaking dynamite for candle\n",
      "\n",
      "predicted: daughters should t t good good good touch touch touch mp chouhan\n",
      "truth: daughters should be taught about good bad touch mp cm\n",
      "\n",
      "predicted: d de des rule out of ipl ipl 10 ipl match\n",
      "truth: delhi s last year top scorer quinton de kock out of ipl 2017\n",
      "\n"
     ]
    },
    {
     "name": "stderr",
     "output_type": "stream",
     "text": [
      "539it [15:48,  1.76s/it]\n",
      "0it [00:00, ?it/s]"
     ]
    },
    {
     "name": "stdout",
     "output_type": "stream",
     "text": [
      "epoch 47 G loss: 1.7472000232003153\n",
      "epoch 47 D loss: 0.018329691635953146\n"
     ]
    },
    {
     "name": "stderr",
     "output_type": "stream",
     "text": [
      "231it [04:42,  1.22s/it]\n"
     ]
    },
    {
     "name": "stdout",
     "output_type": "stream",
     "text": [
      "epoch 47 val loss: 1.8493734638500592\n"
     ]
    },
    {
     "name": "stderr",
     "output_type": "stream",
     "text": [
      "\r",
      "0it [00:00, ?it/s]"
     ]
    },
    {
     "name": "stdout",
     "output_type": "stream",
     "text": [
      "predicted: cbi witch huntingingss s onaarushi\n",
      "truth: cbi planted witnesses in aarushi murder case allahabad hc\n",
      "\n",
      "predicted: sonam ss  sister forst at cannes cannes cannes fest\n",
      "truth: sonam wears custom made jewellery by sister rhea at cannes\n",
      "\n",
      "predicted: iit roorkee tests floating electricit from water water water\n",
      "truth: iit roorkee tests device to generate electricity from river flow\n",
      "\n",
      "predicted: srikanth sed padma shri india s highe 53\n",
      "truth: kidambi srikanth conferred with padma shri award\n",
      "\n",
      "predicted: gotara award for for   my in d on on years\n",
      "truth: received best compliment from dilip kumar for black big b\n",
      "\n",
      "predicted: b luru policesss challenge onoutoutout\n",
      "truth: b luru police ask people to wear helmets share 10 secs challenge\n",
      "\n",
      "predicted: doctorsss inmrityityrssss gana\n",
      "truth: docs chant mantra for hours to bring down deaths in hospital\n",
      "\n",
      "predicted: man crush ss dies by s sed into into into brother\n",
      "truth: man dies after crashing his scooter into zareen khan s car in goa\n",
      "\n",
      "predicted: kerala panchayats makes freess for for marriage marriage\n",
      "truth: village issues marriage certificate only after green wedding\n",
      "\n",
      "predicted: daughters should t t good good good touch touch touch mp chouhan\n",
      "truth: daughters should be taught about good bad touch mp cm\n",
      "\n"
     ]
    },
    {
     "name": "stderr",
     "output_type": "stream",
     "text": [
      "539it [15:46,  1.76s/it]\n",
      "0it [00:00, ?it/s]"
     ]
    },
    {
     "name": "stdout",
     "output_type": "stream",
     "text": [
      "epoch 48 G loss: 1.748275101087927\n",
      "epoch 48 D loss: 0.017799309009424346\n"
     ]
    },
    {
     "name": "stderr",
     "output_type": "stream",
     "text": [
      "231it [04:41,  1.22s/it]\n"
     ]
    },
    {
     "name": "stdout",
     "output_type": "stream",
     "text": [
      "epoch 48 val loss: 1.8798282929646897\n"
     ]
    },
    {
     "name": "stderr",
     "output_type": "stream",
     "text": [
      "\r",
      "0it [00:00, ?it/s]"
     ]
    },
    {
     "name": "stdout",
     "output_type": "stream",
     "text": [
      "predicted: doctorsss inmrityityrssss gana\n",
      "truth: docs chant mantra for hours to bring down deaths in hospital\n",
      "\n",
      "predicted: saed toanananssss on s rashid s rashid\n",
      "truth: csk pacer lungi reveals he used to sell peanuts on roadside\n",
      "\n",
      "predicted: society has pm modi pm for for wel unnecessar rss chief\n",
      "truth: modi is a contractor of social welfare rss chief bhagwat\n",
      "\n",
      "predicted: pm modi to visit china in first week sept summit summit summit\n",
      "truth: pm modi to attend brics summit in china\n",
      "\n",
      "predicted: man createssable  in in water to of the system\n",
      "truth: man turns his car into a drivable hot tub\n",
      "\n",
      "predicted: nasas proposess co comicmicmicmicing glass\n",
      "truth: nasa team proposes using sun as cosmic magnifying glass\n",
      "\n",
      "predicted: b luru policesss challenge onoutoutout\n",
      "truth: b luru police ask people to wear helmets share 10 secs challenge\n",
      "\n",
      "predicted: world s smallest computer computersss\n",
      "truth: how does the world s smallest computer work\n",
      "\n",
      "predicted: pm pm pm pm pm sssnananana\n",
      "truth: georgia pm kvirikashvili resigns amid rift with ruling party\n",
      "\n",
      "predicted: isi akmal should be ashameded    ni\n",
      "truth: akmal should be ashamed for being sent back to pak waqar\n",
      "\n"
     ]
    },
    {
     "name": "stderr",
     "output_type": "stream",
     "text": [
      "539it [15:46,  1.76s/it]\n",
      "0it [00:00, ?it/s]"
     ]
    },
    {
     "name": "stdout",
     "output_type": "stream",
     "text": [
      "epoch 49 G loss: 1.7528801506266223\n",
      "epoch 49 D loss: 0.017604215621394425\n"
     ]
    },
    {
     "name": "stderr",
     "output_type": "stream",
     "text": [
      "231it [04:42,  1.22s/it]\n"
     ]
    },
    {
     "name": "stdout",
     "output_type": "stream",
     "text": [
      "epoch 49 val loss: 1.8751090766816543\n"
     ]
    },
    {
     "name": "stderr",
     "output_type": "stream",
     "text": [
      "\r",
      "0it [00:00, ?it/s]"
     ]
    },
    {
     "name": "stdout",
     "output_type": "stream",
     "text": [
      "predicted: sonam ss  sister forst at cannes cannes cannes fest\n",
      "truth: sonam wears custom made jewellery by sister rhea at cannes\n",
      "\n",
      "predicted: google using using ai ai ai ai to chipsroid\n",
      "truth: google using ai to improve battery life on android phones\n",
      "\n",
      "predicted: 23 billionaire billionairess  stst \n",
      "truth: 27 hurun rich list billionaires passed away last year\n",
      "\n",
      "predicted: cong congressss to for for for for poll\n",
      "truth: cong ncp join hands against bjp for maha council by poll\n",
      "\n",
      "predicted: kejriwal cm kejriwal defamat defamation case overstibib\n",
      "truth: delhi cm discharged in defamation case over thulla remark\n",
      "\n",
      "predicted: airline passengers flyer to flight flight flight flight flight flight\n",
      "truth: air india refuses to let wheelchair bound passenger on plane\n",
      "\n",
      "predicted: cong congressss to for for for for poll\n",
      "truth: cong ncp join hands against bjp for maha council by poll\n",
      "\n",
      "predicted: barcelona 1st 1 club to earn over over ins\n",
      "truth: barcelona become world s 1st team to spend 500 million on wages\n",
      "\n",
      "predicted: srk s of of srk sed kill kill killed crash crash\n",
      "truth: fake news of srk s death emerges on european news channel\n",
      "\n",
      "predicted: kejriwal cm kejriwal defamat defamation case overstibib\n",
      "truth: delhi cm discharged in defamation case over thulla remark\n",
      "\n"
     ]
    },
    {
     "name": "stderr",
     "output_type": "stream",
     "text": [
      "539it [15:50,  1.76s/it]\n",
      "0it [00:00, ?it/s]"
     ]
    },
    {
     "name": "stdout",
     "output_type": "stream",
     "text": [
      "epoch 50 G loss: 1.759428467457026\n",
      "epoch 50 D loss: 0.017395856415335864\n"
     ]
    },
    {
     "name": "stderr",
     "output_type": "stream",
     "text": [
      "231it [04:42,  1.22s/it]\n"
     ]
    },
    {
     "name": "stdout",
     "output_type": "stream",
     "text": [
      "epoch 50 val loss: 1.8692514730506924\n"
     ]
    },
    {
     "name": "stderr",
     "output_type": "stream",
     "text": [
      "\r",
      "0it [00:00, ?it/s]"
     ]
    },
    {
     "name": "stdout",
     "output_type": "stream",
     "text": [
      "predicted: delhi metro moves sc to 60 60 60 to to reliance\n",
      "truth: delhi metro moves sc against 60 crore payment to rinfra arm\n",
      "\n",
      "predicted: 14 yr old killssing watch watch watch videoing video\n",
      "truth: scolded for using phone mumbai teen hangs self dies in hospital\n",
      "\n",
      "predicted: un evidence of rights rights rightss of attack\n",
      "truth: enough evidence to convict syrian prez of war crimes un\n",
      "\n",
      "predicted: sehwag moreinginging sehing pad pad pad seh seh\n",
      "truth: aus ke score par laga gst bhaari pad gaya sehwag on india s loss\n",
      "\n",
      "predicted: airbus probe probe probe corruption chargesssexexex\n",
      "truth: airbus launches internal corruption investigation\n",
      "\n",
      "predicted: big b aishwarya bs document documents with  panama paper\n",
      "truth: amitabh aishwarya submit documents in panama papers probe\n",
      "\n",
      "predicted: pm modi to visit china in first week sept summit summit summit\n",
      "truth: pm modi to attend brics summit in china\n",
      "\n",
      "predicted: kartarpur corridor call calleded for for modi pm modi\n",
      "truth: kartarpur corridor atonement for mistake made in 1947 pm modi\n",
      "\n",
      "predicted: pm modi to visit china in first week sept summit summit summit\n",
      "truth: pm modi to attend brics summit in china\n",
      "\n",
      "predicted: un evidence of rights rights rightss of attack\n",
      "truth: enough evidence to convict syrian prez of war crimes un\n",
      "\n"
     ]
    },
    {
     "name": "stderr",
     "output_type": "stream",
     "text": [
      "539it [15:47,  1.76s/it]\n",
      "0it [00:00, ?it/s]"
     ]
    },
    {
     "name": "stdout",
     "output_type": "stream",
     "text": [
      "epoch 51 G loss: 1.760820001093768\n",
      "epoch 51 D loss: 0.017548912774412336\n"
     ]
    },
    {
     "name": "stderr",
     "output_type": "stream",
     "text": [
      "231it [04:42,  1.22s/it]\n"
     ]
    },
    {
     "name": "stdout",
     "output_type": "stream",
     "text": [
      "epoch 51 val loss: 1.8826978246369606\n"
     ]
    },
    {
     "name": "stderr",
     "output_type": "stream",
     "text": [
      "\r",
      "0it [00:00, ?it/s]"
     ]
    },
    {
     "name": "stdout",
     "output_type": "stream",
     "text": [
      "predicted: sc issues notice notice rahul rahul rahul foringing dalits\n",
      "truth: rahul given notice over nude dalit kids being beaten up video\n",
      "\n",
      "predicted: aus australiaing is a good good good good australialanger\n",
      "truth: sledging is a fun part of the game aus coach justin langer\n",
      "\n",
      "predicted: man createssable  in in water to of the system\n",
      "truth: man turns his car into a drivable hot tub\n",
      "\n",
      "predicted: keralaingingssssssssss shah\n",
      "truth: kerala treating sabarimala pilgrims like gulag inmates shah\n",
      "\n",
      "predicted: doctorsss inmrityityrssss gana\n",
      "truth: docs chant mantra for hours to bring down deaths in hospital\n",
      "\n",
      "predicted: 2015 mens marri married atpointpoint in bihar bihar 201\n",
      "truth: 3 075 grooms got married in bihar at gunpoint in 2016\n",
      "\n",
      "predicted: facebook askss us to share info info info infos\n",
      "truth: facebook asks us banks for users financial data report\n",
      "\n",
      "predicted: amazon to test 1 hr for for items show in show show\n",
      "truth: amazon to test one hour delivery for fashion show clothes\n",
      "\n",
      "predicted: cbi witch huntingingss s onaarushi\n",
      "truth: cbi planted witnesses in aarushi murder case allahabad hc\n",
      "\n",
      "predicted: 4 missiles fire from naval base in in pakistan\n",
      "truth: 4 missiles fired into pakistan from afghanistan\n",
      "\n"
     ]
    },
    {
     "name": "stderr",
     "output_type": "stream",
     "text": [
      "539it [15:45,  1.76s/it]\n",
      "0it [00:00, ?it/s]"
     ]
    },
    {
     "name": "stdout",
     "output_type": "stream",
     "text": [
      "epoch 52 G loss: 1.7629729424896416\n",
      "epoch 52 D loss: 0.017372369520478687\n"
     ]
    },
    {
     "name": "stderr",
     "output_type": "stream",
     "text": [
      "231it [04:43,  1.23s/it]\n"
     ]
    },
    {
     "name": "stdout",
     "output_type": "stream",
     "text": [
      "epoch 52 val loss: 1.882371517120308\n"
     ]
    },
    {
     "name": "stderr",
     "output_type": "stream",
     "text": [
      "\r",
      "0it [00:00, ?it/s]"
     ]
    },
    {
     "name": "stdout",
     "output_type": "stream",
     "text": [
      "predicted: maharashtra s 1st teacher teacher teacher teachers in child child\n",
      "truth: who was savitribai phule india s first female teacher\n",
      "\n",
      "predicted: i taka for for aing conductor conductor conductor conductor driver driver driver\n",
      "truth: suffering for no fault driver who let langur control steering\n",
      "\n",
      "predicted: indonesian model kills dead dead dead dead dead\n",
      "truth: 22 year old model shot dead inside her porsche in iraq\n",
      "\n",
      "predicted: nasas proposess co comicmicmicmicing glass\n",
      "truth: nasa team proposes using sun as cosmic magnifying glass\n",
      "\n",
      "predicted: climb climbs 30 ft ft in jump back back ex ex ex e\n",
      "truth: man climbs 30 feet ghaziabad hoarding to win back ex fianc e\n",
      "\n",
      "predicted: mccullum scores test test s faste fastest in in last last last match\n",
      "truth: brendon mccullum hit test cricket s fastest ton in his last match\n",
      "\n",
      "predicted: india smell smelling bloody would be be under to coach coach\n",
      "truth: india are smelling blood we will show them great respect langer\n",
      "\n",
      "predicted: zoomcar raises 40 million infrom mahindra mahind startup other\n",
      "truth: car rental startup zoomcar raises 40 million in series c\n",
      "\n",
      "predicted: 4 missiles fire from naval base in in pakistan\n",
      "truth: 4 missiles fired into pakistan from afghanistan\n",
      "\n",
      "predicted: nasa probe probes of lakh lakh lakhs on on on a\n",
      "truth: nasa spacecraft landed on mars with names of over 1l indians\n",
      "\n"
     ]
    },
    {
     "name": "stderr",
     "output_type": "stream",
     "text": [
      "539it [15:48,  1.76s/it]\n",
      "0it [00:00, ?it/s]"
     ]
    },
    {
     "name": "stdout",
     "output_type": "stream",
     "text": [
      "epoch 53 G loss: 1.772490405011814\n",
      "epoch 53 D loss: 0.01753419194258014\n"
     ]
    },
    {
     "name": "stderr",
     "output_type": "stream",
     "text": [
      "231it [04:43,  1.23s/it]\n"
     ]
    },
    {
     "name": "stdout",
     "output_type": "stream",
     "text": [
      "epoch 53 val loss: 1.8896610886661112\n"
     ]
    },
    {
     "name": "stderr",
     "output_type": "stream",
     "text": [
      "\r",
      "0it [00:00, ?it/s]"
     ]
    },
    {
     "name": "stdout",
     "output_type": "stream",
     "text": [
      "predicted: amazon to test 1 hr for for items show in show show\n",
      "truth: amazon to test one hour delivery for fashion show clothes\n",
      "\n",
      "predicted: cannot run run by byss sports sports sports min\n",
      "truth: sports can t be run by bureaucrats sports minister rathore\n",
      "\n",
      "predicted: 4 missiles fire from naval base in in pakistan\n",
      "truth: 4 missiles fired into pakistan from afghanistan\n",
      "\n",
      "predicted: sehwag moreinginging sehing pad pad pad seh seh\n",
      "truth: aus ke score par laga gst bhaari pad gaya sehwag on india s loss\n",
      "\n",
      "predicted: we will become asian pure with imran imran khan akhtarakhtar\n",
      "truth: pak will become asian tiger under imran khan shoaib akhtar\n",
      "\n",
      "predicted: 4 missiles fire from naval base in in pakistan\n",
      "truth: 4 missiles fired into pakistan from afghanistan\n",
      "\n",
      "predicted: maharashtra s 1st teacher teacher teacher teachers in child child\n",
      "truth: who was savitribai phule india s first female teacher\n",
      "\n",
      "predicted: nasa probe probes of lakh lakh lakhs on on on a\n",
      "truth: nasa spacecraft landed on mars with names of over 1l indians\n",
      "\n",
      "predicted: astronomers helped wavesed earth yearss\n",
      "truth: online volunteers help find star that exploded 97 cr yrs ago\n",
      "\n",
      "predicted: man createssable  in in water to of the system\n",
      "truth: man turns his car into a drivable hot tub\n",
      "\n"
     ]
    },
    {
     "name": "stderr",
     "output_type": "stream",
     "text": [
      "539it [15:49,  1.76s/it]\n",
      "0it [00:00, ?it/s]"
     ]
    },
    {
     "name": "stdout",
     "output_type": "stream",
     "text": [
      "epoch 54 G loss: 1.7680841133154228\n",
      "epoch 54 D loss: 0.016545752320399683\n"
     ]
    },
    {
     "name": "stderr",
     "output_type": "stream",
     "text": [
      "231it [04:42,  1.22s/it]\n"
     ]
    },
    {
     "name": "stdout",
     "output_type": "stream",
     "text": [
      "epoch 54 val loss: 1.8865339760211606\n"
     ]
    },
    {
     "name": "stderr",
     "output_type": "stream",
     "text": [
      "\r",
      "0it [00:00, ?it/s]"
     ]
    },
    {
     "name": "stdout",
     "output_type": "stream",
     "text": [
      "predicted: doctorsss inmrityityrssss gana\n",
      "truth: docs chant mantra for hours to bring down deaths in hospital\n",
      "\n",
      "predicted: 2015 mens marri married atpointpoint in bihar bihar 201\n",
      "truth: 3 075 grooms got married in bihar at gunpoint in 2016\n",
      "\n",
      "predicted: barable to be againstst army armys armys army army\n",
      "truth: soldiers to face action for disrespecting militants bodies\n",
      "\n",
      "predicted: isi akmal should be ashameded    ni\n",
      "truth: akmal should be ashamed for being sent back to pak waqar\n",
      "\n",
      "predicted: world s smallest computer computersss\n",
      "truth: how does the world s smallest computer work\n",
      "\n",
      "predicted: daughters should t t good good good touch touch touch mp chouhan\n",
      "truth: daughters should be taught about good bad touch mp cm\n",
      "\n",
      "predicted: sonam ss  sister forst at cannes cannes cannes fest\n",
      "truth: sonam wears custom made jewellery by sister rhea at cannes\n",
      "\n",
      "predicted: maharashtra s 1st teacher teacher teacher teachers in child child\n",
      "truth: who was savitribai phule india s first female teacher\n",
      "\n",
      "predicted: sonam ss  sister forst at cannes cannes cannes fest\n",
      "truth: sonam wears custom made jewellery by sister rhea at cannes\n",
      "\n",
      "predicted: airline passengers flyer to flight flight flight flight flight flight\n",
      "truth: air india refuses to let wheelchair bound passenger on plane\n",
      "\n"
     ]
    },
    {
     "name": "stderr",
     "output_type": "stream",
     "text": [
      "539it [15:49,  1.76s/it]\n",
      "0it [00:00, ?it/s]"
     ]
    },
    {
     "name": "stdout",
     "output_type": "stream",
     "text": [
      "epoch 55 G loss: 1.7721526367462193\n",
      "epoch 55 D loss: 0.016348824806243147\n"
     ]
    },
    {
     "name": "stderr",
     "output_type": "stream",
     "text": [
      "231it [04:44,  1.23s/it]\n"
     ]
    },
    {
     "name": "stdout",
     "output_type": "stream",
     "text": [
      "epoch 55 val loss: 1.884240848686729\n"
     ]
    },
    {
     "name": "stderr",
     "output_type": "stream",
     "text": [
      "\r",
      "0it [00:00, ?it/s]"
     ]
    },
    {
     "name": "stdout",
     "output_type": "stream",
     "text": [
      "predicted: pm modi to visit china in first week sept summit summit summit\n",
      "truth: pm modi to attend brics summit in china\n",
      "\n",
      "predicted: kartarpur corridor call calleded for for modi pm modi\n",
      "truth: kartarpur corridor atonement for mistake made in 1947 pm modi\n",
      "\n",
      "predicted: clash inss women at at fore gtntdo\n",
      "truth: game of thrones puts women at the forefront gwendoline\n",
      "\n",
      "predicted: keralaingingssssssssss shah\n",
      "truth: kerala treating sabarimala pilgrims like gulag inmates shah\n",
      "\n",
      "predicted: whatsapp musts the in in news union minister ceo\n",
      "truth: whatsapp must have grievance officer in india it min to ceo\n",
      "\n",
      "predicted: indonesian model kills dead dead dead dead dead\n",
      "truth: 22 year old model shot dead inside her porsche in iraq\n",
      "\n",
      "predicted: nasa probe probes of lakh lakh lakhs on on on a\n",
      "truth: nasa spacecraft landed on mars with names of over 1l indians\n",
      "\n",
      "predicted: nurse whosed foringingingmememese\n",
      "truth: italian nurse jailed for calming newborn with morphine\n",
      "\n",
      "predicted: daughters should t t good good good touch touch touch mp chouhan\n",
      "truth: daughters should be taught about good bad touch mp cm\n",
      "\n",
      "predicted: why picturess walk walk walk on attack attack attack attack\n",
      "truth: event guests sing you ll never walk alone over terror threat\n",
      "\n"
     ]
    },
    {
     "name": "stderr",
     "output_type": "stream",
     "text": [
      "539it [15:54,  1.77s/it]\n",
      "0it [00:00, ?it/s]"
     ]
    },
    {
     "name": "stdout",
     "output_type": "stream",
     "text": [
      "epoch 56 G loss: 1.7787185319486256\n",
      "epoch 56 D loss: 0.015065329031679134\n"
     ]
    },
    {
     "name": "stderr",
     "output_type": "stream",
     "text": [
      "231it [04:45,  1.23s/it]\n"
     ]
    },
    {
     "name": "stdout",
     "output_type": "stream",
     "text": [
      "epoch 56 val loss: 1.8902421217333645\n"
     ]
    },
    {
     "name": "stderr",
     "output_type": "stream",
     "text": [
      "\r",
      "0it [00:00, ?it/s]"
     ]
    },
    {
     "name": "stdout",
     "output_type": "stream",
     "text": [
      "predicted: barcelona 1st 1 club to earn over over ins\n",
      "truth: barcelona become world s 1st team to spend 500 million on wages\n",
      "\n",
      "predicted: amazon to test 1 hr for for items show in show show\n",
      "truth: amazon to test one hour delivery for fashion show clothes\n",
      "\n",
      "predicted: sehwag moreinginging sehing pad pad pad seh seh\n",
      "truth: aus ke score par laga gst bhaari pad gaya sehwag on india s loss\n",
      "\n",
      "predicted: us man awarded 4 4 afteringing fossil fossil fossil fossil\n",
      "truth: us man awarded 4 8 crore after beer burns his organs\n",
      "\n",
      "predicted: sachin attend attend b day celebration b b ambani ambani\n",
      "truth: sachin tendulkar attends krunal pandya s wedding in mumbai\n",
      "\n",
      "predicted: daughters should t t good good good touch touch touch mp chouhan\n",
      "truth: daughters should be taught about good bad touch mp cm\n",
      "\n",
      "predicted: barable to be againstst army armys armys army army\n",
      "truth: soldiers to face action for disrespecting militants bodies\n",
      "\n",
      "predicted: farmer farmersing milk dumpingsss strike strike strike strike\n",
      "truth: farmers dump vegetables spill milk on roads during protest\n",
      "\n",
      "predicted: climb climbs 30 ft ft in jump back back ex ex ex e\n",
      "truth: man climbs 30 feet ghaziabad hoarding to win back ex fianc e\n",
      "\n",
      "predicted: kerala panchayats makes freess for for marriage marriage\n",
      "truth: village issues marriage certificate only after green wedding\n",
      "\n"
     ]
    },
    {
     "name": "stderr",
     "output_type": "stream",
     "text": [
      "539it [15:54,  1.77s/it]\n",
      "0it [00:00, ?it/s]"
     ]
    },
    {
     "name": "stdout",
     "output_type": "stream",
     "text": [
      "epoch 57 G loss: 1.7855621426778387\n",
      "epoch 57 D loss: 0.015152343482635786\n"
     ]
    },
    {
     "name": "stderr",
     "output_type": "stream",
     "text": [
      "231it [04:44,  1.23s/it]\n"
     ]
    },
    {
     "name": "stdout",
     "output_type": "stream",
     "text": [
      "epoch 57 val loss: 1.895222598409383\n"
     ]
    },
    {
     "name": "stderr",
     "output_type": "stream",
     "text": [
      "\r",
      "0it [00:00, ?it/s]"
     ]
    },
    {
     "name": "stdout",
     "output_type": "stream",
     "text": [
      "predicted: nasa probe probes of lakh lakh lakhs on on on a\n",
      "truth: nasa spacecraft landed on mars with names of over 1l indians\n",
      "\n",
      "predicted: srk s of of srk sed kill kill killed crash crash\n",
      "truth: fake news of srk s death emerges on european news channel\n",
      "\n",
      "predicted: sonam ss  sister forst at cannes cannes cannes fest\n",
      "truth: sonam wears custom made jewellery by sister rhea at cannes\n",
      "\n",
      "predicted: aus australiaing is a good good good good australialanger\n",
      "truth: sledging is a fun part of the game aus coach justin langer\n",
      "\n",
      "predicted: maharashtra s 1st teacher teacher teacher teachers in child child\n",
      "truth: who was savitribai phule india s first female teacher\n",
      "\n",
      "predicted: d de des rule out of ipl ipl 10 ipl match\n",
      "truth: delhi s last year top scorer quinton de kock out of ipl 2017\n",
      "\n",
      "predicted: clash inss women at at fore gtntdo\n",
      "truth: game of thrones puts women at the forefront gwendoline\n",
      "\n",
      "predicted: 18 cpi mssed life lifeed  tmc tmc\n",
      "truth: 18 cpi m men get life term for killing tmc workers in 2010\n",
      "\n",
      "predicted: us man awarded 4 4 afteringing fossil fossil fossil fossil\n",
      "truth: us man awarded 4 8 crore after beer burns his organs\n",
      "\n",
      "predicted: farmer farmersing milk dumpingsss strike strike strike strike\n",
      "truth: farmers dump vegetables spill milk on roads during protest\n",
      "\n"
     ]
    },
    {
     "name": "stderr",
     "output_type": "stream",
     "text": [
      "539it [15:54,  1.77s/it]\n",
      "0it [00:00, ?it/s]"
     ]
    },
    {
     "name": "stdout",
     "output_type": "stream",
     "text": [
      "epoch 58 G loss: 1.786122737888952\n",
      "epoch 58 D loss: 0.015533021902373444\n"
     ]
    },
    {
     "name": "stderr",
     "output_type": "stream",
     "text": [
      "231it [04:44,  1.23s/it]\n"
     ]
    },
    {
     "name": "stdout",
     "output_type": "stream",
     "text": [
      "epoch 58 val loss: 1.898074969661934\n"
     ]
    },
    {
     "name": "stderr",
     "output_type": "stream",
     "text": [
      "\r",
      "0it [00:00, ?it/s]"
     ]
    },
    {
     "name": "stdout",
     "output_type": "stream",
     "text": [
      "predicted: kejriwal cm kejriwal defamat defamation case overstibib\n",
      "truth: delhi cm discharged in defamation case over thulla remark\n",
      "\n",
      "predicted: i am death everyeacheacheacheacheachs owaisi owaisi\n",
      "truth: threat to my life claims aimim leader akbaruddin owaisi\n",
      "\n",
      "predicted: frenchasss dies duringing of\n",
      "truth: french singer barbara weldens dies on stage during concert\n",
      "\n",
      "predicted: would would work with any any any dutt dutt dutt dutt\n",
      "truth: would like to work with ranbir kapoor again rajkumar hirani\n",
      "\n",
      "predicted: thievesess screen under inside house housenn in\n",
      "truth: us thieves try to steal tv return it as it didn t fit in car\n",
      "\n",
      "predicted: why picturess walk walk walk on attack attack attack attack\n",
      "truth: event guests sing you ll never walk alone over terror threat\n",
      "\n",
      "predicted: whatsapp musts the in in news union minister ceo\n",
      "truth: whatsapp must have grievance officer in india it min to ceo\n",
      "\n",
      "predicted: sc issues notice notice rahul rahul rahul foringing dalits\n",
      "truth: rahul given notice over nude dalit kids being beaten up video\n",
      "\n",
      "predicted: my child senenclaimssss s abd abd\n",
      "truth: de villiers hid love letters he wrote in his house s roof\n",
      "\n",
      "predicted: world s smallest computer computersss\n",
      "truth: how does the world s smallest computer work\n",
      "\n"
     ]
    },
    {
     "name": "stderr",
     "output_type": "stream",
     "text": [
      "539it [15:52,  1.77s/it]\n",
      "0it [00:00, ?it/s]"
     ]
    },
    {
     "name": "stdout",
     "output_type": "stream",
     "text": [
      "epoch 59 G loss: 1.7887183871418757\n",
      "epoch 59 D loss: 0.01576866865954194\n"
     ]
    },
    {
     "name": "stderr",
     "output_type": "stream",
     "text": [
      "231it [04:43,  1.23s/it]\n"
     ]
    },
    {
     "name": "stdout",
     "output_type": "stream",
     "text": [
      "epoch 59 val loss: 1.9142983419325554\n",
      "predicted: solar solar is to to earth earth earth\n",
      "truth: minor solar flare expected to hit earth today cause auroras\n",
      "\n",
      "predicted: nasas proposess co comicmicmicmicing glass\n",
      "truth: nasa team proposes using sun as cosmic magnifying glass\n",
      "\n",
      "predicted: kerala panchayats makes freess for for marriage marriage\n",
      "truth: village issues marriage certificate only after green wedding\n",
      "\n",
      "predicted: death kills in death by by by gorkhaland\n",
      "truth: gorkhaland supporter killed in police firing in darjeeling\n",
      "\n",
      "predicted: would would work with any any any dutt dutt dutt dutt\n",
      "truth: would like to work with ranbir kapoor again rajkumar hirani\n",
      "\n",
      "predicted: pm modi to visit china in first week sept summit summit summit\n",
      "truth: pm modi to attend brics summit in china\n",
      "\n",
      "predicted: why picturess walk walk walk on attack attack attack attack\n",
      "truth: event guests sing you ll never walk alone over terror threat\n",
      "\n",
      "predicted: nurse whosed foringingingmememese\n",
      "truth: italian nurse jailed for calming newborn with morphine\n",
      "\n",
      "predicted: aus australiaing is a good good good good australialanger\n",
      "truth: sledging is a fun part of the game aus coach justin langer\n",
      "\n",
      "predicted: pm modi to visit china in first week sept summit summit summit\n",
      "truth: pm modi to attend brics summit in china\n",
      "\n"
     ]
    }
   ],
   "source": [
    "discriminator_optimizer = torch.optim.Adam(D.parameters(), lr=1e-4)\n",
    "generator_optimizer = torch.optim.Adam(G.parameters(), lr=1e-4)\n",
    "criterion_ml = nn.CrossEntropyLoss(ignore_index=0)\n",
    "dis_criterion = nn.BCELoss()\n",
    "scheduler = torch.optim.lr_scheduler.ReduceLROnPlateau(generator_optimizer, 'min', patience=5)\n",
    "\n",
    "G_losses = []\n",
    "D_losses = []\n",
    "iter_num = -1\n",
    "G_ce_val_losses = []\n",
    "\n",
    "for epoch_idx in range(n_epochs):\n",
    "    total_G_loss = 0.\n",
    "    total_D_loss = 0.\n",
    "    G.train()\n",
    "    D.train()\n",
    "    beta += 0.02 * epoch_idx\n",
    "    beta = min(0.95, beta)\n",
    "    teacher_forcing -= 0.02 * epoch_idx\n",
    "    teacher_forcing = max(0, teacher_forcing)\n",
    "    writer.add_scalar('Params/teacher_forcing', teacher_forcing, iter_num)\n",
    "    writer.add_scalar('Params/beta', beta, iter_num)\n",
    "    for batch_idx, data_input in tqdm(enumerate(train_dataloader)):\n",
    "        article = data_input[0].to(device)\n",
    "        highlight = data_input[1].to(device)\n",
    "        \n",
    "        # Discriminator\n",
    "        gen_out, generated_highlight = G.sample(article, highlight, teacher_forcing_ratio=0.)\n",
    "        generated_highlight = generated_highlight.permute(1, 0)\n",
    "        batch = torch.cat([generated_highlight, highlight.permute(1, 0)], dim=0)\n",
    "        targets = torch.tensor([0]*generated_highlight.size(0) + [1]*highlight.size(1)).to(device)\n",
    "        discriminator_optimizer.zero_grad()\n",
    "        generator_optimizer.zero_grad()\n",
    "        out = D(batch)\n",
    "        loss = dis_criterion(out.squeeze(1), targets.float())\n",
    "        loss.backward()\n",
    "        discriminator_optimizer.step()\n",
    "        total_D_loss += loss.data.item() * highlight.size(1) * 2\n",
    "        iter_num += 1\n",
    "        writer.add_scalar('Loss/dis_adv_train', loss.data.item(), iter_num)\n",
    "        \n",
    "        # Generator\n",
    "        generator_optimizer.zero_grad()\n",
    "        discriminator_optimizer.zero_grad()\n",
    "        gen_out, generated_highlight = G.sample(article, highlight, teacher_forcing_ratio=teacher_forcing)\n",
    "        generated_highlight = generated_highlight.permute(1, 0)  # (batch_size, seq_len)\n",
    "        rollout_func = ROLLOUT(G)\n",
    "        rewards = rollout_func.get_reward(article, generated_highlight, rollout_num, D)\n",
    "        writer.add_scalar('Reward/train', rewards.mean().data.item(), iter_num)\n",
    "        rewards = 1 - rewards\n",
    "        pg_loss = G.batch_pgloss_generated(gen_out, generated_highlight, rewards)\n",
    "        \n",
    "        out = G(article, highlight, teacher_forcing_ratio=teacher_forcing)\n",
    "        ml_loss = criterion_ml(out.permute(1, 2, 0), highlight.permute(1, 0))\n",
    "        \n",
    "        loss = beta*pg_loss + (1-beta)*ml_loss\n",
    "        loss.backward()\n",
    "        generator_optimizer.step()\n",
    "        writer.add_scalar('Loss_train/loss', loss.data.item(), iter_num)\n",
    "        writer.add_scalar('Loss_train/ml_loss', ml_loss.data.item(), iter_num)\n",
    "        writer.add_scalar('Loss_train/pg_loss', pg_loss.data.item(), iter_num)\n",
    "        total_G_loss += loss.data.item() * article.size(1)\n",
    "\n",
    "    G_losses.append(total_G_loss / len(train_dataset))\n",
    "    D_losses.append(total_D_loss / len(train_dataset) / 2)\n",
    "    print(f'epoch {epoch_idx} G loss: {G_losses[-1]}')\n",
    "    print(f'epoch {epoch_idx} D loss: {D_losses[-1]}')\n",
    "    \n",
    "    G.eval()\n",
    "    total_loss = 0.\n",
    "    total_reward = 0.\n",
    "    total_ml_loss = 0.\n",
    "    total_pg_loss = 0.\n",
    "    for batch_idx, data_input in tqdm(enumerate(val_dataloader), position=0, leave=True):\n",
    "        article = data_input[0].to(device)\n",
    "        highlight = data_input[1].to(device)\n",
    "        gen_out, generated_highlight = G.sample(article, highlight, teacher_forcing_ratio=0.)\n",
    "        generated_highlight = generated_highlight.permute(1, 0)  # (batch_size, seq_len)\n",
    "        rollout_func = ROLLOUT(G)\n",
    "        rewards = rollout_func.get_reward(article, generated_highlight, rollout_num, D)\n",
    "        total_reward += rewards.mean().data.item() * article.size(1)\n",
    "        rewards = 1 - rewards\n",
    "        pg_loss = G.batch_pgloss_generated(gen_out, generated_highlight, rewards)\n",
    "        \n",
    "        out = G(article, highlight, teacher_forcing_ratio=0.)\n",
    "        ml_loss = criterion_ml(out.permute(1, 2, 0), highlight.permute(1, 0))\n",
    "        \n",
    "        loss = beta*pg_loss + (1-beta)*ml_loss\n",
    "        total_loss += loss.data.item() * article.size(1)\n",
    "        \n",
    "        total_ml_loss += ml_loss.data.item() * article.size(1)\n",
    "        total_pg_loss += pg_loss.data.item() * article.size(1)\n",
    "    writer.add_scalar('Reward/val', total_reward / len(val_dataset), iter_num)\n",
    "    writer.add_scalar('Loss_val/loss', total_loss / len(val_dataset), iter_num)\n",
    "    writer.add_scalar('Loss_val/ml_loss', total_ml_loss / len(val_dataset), iter_num)\n",
    "    writer.add_scalar('Loss_val/pg_loss', total_pg_loss / len(val_dataset), iter_num)\n",
    "    \n",
    "    scheduler.step(total_loss)\n",
    "    \n",
    "    G_ce_val_losses.append(total_loss / len(val_dataset))\n",
    "    print(f'epoch {epoch_idx} val loss: {G_ce_val_losses[-1]}')\n",
    "    # writer.add_scalar('Loss/gen_ce_val', G_ce_val_losses[-1], iter_num)\n",
    "    \n",
    "    \n",
    "    indices = sps.randint(0, out.size(1)).rvs(size=10)\n",
    "    pred_texts = tensor_to_text(out[:, indices, :], sp, beam_search=True)\n",
    "    truth_texts = tensor_to_text(highlight[:, indices], sp)\n",
    "    for pred, truth in zip(pred_texts, truth_texts):\n",
    "        writer.add_text('Texts/pred', pred, iter_num)\n",
    "        writer.add_text('Texts/truth', truth, iter_num)\n",
    "        print(f'predicted: {pred}')\n",
    "        print(f'truth: {truth}\\n')"
   ]
  },
  {
   "cell_type": "code",
   "execution_count": 19,
   "metadata": {},
   "outputs": [],
   "source": [
    "save_path = 'saved_models/dis8_adv.pth'\n",
    "torch.save(D.state_dict(), save_path)\n",
    "\n",
    "save_path = 'saved_models/gen8_adv.pth'\n",
    "torch.save(G.state_dict(), save_path)"
   ]
  },
  {
   "cell_type": "code",
   "execution_count": null,
   "metadata": {},
   "outputs": [],
   "source": []
  }
 ],
 "metadata": {
  "kernelspec": {
   "display_name": "Python 3",
   "language": "python",
   "name": "python3"
  },
  "language_info": {
   "codemirror_mode": {
    "name": "ipython",
    "version": 3
   },
   "file_extension": ".py",
   "mimetype": "text/x-python",
   "name": "python",
   "nbconvert_exporter": "python",
   "pygments_lexer": "ipython3",
   "version": "3.7.7"
  }
 },
 "nbformat": 4,
 "nbformat_minor": 4
}
