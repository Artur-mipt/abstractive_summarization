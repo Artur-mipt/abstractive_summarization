{
 "cells": [
  {
   "cell_type": "code",
   "execution_count": 1,
   "metadata": {},
   "outputs": [],
   "source": [
    "import sentencepiece as spm\n",
    "from tqdm import tqdm\n",
    "import pandas as pd\n",
    "import numpy as np\n",
    "import seaborn as sns\n",
    "import scipy.stats as sps\n",
    "import matplotlib.pyplot as plt\n",
    "import nlp\n",
    "\n",
    "from sklearn.model_selection import train_test_split\n",
    "\n",
    "import torch\n",
    "import torch.nn as nn\n",
    "import torch.optim as optim\n",
    "import torch.nn.functional as F\n",
    "from torch.utils.data import DataLoader\n",
    "from torch.utils.tensorboard import SummaryWriter\n",
    "\n",
    "from src.seq2seq_generator import Seq2Seq, Encoder, Decoder\n",
    "from src.cnn_discriminator import CNNDiscriminator\n",
    "from src.rollout import ROLLOUT\n",
    "from src.utils import *\n",
    "from src.dataset import Dataset, Padder\n",
    "\n",
    "import gensim.corpora as corpora\n",
    "from gensim.utils import simple_preprocess\n",
    "from gensim.models import CoherenceModel\n",
    "\n",
    "sns.set_style('whitegrid')"
   ]
  },
  {
   "cell_type": "markdown",
   "metadata": {},
   "source": [
    "### 1. load data"
   ]
  },
  {
   "cell_type": "code",
   "execution_count": 2,
   "metadata": {},
   "outputs": [],
   "source": [
    "dataset_name = 'cnn'"
   ]
  },
  {
   "cell_type": "code",
   "execution_count": 3,
   "metadata": {
    "scrolled": true
   },
   "outputs": [
    {
     "name": "stdout",
     "output_type": "stream",
     "text": [
      "CPU times: user 24.2 s, sys: 611 ms, total: 24.8 s\n",
      "Wall time: 28.3 s\n"
     ]
    }
   ],
   "source": [
    "%%time\n",
    "\n",
    "if dataset_name == 'cnn':\n",
    "    train_dataset = nlp.load_dataset(\"cnn_dailymail\", \"3.0.0\", split=\"train\")\n",
    "    val_dataset = nlp.load_dataset(\"cnn_dailymail\", \"3.0.0\", split=\"validation\")\n",
    "    test_dataset = nlp.load_dataset(\"cnn_dailymail\", \"3.0.0\", split=\"test\")\n",
    "    train_articles = [process_str(item['article']) for item in train_dataset]\n",
    "    train_highlights = [process_str(item['highlights']) for item in train_dataset]\n",
    "    val_articles = [process_str(item['article']) for item in val_dataset]\n",
    "    val_highlights = [process_str(item['highlights']) for item in val_dataset]\n",
    "elif dataset_name == 'news':\n",
    "    news = pd.read_csv('data/news_summary.csv')\n",
    "    news.headlines = [process_str(s) for s in news.headlines]\n",
    "    news.text = [process_str(s) for s in news.text]\n",
    "    X_train, X_test = train_test_split(news, test_size=0.3,\n",
    "                                       random_state=42)\n",
    "    train_articles = X_train.text.values\n",
    "    train_highlights = X_train.headlines.values\n",
    "    val_articles = X_test.text.values\n",
    "    val_highlights = X_test.headlines.values"
   ]
  },
  {
   "cell_type": "code",
   "execution_count": 4,
   "metadata": {},
   "outputs": [
    {
     "name": "stdout",
     "output_type": "stream",
     "text": [
      "66414\n",
      "287113\n"
     ]
    }
   ],
   "source": [
    "indices = []\n",
    "for i in range(len(train_articles)):\n",
    "    if len(train_articles[i]) < 2500:\n",
    "        indices.append(i)\n",
    "print(len(indices))\n",
    "print(len(train_articles))\n",
    "train_articles = list(np.array(train_articles)[indices])\n",
    "train_highlights = list(np.array(train_highlights)[indices])\n",
    "\n",
    "indices = []\n",
    "for i in range(len(val_articles)):\n",
    "    if len(val_articles[i]) < 2500:\n",
    "        indices.append(i)\n",
    "        \n",
    "val_articles = list(np.array(val_articles)[indices])\n",
    "val_highlights = list(np.array(val_highlights)[indices])"
   ]
  },
  {
   "cell_type": "markdown",
   "metadata": {},
   "source": [
    "### 2. sentencepiece model"
   ]
  },
  {
   "cell_type": "code",
   "execution_count": 5,
   "metadata": {},
   "outputs": [],
   "source": [
    "train_new_model = False"
   ]
  },
  {
   "cell_type": "code",
   "execution_count": 6,
   "metadata": {},
   "outputs": [
    {
     "name": "stdout",
     "output_type": "stream",
     "text": [
      "CPU times: user 1e+03 ns, sys: 0 ns, total: 1e+03 ns\n",
      "Wall time: 2.62 µs\n"
     ]
    }
   ],
   "source": [
    "%%time\n",
    "if train_new_model:\n",
    "    with open('data/cnn_texts.txt', 'a') as f:\n",
    "        for article in tqdm(train_articles):\n",
    "            f.write(article + '\\n')\n",
    "        for highlight in tqdm(train_highlights):\n",
    "            f.write(highlight + '\\n')\n",
    "        for article in tqdm(val_articles):\n",
    "            f.write(article + '\\n')\n",
    "        for highlight in tqdm(val_highlights):\n",
    "            f.write(highlight + '\\n')\n",
    "            \n",
    "    spm.SentencePieceTrainer.train(input='data/cnn_texts.txt',\n",
    "                                   model_prefix='cnn10k',\n",
    "                                   vocab_size=10000,\n",
    "                                   pad_id=0,\n",
    "                                   bos_id=1,\n",
    "                                   eos_id=2,\n",
    "                                   unk_id=3)"
   ]
  },
  {
   "cell_type": "markdown",
   "metadata": {},
   "source": [
    "### 3. dataset and dataloaders"
   ]
  },
  {
   "cell_type": "code",
   "execution_count": 7,
   "metadata": {},
   "outputs": [],
   "source": [
    "vocab_size = 10000\n",
    "sp_modelname = f'sentencepiece_models/cnn{int(vocab_size/1000)}k.model'"
   ]
  },
  {
   "cell_type": "code",
   "execution_count": 8,
   "metadata": {},
   "outputs": [],
   "source": [
    "sp = spm.SentencePieceProcessor(model_file=sp_modelname)"
   ]
  },
  {
   "cell_type": "code",
   "execution_count": 9,
   "metadata": {},
   "outputs": [],
   "source": [
    "batch_size = 4\n",
    "train_dataset = Dataset(train_articles, train_highlights, sp=sp)\n",
    "val_dataset = Dataset(val_articles, val_highlights, sp=sp)"
   ]
  },
  {
   "cell_type": "code",
   "execution_count": 10,
   "metadata": {},
   "outputs": [],
   "source": [
    "train_dataloader = DataLoader(train_dataset, batch_size=batch_size,\n",
    "                              collate_fn=Padder(), shuffle=True)\n",
    "val_dataloader = DataLoader(val_dataset, batch_size=batch_size,\n",
    "                            collate_fn=Padder(), shuffle=True)"
   ]
  },
  {
   "cell_type": "markdown",
   "metadata": {},
   "source": [
    "### 4. model architecture"
   ]
  },
  {
   "cell_type": "code",
   "execution_count": 11,
   "metadata": {},
   "outputs": [
    {
     "name": "stdout",
     "output_type": "stream",
     "text": [
      "cuda:1\n"
     ]
    }
   ],
   "source": [
    "device = 'cuda:1' if torch.cuda.is_available() else 'cpu'\n",
    "print(device)"
   ]
  },
  {
   "cell_type": "code",
   "execution_count": 12,
   "metadata": {},
   "outputs": [],
   "source": [
    "writer = SummaryWriter()"
   ]
  },
  {
   "cell_type": "code",
   "execution_count": 13,
   "metadata": {},
   "outputs": [],
   "source": [
    "INPUT_DIM = vocab_size\n",
    "OUTPUT_DIM = vocab_size\n",
    "ENC_EMB_DIM = 256\n",
    "DEC_EMB_DIM = 256\n",
    "HID_DIM = 256\n",
    "N_LAYERS = 3\n",
    "ENC_DROPOUT = 0.1\n",
    "DEC_DROPOUT = 0.1\n",
    "\n",
    "enc = Encoder(INPUT_DIM, ENC_EMB_DIM, HID_DIM, N_LAYERS, ENC_DROPOUT)\n",
    "dec = Decoder(OUTPUT_DIM, DEC_EMB_DIM, HID_DIM, N_LAYERS, DEC_DROPOUT)\n",
    "\n",
    "G = Seq2Seq(enc, dec, device).to(device)"
   ]
  },
  {
   "cell_type": "code",
   "execution_count": 13,
   "metadata": {},
   "outputs": [],
   "source": [
    "emb_dim = 256\n",
    "hidden_dim = 256\n",
    "vocab_size = 10000\n",
    "padding_idx = 0\n",
    "D = CNNDiscriminator(embed_dim=emb_dim,\n",
    "                     vocab_size=vocab_size,\n",
    "                     num_classes=2,\n",
    "                     filter_sizes=[2, 3, 3],\n",
    "                     num_filters=200,\n",
    "                     padding_idx=padding_idx).to(device)"
   ]
  },
  {
   "cell_type": "markdown",
   "metadata": {},
   "source": [
    "### 5. generator pretraining"
   ]
  },
  {
   "cell_type": "code",
   "execution_count": 14,
   "metadata": {},
   "outputs": [],
   "source": [
    "def get_lr(optimizer):\n",
    "    for param_group in optimizer.param_groups:\n",
    "        return param_group['lr']"
   ]
  },
  {
   "cell_type": "code",
   "execution_count": 15,
   "metadata": {},
   "outputs": [],
   "source": [
    "criterion = nn.CrossEntropyLoss(ignore_index=0)\n",
    "lr = 1e-4\n",
    "opt = torch.optim.Adam(G.parameters(), lr=lr)\n",
    "scheduler = torch.optim.lr_scheduler.ReduceLROnPlateau(opt, 'min', patience=5)\n",
    "start_teacher_forcing = 0.5\n",
    "teacher_forcing_decay = 0.025\n",
    "n_epochs = 50\n",
    "\n",
    "epoch_losses = []\n",
    "val_losses = []\n",
    "iter_num = -1"
   ]
  },
  {
   "cell_type": "code",
   "execution_count": null,
   "metadata": {
    "scrolled": true
   },
   "outputs": [
    {
     "name": "stderr",
     "output_type": "stream",
     "text": [
      "8682it [29:34,  5.53it/s]IOPub message rate exceeded.\n",
      "The notebook server will temporarily stop sending output\n",
      "to the client in order to avoid crashing it.\n",
      "To change this limit, set the config variable\n",
      "`--NotebookApp.iopub_msg_rate_limit`.\n",
      "\n",
      "Current values:\n",
      "NotebookApp.iopub_msg_rate_limit=1000.0 (msgs/sec)\n",
      "NotebookApp.rate_limit_window=3.0 (secs)\n",
      "\n",
      "16604it [56:42,  4.88it/s]\n",
      "2it [00:00, 16.46it/s]"
     ]
    },
    {
     "name": "stdout",
     "output_type": "stream",
     "text": [
      "epoch 1 train loss: 6.550945527616668\n"
     ]
    },
    {
     "name": "stderr",
     "output_type": "stream",
     "text": [
      "907it [01:00, 14.98it/s]\n"
     ]
    },
    {
     "name": "stdout",
     "output_type": "stream",
     "text": [
      "epoch 1 val loss: 6.8607014984122445\n",
      "current lr 0.0001\n",
      "current teacher forcing: 0.475\n"
     ]
    },
    {
     "name": "stderr",
     "output_type": "stream",
     "text": [
      "1it [00:00,  5.35it/s]"
     ]
    },
    {
     "name": "stdout",
     "output_type": "stream",
     "text": [
      "predicted: manchester united hasedededed in the in the the the the the the the the the the the the the the the the the the the the the the the the the the the the\n",
      "truth: tomasz kucz to spend a week with manchester united on trial poland goalkeeper is wanted by several top clubs after impressing for u15s liverpool rangers and bayer leverkusen have offered the youngster trials fulham and everton are also interested in the 15 year old stopper click here for all the latest manchester united news\n",
      "\n",
      "predicted: manchester united hasededed to the in the in the the the the the the the the the the the the the the the the the the the the the the the the the the the the the the the the\n",
      "truth: manchester city paid the price against burnley admits jesus navas manuel pellegrini s side fellow to 1 0 defeat at turf moor on saturday george boyd scored as city s title chances suffered a serious blow\n",
      "\n",
      "predicted: thesssss the thes in the the the the the the the the the the the the the the the the the the the the the the the the the the the the the the\n",
      "truth: 13 month independent investigation into doping in cycling concluded 22 ⁇  page report released by cycling independent reform commission report said doping in cycling has improved but is still going on athletes now have to evade the athlete biological passport system\n",
      "\n",
      "predicted: manchester united hasedededed in the in the the the the the the the the the the the the the the the the the the the the the the the the the the the the\n",
      "truth: tomasz kucz to spend a week with manchester united on trial poland goalkeeper is wanted by several top clubs after impressing for u15s liverpool rangers and bayer leverkusen have offered the youngster trials fulham and everton are also interested in the 15 year old stopper click here for all the latest manchester united news\n",
      "\n"
     ]
    },
    {
     "name": "stderr",
     "output_type": "stream",
     "text": [
      "16604it [56:38,  4.89it/s]\n",
      "2it [00:00, 13.73it/s]"
     ]
    },
    {
     "name": "stdout",
     "output_type": "stream",
     "text": [
      "epoch 2 train loss: 6.414966688406845\n"
     ]
    },
    {
     "name": "stderr",
     "output_type": "stream",
     "text": [
      "907it [01:00, 15.10it/s]\n"
     ]
    },
    {
     "name": "stdout",
     "output_type": "stream",
     "text": [
      "epoch 2 val loss: 6.786892848871772\n",
      "current lr 0.0001\n",
      "current teacher forcing: 0.45\n"
     ]
    },
    {
     "name": "stderr",
     "output_type": "stream",
     "text": [
      "1it [00:00,  5.94it/s]"
     ]
    },
    {
     "name": "stdout",
     "output_type": "stream",
     "text": [
      "predicted: manchester united hasedededed in the in the the the the the the the theed the the the the the the the the the the the the the the the the the the\n",
      "truth: former newcastle midfielder yohan cabaye will travel to stamford bridge the frenchman has been sidelined with a groin injury since february 14 psg will however be missing winger lucas and defender serge aurier\n",
      "\n",
      "predicted: police say theededededed in the in in the in the the the theed the the the the the the the the the the the the the the the the the the the the the the the the the the the the the the\n",
      "truth: the dog called cabela was shot twice in the neck and once in the shoulder injuries were so severe its front right leg will be amputated in coming days police arrived in sulphur springs area after three calls of shots being fired they are asking for public s help to hunt down culprit and the dog s owner\n",
      "\n",
      "predicted: thesssssssssssssssssssssssssssssssssssssssssssssssssssss\n",
      "truth: woolworths give away the dominoes with every 20 spent in store parents are willing to pay hundreds for full sets for their kids the toys are part of a promotion with disney pixar individual rare dominos are also on sale on ebay\n",
      "\n",
      "predicted: manchester united hasedededed in the in the the the the the the the theed the the the the the the the the the the the the the the the the the the\n",
      "truth: former newcastle midfielder yohan cabaye will travel to stamford bridge the frenchman has been sidelined with a groin injury since february 14 psg will however be missing winger lucas and defender serge aurier\n",
      "\n"
     ]
    },
    {
     "name": "stderr",
     "output_type": "stream",
     "text": [
      "16604it [56:21,  4.91it/s]\n",
      "2it [00:00, 13.04it/s]"
     ]
    },
    {
     "name": "stdout",
     "output_type": "stream",
     "text": [
      "epoch 3 train loss: 6.316066002211791\n"
     ]
    },
    {
     "name": "stderr",
     "output_type": "stream",
     "text": [
      "907it [00:58, 15.38it/s]\n"
     ]
    },
    {
     "name": "stdout",
     "output_type": "stream",
     "text": [
      "epoch 3 val loss: 6.725425946804497\n",
      "current lr 0.0001\n",
      "current teacher forcing: 0.425\n"
     ]
    },
    {
     "name": "stderr",
     "output_type": "stream",
     "text": [
      "\r",
      "0it [00:00, ?it/s]"
     ]
    },
    {
     "name": "stdout",
     "output_type": "stream",
     "text": [
      "predicted: manchester city hasededed to the the for the season the the the the the the the the the the the the the the the the the the the the the the the the the the the the\n",
      "truth: alexis sanchez is currently away with chile on international duty chile play iran in st polten on thursday and brazil in london on sunday the arsenal forward has scored 19 goals for the gunners this season click here for all the latest arsenal news\n",
      "\n",
      "predicted: manchester city hasededed to the the for the season the the the the the the the the the the the the the the the the the the the the the the the the the the the the\n",
      "truth: alexis sanchez is currently away with chile on international duty chile play iran in st polten on thursday and brazil in london on sunday the arsenal forward has scored 19 goals for the gunners this season click here for all the latest arsenal news\n",
      "\n",
      "predicted: thessed the the in the in the in the the the the the the the the the the the the the the the the the the the the the the the the the the the the the the the the the\n",
      "truth: the lion named clara is being fed goat s milk and vitamins zoo keepers are caring for her in her own private quarters the two month old is the first to be born in captivity in brazil keepers plan to reintroduce clara to her pack in four months\n",
      "\n",
      "predicted: the man wasededed a a in a in in a in in the the the the the the the the the the the the the the the the the the the the the the the the the the the the the the the the the the the the the the the the the the the the the\n",
      "truth: a man attempted to rob the ok food store in houston texas early thursday morning at gunpoint as soon as the man pulled his gun the store clerk began repeatedly swatting at it the man then fled without firing and drove away from the scene with his accomplices\n",
      "\n"
     ]
    },
    {
     "name": "stderr",
     "output_type": "stream",
     "text": [
      "16604it [56:57,  4.86it/s]\n",
      "2it [00:00, 14.75it/s]"
     ]
    },
    {
     "name": "stdout",
     "output_type": "stream",
     "text": [
      "epoch 4 train loss: 6.248036321400555\n"
     ]
    },
    {
     "name": "stderr",
     "output_type": "stream",
     "text": [
      "907it [00:59, 15.35it/s]\n"
     ]
    },
    {
     "name": "stdout",
     "output_type": "stream",
     "text": [
      "epoch 4 val loss: 6.65902082449546\n",
      "current lr 0.0001\n",
      "current teacher forcing: 0.4\n"
     ]
    },
    {
     "name": "stderr",
     "output_type": "stream",
     "text": [
      "1it [00:00,  5.59it/s]"
     ]
    },
    {
     "name": "stdout",
     "output_type": "stream",
     "text": [
      "predicted: the was wasedededed in in in in in he wasedededed in the he waseded to theed to the he waseded to theed to theed to the he waseded to theed to the the he waseded to theed to the\n",
      "truth: killer simon hennessey jailed after 15 years on the run in australia serving life sentence for manslaughter when walked out of open prison 50 year old arrested 15 years later by officers probing credit card fraud hennessey was using stolen identity of man left brain damaged in smash after serving five and a half years in jail in australia deported back to uk judge jails hennessey for a further 16 months for evading lawful custody\n",
      "\n",
      "predicted: the was wasedededed in in in in in he wasedededed in the he waseded to theed to the he waseded to theed to theed to the he waseded to theed to the the he waseded to theed to the\n",
      "truth: killer simon hennessey jailed after 15 years on the run in australia serving life sentence for manslaughter when walked out of open prison 50 year old arrested 15 years later by officers probing credit card fraud hennessey was using stolen identity of man left brain damaged in smash after serving five and a half years in jail in australia deported back to uk judge jails hennessey for a further 16 months for evading lawful custody\n",
      "\n",
      "predicted: the was wasedededed in in in in in he wasedededed in the he waseded to theed to the he waseded to theed to theed to the he waseded to theed to the the he waseded to theed to the\n",
      "truth: killer simon hennessey jailed after 15 years on the run in australia serving life sentence for manslaughter when walked out of open prison 50 year old arrested 15 years later by officers probing credit card fraud hennessey was using stolen identity of man left brain damaged in smash after serving five and a half years in jail in australia deported back to uk judge jails hennessey for a further 16 months for evading lawful custody\n",
      "\n",
      "predicted: floyd mayweather hasededed the the the the the the the the the the the the the the the the the the the the the the the the the the the the the the the the the the the the the fight the\n",
      "truth: manny pacquiao fights floyd mayweather at the mgm grand on may 2 filipino has been training at the wild card boxing club in los angeles the 36 year old had previously complained about feeling slow trainer freddie roach insists pacquiao will be performing a public service by beating mayweather\n",
      "\n"
     ]
    },
    {
     "name": "stderr",
     "output_type": "stream",
     "text": [
      "16604it [56:58,  4.86it/s]\n",
      "2it [00:00, 14.51it/s]"
     ]
    },
    {
     "name": "stdout",
     "output_type": "stream",
     "text": [
      "epoch 5 train loss: 6.196326683052016\n"
     ]
    },
    {
     "name": "stderr",
     "output_type": "stream",
     "text": [
      "907it [00:58, 15.54it/s]\n"
     ]
    },
    {
     "name": "stdout",
     "output_type": "stream",
     "text": [
      "epoch 5 val loss: 6.617648491654402\n",
      "current lr 0.0001\n",
      "current teacher forcing: 0.375\n"
     ]
    },
    {
     "name": "stderr",
     "output_type": "stream",
     "text": [
      "\r",
      "0it [00:00, ?it/s]"
     ]
    },
    {
     "name": "stdout",
     "output_type": "stream",
     "text": [
      "predicted: theyy was wasededed her in in in in in in hers she waseded hered the her and hered the the the the the the the theed the the the the the the the the the theed the the\n",
      "truth: keyanna rivera went into labor at her doctor s office her doctor dr devalla was a few miles away finishing surgery using app dr devalla was able to help her assistants through the delivery\n",
      "\n",
      "predicted: bayern munich beats 1 0 in the in in in in in the the the the the the the the the in the in the in the the the the the the the the the in the in the in the thes the in the the\n",
      "truth: seven french coaches travelled to bayern munich for three days zinedine zidane joined willy sagnol claude makelele guy lacombe bernard diomede claude le roy and franck thivillier they watched pep guardiola take training of the bundesliga champions\n",
      "\n",
      "predicted: thesssssssssssssssssssssssssssssssssssssss\n",
      "truth: volcano shoots ash into the atmosphere some 30 000 feet winds blow ash cloud across the bering sea and into western alaska\n",
      "\n",
      "predicted: the madrid aresed in the in the the the the the the the the the the the the the the the the the the the the the the the the the the the the the the the\n",
      "truth: real madrid have ruled out possibility of hosting copa del rey final barcelona want final to be held at valencia s mestalla stadium whereas athletic bilbao believe final should be held in seville\n",
      "\n"
     ]
    },
    {
     "name": "stderr",
     "output_type": "stream",
     "text": [
      "14437it [49:28,  4.22it/s]"
     ]
    }
   ],
   "source": [
    "for epoch_idx in range(n_epochs):\n",
    "    G.train()\n",
    "    total_loss = 0.\n",
    "    teacher_forcing = start_teacher_forcing - epoch_idx*teacher_forcing_decay\n",
    "    for batch_idx, data_input in tqdm(enumerate(train_dataloader), position=0, leave=True):\n",
    "        article = data_input[0].to(device)\n",
    "        highlight = data_input[1].to(device)\n",
    "        opt.zero_grad()\n",
    "        out = G(article, highlight, teacher_forcing_ratio=teacher_forcing)\n",
    "        loss = criterion(out.permute(1, 2, 0), highlight.permute(1, 0))\n",
    "        loss.backward()\n",
    "        opt.step()\n",
    "        total_loss += loss.data.item() * article.size(1)\n",
    "        iter_num += 1\n",
    "        if iter_num % 1000 == 0:\n",
    "            writer.add_scalar('Loss/train', loss.data.item(), iter_num)\n",
    "    \n",
    "    epoch_losses.append(total_loss / len(train_dataset))\n",
    "    print(f'epoch {epoch_idx} train loss: {epoch_losses[-1]}')\n",
    "    \n",
    "    G.eval()\n",
    "    total_loss = 0.\n",
    "    for batch_idx, data_input in tqdm(enumerate(val_dataloader), position=0, leave=True):\n",
    "        article = data_input[0].to(device)\n",
    "        highlight = data_input[1].to(device)\n",
    "        out = G(article, highlight, teacher_forcing_ratio=0.)\n",
    "        loss = criterion(out.permute(1, 2, 0), highlight.permute(1, 0))\n",
    "        total_loss += loss.data.item() * article.size(1)\n",
    "\n",
    "    val_loss = total_loss / len(val_dataset)\n",
    "    val_losses.append(val_loss)\n",
    "    print(f'epoch {epoch_idx} val loss: {val_losses[-1]}')\n",
    "    writer.add_scalar('Loss/val', val_losses[-1], iter_num)\n",
    "    \n",
    "    scheduler.step(val_loss)\n",
    "    print(f'current lr {get_lr(opt)}')\n",
    "    print(f'current teacher forcing: {teacher_forcing}')\n",
    "    \n",
    "    indices = sps.randint(0, out.size(1)).rvs(size=4)\n",
    "    pred_texts = tensor_to_text(out[:, indices, :], sp, beam_search=True)\n",
    "    truth_texts = tensor_to_text(highlight[:, indices], sp)\n",
    "    for pred, truth in zip(pred_texts, truth_texts):\n",
    "        print(f'predicted: {pred}')\n",
    "        print(f'truth: {truth}\\n')"
   ]
  },
  {
   "cell_type": "code",
   "execution_count": null,
   "metadata": {},
   "outputs": [],
   "source": [
    "plt.figure(figsize=(7, 5))\n",
    "plt.title('generator pretraining')\n",
    "plt.plot(np.arange(0, len(epoch_losses)), epoch_losses,\n",
    "         label='train')\n",
    "plt.plot(np.arange(0, len(val_losses)), val_losses,\n",
    "         label='val')\n",
    "plt.xlabel('epoch')\n",
    "plt.ylabel('loss')\n",
    "plt.legend()\n",
    "plt.show()"
   ]
  },
  {
   "cell_type": "code",
   "execution_count": null,
   "metadata": {},
   "outputs": [],
   "source": [
    "save_path = 'saved_models/pretrained_seq2seq_gen_4.pth'\n",
    "torch.save(G.state_dict(), save_path)"
   ]
  },
  {
   "cell_type": "markdown",
   "metadata": {},
   "source": [
    "### 6. discriminator pretraining"
   ]
  },
  {
   "cell_type": "code",
   "execution_count": 14,
   "metadata": {},
   "outputs": [
    {
     "data": {
      "text/plain": [
       "<All keys matched successfully>"
      ]
     },
     "execution_count": 14,
     "metadata": {},
     "output_type": "execute_result"
    }
   ],
   "source": [
    "save_path = 'saved_models/pretrained_seq2seq_gen_3.pth'\n",
    "G.load_state_dict(torch.load(save_path))"
   ]
  },
  {
   "cell_type": "code",
   "execution_count": 15,
   "metadata": {},
   "outputs": [
    {
     "data": {
      "text/plain": [
       "Seq2Seq(\n",
       "  (encoder): Encoder(\n",
       "    (embedding): Embedding(10000, 256)\n",
       "    (rnn): LSTM(256, 256, num_layers=3, dropout=0.1)\n",
       "    (dropout): Dropout(p=0.1, inplace=False)\n",
       "  )\n",
       "  (decoder): Decoder(\n",
       "    (embedding): Embedding(10000, 256)\n",
       "    (rnn): LSTM(256, 256, num_layers=3, dropout=0.1)\n",
       "    (out): Linear(in_features=512, out_features=10000, bias=True)\n",
       "    (w): Linear(in_features=256, out_features=256, bias=True)\n",
       "    (attn_lin): Linear(in_features=512, out_features=512, bias=True)\n",
       "    (dropout): Dropout(p=0.1, inplace=False)\n",
       "  )\n",
       ")"
      ]
     },
     "execution_count": 15,
     "metadata": {},
     "output_type": "execute_result"
    }
   ],
   "source": [
    "G.eval()"
   ]
  },
  {
   "cell_type": "code",
   "execution_count": 16,
   "metadata": {},
   "outputs": [],
   "source": [
    "emb_dim = 256\n",
    "hidden_dim = 256\n",
    "vocab_size = 10000\n",
    "padding_idx = 0\n",
    "D = CNNDiscriminator(embed_dim=emb_dim,\n",
    "                     vocab_size=vocab_size,\n",
    "                     num_classes=2,\n",
    "                     filter_sizes=[2, 3, 3],\n",
    "                     num_filters=3,\n",
    "                     padding_idx=padding_idx).to(device)"
   ]
  },
  {
   "cell_type": "code",
   "execution_count": 18,
   "metadata": {},
   "outputs": [],
   "source": [
    "criterion = nn.BCELoss()\n",
    "lr = 1e-4\n",
    "opt = torch.optim.Adam(D.parameters(), lr=lr)\n",
    "n_epochs = 2\n",
    "\n",
    "epoch_losses = []\n",
    "val_losses = []\n",
    "iter_num = -1\n",
    "writer = SummaryWriter()"
   ]
  },
  {
   "cell_type": "code",
   "execution_count": 19,
   "metadata": {
    "scrolled": true
   },
   "outputs": [
    {
     "name": "stderr",
     "output_type": "stream",
     "text": [
      "539it [00:44, 12.18it/s]\n",
      "2it [00:00, 14.04it/s]"
     ]
    },
    {
     "name": "stdout",
     "output_type": "stream",
     "text": [
      "epoch 0 train loss: 0.23779804286710338\n"
     ]
    },
    {
     "name": "stderr",
     "output_type": "stream",
     "text": [
      "231it [00:16, 14.16it/s]\n",
      "2it [00:00, 11.64it/s]"
     ]
    },
    {
     "name": "stdout",
     "output_type": "stream",
     "text": [
      "epoch 0 val loss: 0.031208537723029284\n"
     ]
    },
    {
     "name": "stderr",
     "output_type": "stream",
     "text": [
      "539it [00:43, 12.32it/s]\n",
      "2it [00:00, 13.94it/s]"
     ]
    },
    {
     "name": "stdout",
     "output_type": "stream",
     "text": [
      "epoch 1 train loss: 0.06076200075888883\n"
     ]
    },
    {
     "name": "stderr",
     "output_type": "stream",
     "text": [
      "231it [00:16, 14.15it/s]"
     ]
    },
    {
     "name": "stdout",
     "output_type": "stream",
     "text": [
      "epoch 1 val loss: 0.005752120049201727\n"
     ]
    },
    {
     "name": "stderr",
     "output_type": "stream",
     "text": [
      "\n"
     ]
    }
   ],
   "source": [
    "for epoch_idx in range(n_epochs):\n",
    "    D.train()\n",
    "    total_loss = 0.\n",
    "    \n",
    "    for batch_idx, data_input in tqdm(enumerate(train_dataloader)):\n",
    "        article = data_input[0].to(device)\n",
    "        highlight = data_input[1].to(device)\n",
    "        generated_highlight = G(article, highlight, teacher_forcing_ratio=0.)\n",
    "        generated_highlight = torch.argmax(F.softmax(generated_highlight, dim=2), dim=2).permute(1, 0)\n",
    "        highlight = highlight.permute(1, 0)\n",
    "        batch = torch.cat([generated_highlight, highlight], dim=0)\n",
    "        targets = torch.tensor([0]*generated_highlight.size(0) + [1]*highlight.size(0)).to(device)\n",
    "        opt.zero_grad()\n",
    "        out = D(batch)\n",
    "        loss = criterion(out.squeeze(1), targets.float())\n",
    "        loss.backward()\n",
    "        opt.step()\n",
    "        total_loss += loss.data.item() * article.size(1) * 2\n",
    "        iter_num += 1\n",
    "        writer.add_scalar('Loss/train', loss.data.item(), iter_num)\n",
    "    \n",
    "    epoch_losses.append(total_loss / len(train_dataset) / 2)\n",
    "    print(f'epoch {epoch_idx} train loss: {epoch_losses[-1]}')\n",
    "    \n",
    "    D.eval()\n",
    "    total_loss = 0.\n",
    "    for batch_idx, data_input in tqdm(enumerate(val_dataloader)):\n",
    "        article = data_input[0].to(device)\n",
    "        highlight = data_input[1].to(device)\n",
    "        generated_highlight = G(article, highlight, teacher_forcing_ratio=0.)\n",
    "        generated_highlight = torch.argmax(F.softmax(generated_highlight, dim=2), dim=2).permute(1, 0)\n",
    "        highlight = highlight.permute(1, 0)\n",
    "        batch = torch.cat([generated_highlight, highlight], dim=0)\n",
    "        targets = torch.tensor([0]*generated_highlight.size(0) + [1]*highlight.size(0)).to(device)\n",
    "        out = D(batch)\n",
    "        loss = criterion(out.squeeze(1), targets.float())\n",
    "        total_loss += loss.data.item() * article.size(1) * 2\n",
    "\n",
    "    val_losses.append(total_loss / len(val_dataset) / 2)\n",
    "    writer.add_scalar('Loss/val', val_losses[-1], iter_num)\n",
    "    print(f'epoch {epoch_idx} val loss: {val_losses[-1]}')"
   ]
  },
  {
   "cell_type": "code",
   "execution_count": 22,
   "metadata": {},
   "outputs": [
    {
     "data": {
      "image/png": "[encoded data removed]",
      "text/plain": [
       "<Figure size 504x360 with 1 Axes>"
      ]
     },
     "metadata": {},
     "output_type": "display_data"
    }
   ],
   "source": [
    "plt.figure(figsize=(7, 5))\n",
    "plt.title('discriminator pretraining')\n",
    "plt.plot(np.arange(0, len(epoch_losses)), epoch_losses,\n",
    "         label='train')\n",
    "plt.plot(np.arange(0, len(val_losses)), val_losses,\n",
    "         label='val')\n",
    "plt.xlabel('epoch')\n",
    "plt.ylabel('loss')\n",
    "plt.legend()\n",
    "plt.show()"
   ]
  },
  {
   "cell_type": "code",
   "execution_count": 23,
   "metadata": {},
   "outputs": [],
   "source": [
    "save_path = 'saved_models/pretrained_dis3.pth'\n",
    "torch.save(D.state_dict(), save_path)"
   ]
  },
  {
   "cell_type": "markdown",
   "metadata": {},
   "source": [
    "### 7. adversarial training"
   ]
  },
  {
   "cell_type": "code",
   "execution_count": 11,
   "metadata": {},
   "outputs": [],
   "source": [
    "device = 'cuda:0' if torch.cuda.is_available() else 'cpu'"
   ]
  },
  {
   "cell_type": "code",
   "execution_count": 12,
   "metadata": {},
   "outputs": [
    {
     "data": {
      "text/plain": [
       "<All keys matched successfully>"
      ]
     },
     "execution_count": 12,
     "metadata": {},
     "output_type": "execute_result"
    }
   ],
   "source": [
    "vocab_size = 10000\n",
    "INPUT_DIM = vocab_size\n",
    "OUTPUT_DIM = vocab_size\n",
    "ENC_EMB_DIM = 256\n",
    "DEC_EMB_DIM = 256\n",
    "HID_DIM = 256\n",
    "N_LAYERS = 3\n",
    "ENC_DROPOUT = 0.1\n",
    "DEC_DROPOUT = 0.1\n",
    "\n",
    "enc = Encoder(INPUT_DIM, ENC_EMB_DIM, HID_DIM, N_LAYERS, ENC_DROPOUT)\n",
    "dec = Decoder(OUTPUT_DIM, DEC_EMB_DIM, HID_DIM, N_LAYERS, DEC_DROPOUT)\n",
    "\n",
    "G = Seq2Seq(enc, dec, device).to(device)\n",
    "save_path = 'saved_models/pretrained_seq2seq_gen_3.pth'\n",
    "G.load_state_dict(torch.load(save_path))"
   ]
  },
  {
   "cell_type": "code",
   "execution_count": 13,
   "metadata": {},
   "outputs": [
    {
     "data": {
      "text/plain": [
       "<All keys matched successfully>"
      ]
     },
     "execution_count": 13,
     "metadata": {},
     "output_type": "execute_result"
    }
   ],
   "source": [
    "emb_dim = 256\n",
    "hidden_dim = 256\n",
    "vocab_size = 10000\n",
    "padding_idx = 0\n",
    "D = CNNDiscriminator(embed_dim=emb_dim,\n",
    "                     vocab_size=vocab_size,\n",
    "                     num_classes=2,\n",
    "                     filter_sizes=[2, 3, 3],\n",
    "                     num_filters=3,\n",
    "                     padding_idx=padding_idx).to(device)\n",
    "save_path = 'saved_models/pretrained_dis3.pth'\n",
    "D.load_state_dict(torch.load(save_path))"
   ]
  },
  {
   "cell_type": "code",
   "execution_count": 15,
   "metadata": {},
   "outputs": [],
   "source": [
    "n_epochs = 30\n",
    "rollout_num = 2\n",
    "beta = 0.8"
   ]
  },
  {
   "cell_type": "code",
   "execution_count": 16,
   "metadata": {},
   "outputs": [],
   "source": [
    "writer = SummaryWriter()"
   ]
  },
  {
   "cell_type": "code",
   "execution_count": 17,
   "metadata": {},
   "outputs": [
    {
     "data": {
      "text/plain": [
       "Seq2Seq(\n",
       "  (encoder): Encoder(\n",
       "    (embedding): Embedding(10000, 256)\n",
       "    (rnn): LSTM(256, 256, num_layers=3, dropout=0.1)\n",
       "    (dropout): Dropout(p=0.1, inplace=False)\n",
       "  )\n",
       "  (decoder): Decoder(\n",
       "    (embedding): Embedding(10000, 256)\n",
       "    (rnn): LSTM(256, 256, num_layers=3, dropout=0.1)\n",
       "    (out): Linear(in_features=512, out_features=10000, bias=True)\n",
       "    (w): Linear(in_features=256, out_features=256, bias=True)\n",
       "    (attn_lin): Linear(in_features=512, out_features=512, bias=True)\n",
       "    (dropout): Dropout(p=0.1, inplace=False)\n",
       "  )\n",
       ")"
      ]
     },
     "execution_count": 17,
     "metadata": {},
     "output_type": "execute_result"
    }
   ],
   "source": [
    "G.train()"
   ]
  },
  {
   "cell_type": "code",
   "execution_count": 18,
   "metadata": {},
   "outputs": [
    {
     "data": {
      "text/plain": [
       "CNNDiscriminator(\n",
       "  (embed): Embedding(10000, 256, padding_idx=0)\n",
       "  (convs): ModuleList(\n",
       "    (0): Conv2d(1, 3, kernel_size=(2, 256), stride=(1, 1))\n",
       "    (1): Conv2d(1, 3, kernel_size=(3, 256), stride=(1, 1))\n",
       "    (2): Conv2d(1, 3, kernel_size=(3, 256), stride=(1, 1))\n",
       "  )\n",
       "  (dropout): Dropout(p=0.2, inplace=False)\n",
       "  (fc1): Linear(in_features=9, out_features=1, bias=True)\n",
       ")"
      ]
     },
     "execution_count": 18,
     "metadata": {},
     "output_type": "execute_result"
    }
   ],
   "source": [
    "D.train()"
   ]
  },
  {
   "cell_type": "code",
   "execution_count": null,
   "metadata": {},
   "outputs": [
    {
     "name": "stderr",
     "output_type": "stream",
     "text": [
      "248it [06:51,  1.71s/it]"
     ]
    }
   ],
   "source": [
    "discriminator_optimizer = torch.optim.Adam(D.parameters(), lr=1e-4)\n",
    "generator_optimizer = torch.optim.Adam(G.parameters(), lr=1e-4)\n",
    "criterion_ml = nn.CrossEntropyLoss(ignore_index=0)\n",
    "dis_criterion = nn.BCELoss()\n",
    "scheduler = torch.optim.lr_scheduler.ReduceLROnPlateau(generator_optimizer, 'min', patience=5)\n",
    "\n",
    "G_losses = []\n",
    "D_losses = []\n",
    "iter_num = -1\n",
    "G_ce_val_losses = []\n",
    "\n",
    "for epoch_idx in range(n_epochs):\n",
    "    total_G_loss = 0.\n",
    "    total_D_loss = 0.\n",
    "    G.train()\n",
    "    D.train()\n",
    "    for batch_idx, data_input in tqdm(enumerate(train_dataloader)):\n",
    "        article = data_input[0].to(device)\n",
    "        highlight = data_input[1].to(device)\n",
    "        \n",
    "        # Discriminator\n",
    "        '''\n",
    "        generated_highlight = G(article, highlight, teacher_forcing_ratio=0.)\n",
    "        generated_highlight = torch.argmax(F.softmax(generated_highlight, dim=2), dim=2).permute(1, 0)\n",
    "        batch = torch.cat([generated_highlight, highlight.permute(1, 0)], dim=0)\n",
    "        targets = torch.tensor([0]*generated_highlight.size(0) + [1]*highlight.size(1)).to(device)\n",
    "        discriminator_optimizer.zero_grad()\n",
    "        generator_optimizer.zero_grad()\n",
    "        out = D(batch)\n",
    "        loss = dis_criterion(out.squeeze(1), targets.float())\n",
    "        loss.backward()\n",
    "        discriminator_optimizer.step()\n",
    "        total_D_loss += loss.data.item() * highlight.size(1) * 2\n",
    "        iter_num += 1\n",
    "        writer.add_scalar('Loss/dis_adv_train', loss.data.item(), iter_num)\n",
    "        '''\n",
    "        iter_num += 1\n",
    "        \n",
    "        # Generator\n",
    "        generator_optimizer.zero_grad()\n",
    "        discriminator_optimizer.zero_grad()\n",
    "        gen_out = G.sample(article, highlight, teacher_forcing_ratio=0.)\n",
    "        generated_highlight = torch.argmax(F.softmax(gen_out, dim=2), dim=2).permute(1, 0)\n",
    "        rollout_func = ROLLOUT(G)\n",
    "        rewards = rollout_func.get_reward(article, generated_highlight, rollout_num, D)\n",
    "        # rewards = 1 - rewards\n",
    "        writer.add_scalar('Reward/train', rewards.mean().data.item(), iter_num)\n",
    "        pg_loss = G.batch_pgloss(article, highlight, rewards)\n",
    "        \n",
    "        out = G(article, highlight, teacher_forcing_ratio=0.)\n",
    "        ml_loss = criterion_ml(out.permute(1, 2, 0), highlight.permute(1, 0))\n",
    "        \n",
    "        loss = beta*pg_loss + (1-beta)*ml_loss\n",
    "        loss.backward()\n",
    "        generator_optimizer.step()\n",
    "        writer.add_scalar('Loss_train/loss', loss.data.item(), iter_num)\n",
    "        writer.add_scalar('Loss_train/ml_loss', ml_loss.data.item(), iter_num)\n",
    "        writer.add_scalar('Loss_train/pg_loss', pg_loss.data.item(), iter_num)\n",
    "        total_G_loss += loss.data.item() * article.size(1)\n",
    "\n",
    "    G_losses.append(total_G_loss / len(train_dataset))\n",
    "    D_losses.append(total_D_loss / len(train_dataset) / 2)\n",
    "    print(f'epoch {epoch_idx} G loss: {G_losses[-1]}')\n",
    "    print(f'epoch {epoch_idx} D loss: {D_losses[-1]}')\n",
    "    \n",
    "    G.eval()\n",
    "    total_loss = 0.\n",
    "    total_reward = 0.\n",
    "    total_ml_loss = 0.\n",
    "    total_pg_loss = 0.\n",
    "    for batch_idx, data_input in tqdm(enumerate(val_dataloader), position=0, leave=True):\n",
    "        article = data_input[0].to(device)\n",
    "        highlight = data_input[1].to(device)\n",
    "        gen_out = G(article, highlight, teacher_forcing_ratio=0.)\n",
    "        generated_highlight = torch.argmax(F.softmax(gen_out, dim=2), dim=2).permute(1, 0)\n",
    "        rollout_func = ROLLOUT(G)\n",
    "        rewards = rollout_func.get_reward(article, generated_highlight, rollout_num, D)\n",
    "        # rewards = 1 - rewards\n",
    "        total_reward += rewards.mean().data.item() * article.size(1)\n",
    "        pg_loss = G.batch_pgloss(article, highlight, rewards)\n",
    "        \n",
    "        out = G(article, highlight, teacher_forcing_ratio=0.)\n",
    "        ml_loss = criterion_ml(out.permute(1, 2, 0), highlight.permute(1, 0))\n",
    "        \n",
    "        loss = beta*pg_loss + (1-beta)*ml_loss\n",
    "        total_loss += loss.data.item() * article.size(1)\n",
    "        \n",
    "        total_ml_loss += ml_loss.data.item() * article.size(1)\n",
    "        total_pg_loss += pg_loss.data.item() * article.size(1)\n",
    "    writer.add_scalar('Reward/val', total_reward / len(val_dataset), iter_num)\n",
    "    writer.add_scalar('Loss_val/loss', total_loss / len(val_dataset), iter_num)\n",
    "    writer.add_scalar('Loss_val/ml_loss', total_ml_loss / len(val_dataset), iter_num)\n",
    "    writer.add_scalar('Loss_val/pg_loss', total_pg_loss / len(val_dataset), iter_num)\n",
    "    \n",
    "    scheduler.step(total_loss)\n",
    "    \n",
    "    G_ce_val_losses.append(total_loss / len(val_dataset))\n",
    "    print(f'epoch {epoch_idx} val loss: {G_ce_val_losses[-1]}')\n",
    "    # writer.add_scalar('Loss/gen_ce_val', G_ce_val_losses[-1], iter_num)\n",
    "    \n",
    "    indices = sps.randint(0, out.size(1)).rvs(size=10)\n",
    "    pred_texts = tensor_to_text(out[:, indices, :], sp, beam_search=True)\n",
    "    truth_texts = tensor_to_text(highlight[:, indices], sp)\n",
    "    for pred, truth in zip(pred_texts, truth_texts):\n",
    "        print(f'predicted: {pred}')\n",
    "        print(f'truth: {truth}\\n')"
   ]
  },
  {
   "cell_type": "code",
   "execution_count": 21,
   "metadata": {},
   "outputs": [],
   "source": [
    "save_path = 'saved_models/dis4_adv.pth'\n",
    "torch.save(D.state_dict(), save_path)\n",
    "\n",
    "save_path = 'saved_models/gen4_adv.pth'\n",
    "torch.save(G.state_dict(), save_path)"
   ]
  },
  {
   "cell_type": "code",
   "execution_count": null,
   "metadata": {},
   "outputs": [],
   "source": []
  }
 ],
 "metadata": {
  "kernelspec": {
   "display_name": "Python 3",
   "language": "python",
   "name": "python3"
  },
  "language_info": {
   "codemirror_mode": {
    "name": "ipython",
    "version": 3
   },
   "file_extension": ".py",
   "mimetype": "text/x-python",
   "name": "python",
   "nbconvert_exporter": "python",
   "pygments_lexer": "ipython3",
   "version": "3.7.9"
  }
 },
 "nbformat": 4,
 "nbformat_minor": 4
}
