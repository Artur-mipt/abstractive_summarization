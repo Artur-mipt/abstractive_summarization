{
 "cells": [
  {
   "cell_type": "code",
   "execution_count": 3,
   "metadata": {},
   "outputs": [],
   "source": [
    "import nlp\n",
    "import sentencepiece as spm\n",
    "from tqdm import tqdm\n",
    "import pandas as pd\n",
    "import numpy as np\n",
    "import re\n",
    "import matplotlib.pyplot as plt\n",
    "import seaborn as sns\n",
    "import scipy.stats as sps\n",
    "\n",
    "from sklearn.model_selection import train_test_split\n",
    "\n",
    "import torch\n",
    "import torch.nn as nn\n",
    "import torch.optim as optim\n",
    "import torch.nn.functional as F\n",
    "from torch.utils.data import Dataset as TorchDataset, DataLoader\n",
    "from torch.utils.tensorboard import SummaryWriter\n",
    "\n",
    "from models.seq2seq_generator import Seq2Seq, Encoder, Decoder\n",
    "from models.lstm_generator import LSTMGenerator\n",
    "from models.cnn_discriminator import CNNDiscriminator2\n",
    "from models.cnn_discriminator3 import CNNDiscriminator3\n",
    "from models.rollout import ROLLOUT\n",
    "import models\n",
    "\n",
    "import gensim\n",
    "import gensim.corpora as corpora\n",
    "from gensim.utils import simple_preprocess\n",
    "from gensim.models import CoherenceModel\n",
    "\n",
    "import spacy\n",
    "from nltk.corpus import stopwords\n",
    "\n",
    "sns.set_style('whitegrid')\n",
    "\n",
    "stop_words = stopwords.words('english')\n",
    "stop_words.extend(['from', 'subject', 're', 'edu', 'use'])\n",
    "\n",
    "from scipy import spatial"
   ]
  },
  {
   "cell_type": "code",
   "execution_count": 2,
   "metadata": {},
   "outputs": [
    {
     "data": {
      "text/plain": [
       "<module 'models.seq2seq_generator' from '/home/amutolapov/topical_summarization/gans/models/seq2seq_generator.py'>"
      ]
     },
     "execution_count": 2,
     "metadata": {},
     "output_type": "execute_result"
    }
   ],
   "source": [
    "import importlib\n",
    "importlib.reload(models.cnn_discriminator3)\n",
    "importlib.reload(models.seq2seq_generator)"
   ]
  },
  {
   "cell_type": "markdown",
   "metadata": {},
   "source": [
    "### 1. load data"
   ]
  },
  {
   "cell_type": "code",
   "execution_count": 4,
   "metadata": {
    "scrolled": true
   },
   "outputs": [
    {
     "name": "stdout",
     "output_type": "stream",
     "text": [
      "CPU times: user 152 ms, sys: 1.63 ms, total: 154 ms\n",
      "Wall time: 3.51 s\n"
     ]
    }
   ],
   "source": [
    "%%time\n",
    "train_dataset = nlp.load_dataset(\"cnn_dailymail\", \"3.0.0\", split=\"train\")\n",
    "val_dataset = nlp.load_dataset(\"cnn_dailymail\", \"3.0.0\", split=\"validation\")\n",
    "test_dataset = nlp.load_dataset(\"cnn_dailymail\", \"3.0.0\", split=\"test\")"
   ]
  },
  {
   "cell_type": "code",
   "execution_count": 5,
   "metadata": {},
   "outputs": [
    {
     "name": "stdout",
     "output_type": "stream",
     "text": [
      "CPU times: user 9.59 s, sys: 332 ms, total: 9.92 s\n",
      "Wall time: 9.92 s\n"
     ]
    }
   ],
   "source": [
    "%%time\n",
    "train_articles = [item['article'] for item in train_dataset]\n",
    "train_highlights = [item['highlights'] for item in train_dataset]\n",
    "val_articles = [item['article'] for item in val_dataset]\n",
    "val_highlights = [item['highlights'] for item in val_dataset]"
   ]
  },
  {
   "cell_type": "code",
   "execution_count": 6,
   "metadata": {},
   "outputs": [],
   "source": [
    "def process_str(s):\n",
    "    s = s.lower()\n",
    "    s = re.sub(\"[^0-9a-zA-Z ]\", \" \", s)\n",
    "    return s\n",
    "\n",
    "news = pd.read_csv('data/news_summary.csv')\n",
    "news.headlines = [process_str(s) for s in news.headlines]\n",
    "news.text = [process_str(s) for s in news.text]\n",
    "X_train, X_test = train_test_split(news, test_size=0.3,\n",
    "                                   random_state=42)\n",
    "\n",
    "train_articles = X_train.text.values\n",
    "train_highlights = X_train.headlines.values\n",
    "val_articles = X_test.text.values\n",
    "val_highlights = X_test.headlines.values"
   ]
  },
  {
   "cell_type": "code",
   "execution_count": 7,
   "metadata": {},
   "outputs": [
    {
     "data": {
      "text/plain": [
       "\"\\n%%time\\nwith open('data/news_texts.txt', 'a') as f:\\n    for article in tqdm(train_articles):\\n        f.write(article + '\\n')\\n    for highlight in tqdm(train_highlights):\\n        f.write(highlight + '\\n')\\n    for article in tqdm(val_articles):\\n        f.write(article + '\\n')\\n    for highlight in tqdm(val_highlights):\\n        f.write(highlight + '\\n')\\n\""
      ]
     },
     "execution_count": 7,
     "metadata": {},
     "output_type": "execute_result"
    }
   ],
   "source": [
    "'''\n",
    "%%time\n",
    "with open('data/news_texts.txt', 'a') as f:\n",
    "    for article in tqdm(train_articles):\n",
    "        f.write(article + '\\n')\n",
    "    for highlight in tqdm(train_highlights):\n",
    "        f.write(highlight + '\\n')\n",
    "    for article in tqdm(val_articles):\n",
    "        f.write(article + '\\n')\n",
    "    for highlight in tqdm(val_highlights):\n",
    "        f.write(highlight + '\\n')\n",
    "'''"
   ]
  },
  {
   "cell_type": "code",
   "execution_count": 8,
   "metadata": {},
   "outputs": [
    {
     "data": {
      "text/plain": [
       "\"\\n%%time\\nspm.SentencePieceTrainer.train(input='data/news_texts.txt',\\n                               model_prefix='news10k',\\n                               vocab_size=10000,\\n                               pad_id=0,\\n                               bos_id=1,\\n                               eos_id=2,\\n                               unk_id=3)\\n\""
      ]
     },
     "execution_count": 8,
     "metadata": {},
     "output_type": "execute_result"
    }
   ],
   "source": [
    "'''\n",
    "%%time\n",
    "spm.SentencePieceTrainer.train(input='data/news_texts.txt',\n",
    "                               model_prefix='news10k',\n",
    "                               vocab_size=10000,\n",
    "                               pad_id=0,\n",
    "                               bos_id=1,\n",
    "                               eos_id=2,\n",
    "                               unk_id=3)\n",
    "'''"
   ]
  },
  {
   "cell_type": "markdown",
   "metadata": {},
   "source": [
    "### 2. lda"
   ]
  },
  {
   "cell_type": "code",
   "execution_count": 9,
   "metadata": {},
   "outputs": [],
   "source": [
    "def sent_to_words(sentences):\n",
    "    for sentence in sentences:\n",
    "        yield(gensim.utils.simple_preprocess(str(sentence), deacc=True))  # deacc=True removes punctuations\n",
    "        \n",
    "articles_words = list(sent_to_words(train_articles))\n",
    "highlights_words = list(sent_to_words(train_highlights))\n",
    "words = articles_words"
   ]
  },
  {
   "cell_type": "code",
   "execution_count": 10,
   "metadata": {},
   "outputs": [
    {
     "name": "stdout",
     "output_type": "stream",
     "text": [
      "['white', 'coloured', 'pakistani', 'helicopter', 'violated', 'indian', 'airspace', 'along', 'the', 'line', 'of', 'control', 'in', 'jammu', 'and', 'kashmir', 'around', 'pm', 'on', 'sunday', 'defence', 'spokesman', 'lt', 'col', 'devender', 'anand', 'said', 'the', 'helicopter', 'flew', 'near', 'the', 'line', 'of', 'control', 'before', 'returning', 'to', 'pakistan', 'territory', 'as', 'per', 'reports', 'the', 'indian', 'army', 'reportedly', 'tried', 'to', 'shoot', 'it', 'down']\n",
      "CPU times: user 28.4 s, sys: 39.8 ms, total: 28.5 s\n",
      "Wall time: 28.5 s\n"
     ]
    }
   ],
   "source": [
    "%%time\n",
    "bigram = gensim.models.Phrases(words, min_count=5, threshold=100) # higher threshold fewer phrases.\n",
    "trigram = gensim.models.Phrases(bigram[words], threshold=100)  \n",
    "\n",
    "bigram_mod = gensim.models.phrases.Phraser(bigram)\n",
    "trigram_mod = gensim.models.phrases.Phraser(trigram)\n",
    "\n",
    "print(trigram_mod[bigram_mod[articles_words[0]]])"
   ]
  },
  {
   "cell_type": "code",
   "execution_count": 11,
   "metadata": {},
   "outputs": [],
   "source": [
    "def remove_stopwords(texts):\n",
    "    return [[word for word in simple_preprocess(str(doc)) if word not in stop_words] for doc in texts]\n",
    "\n",
    "def make_bigrams(texts):\n",
    "    return [bigram_mod[doc] for doc in texts]\n",
    "\n",
    "def make_trigrams(texts):\n",
    "    return [trigram_mod[bigram_mod[doc]] for doc in texts]\n",
    "\n",
    "def lemmatization(texts, allowed_postags=['NOUN', 'ADJ', 'VERB', 'ADV']):\n",
    "    texts_out = []\n",
    "    for sent in texts:\n",
    "        doc = nlp(\" \".join(sent)) \n",
    "        texts_out.append([token.lemma_ for token in doc if token.pos_ in allowed_postags])\n",
    "    return texts_out"
   ]
  },
  {
   "cell_type": "code",
   "execution_count": 12,
   "metadata": {},
   "outputs": [
    {
     "name": "stdout",
     "output_type": "stream",
     "text": [
      "[['helicopter', 'violate', 'indian', 'line', 'spokesman', 'say', 'helicopter', 'fly', 'line', 'control', 'return', 'territory', 'report', 'indian', 'reportedly', 'try', 'shoot']]\n",
      "CPU times: user 2min 4s, sys: 204 ms, total: 2min 5s\n",
      "Wall time: 2min 5s\n"
     ]
    }
   ],
   "source": [
    "%%time\n",
    "\n",
    "# Remove Stop Words\n",
    "data_words_nostops = remove_stopwords(words)\n",
    "# Form Bigrams\n",
    "data_words_bigrams = make_bigrams(data_words_nostops)\n",
    "# Initialize spacy 'en' model, keeping only tagger component (for efficiency)\n",
    "# python3 -m spacy download en\n",
    "nlp = spacy.load('en', disable=['parser', 'ner'])\n",
    "# Do lemmatization keeping only noun, adj, vb, adv\n",
    "data_lemmatized = lemmatization(data_words_bigrams, allowed_postags=['NOUN', 'ADJ', 'VERB', 'ADV'])\n",
    "print(data_lemmatized[:1])"
   ]
  },
  {
   "cell_type": "code",
   "execution_count": 13,
   "metadata": {},
   "outputs": [
    {
     "name": "stdout",
     "output_type": "stream",
     "text": [
      "[[(0, 1), (1, 1), (2, 2), (3, 2), (4, 2), (5, 1), (6, 1), (7, 1), (8, 1), (9, 1), (10, 1), (11, 1), (12, 1), (13, 1)]]\n"
     ]
    }
   ],
   "source": [
    "# Create Dictionary\n",
    "id2word = corpora.Dictionary(data_lemmatized)\n",
    "# Create Corpus\n",
    "texts = data_lemmatized\n",
    "# Term Document Frequency\n",
    "corpus = [id2word.doc2bow(text) for text in texts]\n",
    "# View\n",
    "print(corpus[:1])"
   ]
  },
  {
   "cell_type": "code",
   "execution_count": 14,
   "metadata": {},
   "outputs": [
    {
     "data": {
      "text/plain": [
       "'control'"
      ]
     },
     "execution_count": 14,
     "metadata": {},
     "output_type": "execute_result"
    }
   ],
   "source": [
    "id2word[0]"
   ]
  },
  {
   "cell_type": "code",
   "execution_count": 15,
   "metadata": {},
   "outputs": [
    {
     "data": {
      "text/plain": [
       "[[('control', 1),\n",
       "  ('fly', 1),\n",
       "  ('helicopter', 2),\n",
       "  ('indian', 2),\n",
       "  ('line', 2),\n",
       "  ('report', 1),\n",
       "  ('reportedly', 1),\n",
       "  ('return', 1),\n",
       "  ('say', 1),\n",
       "  ('shoot', 1),\n",
       "  ('spokesman', 1),\n",
       "  ('territory', 1),\n",
       "  ('try', 1),\n",
       "  ('violate', 1)]]"
      ]
     },
     "execution_count": 15,
     "metadata": {},
     "output_type": "execute_result"
    }
   ],
   "source": [
    "[[(id2word[id], freq) for id, freq in cp] for cp in corpus[:1]]"
   ]
  },
  {
   "cell_type": "code",
   "execution_count": 16,
   "metadata": {},
   "outputs": [
    {
     "name": "stdout",
     "output_type": "stream",
     "text": [
      "CPU times: user 3min 52s, sys: 16 ms, total: 3min 52s\n",
      "Wall time: 3min 52s\n"
     ]
    }
   ],
   "source": [
    "%%time\n",
    "lda_model = gensim.models.ldamodel.LdaModel(corpus=corpus,\n",
    "                                            id2word=id2word,\n",
    "                                            num_topics=10, \n",
    "                                            random_state=100,\n",
    "                                            update_every=1,\n",
    "                                            chunksize=100,\n",
    "                                            passes=10,\n",
    "                                            alpha='auto',\n",
    "                                            per_word_topics=True)"
   ]
  },
  {
   "cell_type": "code",
   "execution_count": 17,
   "metadata": {},
   "outputs": [
    {
     "data": {
      "text/plain": [
       "[(0,\n",
       "  '0.122*\"year\" + 0.046*\"woman\" + 0.045*\"old\" + 0.036*\"man\" + 0.034*\"last\" + 0.025*\"month\" + 0.021*\"leader\" + 0.020*\"video\" + 0.016*\"post\" + 0.014*\"lose\"'),\n",
       " (1,\n",
       "  '0.063*\"police\" + 0.034*\"official\" + 0.030*\"find\" + 0.029*\"follow\" + 0.029*\"case\" + 0.026*\"allegedly\" + 0.019*\"due\" + 0.018*\"incident\" + 0.018*\"allege\" + 0.016*\"charge\"'),\n",
       " (2,\n",
       "  '0.037*\"tweet\" + 0.035*\"user\" + 0.034*\"new\" + 0.034*\"announce\" + 0.026*\"launch\" + 0.022*\"start\" + 0.021*\"move\" + 0.015*\"datum\" + 0.014*\"law\" + 0.014*\"create\"'),\n",
       " (3,\n",
       "  '0.049*\"arrest\" + 0.046*\"actor\" + 0.040*\"release\" + 0.029*\"trump\" + 0.022*\"demand\" + 0.022*\"raise\" + 0.020*\"actress\" + 0.020*\"fire\" + 0.016*\"area\" + 0.015*\"award\"'),\n",
       " (4,\n",
       "  '0.035*\"could\" + 0.032*\"hold\" + 0.026*\"service\" + 0.023*\"ban\" + 0.023*\"employee\" + 0.018*\"build\" + 0.017*\"suggest\" + 0.017*\"study\" + 0.015*\"stand\" + 0.014*\"ahead\"'),\n",
       " (5,\n",
       "  '0.096*\"say\" + 0.035*\"add\" + 0.021*\"also\" + 0.018*\"government\" + 0.017*\"report\" + 0.017*\"make\" + 0.017*\"people\" + 0.014*\"claim\" + 0.014*\"come\" + 0.014*\"state\"'),\n",
       " (6,\n",
       "  '0.075*\"film\" + 0.033*\"share\" + 0.032*\"show\" + 0.019*\"tell\" + 0.019*\"picture\" + 0.018*\"direct\" + 0.016*\"look\" + 0.016*\"right\" + 0.015*\"meet\" + 0.015*\"think\"'),\n",
       " (7,\n",
       "  '0.027*\"company\" + 0.027*\"would\" + 0.026*\"country\" + 0.026*\"include\" + 0.026*\"use\" + 0.024*\"base\" + 0.019*\"write\" + 0.018*\"lead\" + 0.017*\"world\" + 0.017*\"name\"'),\n",
       " (8,\n",
       "  '0.023*\"nearly\" + 0.022*\"place\" + 0.016*\"job\" + 0.016*\"bank\" + 0.016*\"medium\" + 0.015*\"question\" + 0.015*\"sale\" + 0.015*\"business\" + 0.014*\"can\" + 0.014*\"form\"'),\n",
       " (9,\n",
       "  '0.041*\"take\" + 0.035*\"first\" + 0.033*\"time\" + 0.028*\"former\" + 0.021*\"team\" + 0.020*\"indian\" + 0.019*\"become\" + 0.017*\"play\" + 0.016*\"high\" + 0.015*\"second\"')]"
      ]
     },
     "execution_count": 17,
     "metadata": {},
     "output_type": "execute_result"
    }
   ],
   "source": [
    "lda_model.print_topics()"
   ]
  },
  {
   "cell_type": "code",
   "execution_count": 18,
   "metadata": {},
   "outputs": [
    {
     "data": {
      "text/plain": [
       "[(0, 0.07709452),\n",
       " (1, 0.09352767),\n",
       " (2, 0.03485591),\n",
       " (3, 0.028689157),\n",
       " (4, 0.025051974),\n",
       " (5, 0.1638245),\n",
       " (6, 0.059819784),\n",
       " (7, 0.11712099),\n",
       " (8, 0.027248144),\n",
       " (9, 0.37276733)]"
      ]
     },
     "execution_count": 18,
     "metadata": {},
     "output_type": "execute_result"
    }
   ],
   "source": [
    "lda_model.get_document_topics(corpus[200])"
   ]
  },
  {
   "cell_type": "code",
   "execution_count": 19,
   "metadata": {},
   "outputs": [],
   "source": [
    "def get_topic_vector(text):\n",
    "    doc_topic_vector = lda_model.get_document_topics(text)\n",
    "    return [a[1] for a in doc_topic_vector]\n",
    "\n",
    "def get_ohe_topic_vector(text):\n",
    "    doc_topic_vector = lda_model.get_document_topics(text)\n",
    "    doc_topic_vector = [a[1] for a in doc_topic_vector]\n",
    "    max_ind = np.argmax(doc_topic_vector)\n",
    "    zeros = np.zeros(len(doc_topic_vector))\n",
    "    zeros[max_ind] = 1\n",
    "    return zeros"
   ]
  },
  {
   "cell_type": "code",
   "execution_count": 20,
   "metadata": {},
   "outputs": [
    {
     "data": {
      "text/plain": [
       "[0.077094525,\n",
       " 0.093527675,\n",
       " 0.03485591,\n",
       " 0.028689157,\n",
       " 0.025051974,\n",
       " 0.1638245,\n",
       " 0.05981979,\n",
       " 0.11712099,\n",
       " 0.027248144,\n",
       " 0.37276733]"
      ]
     },
     "execution_count": 20,
     "metadata": {},
     "output_type": "execute_result"
    }
   ],
   "source": [
    "get_topic_vector(corpus[200])"
   ]
  },
  {
   "cell_type": "code",
   "execution_count": 21,
   "metadata": {},
   "outputs": [
    {
     "data": {
      "text/plain": [
       "array([0., 0., 0., 0., 0., 0., 0., 0., 0., 1.])"
      ]
     },
     "execution_count": 21,
     "metadata": {},
     "output_type": "execute_result"
    }
   ],
   "source": [
    "get_ohe_topic_vector(corpus[200])"
   ]
  },
  {
   "cell_type": "markdown",
   "metadata": {},
   "source": [
    "### 3. Process highlights"
   ]
  },
  {
   "cell_type": "code",
   "execution_count": 22,
   "metadata": {},
   "outputs": [
    {
     "name": "stdout",
     "output_type": "stream",
     "text": [
      "['pakistani', 'helicopter', 'violates', 'indian', 'airspace', 'in', 'jammu_and_kashmir']\n",
      "[['violate']]\n",
      "CPU times: user 1min 26s, sys: 92 ms, total: 1min 26s\n",
      "Wall time: 1min 26s\n"
     ]
    }
   ],
   "source": [
    "%%time\n",
    "bigram = gensim.models.Phrases(highlights_words, min_count=5, threshold=100) # higher threshold fewer phrases.\n",
    "trigram = gensim.models.Phrases(bigram[highlights_words], threshold=100)  \n",
    "\n",
    "bigram_mod = gensim.models.phrases.Phraser(bigram)\n",
    "trigram_mod = gensim.models.phrases.Phraser(trigram)\n",
    "\n",
    "print(trigram_mod[bigram_mod[highlights_words[0]]])\n",
    "\n",
    "# Remove Stop Words\n",
    "data_words_nostops = remove_stopwords(highlights_words)\n",
    "# Form Bigrams\n",
    "data_words_bigrams = make_bigrams(data_words_nostops)\n",
    "# Initialize spacy 'en' model, keeping only tagger component (for efficiency)\n",
    "# python3 -m spacy download en\n",
    "nlp = spacy.load('en', disable=['parser', 'ner'])\n",
    "# Do lemmatization keeping only noun, adj, vb, adv\n",
    "data_lemmatized = lemmatization(data_words_bigrams, allowed_postags=['NOUN', 'ADJ', 'VERB', 'ADV'])\n",
    "print(data_lemmatized[:1])\n",
    "\n",
    "# Create Dictionary\n",
    "id2word = corpora.Dictionary(data_lemmatized)\n",
    "# Create Corpus\n",
    "texts = data_lemmatized\n",
    "# Term Document Frequency\n",
    "highlights_corpus = [id2word.doc2bow(text) for text in texts]"
   ]
  },
  {
   "cell_type": "code",
   "execution_count": 23,
   "metadata": {},
   "outputs": [
    {
     "name": "stdout",
     "output_type": "stream",
     "text": [
      "68880\n",
      "68880\n"
     ]
    }
   ],
   "source": [
    "print(len(highlights_corpus))\n",
    "print(len(corpus))"
   ]
  },
  {
   "cell_type": "markdown",
   "metadata": {},
   "source": [
    "### 4. Topic difference"
   ]
  },
  {
   "cell_type": "code",
   "execution_count": 24,
   "metadata": {},
   "outputs": [],
   "source": [
    "article_topics = [get_topic_vector(text) for text in corpus]\n",
    "article_ohe = [get_ohe_topic_vector(text) for text in corpus]\n",
    "highlight_topics = [get_topic_vector(text) for text in highlights_corpus]\n",
    "highlight_ohe = [get_ohe_topic_vector(text) for text in highlights_corpus]"
   ]
  },
  {
   "cell_type": "code",
   "execution_count": 27,
   "metadata": {},
   "outputs": [],
   "source": [
    "def cosine_dist(v1, v2):\n",
    "    return 1 - spatial.distance.cosine(v1, v2)\n",
    "\n",
    "def euclidean_dist(v1, v2):\n",
    "    return np.linalg.norm(np.array(v1) - np.array(v2))"
   ]
  },
  {
   "cell_type": "code",
   "execution_count": 46,
   "metadata": {},
   "outputs": [],
   "source": [
    "cosine_dists = []\n",
    "euclidean_dists = []\n",
    "for article_topic, highlight_topic in zip(article_topics, highlight_topics):\n",
    "    cosine_dists.append(cosine_dist(article_topic, highlight_topic))\n",
    "    euclidean_dists.append(euclidean_dist(article_topic, highlight_topic))\n",
    "    \n",
    "cosine_dists = np.array(cosine_dists)\n",
    "euclidean_dists = np.array(euclidean_dists)"
   ]
  },
  {
   "cell_type": "code",
   "execution_count": 48,
   "metadata": {},
   "outputs": [
    {
     "name": "stdout",
     "output_type": "stream",
     "text": [
      "cosine distances: mean 0.931, std 0.046\n",
      "euclidean distances: mean 0.14900000393390656, std 0.04899999871850014\n"
     ]
    }
   ],
   "source": [
    "print(f'cosine distances: mean {round(np.mean(cosine_dists), 3)}, std {round(np.std(cosine_dists), 3)}')\n",
    "print(f'euclidean distances: mean {round(np.mean(euclidean_dists), 3)}, std {round(np.std(euclidean_dists), 3)}')"
   ]
  },
  {
   "cell_type": "code",
   "execution_count": 33,
   "metadata": {},
   "outputs": [
    {
     "data": {
      "image/png": "[encoded data removed]",
      "text/plain": [
       "<Figure size 432x288 with 1 Axes>"
      ]
     },
     "metadata": {},
     "output_type": "display_data"
    }
   ],
   "source": [
    "plt.title('cosine distances')\n",
    "plt.hist(cosine_dists, bins=20)\n",
    "plt.show()"
   ]
  },
  {
   "cell_type": "code",
   "execution_count": 35,
   "metadata": {},
   "outputs": [
    {
     "data": {
      "image/png": "[encoded data removed]",
      "text/plain": [
       "<Figure size 432x288 with 1 Axes>"
      ]
     },
     "metadata": {},
     "output_type": "display_data"
    }
   ],
   "source": [
    "plt.title('euclidean distances')\n",
    "plt.hist(euclidean_dists, bins=20)\n",
    "plt.show()"
   ]
  },
  {
   "cell_type": "markdown",
   "metadata": {},
   "source": [
    "### 5. dataset and dataloaders"
   ]
  },
  {
   "cell_type": "code",
   "execution_count": 49,
   "metadata": {},
   "outputs": [],
   "source": [
    "sp = spm.SentencePieceProcessor(model_file='news10k.model')"
   ]
  },
  {
   "cell_type": "code",
   "execution_count": 50,
   "metadata": {},
   "outputs": [],
   "source": [
    "class Dataset(TorchDataset):\n",
    "    def __init__(self, articles, highlights):\n",
    "        self.articles = articles\n",
    "        self.highlights = highlights\n",
    "\n",
    "    def __getitem__(self, index):\n",
    "        article = self.articles[index]\n",
    "        highlight = self.highlights[index]\n",
    "        \n",
    "        return (torch.tensor([1] + sp.encode(article) + [2], dtype=torch.long),\n",
    "                torch.tensor([1] + sp.encode(highlight) + [2], dtype=torch.long))\n",
    "\n",
    "    def __len__(self):\n",
    "        return len(self.articles)"
   ]
  },
  {
   "cell_type": "code",
   "execution_count": 51,
   "metadata": {},
   "outputs": [],
   "source": [
    "def pad_tensor(vec, length, dim, pad_symbol):\n",
    "    pad_size = length - vec.shape[dim]\n",
    "    return torch.cat([vec, torch.zeros(pad_size, dtype=torch.long) + pad_symbol],\n",
    "                     dim=dim)\n",
    "\n",
    "class Padder:\n",
    "    def __init__(self, dim=0, pad_symbol=0):\n",
    "        self.dim = dim\n",
    "        self.pad_symbol = pad_symbol\n",
    "        \n",
    "    def __call__(self, batch):\n",
    "        max_article_len = max(map(lambda x: x[0].shape[self.dim], batch))\n",
    "        max_highlight_len = max(map(lambda x: x[1].shape[self.dim], batch))\n",
    "        batch = map(lambda x: (pad_tensor(x[0], max_article_len, self.dim, self.pad_symbol), \n",
    "                               pad_tensor(x[1], max_highlight_len, self.dim, self.pad_symbol)),\n",
    "                    batch)\n",
    "        batch = list(batch)\n",
    "        xs = torch.stack(list(map(lambda x: x[0], batch)))\n",
    "        ys = torch.stack(list(map(lambda x: x[1], batch)))\n",
    "        return xs.permute(1, 0), ys.permute(1, 0)"
   ]
  },
  {
   "cell_type": "code",
   "execution_count": 52,
   "metadata": {},
   "outputs": [],
   "source": [
    "train_dataset = Dataset(train_articles, train_highlights)\n",
    "val_dataset = Dataset(val_articles, val_highlights)\n",
    "\n",
    "train_dataloader = DataLoader(train_dataset, batch_size=128,\n",
    "                              collate_fn=Padder(), shuffle=True)\n",
    "val_dataloader = DataLoader(val_dataset, batch_size=128,\n",
    "                            collate_fn=Padder(), shuffle=False)"
   ]
  },
  {
   "cell_type": "code",
   "execution_count": 53,
   "metadata": {},
   "outputs": [
    {
     "name": "stdout",
     "output_type": "stream",
     "text": [
      "torch.Size([92, 128])\n",
      "torch.Size([19, 128])\n"
     ]
    }
   ],
   "source": [
    "for batch in train_dataloader:\n",
    "    print(batch[0].size())\n",
    "    print(batch[1].size())\n",
    "    break"
   ]
  },
  {
   "cell_type": "markdown",
   "metadata": {},
   "source": [
    "### 6. model architecture"
   ]
  },
  {
   "cell_type": "code",
   "execution_count": 64,
   "metadata": {},
   "outputs": [
    {
     "name": "stdout",
     "output_type": "stream",
     "text": [
      "cuda:0\n"
     ]
    }
   ],
   "source": [
    "device = 'cuda:0' if torch.cuda.is_available() else 'cpu'\n",
    "print(device)"
   ]
  },
  {
   "cell_type": "code",
   "execution_count": 65,
   "metadata": {},
   "outputs": [],
   "source": [
    "vocab_size = 10000"
   ]
  },
  {
   "cell_type": "code",
   "execution_count": 66,
   "metadata": {},
   "outputs": [],
   "source": [
    "writer = SummaryWriter()"
   ]
  },
  {
   "cell_type": "code",
   "execution_count": 69,
   "metadata": {},
   "outputs": [
    {
     "data": {
      "text/plain": [
       "<All keys matched successfully>"
      ]
     },
     "execution_count": 69,
     "metadata": {},
     "output_type": "execute_result"
    }
   ],
   "source": [
    "INPUT_DIM = vocab_size\n",
    "OUTPUT_DIM = vocab_size\n",
    "ENC_EMB_DIM = 256\n",
    "DEC_EMB_DIM = 256\n",
    "HID_DIM = 256\n",
    "N_LAYERS = 3\n",
    "ENC_DROPOUT = 0.1\n",
    "DEC_DROPOUT = 0.1\n",
    "\n",
    "enc = Encoder(INPUT_DIM, ENC_EMB_DIM, HID_DIM, N_LAYERS, ENC_DROPOUT)\n",
    "dec = Decoder(OUTPUT_DIM, DEC_EMB_DIM, HID_DIM, N_LAYERS, DEC_DROPOUT)\n",
    "\n",
    "G = Seq2Seq(enc, dec, device).to(device)\n",
    "save_path = 'saved_models/gen_adv.pth'\n",
    "G.load_state_dict(torch.load(save_path))"
   ]
  },
  {
   "cell_type": "code",
   "execution_count": 71,
   "metadata": {},
   "outputs": [
    {
     "data": {
      "text/plain": [
       "<All keys matched successfully>"
      ]
     },
     "execution_count": 71,
     "metadata": {},
     "output_type": "execute_result"
    }
   ],
   "source": [
    "emb_dim = 256\n",
    "hidden_dim = 256\n",
    "vocab_size = 10000\n",
    "padding_idx = 0\n",
    "D = CNNDiscriminator3(embed_dim=emb_dim,\n",
    "                     vocab_size=vocab_size,\n",
    "                     num_classes=2,\n",
    "                     filter_sizes=[2, 3, 3],\n",
    "                     num_filters=200,\n",
    "                     padding_idx=padding_idx).to(device)\n",
    "save_path = 'saved_models/dis2_adv.pth'\n",
    "D.load_state_dict(torch.load(save_path))"
   ]
  },
  {
   "cell_type": "markdown",
   "metadata": {},
   "source": [
    "### 7. Topic difference for predictions"
   ]
  },
  {
   "cell_type": "code",
   "execution_count": 90,
   "metadata": {},
   "outputs": [],
   "source": [
    "def tensor_to_text(t):\n",
    "    if len(t.size()) == 3:\n",
    "        t = t.permute(1, 0, 2)\n",
    "        t = F.softmax(t, dim=2)\n",
    "        tokens = torch.argmax(t, dim=2).detach().cpu().numpy().tolist()\n",
    "        tokens = list(map(lambda x: [int(c) for c in x], tokens))\n",
    "        return sp.decode(tokens)\n",
    "    elif len(t.size()) == 2:\n",
    "        tokens = t.permute(1, 0).detach().cpu().numpy().tolist()\n",
    "        tokens = list(map(lambda x: [int(c) for c in x], tokens))\n",
    "        return sp.decode(tokens)"
   ]
  },
  {
   "cell_type": "code",
   "execution_count": 94,
   "metadata": {},
   "outputs": [],
   "source": [
    "train_dataloader = DataLoader(train_dataset, batch_size=128,\n",
    "                              collate_fn=Padder(), shuffle=False)"
   ]
  },
  {
   "cell_type": "code",
   "execution_count": 95,
   "metadata": {},
   "outputs": [],
   "source": [
    "predicted = []\n",
    "for i, batch in enumerate(train_dataloader):\n",
    "    article = batch[0].to(device)\n",
    "    highlight = batch[1].to(device)\n",
    "    preds = G(article, highlight, teacher_forcing_ratio=0.)\n",
    "    predicted += tensor_to_text(preds)"
   ]
  },
  {
   "cell_type": "code",
   "execution_count": 100,
   "metadata": {},
   "outputs": [
    {
     "name": "stdout",
     "output_type": "stream",
     "text": [
      "['pakistani', 'helicopter', 'violates', 'indian', 'airspace', 'in', 'jammu_and_kashmir']\n",
      "[['violate']]\n",
      "CPU times: user 1min 22s, sys: 87.1 ms, total: 1min 22s\n",
      "Wall time: 1min 22s\n"
     ]
    }
   ],
   "source": [
    "%%time\n",
    "predicted_words = list(sent_to_words(predicted))\n",
    "bigram = gensim.models.Phrases(predicted_words, min_count=5, threshold=100) # higher threshold fewer phrases.\n",
    "trigram = gensim.models.Phrases(bigram[predicted_words], threshold=100)  \n",
    "\n",
    "bigram_mod = gensim.models.phrases.Phraser(bigram)\n",
    "trigram_mod = gensim.models.phrases.Phraser(trigram)\n",
    "\n",
    "print(trigram_mod[bigram_mod[predicted_words[0]]])\n",
    "\n",
    "# Remove Stop Words\n",
    "data_words_nostops = remove_stopwords(predicted_words)\n",
    "# Form Bigrams\n",
    "data_words_bigrams = make_bigrams(data_words_nostops)\n",
    "# Initialize spacy 'en' model, keeping only tagger component (for efficiency)\n",
    "# python3 -m spacy download en\n",
    "nlp = spacy.load('en', disable=['parser', 'ner'])\n",
    "# Do lemmatization keeping only noun, adj, vb, adv\n",
    "data_lemmatized = lemmatization(data_words_bigrams, allowed_postags=['NOUN', 'ADJ', 'VERB', 'ADV'])\n",
    "print(data_lemmatized[:1])\n",
    "\n",
    "# Create Dictionary\n",
    "id2word = corpora.Dictionary(data_lemmatized)\n",
    "# Create Corpus\n",
    "texts = data_lemmatized\n",
    "# Term Document Frequency\n",
    "predicted_corpus = [id2word.doc2bow(text) for text in texts]"
   ]
  },
  {
   "cell_type": "code",
   "execution_count": 103,
   "metadata": {},
   "outputs": [],
   "source": [
    "predicted_topics = [get_topic_vector(text) for text in predicted_corpus]\n",
    "predicted_ohe = [get_ohe_topic_vector(text) for text in predicted_corpus]"
   ]
  },
  {
   "cell_type": "code",
   "execution_count": 108,
   "metadata": {},
   "outputs": [
    {
     "name": "stdout",
     "output_type": "stream",
     "text": [
      "cosine distances: mean 0.932, std 0.046\n",
      "euclidean distances: mean 0.14800000190734863, std 0.04800000041723251\n"
     ]
    },
    {
     "data": {
      "image/png": "[encoded data removed]",
      "text/plain": [
       "<Figure size 864x432 with 2 Axes>"
      ]
     },
     "metadata": {},
     "output_type": "display_data"
    }
   ],
   "source": [
    "cosine_dists = []\n",
    "euclidean_dists = []\n",
    "for article_topic, predicted_topic in zip(article_topics, predicted_topics):\n",
    "    cosine_dists.append(cosine_dist(article_topic, predicted_topic))\n",
    "    euclidean_dists.append(euclidean_dist(article_topic, predicted_topic))\n",
    "    \n",
    "cosine_dists = np.array(cosine_dists)\n",
    "euclidean_dists = np.array(euclidean_dists)\n",
    "\n",
    "print(f'cosine distances: mean {round(np.mean(cosine_dists), 3)}, std {round(np.std(cosine_dists), 3)}')\n",
    "print(f'euclidean distances: mean {round(np.mean(euclidean_dists), 3)}, std {round(np.std(euclidean_dists), 3)}')\n",
    "\n",
    "plt.figure(figsize=(12, 6))\n",
    "plt.subplot(121)\n",
    "plt.title('cosine distances')\n",
    "plt.hist(cosine_dists, bins=20)\n",
    "\n",
    "plt.subplot(122)\n",
    "plt.title('euclidean distances')\n",
    "plt.hist(euclidean_dists, bins=20)\n",
    "plt.show()"
   ]
  },
  {
   "cell_type": "code",
   "execution_count": 109,
   "metadata": {},
   "outputs": [
    {
     "name": "stdout",
     "output_type": "stream",
     "text": [
      "cosine distances: mean 0.976, std 0.018\n",
      "euclidean distances: mean 0.08299999684095383, std 0.032999999821186066\n"
     ]
    },
    {
     "data": {
      "image/png": "[encoded data removed]",
      "text/plain": [
       "<Figure size 864x432 with 2 Axes>"
      ]
     },
     "metadata": {},
     "output_type": "display_data"
    }
   ],
   "source": [
    "cosine_dists = []\n",
    "euclidean_dists = []\n",
    "for highlight_topic, predicted_topic in zip(highlight_topics, predicted_topics):\n",
    "    cosine_dists.append(cosine_dist(highlight_topic, predicted_topic))\n",
    "    euclidean_dists.append(euclidean_dist(highlight_topic, predicted_topic))\n",
    "    \n",
    "cosine_dists = np.array(cosine_dists)\n",
    "euclidean_dists = np.array(euclidean_dists)\n",
    "\n",
    "print(f'cosine distances: mean {round(np.mean(cosine_dists), 3)}, std {round(np.std(cosine_dists), 3)}')\n",
    "print(f'euclidean distances: mean {round(np.mean(euclidean_dists), 3)}, std {round(np.std(euclidean_dists), 3)}')\n",
    "\n",
    "plt.figure(figsize=(12, 6))\n",
    "plt.subplot(121)\n",
    "plt.title('cosine distances')\n",
    "plt.hist(cosine_dists, bins=20)\n",
    "\n",
    "plt.subplot(122)\n",
    "plt.title('euclidean distances')\n",
    "plt.hist(euclidean_dists, bins=20)\n",
    "plt.show()"
   ]
  },
  {
   "cell_type": "markdown",
   "metadata": {},
   "source": [
    "### 8. adversarial training with topic difference reward"
   ]
  },
  {
   "cell_type": "code",
   "execution_count": 41,
   "metadata": {},
   "outputs": [],
   "source": [
    "device = 'cuda:0' if torch.cuda.is_available() else 'cpu'"
   ]
  },
  {
   "cell_type": "code",
   "execution_count": 116,
   "metadata": {},
   "outputs": [],
   "source": [
    "n_epochs = 30"
   ]
  },
  {
   "cell_type": "code",
   "execution_count": 117,
   "metadata": {},
   "outputs": [],
   "source": [
    "writer = SummaryWriter()"
   ]
  },
  {
   "cell_type": "code",
   "execution_count": 118,
   "metadata": {},
   "outputs": [
    {
     "data": {
      "text/plain": [
       "Seq2Seq(\n",
       "  (encoder): Encoder(\n",
       "    (embedding): Embedding(10000, 256)\n",
       "    (rnn): LSTM(256, 256, num_layers=3, dropout=0.1)\n",
       "    (dropout): Dropout(p=0.1, inplace=False)\n",
       "  )\n",
       "  (decoder): Decoder(\n",
       "    (embedding): Embedding(10000, 256)\n",
       "    (rnn): LSTM(256, 256, num_layers=3, dropout=0.1)\n",
       "    (out): Linear(in_features=512, out_features=10000, bias=True)\n",
       "    (w): Linear(in_features=256, out_features=256, bias=True)\n",
       "    (attn_lin): Linear(in_features=512, out_features=512, bias=True)\n",
       "    (dropout): Dropout(p=0.1, inplace=False)\n",
       "  )\n",
       ")"
      ]
     },
     "execution_count": 118,
     "metadata": {},
     "output_type": "execute_result"
    }
   ],
   "source": [
    "G.train()"
   ]
  },
  {
   "cell_type": "code",
   "execution_count": 119,
   "metadata": {},
   "outputs": [
    {
     "data": {
      "text/plain": [
       "CNNDiscriminator3(\n",
       "  (embed): Embedding(10000, 256, padding_idx=0)\n",
       "  (convs): ModuleList(\n",
       "    (0): Conv2d(1, 200, kernel_size=(2, 256), stride=(1, 1))\n",
       "    (1): Conv2d(1, 200, kernel_size=(3, 256), stride=(1, 1))\n",
       "    (2): Conv2d(1, 200, kernel_size=(3, 256), stride=(1, 1))\n",
       "  )\n",
       "  (dropout): Dropout(p=0.2, inplace=False)\n",
       "  (fc1): Linear(in_features=600, out_features=1, bias=True)\n",
       ")"
      ]
     },
     "execution_count": 119,
     "metadata": {},
     "output_type": "execute_result"
    }
   ],
   "source": [
    "D.train()"
   ]
  },
  {
   "cell_type": "code",
   "execution_count": null,
   "metadata": {
    "scrolled": true
   },
   "outputs": [
    {
     "name": "stderr",
     "output_type": "stream",
     "text": [
      "539it [02:20,  3.82it/s]\n",
      "0it [00:00, ?it/s]"
     ]
    },
    {
     "name": "stdout",
     "output_type": "stream",
     "text": [
      "epoch 0 G loss: 62.35173849710604\n",
      "epoch 0 D loss: 0.002903600572744174\n"
     ]
    },
    {
     "name": "stderr",
     "output_type": "stream",
     "text": [
      "231it [00:23,  9.87it/s]\n",
      "231it [00:13, 17.18it/s]\n",
      "0it [00:00, ?it/s]"
     ]
    },
    {
     "name": "stdout",
     "output_type": "stream",
     "text": [
      "epoch 0 val loss: 6.240398753889086\n",
      "predicted: never think about what i should have done in my films kajol\n",
      "truth: i never think about what i should ve done differently kajol\n"
     ]
    },
    {
     "name": "stderr",
     "output_type": "stream",
     "text": [
      "539it [02:21,  3.80it/s]\n",
      "1it [00:00,  9.96it/s]"
     ]
    },
    {
     "name": "stdout",
     "output_type": "stream",
     "text": [
      "epoch 1 G loss: 47.865445177563394\n",
      "epoch 1 D loss: 0.0\n"
     ]
    },
    {
     "name": "stderr",
     "output_type": "stream",
     "text": [
      "231it [00:23,  9.84it/s]\n",
      "231it [00:13, 17.19it/s]\n",
      "0it [00:00, ?it/s]"
     ]
    },
    {
     "name": "stdout",
     "output_type": "stream",
     "text": [
      "epoch 1 val loss: 6.13325055379426\n",
      "predicted: iit roorkee testing floating water water water water water\n",
      "truth: iit roorkee tests device to generate electricity from river flow\n"
     ]
    },
    {
     "name": "stderr",
     "output_type": "stream",
     "text": [
      "539it [02:22,  3.80it/s]\n",
      "0it [00:00, ?it/s]"
     ]
    },
    {
     "name": "stdout",
     "output_type": "stream",
     "text": [
      "epoch 2 G loss: 46.937514389516586\n",
      "epoch 2 D loss: 0.0\n"
     ]
    },
    {
     "name": "stderr",
     "output_type": "stream",
     "text": [
      "231it [00:23,  9.84it/s]\n",
      "231it [00:13, 17.16it/s]\n",
      "0it [00:00, ?it/s]"
     ]
    },
    {
     "name": "stdout",
     "output_type": "stream",
     "text": [
      "epoch 2 val loss: 6.205351137395336\n",
      "predicted: driver who did not not not students in bus driver\n",
      "truth: suffering for no fault driver who let langur control steering\n"
     ]
    },
    {
     "name": "stderr",
     "output_type": "stream",
     "text": [
      "539it [02:22,  3.79it/s]\n",
      "0it [00:00, ?it/s]"
     ]
    },
    {
     "name": "stdout",
     "output_type": "stream",
     "text": [
      "epoch 3 G loss: 45.95867564237907\n",
      "epoch 3 D loss: 0.0\n"
     ]
    },
    {
     "name": "stderr",
     "output_type": "stream",
     "text": [
      "231it [00:23,  9.83it/s]\n",
      "231it [00:13, 17.14it/s]\n",
      "0it [00:00, ?it/s]"
     ]
    },
    {
     "name": "stdout",
     "output_type": "stream",
     "text": [
      "epoch 3 val loss: 6.177578165353401\n",
      "predicted: airline bound flyer denied to board over flights\n",
      "truth: air india refuses to let wheelchair bound passenger on plane\n"
     ]
    },
    {
     "name": "stderr",
     "output_type": "stream",
     "text": [
      "539it [02:21,  3.80it/s]\n",
      "0it [00:00, ?it/s]"
     ]
    },
    {
     "name": "stdout",
     "output_type": "stream",
     "text": [
      "epoch 4 G loss: 45.33131635003527\n",
      "epoch 4 D loss: 0.0\n"
     ]
    },
    {
     "name": "stderr",
     "output_type": "stream",
     "text": [
      "231it [00:23,  9.84it/s]\n",
      "231it [00:13, 17.13it/s]\n",
      "0it [00:00, ?it/s]"
     ]
    },
    {
     "name": "stdout",
     "output_type": "stream",
     "text": [
      "epoch 4 val loss: 6.187460463817743\n",
      "predicted: google using us to improve battery life inroidroidroid\n",
      "truth: google using ai to improve battery life on android phones\n"
     ]
    },
    {
     "name": "stderr",
     "output_type": "stream",
     "text": [
      "539it [02:22,  3.79it/s]\n",
      "0it [00:00, ?it/s]"
     ]
    },
    {
     "name": "stdout",
     "output_type": "stream",
     "text": [
      "epoch 5 G loss: 44.97705843279724\n",
      "epoch 5 D loss: 0.0\n"
     ]
    },
    {
     "name": "stderr",
     "output_type": "stream",
     "text": [
      "231it [00:23,  9.83it/s]\n",
      "231it [00:13, 17.15it/s]\n",
      "0it [00:00, ?it/s]"
     ]
    },
    {
     "name": "stdout",
     "output_type": "stream",
     "text": [
      "epoch 5 val loss: 6.194557842145965\n",
      "predicted: in 92 cases are closer in mp cm cm chouhan chouhan\n",
      "truth: daughters should be taught about good bad touch mp cm\n"
     ]
    },
    {
     "name": "stderr",
     "output_type": "stream",
     "text": [
      "539it [02:22,  3.78it/s]\n",
      "0it [00:00, ?it/s]"
     ]
    },
    {
     "name": "stdout",
     "output_type": "stream",
     "text": [
      "epoch 6 G loss: 44.764794788072614\n",
      "epoch 6 D loss: 0.0\n"
     ]
    },
    {
     "name": "stderr",
     "output_type": "stream",
     "text": [
      "231it [00:23,  9.82it/s]\n",
      "231it [00:13, 17.11it/s]\n",
      "0it [00:00, ?it/s]"
     ]
    },
    {
     "name": "stdout",
     "output_type": "stream",
     "text": [
      "epoch 6 val loss: 6.152247121803224\n",
      "predicted: was threatened to change my birthdate girls in school school\n",
      "truth: was threatened to change asaram rape victim s age principal\n"
     ]
    },
    {
     "name": "stderr",
     "output_type": "stream",
     "text": [
      "539it [02:22,  3.78it/s]\n",
      "0it [00:00, ?it/s]"
     ]
    },
    {
     "name": "stdout",
     "output_type": "stream",
     "text": [
      "epoch 7 G loss: 44.29410306994785\n",
      "epoch 7 D loss: 0.0\n"
     ]
    },
    {
     "name": "stderr",
     "output_type": "stream",
     "text": [
      "231it [00:23,  9.84it/s]\n",
      "231it [00:13, 17.17it/s]\n",
      "0it [00:00, ?it/s]"
     ]
    },
    {
     "name": "stdout",
     "output_type": "stream",
     "text": [
      "epoch 7 val loss: 6.206152853202232\n",
      "predicted: nasa proposes sun cosmic magnifying glass\n",
      "truth: nasa team proposes using sun as cosmic magnifying glass\n"
     ]
    },
    {
     "name": "stderr",
     "output_type": "stream",
     "text": [
      "539it [02:22,  3.79it/s]\n",
      "0it [00:00, ?it/s]"
     ]
    },
    {
     "name": "stdout",
     "output_type": "stream",
     "text": [
      "epoch 8 G loss: 43.923672385221295\n",
      "epoch 8 D loss: 3.4457376126998237e-09\n"
     ]
    },
    {
     "name": "stderr",
     "output_type": "stream",
     "text": [
      "231it [00:23,  9.82it/s]\n",
      "231it [00:13, 17.14it/s]\n",
      "0it [00:00, ?it/s]"
     ]
    },
    {
     "name": "stdout",
     "output_type": "stream",
     "text": [
      "epoch 8 val loss: 6.245768995208471\n",
      "predicted: trump reveals social media firms wereencings\n",
      "truth: social media giants are silencing millions of people trump\n"
     ]
    },
    {
     "name": "stderr",
     "output_type": "stream",
     "text": [
      "539it [02:22,  3.78it/s]\n",
      "0it [00:00, ?it/s]"
     ]
    },
    {
     "name": "stdout",
     "output_type": "stream",
     "text": [
      "epoch 9 G loss: 43.52158483666964\n",
      "epoch 9 D loss: 0.0007265699126851787\n"
     ]
    },
    {
     "name": "stderr",
     "output_type": "stream",
     "text": [
      "231it [00:23,  9.83it/s]\n",
      "231it [00:13, 17.19it/s]\n",
      "0it [00:00, ?it/s]"
     ]
    },
    {
     "name": "stdout",
     "output_type": "stream",
     "text": [
      "epoch 9 val loss: 6.216177083269972\n",
      "predicted: delhi s  i ruled out of ipl 10 10 after 8 years\n",
      "truth: delhi s last year top scorer quinton de kock out of ipl 2017\n"
     ]
    },
    {
     "name": "stderr",
     "output_type": "stream",
     "text": [
      "539it [02:22,  3.79it/s]\n",
      "0it [00:00, ?it/s]"
     ]
    },
    {
     "name": "stdout",
     "output_type": "stream",
     "text": [
      "epoch 10 G loss: 43.5655945674883\n",
      "epoch 10 D loss: 0.0\n"
     ]
    },
    {
     "name": "stderr",
     "output_type": "stream",
     "text": [
      "231it [00:23,  9.84it/s]\n",
      "231it [00:13, 17.13it/s]\n",
      "0it [00:00, ?it/s]"
     ]
    },
    {
     "name": "stdout",
     "output_type": "stream",
     "text": [
      "epoch 10 val loss: 6.232732881791732\n",
      "predicted: iit roorkee testing floating devices from water water water\n",
      "truth: iit roorkee tests device to generate electricity from river flow\n"
     ]
    },
    {
     "name": "stderr",
     "output_type": "stream",
     "text": [
      "539it [02:22,  3.78it/s]\n",
      "0it [00:00, ?it/s]"
     ]
    },
    {
     "name": "stdout",
     "output_type": "stream",
     "text": [
      "epoch 11 G loss: 43.6210108687238\n",
      "epoch 11 D loss: 0.0\n"
     ]
    },
    {
     "name": "stderr",
     "output_type": "stream",
     "text": [
      "231it [00:23,  9.84it/s]\n",
      "231it [00:13, 17.17it/s]\n",
      "0it [00:00, ?it/s]"
     ]
    },
    {
     "name": "stdout",
     "output_type": "stream",
     "text": [
      "epoch 11 val loss: 6.209147133182241\n",
      "predicted: srikanth srikanth srikanth conferred with padma shri\n",
      "truth: kidambi srikanth conferred with padma shri award\n"
     ]
    },
    {
     "name": "stderr",
     "output_type": "stream",
     "text": [
      "539it [02:22,  3.79it/s]\n",
      "0it [00:00, ?it/s]"
     ]
    },
    {
     "name": "stdout",
     "output_type": "stream",
     "text": [
      "epoch 12 G loss: 42.87531956707005\n",
      "epoch 12 D loss: 0.0\n"
     ]
    },
    {
     "name": "stderr",
     "output_type": "stream",
     "text": [
      "231it [00:23,  9.82it/s]\n",
      "231it [00:13, 17.18it/s]\n",
      "0it [00:00, ?it/s]"
     ]
    },
    {
     "name": "stdout",
     "output_type": "stream",
     "text": [
      "epoch 12 val loss: 6.245034063513745\n",
      "predicted: solar storms to to hit earth sea in norway\n",
      "truth: minor solar flare expected to hit earth today cause auroras\n"
     ]
    },
    {
     "name": "stderr",
     "output_type": "stream",
     "text": [
      "395it [01:44,  3.80it/s]"
     ]
    }
   ],
   "source": [
    "discriminator_optimizer = torch.optim.Adam(D.parameters(), lr=1e-3)\n",
    "generator_optimizer = torch.optim.Adam(G.parameters(), lr=1e-4)\n",
    "criterion = nn.CrossEntropyLoss(ignore_index=0)\n",
    "dis_criterion = nn.BCELoss()\n",
    "\n",
    "G_losses = []\n",
    "D_losses = []\n",
    "iter_num = -1\n",
    "G_ce_val_losses = []\n",
    "\n",
    "for epoch_idx in range(n_epochs):\n",
    "    total_G_loss = 0.\n",
    "    total_D_loss = 0.\n",
    "    G.train()\n",
    "    D.train()\n",
    "    for batch_idx, data_input in tqdm(enumerate(train_dataloader)):\n",
    "        article = data_input[0].to(device)\n",
    "        highlight = data_input[1].to(device)\n",
    "        \n",
    "        # Discriminator\n",
    "        generated_highlight = G(article, highlight, teacher_forcing_ratio=0.)\n",
    "        generated_highlight = torch.argmax(F.softmax(generated_highlight, dim=2), dim=2).permute(1, 0)\n",
    "        batch = torch.cat([generated_highlight, highlight.permute(1, 0)], dim=0)\n",
    "        targets = torch.tensor([0]*generated_highlight.size(0) + [1]*highlight.size(1)).to(device)\n",
    "        discriminator_optimizer.zero_grad()\n",
    "        generator_optimizer.zero_grad()\n",
    "        out = D(batch)\n",
    "        loss = dis_criterion(out.squeeze(1), targets.float())\n",
    "        loss.backward()\n",
    "        discriminator_optimizer.step()\n",
    "        total_D_loss += loss.data.item() * highlight.size(1) * 2\n",
    "        iter_num += 1\n",
    "        writer.add_scalar('Loss/dis_adv_train', loss.data.item(), iter_num)\n",
    "        \n",
    "        # Generator\n",
    "        generator_optimizer.zero_grad()\n",
    "        discriminator_optimizer.zero_grad()\n",
    "        gen_out = G(article, highlight, teacher_forcing_ratio=0.)\n",
    "        generated_highlight = torch.argmax(F.softmax(gen_out, dim=2), dim=2).permute(1, 0)\n",
    "        # rewards = D(generated_highlight).squeeze(1)\n",
    "        # rewards = 1 - rewards\n",
    "        pg_loss = G.batch_pgloss(article, highlight, rewards)\n",
    "        pg_loss.backward()\n",
    "        generator_optimizer.step()\n",
    "        writer.add_scalar('Loss/gen_pg_train', pg_loss.data.item(), iter_num)\n",
    "        total_G_loss += pg_loss.data.item() * article.size(1)\n",
    "\n",
    "    G_losses.append(total_G_loss / len(train_dataset))\n",
    "    D_losses.append(total_D_loss / len(train_dataset) / 2)\n",
    "    print(f'epoch {epoch_idx} G loss: {G_losses[-1]}')\n",
    "    print(f'epoch {epoch_idx} D loss: {D_losses[-1]}')\n",
    "    \n",
    "    G.eval()\n",
    "    total_loss = 0.\n",
    "    for batch_idx, data_input in tqdm(enumerate(val_dataloader), position=0, leave=True):\n",
    "        article = data_input[0].to(device)\n",
    "        highlight = data_input[1].to(device)\n",
    "        # rewards = D(highlight.permute(1, 0)).squeeze(1)\n",
    "        gen_out = G(article, highlight, teacher_forcing_ratio=0.)\n",
    "        generated_highlight = torch.argmax(F.softmax(gen_out, dim=2), dim=2).permute(1, 0)\n",
    "        rewards = D(generated_highlight).squeeze(1)\n",
    "        rewards = 1 - rewards\n",
    "        pg_loss = G.batch_pgloss(article, highlight, rewards)\n",
    "        total_loss += pg_loss.data.item() * article.size(1)\n",
    "    writer.add_scalar('Loss/gen_pg_val', total_loss / len(val_dataset), iter_num)\n",
    "    \n",
    "    total_loss = 0.\n",
    "    for batch_idx, data_input in tqdm(enumerate(val_dataloader), position=0, leave=True):\n",
    "        article = data_input[0].to(device)\n",
    "        highlight = data_input[1].to(device)\n",
    "        out = G(article, highlight, teacher_forcing_ratio=0.)\n",
    "        loss = criterion(out.permute(1, 2, 0), highlight.permute(1, 0))\n",
    "        total_loss += loss.data.item() * article.size(1)\n",
    "\n",
    "    G_ce_val_losses.append(total_loss / len(val_dataset))\n",
    "    print(f'epoch {epoch_idx} val loss: {G_ce_val_losses[-1]}')\n",
    "    writer.add_scalar('Loss/gen_ce_val', G_ce_val_losses[-1], iter_num)\n",
    "    ind = sps.randint(0, out.size(1)).rvs(size=1)[0]\n",
    "    print(f'predicted: {tensor_to_text(out)[ind]}')\n",
    "    print(f'truth: {tensor_to_text(highlight)[ind]}')"
   ]
  },
  {
   "cell_type": "code",
   "execution_count": null,
   "metadata": {},
   "outputs": [],
   "source": [
    "# save_path = 'saved_models/dis2_adv.pth'\n",
    "# torch.save(D.state_dict(), save_path)\n",
    "\n",
    "# save_path = 'saved_models/gen_adv.pth'\n",
    "# torch.save(G.state_dict(), save_path)"
   ]
  }
 ],
 "metadata": {
  "kernelspec": {
   "display_name": "Python 3",
   "language": "python",
   "name": "python3"
  },
  "language_info": {
   "codemirror_mode": {
    "name": "ipython",
    "version": 3
   },
   "file_extension": ".py",
   "mimetype": "text/x-python",
   "name": "python",
   "nbconvert_exporter": "python",
   "pygments_lexer": "ipython3",
   "version": "3.7.9"
  }
 },
 "nbformat": 4,
 "nbformat_minor": 4
}
