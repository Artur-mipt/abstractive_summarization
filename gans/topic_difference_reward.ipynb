{
 "cells": [
  {
   "cell_type": "code",
   "execution_count": 1,
   "metadata": {},
   "outputs": [],
   "source": [
    "import sentencepiece as spm\n",
    "from tqdm import tqdm\n",
    "import pandas as pd\n",
    "import numpy as np\n",
    "import seaborn as sns\n",
    "import scipy.stats as sps\n",
    "import nlp\n",
    "\n",
    "from sklearn.model_selection import train_test_split\n",
    "\n",
    "import torch\n",
    "import torch.nn as nn\n",
    "import torch.optim as optim\n",
    "import torch.nn.functional as F\n",
    "from torch.utils.data import DataLoader\n",
    "from torch.utils.tensorboard import SummaryWriter\n",
    "\n",
    "from src.seq2seq_generator import Seq2Seq, Encoder, Decoder\n",
    "from src.cnn_discriminator import CNNDiscriminator\n",
    "from src.utils import *\n",
    "from src.dataset import Dataset, Padder\n",
    "\n",
    "import gensim.corpora as corpora\n",
    "from gensim.utils import simple_preprocess\n",
    "from gensim.models import CoherenceModel\n",
    "\n",
    "sns.set_style('whitegrid')"
   ]
  },
  {
   "cell_type": "markdown",
   "metadata": {},
   "source": [
    "### 1. load data"
   ]
  },
  {
   "cell_type": "code",
   "execution_count": 2,
   "metadata": {},
   "outputs": [],
   "source": [
    "dataset_name = 'news'"
   ]
  },
  {
   "cell_type": "code",
   "execution_count": 3,
   "metadata": {
    "scrolled": true
   },
   "outputs": [
    {
     "name": "stdout",
     "output_type": "stream",
     "text": [
      "CPU times: user 738 ms, sys: 43.5 ms, total: 782 ms\n",
      "Wall time: 781 ms\n"
     ]
    }
   ],
   "source": [
    "%%time\n",
    "\n",
    "if dataset_name == 'cnn':\n",
    "    train_dataset = nlp.load_dataset(\"cnn_dailymail\", \"3.0.0\", split=\"train\")\n",
    "    val_dataset = nlp.load_dataset(\"cnn_dailymail\", \"3.0.0\", split=\"validation\")\n",
    "    test_dataset = nlp.load_dataset(\"cnn_dailymail\", \"3.0.0\", split=\"test\")\n",
    "    train_articles = [item['article'] for item in train_dataset]\n",
    "    train_highlights = [item['highlights'] for item in train_dataset]\n",
    "    val_articles = [item['article'] for item in val_dataset]\n",
    "    val_highlights = [item['highlights'] for item in val_dataset]\n",
    "elif dataset_name == 'news':\n",
    "    news = pd.read_csv('data/news_summary.csv')\n",
    "    news.headlines = [process_str(s) for s in news.headlines]\n",
    "    news.text = [process_str(s) for s in news.text]\n",
    "    X_train, X_test = train_test_split(news, test_size=0.3,\n",
    "                                       random_state=42)\n",
    "    train_articles = X_train.text.values\n",
    "    train_highlights = X_train.headlines.values\n",
    "    val_articles = X_test.text.values\n",
    "    val_highlights = X_test.headlines.values"
   ]
  },
  {
   "cell_type": "markdown",
   "metadata": {},
   "source": [
    "### 2. sentencepiece model"
   ]
  },
  {
   "cell_type": "code",
   "execution_count": 4,
   "metadata": {},
   "outputs": [],
   "source": [
    "train_new_model = False"
   ]
  },
  {
   "cell_type": "code",
   "execution_count": 5,
   "metadata": {},
   "outputs": [
    {
     "name": "stdout",
     "output_type": "stream",
     "text": [
      "CPU times: user 1 µs, sys: 1 µs, total: 2 µs\n",
      "Wall time: 2.62 µs\n"
     ]
    }
   ],
   "source": [
    "%%time\n",
    "if train_new_model:\n",
    "    with open('data/news_texts.txt', 'a') as f:\n",
    "        for article in tqdm(train_articles):\n",
    "            f.write(article + '\\n')\n",
    "        for highlight in tqdm(train_highlights):\n",
    "            f.write(highlight + '\\n')\n",
    "        for article in tqdm(val_articles):\n",
    "            f.write(article + '\\n')\n",
    "        for highlight in tqdm(val_highlights):\n",
    "            f.write(highlight + '\\n')\n",
    "            \n",
    "    spm.SentencePieceTrainer.train(input='data/news_texts.txt',\n",
    "                                   model_prefix='news10k',\n",
    "                                   vocab_size=10000,\n",
    "                                   pad_id=0,\n",
    "                                   bos_id=1,\n",
    "                                   eos_id=2,\n",
    "                                   unk_id=3)"
   ]
  },
  {
   "cell_type": "markdown",
   "metadata": {},
   "source": [
    "### 3. lda"
   ]
  },
  {
   "cell_type": "code",
   "execution_count": 6,
   "metadata": {},
   "outputs": [],
   "source": [
    "bigram = False\n",
    "lemmas = False\n",
    "train_model = False\n",
    "modelname = f'topic_models/news_train_bigram{bigram}_lemmas{lemmas}.model'"
   ]
  },
  {
   "cell_type": "code",
   "execution_count": 7,
   "metadata": {},
   "outputs": [
    {
     "name": "stdout",
     "output_type": "stream",
     "text": [
      "CPU times: user 27.1 s, sys: 311 ms, total: 27.4 s\n",
      "Wall time: 27.4 s\n"
     ]
    }
   ],
   "source": [
    "%%time\n",
    "\n",
    "articles_train_words = process_texts(train_articles, bigram=bigram, lemmas=lemmas)\n",
    "highlights_train_words = process_texts(train_highlights, bigram=bigram, lemmas=lemmas)\n",
    "\n",
    "articles_val_words = process_texts(val_articles, bigram=bigram, lemmas=lemmas)\n",
    "highlights_val_words = process_texts(val_highlights, bigram=bigram, lemmas=lemmas)\n",
    "\n",
    "id2word = corpora.Dictionary(articles_train_words)\n",
    "\n",
    "articles_train_corpus = [id2word.doc2bow(text) for text in articles_train_words]\n",
    "highlights_train_corpus = [id2word.doc2bow(text) for text in highlights_train_words]\n",
    "\n",
    "articles_val_corpus = [id2word.doc2bow(text) for text in articles_val_words]\n",
    "highlights_val_corpus = [id2word.doc2bow(text) for text in highlights_val_words]"
   ]
  },
  {
   "cell_type": "code",
   "execution_count": 8,
   "metadata": {},
   "outputs": [
    {
     "name": "stdout",
     "output_type": "stream",
     "text": [
      "CPU times: user 23.3 ms, sys: 12 ms, total: 35.3 ms\n",
      "Wall time: 34.5 ms\n"
     ]
    },
    {
     "data": {
      "text/plain": [
       "[(0,\n",
       "  '0.031*\"based\" + 0.026*\"million\" + 0.020*\"used\" + 0.018*\"startup\" + 0.014*\"using\" + 0.013*\"deal\" + 0.012*\"public\" + 0.011*\"worth\" + 0.011*\"months\" + 0.010*\"making\"'),\n",
       " (1,\n",
       "  '0.030*\"khan\" + 0.029*\"tweeted\" + 0.022*\"air\" + 0.020*\"part\" + 0.015*\"elections\" + 0.015*\"shah\" + 0.015*\"upcoming\" + 0.015*\"user\" + 0.014*\"flight\" + 0.013*\"show\"'),\n",
       " (2,\n",
       "  '0.028*\"india\" + 0.022*\"also\" + 0.018*\"years\" + 0.013*\"accused\" + 0.011*\"national\" + 0.011*\"arrested\" + 0.011*\"actress\" + 0.010*\"revealed\" + 0.010*\"leader\" + 0.009*\"according\"'),\n",
       " (3,\n",
       "  '0.081*\"said\" + 0.033*\"added\" + 0.019*\"film\" + 0.011*\"would\" + 0.010*\"like\" + 0.009*\"actor\" + 0.009*\"singh\" + 0.008*\"people\" + 0.007*\"wrote\" + 0.006*\"media\"'),\n",
       " (4,\n",
       "  '0.063*\"us\" + 0.040*\"president\" + 0.024*\"modi\" + 0.023*\"country\" + 0.023*\"pm\" + 0.021*\"trump\" + 0.017*\"pakistan\" + 0.015*\"narendra\" + 0.013*\"donald\" + 0.011*\"house\"'),\n",
       " (5,\n",
       "  '0.024*\"china\" + 0.022*\"security\" + 0.019*\"car\" + 0.015*\"series\" + 0.015*\"led\" + 0.015*\"states\" + 0.014*\"away\" + 0.014*\"capital\" + 0.013*\"space\" + 0.013*\"united\"'),\n",
       " (6,\n",
       "  '0.030*\"first\" + 0.028*\"indian\" + 0.022*\"world\" + 0.020*\"india\" + 0.015*\"team\" + 0.014*\"women\" + 0.014*\"time\" + 0.010*\"second\" + 0.010*\"former\" + 0.009*\"test\"'),\n",
       " (7,\n",
       "  '0.029*\"government\" + 0.022*\"court\" + 0.022*\"minister\" + 0.018*\"state\" + 0.017*\"said\" + 0.016*\"bjp\" + 0.015*\"congress\" + 0.013*\"chief\" + 0.012*\"tuesday\" + 0.011*\"party\"'),\n",
       " (8,\n",
       "  '0.038*\"year\" + 0.027*\"police\" + 0.024*\"two\" + 0.022*\"old\" + 0.016*\"reportedly\" + 0.013*\"man\" + 0.013*\"people\" + 0.011*\"three\" + 0.010*\"allegedly\" + 0.009*\"mumbai\"'),\n",
       " (9,\n",
       "  '0.027*\"crore\" + 0.019*\"company\" + 0.013*\"video\" + 0.012*\"billion\" + 0.012*\"announced\" + 0.010*\"ceo\" + 0.010*\"new\" + 0.010*\"users\" + 0.010*\"notably\" + 0.009*\"facebook\"')]"
      ]
     },
     "execution_count": 8,
     "metadata": {},
     "output_type": "execute_result"
    }
   ],
   "source": [
    "%%time\n",
    "if train_model:\n",
    "    lda_model = gensim.models.ldamodel.LdaModel(corpus=articles_train_corpus,\n",
    "                                                id2word=id2word,\n",
    "                                                num_topics=10, \n",
    "                                                random_state=100,\n",
    "                                                update_every=1,\n",
    "                                                chunksize=100,\n",
    "                                                passes=10,\n",
    "                                                alpha='auto',\n",
    "                                                per_word_topics=True)\n",
    "    lda_model.save(modelname)\n",
    "else:\n",
    "    lda_model = gensim.models.ldamodel.LdaModel.load(modelname)\n",
    "\n",
    "lda_model.print_topics()"
   ]
  },
  {
   "cell_type": "code",
   "execution_count": 9,
   "metadata": {},
   "outputs": [
    {
     "name": "stdout",
     "output_type": "stream",
     "text": [
      "Coherence Score:  0.38893017640073324\n"
     ]
    }
   ],
   "source": [
    "coherence_model_lda = CoherenceModel(model=lda_model,\n",
    "                                     texts=articles_train_words,\n",
    "                                     dictionary=id2word,\n",
    "                                     coherence='c_v')\n",
    "coherence_lda = coherence_model_lda.get_coherence()\n",
    "print('Coherence Score: ', coherence_lda)"
   ]
  },
  {
   "cell_type": "markdown",
   "metadata": {},
   "source": [
    "### 4. Topic difference"
   ]
  },
  {
   "cell_type": "code",
   "execution_count": 10,
   "metadata": {},
   "outputs": [],
   "source": [
    "articles_train_topics = [get_topic_vector(lda_model, text) for text in articles_train_corpus]\n",
    "articles_train_ohe = [get_ohe_topic_vector(lda_model, text) for text in articles_train_corpus]\n",
    "highlights_train_topics = [get_topic_vector(lda_model, text) for text in highlights_train_corpus]\n",
    "highlights_train_ohe = [get_ohe_topic_vector(lda_model, text) for text in highlights_train_corpus]\n",
    "\n",
    "articles_val_topics = [get_topic_vector(lda_model, text) for text in articles_val_corpus]\n",
    "articles_val_ohe = [get_ohe_topic_vector(lda_model, text) for text in articles_val_corpus]\n",
    "highlights_val_topics = [get_topic_vector(lda_model, text) for text in highlights_val_corpus]\n",
    "highlights_val_ohe = [get_ohe_topic_vector(lda_model, text) for text in highlights_val_corpus]"
   ]
  },
  {
   "cell_type": "code",
   "execution_count": 11,
   "metadata": {},
   "outputs": [
    {
     "name": "stdout",
     "output_type": "stream",
     "text": [
      "cosines: mean 0.917, std 0.049\n",
      "euclidean distances: mean 0.162, std 0.052\n"
     ]
    },
    {
     "data": {
      "image/png": "[encoded data removed]",
      "text/plain": [
       "<Figure size 864x432 with 2 Axes>"
      ]
     },
     "metadata": {},
     "output_type": "display_data"
    }
   ],
   "source": [
    "plot_distances(articles_train_topics, highlights_train_topics)"
   ]
  },
  {
   "cell_type": "code",
   "execution_count": 12,
   "metadata": {},
   "outputs": [
    {
     "name": "stdout",
     "output_type": "stream",
     "text": [
      "cosines: mean 0.917, std 0.049\n",
      "euclidean distances: mean 0.16, std 0.051\n"
     ]
    },
    {
     "data": {
      "image/png": "[encoded data removed]",
      "text/plain": [
       "<Figure size 864x432 with 2 Axes>"
      ]
     },
     "metadata": {},
     "output_type": "display_data"
    }
   ],
   "source": [
    "plot_distances(articles_val_topics, highlights_val_topics)"
   ]
  },
  {
   "cell_type": "markdown",
   "metadata": {},
   "source": [
    "### 5. dataset and dataloaders"
   ]
  },
  {
   "cell_type": "code",
   "execution_count": 13,
   "metadata": {},
   "outputs": [],
   "source": [
    "vocab_size = 10000\n",
    "sp_modelname = f'sentencepiece_models/news{int(vocab_size/1000)}k.model'"
   ]
  },
  {
   "cell_type": "code",
   "execution_count": 14,
   "metadata": {},
   "outputs": [],
   "source": [
    "sp = spm.SentencePieceProcessor(model_file=sp_modelname)"
   ]
  },
  {
   "cell_type": "code",
   "execution_count": 15,
   "metadata": {},
   "outputs": [],
   "source": [
    "train_dataset = Dataset(train_articles, train_highlights, sp=sp)\n",
    "val_dataset = Dataset(val_articles, val_highlights, sp=sp)\n",
    "\n",
    "train_dataloader = DataLoader(train_dataset, batch_size=128,\n",
    "                              collate_fn=Padder(), shuffle=True)\n",
    "val_dataloader = DataLoader(val_dataset, batch_size=128,\n",
    "                            collate_fn=Padder(), shuffle=False)"
   ]
  },
  {
   "cell_type": "code",
   "execution_count": 16,
   "metadata": {},
   "outputs": [
    {
     "name": "stdout",
     "output_type": "stream",
     "text": [
      "torch.Size([95, 128])\n",
      "torch.Size([22, 128])\n"
     ]
    }
   ],
   "source": [
    "for batch in train_dataloader:\n",
    "    print(batch[0].size())\n",
    "    print(batch[1].size())\n",
    "    break"
   ]
  },
  {
   "cell_type": "markdown",
   "metadata": {},
   "source": [
    "### 6. model architecture"
   ]
  },
  {
   "cell_type": "code",
   "execution_count": 17,
   "metadata": {},
   "outputs": [
    {
     "name": "stdout",
     "output_type": "stream",
     "text": [
      "cuda:0\n"
     ]
    }
   ],
   "source": [
    "device = 'cuda:0' if torch.cuda.is_available() else 'cpu'\n",
    "print(device)"
   ]
  },
  {
   "cell_type": "code",
   "execution_count": 18,
   "metadata": {},
   "outputs": [],
   "source": [
    "writer = SummaryWriter()"
   ]
  },
  {
   "cell_type": "code",
   "execution_count": 19,
   "metadata": {},
   "outputs": [
    {
     "data": {
      "text/plain": [
       "<All keys matched successfully>"
      ]
     },
     "execution_count": 19,
     "metadata": {},
     "output_type": "execute_result"
    }
   ],
   "source": [
    "INPUT_DIM = vocab_size\n",
    "OUTPUT_DIM = vocab_size\n",
    "ENC_EMB_DIM = 256\n",
    "DEC_EMB_DIM = 256\n",
    "HID_DIM = 256\n",
    "N_LAYERS = 3\n",
    "ENC_DROPOUT = 0.1\n",
    "DEC_DROPOUT = 0.1\n",
    "\n",
    "enc = Encoder(INPUT_DIM, ENC_EMB_DIM, HID_DIM, N_LAYERS, ENC_DROPOUT)\n",
    "dec = Decoder(OUTPUT_DIM, DEC_EMB_DIM, HID_DIM, N_LAYERS, DEC_DROPOUT)\n",
    "\n",
    "G = Seq2Seq(enc, dec, device).to(device)\n",
    "save_path = 'saved_models/gen2_adv.pth'\n",
    "G.load_state_dict(torch.load(save_path))"
   ]
  },
  {
   "cell_type": "markdown",
   "metadata": {},
   "source": [
    "### 7. Topic difference for predictions"
   ]
  },
  {
   "cell_type": "code",
   "execution_count": 20,
   "metadata": {},
   "outputs": [],
   "source": [
    "train_dataloader = DataLoader(train_dataset, batch_size=128,\n",
    "                              collate_fn=Padder(), shuffle=False)"
   ]
  },
  {
   "cell_type": "code",
   "execution_count": 21,
   "metadata": {},
   "outputs": [],
   "source": [
    "predicted_train = []\n",
    "for i, batch in enumerate(train_dataloader):\n",
    "    article = batch[0].to(device)\n",
    "    highlight = batch[1].to(device)\n",
    "    preds = G(article, highlight, teacher_forcing_ratio=0.)\n",
    "    predicted_train += tensor_to_text(preds, sp)\n",
    "    \n",
    "predicted_val = []\n",
    "for i, batch in enumerate(val_dataloader):\n",
    "    article = batch[0].to(device)\n",
    "    highlight = batch[1].to(device)\n",
    "    preds = G(article, highlight, teacher_forcing_ratio=0.)\n",
    "    predicted_val += tensor_to_text(preds, sp)\n",
    "    \n",
    "predicted_train_words = process_texts(predicted_train, bigram=bigram, lemmas=lemmas)\n",
    "predicted_train_corpus = [id2word.doc2bow(text) for text in predicted_train_words]\n",
    "predicted_train_topics = [get_topic_vector(lda_model, text) for text in predicted_train_corpus]\n",
    "predicted_train_ohe = [get_ohe_topic_vector(lda_model, text) for text in predicted_train_corpus]\n",
    "\n",
    "predicted_val_words = process_texts(predicted_val, bigram=bigram, lemmas=lemmas)\n",
    "predicted_val_corpus = [id2word.doc2bow(text) for text in predicted_val_words]\n",
    "predicted_val_topics = [get_topic_vector(lda_model, text) for text in predicted_val_corpus]\n",
    "predicted_val_ohe = [get_ohe_topic_vector(lda_model, text) for text in predicted_val_corpus]"
   ]
  },
  {
   "cell_type": "code",
   "execution_count": 22,
   "metadata": {},
   "outputs": [
    {
     "name": "stdout",
     "output_type": "stream",
     "text": [
      "cosines: mean 0.902, std 0.062\n",
      "euclidean distances: mean 0.174, std 0.059\n"
     ]
    },
    {
     "data": {
      "image/png": "[encoded data removed]",
      "text/plain": [
       "<Figure size 864x432 with 2 Axes>"
      ]
     },
     "metadata": {},
     "output_type": "display_data"
    }
   ],
   "source": [
    "plot_distances(articles_train_topics, predicted_train_topics)"
   ]
  },
  {
   "cell_type": "code",
   "execution_count": 23,
   "metadata": {},
   "outputs": [
    {
     "name": "stdout",
     "output_type": "stream",
     "text": [
      "cosines: mean 0.895, std 0.066\n",
      "euclidean distances: mean 0.179, std 0.06\n"
     ]
    },
    {
     "data": {
      "image/png": "[encoded data removed]",
      "text/plain": [
       "<Figure size 864x432 with 2 Axes>"
      ]
     },
     "metadata": {},
     "output_type": "display_data"
    }
   ],
   "source": [
    "plot_distances(articles_val_topics, predicted_val_topics)"
   ]
  },
  {
   "cell_type": "code",
   "execution_count": 24,
   "metadata": {},
   "outputs": [
    {
     "name": "stdout",
     "output_type": "stream",
     "text": [
      "cosines: mean 0.953, std 0.04\n",
      "euclidean distances: mean 0.106, std 0.048\n"
     ]
    },
    {
     "data": {
      "image/png": "[encoded data removed]",
      "text/plain": [
       "<Figure size 864x432 with 2 Axes>"
      ]
     },
     "metadata": {},
     "output_type": "display_data"
    }
   ],
   "source": [
    "plot_distances(highlights_train_topics, predicted_train_topics)"
   ]
  },
  {
   "cell_type": "code",
   "execution_count": 25,
   "metadata": {},
   "outputs": [
    {
     "name": "stdout",
     "output_type": "stream",
     "text": [
      "cosines: mean 0.928, std 0.052\n",
      "euclidean distances: mean 0.134, std 0.051\n"
     ]
    },
    {
     "data": {
      "image/png": "[encoded data removed]",
      "text/plain": [
       "<Figure size 864x432 with 2 Axes>"
      ]
     },
     "metadata": {},
     "output_type": "display_data"
    }
   ],
   "source": [
    "plot_distances(highlights_val_topics, predicted_val_topics)"
   ]
  },
  {
   "cell_type": "markdown",
   "metadata": {},
   "source": [
    "### 8. adversarial training with topic difference reward"
   ]
  },
  {
   "cell_type": "code",
   "execution_count": 26,
   "metadata": {},
   "outputs": [],
   "source": [
    "device = 'cuda:0' if torch.cuda.is_available() else 'cpu'"
   ]
  },
  {
   "cell_type": "code",
   "execution_count": 27,
   "metadata": {},
   "outputs": [],
   "source": [
    "writer = SummaryWriter()"
   ]
  },
  {
   "cell_type": "code",
   "execution_count": 28,
   "metadata": {},
   "outputs": [
    {
     "data": {
      "text/plain": [
       "Seq2Seq(\n",
       "  (encoder): Encoder(\n",
       "    (embedding): Embedding(10000, 256)\n",
       "    (rnn): LSTM(256, 256, num_layers=3, dropout=0.1)\n",
       "    (dropout): Dropout(p=0.1, inplace=False)\n",
       "  )\n",
       "  (decoder): Decoder(\n",
       "    (embedding): Embedding(10000, 256)\n",
       "    (rnn): LSTM(256, 256, num_layers=3, dropout=0.1)\n",
       "    (out): Linear(in_features=512, out_features=10000, bias=True)\n",
       "    (w): Linear(in_features=256, out_features=256, bias=True)\n",
       "    (attn_lin): Linear(in_features=512, out_features=512, bias=True)\n",
       "    (dropout): Dropout(p=0.1, inplace=False)\n",
       "  )\n",
       ")"
      ]
     },
     "execution_count": 28,
     "metadata": {},
     "output_type": "execute_result"
    }
   ],
   "source": [
    "G.train()"
   ]
  },
  {
   "cell_type": "code",
   "execution_count": 29,
   "metadata": {},
   "outputs": [],
   "source": [
    "n_epochs = 200\n",
    "beta = 0.2\n",
    "teacher_forcing = 0.6\n",
    "\n",
    "generator_optimizer = torch.optim.Adam(G.parameters(), lr=1e-4)\n",
    "criterion_ml = nn.CrossEntropyLoss(ignore_index=0)\n",
    "scheduler = torch.optim.lr_scheduler.ReduceLROnPlateau(generator_optimizer, 'min', patience=5)\n",
    "\n",
    "G_losses = []\n",
    "iter_num = -1\n",
    "G_ce_val_losses = []"
   ]
  },
  {
   "cell_type": "code",
   "execution_count": null,
   "metadata": {
    "scrolled": true
   },
   "outputs": [
    {
     "name": "stderr",
     "output_type": "stream",
     "text": [
      "539it [02:55,  3.07it/s]\n",
      "1it [00:00,  7.06it/s]"
     ]
    },
    {
     "name": "stdout",
     "output_type": "stream",
     "text": [
      "epoch 0 G loss: 2.5585165969353576\n"
     ]
    },
    {
     "name": "stderr",
     "output_type": "stream",
     "text": [
      "231it [00:34,  6.64it/s]\n",
      "0it [00:00, ?it/s]"
     ]
    },
    {
     "name": "stdout",
     "output_type": "stream",
     "text": [
      "predicted: pak will an asian statue under wc imran khanakhtar\n",
      "truth: pak will become asian tiger under imran khan shoaib akhtar\n",
      "\n",
      "predicted: hospital hospital hospital hospital hospital hospitalss dised to hospitals\n",
      "truth: docs chant mantra for hours to bring down deaths in hospital\n",
      "\n",
      "predicted: 36 deported 36 yr old from kashmir over isi links isis\n",
      "truth: uae deports indian over suspected links with isis\n",
      "\n",
      "predicted: australia australia is a good good of a zealand coach\n",
      "truth: sledging is a fun part of the game aus coach justin langer\n",
      "\n",
      "predicted: woman finds fd after being finds malfunction in us\n",
      "truth: us woman severely injured after mistaking dynamite for candle\n",
      "\n",
      "predicted: woman finds fd after being finds malfunction in us\n",
      "truth: us woman severely injured after mistaking dynamite for candle\n",
      "\n",
      "predicted: kejriwal kejriwal in defamation case case filed against police\n",
      "truth: delhi cm discharged in defamation case over thulla remark\n",
      "\n",
      "predicted: armyable to soldiers against soldiers soldiers soldiers soldiers army\n",
      "truth: soldiers to face action for disrespecting militants bodies\n",
      "\n",
      "predicted: man wins 4 8 crore in nanoly after a shark of beer\n",
      "truth: us man awarded 4 8 crore after beer burns his organs\n",
      "\n",
      "predicted: fake news of shah rukh khan death on on news crash crash\n",
      "truth: fake news of srk s death emerges on european news channel\n",
      "\n"
     ]
    },
    {
     "name": "stderr",
     "output_type": "stream",
     "text": [
      "539it [02:56,  3.06it/s]\n",
      "1it [00:00,  7.04it/s]"
     ]
    },
    {
     "name": "stdout",
     "output_type": "stream",
     "text": [
      "epoch 1 G loss: 2.55449757811918\n"
     ]
    },
    {
     "name": "stderr",
     "output_type": "stream",
     "text": [
      "231it [00:34,  6.63it/s]\n",
      "0it [00:00, ?it/s]"
     ]
    },
    {
     "name": "stdout",
     "output_type": "stream",
     "text": [
      "predicted: whatsapp must have a grievance to to news union minister\n",
      "truth: whatsapp must have grievance officer in india it min to ceo\n",
      "\n",
      "predicted: sachin attends wedding ceremony of pandya s badkhuri\n",
      "truth: sachin tendulkar attends krunal pandya s wedding in mumbai\n",
      "\n",
      "predicted: indianss black meteorites found for 40 years ago\n",
      "truth: online volunteers help find star that exploded 97 cr yrs ago\n",
      "\n",
      "predicted: un probing syrian chief syrians to syrian war syrian\n",
      "truth: enough evidence to convict syrian prez of war crimes un\n",
      "\n",
      "predicted: man creates selfable from car in car cars\n",
      "truth: man turns his car into a drivable hot tub\n",
      "\n",
      "predicted: barca first first club club to spend 1 billion in uaes\n",
      "truth: barcelona become world s 1st team to spend 500 million on wages\n",
      "\n",
      "predicted: deatheeling after gorkhaland after after ins in\n",
      "truth: gorkhaland supporter killed in police firing in darjeeling\n",
      "\n",
      "predicted: 36 deported 36 yr old engineer over suspected links links isis\n",
      "truth: uae deports indian over suspected links with isis\n",
      "\n",
      "predicted: australia australia is a good good of a zealand coach\n",
      "truth: sledging is a fun part of the game aus coach justin langer\n",
      "\n",
      "predicted: nasa proposes sun star co copeifyinging glass\n",
      "truth: nasa team proposes using sun as cosmic magnifying glass\n",
      "\n"
     ]
    },
    {
     "name": "stderr",
     "output_type": "stream",
     "text": [
      "539it [02:56,  3.05it/s]\n",
      "1it [00:00,  6.78it/s]"
     ]
    },
    {
     "name": "stdout",
     "output_type": "stream",
     "text": [
      "epoch 2 G loss: 2.5493019015437324\n"
     ]
    },
    {
     "name": "stderr",
     "output_type": "stream",
     "text": [
      "231it [00:35,  6.59it/s]\n",
      "0it [00:00, ?it/s]"
     ]
    },
    {
     "name": "stdout",
     "output_type": "stream",
     "text": [
      "predicted: iit roorkee float floating device can generate water water water\n",
      "truth: iit roorkee tests device to generate electricity from river flow\n",
      "\n",
      "predicted: i was threaten to change birth till school till school 18 yrs old rape\n",
      "truth: was threatened to change asaram rape victim s age principal\n",
      "\n",
      "predicted: sports can t run run bysss sports sports min\n",
      "truth: sports can t be run by bureaucrats sports minister rathore\n",
      "\n",
      "predicted: air india flight denied to flight on flight denied to board\n",
      "truth: air india refuses to let wheelchair bound passenger on plane\n",
      "\n",
      "predicted: sachin attends wedding ceremony of pandya s badkhuri\n",
      "truth: sachin tendulkar attends krunal pandya s wedding in mumbai\n",
      "\n",
      "predicted: nasa shares 1 1 lakh indians on a a chip\n",
      "truth: nasa spacecraft landed on mars with names of over 1l indians\n",
      "\n",
      "predicted: facebook asks us to share info of info reports\n",
      "truth: facebook asks us banks for users financial data report\n",
      "\n",
      "predicted: am b aishwarya bachchaned in s in panama papers probe\n",
      "truth: amitabh aishwarya submit documents in panama papers probe\n",
      "\n",
      "predicted: sonam kapoor s pics from her for 1st red film fest\n",
      "truth: sonam wears custom made jewellery by sister rhea at cannes\n",
      "\n",
      "predicted: kerala treating sabarimalas like barks of interests amit shah\n",
      "truth: kerala treating sabarimala pilgrims like gulag inmates shah\n",
      "\n"
     ]
    },
    {
     "name": "stderr",
     "output_type": "stream",
     "text": [
      "537it [02:55,  3.02it/s]"
     ]
    }
   ],
   "source": [
    "generator_optimizer = torch.optim.Adam(G.parameters(), lr=1e-4)\n",
    "criterion = nn.CrossEntropyLoss(ignore_index=0)\n",
    "\n",
    "G_losses = []\n",
    "D_losses = []\n",
    "iter_num = -1\n",
    "G_ce_val_losses = []\n",
    "\n",
    "for epoch_idx in range(n_epochs):\n",
    "    beta += 0.02 * epoch_idx\n",
    "    beta = min(0.95, beta)\n",
    "    \n",
    "    teacher_forcing -= 0.02 * epoch_idx\n",
    "    teacher_forcing = max(0, teacher_forcing)\n",
    "    \n",
    "    total_G_loss = 0.\n",
    "    G.train()\n",
    "    for batch_idx, data_input in tqdm(enumerate(train_dataloader)):\n",
    "        iter_num += 1\n",
    "        article = data_input[0].to(device)\n",
    "        highlight = data_input[1].to(device)\n",
    "\n",
    "        # Generator\n",
    "        generator_optimizer.zero_grad()\n",
    "        gen_out, generated_highlight = G.sample(article, highlight, teacher_forcing_ratio=teacher_forcing)\n",
    "        \n",
    "        texts = tensor_to_text(generated_highlight, sp)\n",
    "        predicted_corpus = [id2word.doc2bow(text.split()) for text in texts]\n",
    "        predicted_topics = [get_topic_vector(lda_model, text) for text in predicted_corpus]\n",
    "        \n",
    "        texts = tensor_to_text(article, sp, beam_search=True)\n",
    "        article_corpus = [id2word.doc2bow(text.split()) for text in texts]\n",
    "        article_topics = [get_topic_vector(lda_model, text) for text in article_corpus]\n",
    "\n",
    "        rewards = [[cosine(article_topic, predicted_topic)]*generated_highlight.size(0)\n",
    "                   for article_topic, predicted_topic in zip(article_topics, predicted_topics)]\n",
    "        rewards = torch.tensor(rewards).to(device)\n",
    "        writer.add_scalar('Reward/train', torch.mean(rewards).item(), iter_num)\n",
    "        # rewards = 1 - rewards\n",
    "       \n",
    "        pg_loss = G.batch_pgloss_generated(gen_out, generated_highlight.permute(1, 0), rewards)\n",
    "        \n",
    "        out = G(article, highlight, teacher_forcing_ratio=teacher_forcing)\n",
    "        ml_loss = criterion_ml(out.permute(1, 2, 0), highlight.permute(1, 0))\n",
    "        \n",
    "        loss = beta*pg_loss + (1-beta)*ml_loss\n",
    "        loss.backward()\n",
    "        \n",
    "        generator_optimizer.step()\n",
    "        writer.add_scalar('Loss_train/loss', loss.data.item(), iter_num)\n",
    "        writer.add_scalar('Loss_train/ml_loss', ml_loss.data.item(), iter_num)\n",
    "        writer.add_scalar('Loss_train/pg_loss', pg_loss.data.item(), iter_num)\n",
    "        total_G_loss += loss.data.item() * article.size(1)\n",
    "        \n",
    "    G_losses.append(total_G_loss / len(train_dataset))\n",
    "    print(f'epoch {epoch_idx} G loss: {G_losses[-1]}')\n",
    "    \n",
    "    G.eval()\n",
    "    total_loss = 0.\n",
    "    total_reward = 0.\n",
    "    total_ml_loss = 0.\n",
    "    total_pg_loss = 0.\n",
    "    for batch_idx, data_input in tqdm(enumerate(val_dataloader), position=0, leave=True):\n",
    "        article = data_input[0].to(device)\n",
    "        highlight = data_input[1].to(device)\n",
    "        gen_out, generated_highlight = G.sample(article, highlight, teacher_forcing_ratio=0.)\n",
    "        \n",
    "        texts = tensor_to_text(generated_highlight, sp)\n",
    "        predicted_corpus = [id2word.doc2bow(text.split()) for text in texts]\n",
    "        predicted_topics = [get_topic_vector(lda_model, text) for text in predicted_corpus]\n",
    "        \n",
    "        texts = tensor_to_text(article, sp)\n",
    "        article_corpus = [id2word.doc2bow(text.split()) for text in texts]\n",
    "        article_topics = [get_topic_vector(lda_model, text) for text in article_corpus]\n",
    "    \n",
    "        rewards = [[cosine(article_topic, predicted_topic)]*generated_highlight.size(0)\n",
    "                   for article_topic, predicted_topic in zip(article_topics, predicted_topics)]\n",
    "        rewards = torch.tensor(rewards).to(device)\n",
    "        total_reward += torch.mean(rewards).item() * article.size(1)\n",
    "        # rewards = 1 - rewards\n",
    "        pg_loss = G.batch_pgloss_generated(gen_out, generated_highlight.permute(1, 0), rewards)\n",
    "        \n",
    "        out = G(article, highlight, teacher_forcing_ratio=0.)\n",
    "        ml_loss = criterion_ml(out.permute(1, 2, 0), highlight.permute(1, 0))\n",
    "        \n",
    "        loss = beta*pg_loss + (1-beta)*ml_loss\n",
    "        total_loss += loss.data.item() * article.size(1)\n",
    "        \n",
    "        total_ml_loss += ml_loss.data.item() * article.size(1)\n",
    "        total_pg_loss += pg_loss.data.item() * article.size(1)\n",
    "        \n",
    "    writer.add_scalar('Reward/val', total_reward / len(val_dataset), iter_num)\n",
    "    writer.add_scalar('Loss_val/loss', total_loss / len(val_dataset), iter_num)\n",
    "    writer.add_scalar('Loss_val/ml_loss', total_ml_loss / len(val_dataset), iter_num)\n",
    "    writer.add_scalar('Loss_val/pg_loss', total_pg_loss / len(val_dataset), iter_num)\n",
    "    \n",
    "    writer.add_scalar('Params/beta', beta, iter_num)\n",
    "    writer.add_scalar('Params/teacher_forcing', teacher_forcing, iter_num)\n",
    "    \n",
    "    scheduler.step(total_loss)\n",
    "    \n",
    "    indices = sps.randint(0, out.size(1)).rvs(size=10)\n",
    "    pred_texts = tensor_to_text(out[:, indices, :], sp, beam_search=True)\n",
    "    truth_texts = tensor_to_text(highlight[:, indices], sp)\n",
    "    for pred, truth in zip(pred_texts, truth_texts):\n",
    "        writer.add_text('Texts/pred', pred, iter_num)\n",
    "        writer.add_text('Texts/truth', truth, iter_num)\n",
    "        print(f'predicted: {pred}')\n",
    "        print(f'truth: {truth}\\n')"
   ]
  },
  {
   "cell_type": "code",
   "execution_count": null,
   "metadata": {},
   "outputs": [],
   "source": [
    "save_path = 'saved_models/gen_topic3_adv.pth'\n",
    "torch.save(G.state_dict(), save_path)"
   ]
  },
  {
   "cell_type": "code",
   "execution_count": null,
   "metadata": {},
   "outputs": [],
   "source": []
  }
 ],
 "metadata": {
  "kernelspec": {
   "display_name": "Python 3",
   "language": "python",
   "name": "python3"
  },
  "language_info": {
   "codemirror_mode": {
    "name": "ipython",
    "version": 3
   },
   "file_extension": ".py",
   "mimetype": "text/x-python",
   "name": "python",
   "nbconvert_exporter": "python",
   "pygments_lexer": "ipython3",
   "version": "3.7.7"
  }
 },
 "nbformat": 4,
 "nbformat_minor": 4
}
