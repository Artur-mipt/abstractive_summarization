{
 "cells": [
  {
   "cell_type": "code",
   "execution_count": 1,
   "metadata": {},
   "outputs": [],
   "source": [
    "import sentencepiece as spm\n",
    "from tqdm import tqdm\n",
    "import pandas as pd\n",
    "import numpy as np\n",
    "import seaborn as sns\n",
    "import scipy.stats as sps\n",
    "import nlp\n",
    "import random\n",
    "\n",
    "from sklearn.model_selection import train_test_split\n",
    "\n",
    "import torch\n",
    "import torch.nn as nn\n",
    "import torch.optim as optim\n",
    "import torch.nn.functional as F\n",
    "from torch.utils.data import DataLoader\n",
    "from torch.utils.tensorboard import SummaryWriter\n",
    "\n",
    "from src.seq2seq_generator import Seq2Seq, Encoder, Decoder\n",
    "from src.cnn_discriminator import CNNDiscriminator\n",
    "from src.utils import *\n",
    "from src.dataset import Dataset, Padder\n",
    "\n",
    "import gensim.corpora as corpora\n",
    "from gensim.utils import simple_preprocess\n",
    "from gensim.models import CoherenceModel\n",
    "\n",
    "sns.set_style('whitegrid')"
   ]
  },
  {
   "cell_type": "markdown",
   "metadata": {},
   "source": [
    "### 1. load data"
   ]
  },
  {
   "cell_type": "code",
   "execution_count": 2,
   "metadata": {},
   "outputs": [],
   "source": [
    "dataset_name = 'news'"
   ]
  },
  {
   "cell_type": "code",
   "execution_count": 3,
   "metadata": {
    "scrolled": true
   },
   "outputs": [
    {
     "name": "stdout",
     "output_type": "stream",
     "text": [
      "CPU times: user 752 ms, sys: 15.8 ms, total: 767 ms\n",
      "Wall time: 767 ms\n"
     ]
    }
   ],
   "source": [
    "%%time\n",
    "\n",
    "if dataset_name == 'cnn':\n",
    "    train_dataset = nlp.load_dataset(\"cnn_dailymail\", \"3.0.0\", split=\"train\")\n",
    "    val_dataset = nlp.load_dataset(\"cnn_dailymail\", \"3.0.0\", split=\"validation\")\n",
    "    test_dataset = nlp.load_dataset(\"cnn_dailymail\", \"3.0.0\", split=\"test\")\n",
    "    train_articles = [item['article'] for item in train_dataset]\n",
    "    train_highlights = [item['highlights'] for item in train_dataset]\n",
    "    val_articles = [item['article'] for item in val_dataset]\n",
    "    val_highlights = [item['highlights'] for item in val_dataset]\n",
    "elif dataset_name == 'news':\n",
    "    news = pd.read_csv('data/news_summary.csv')\n",
    "    news.headlines = [process_str(s) for s in news.headlines]\n",
    "    news.text = [process_str(s) for s in news.text]\n",
    "    X_train, X_test = train_test_split(news, test_size=0.3,\n",
    "                                       random_state=42)\n",
    "    train_articles = X_train.text.values\n",
    "    train_highlights = X_train.headlines.values\n",
    "    val_articles = X_test.text.values\n",
    "    val_highlights = X_test.headlines.values"
   ]
  },
  {
   "cell_type": "markdown",
   "metadata": {},
   "source": [
    "### 2. sentencepiece model"
   ]
  },
  {
   "cell_type": "code",
   "execution_count": 4,
   "metadata": {},
   "outputs": [],
   "source": [
    "train_new_model = False"
   ]
  },
  {
   "cell_type": "code",
   "execution_count": 5,
   "metadata": {},
   "outputs": [
    {
     "name": "stdout",
     "output_type": "stream",
     "text": [
      "CPU times: user 1e+03 ns, sys: 0 ns, total: 1e+03 ns\n",
      "Wall time: 3.1 µs\n"
     ]
    }
   ],
   "source": [
    "%%time\n",
    "if train_new_model:\n",
    "    with open('data/news_texts.txt', 'a') as f:\n",
    "        for article in tqdm(train_articles):\n",
    "            f.write(article + '\\n')\n",
    "        for highlight in tqdm(train_highlights):\n",
    "            f.write(highlight + '\\n')\n",
    "        for article in tqdm(val_articles):\n",
    "            f.write(article + '\\n')\n",
    "        for highlight in tqdm(val_highlights):\n",
    "            f.write(highlight + '\\n')\n",
    "            \n",
    "    spm.SentencePieceTrainer.train(input='data/news_texts.txt',\n",
    "                                   model_prefix='news10k',\n",
    "                                   vocab_size=10000,\n",
    "                                   pad_id=0,\n",
    "                                   bos_id=1,\n",
    "                                   eos_id=2,\n",
    "                                   unk_id=3)"
   ]
  },
  {
   "cell_type": "markdown",
   "metadata": {},
   "source": [
    "### 3. lda"
   ]
  },
  {
   "cell_type": "code",
   "execution_count": 6,
   "metadata": {},
   "outputs": [],
   "source": [
    "bigram = False\n",
    "lemmas = False\n",
    "train_model = False\n",
    "modelname = f'topic_models/news_train_bigram{bigram}_lemmas{lemmas}.model'"
   ]
  },
  {
   "cell_type": "code",
   "execution_count": 7,
   "metadata": {},
   "outputs": [
    {
     "name": "stdout",
     "output_type": "stream",
     "text": [
      "CPU times: user 27.2 s, sys: 204 ms, total: 27.4 s\n",
      "Wall time: 27.4 s\n"
     ]
    }
   ],
   "source": [
    "%%time\n",
    "\n",
    "articles_train_words = process_texts(train_articles, bigram=bigram, lemmas=lemmas)\n",
    "highlights_train_words = process_texts(train_highlights, bigram=bigram, lemmas=lemmas)\n",
    "\n",
    "articles_val_words = process_texts(val_articles, bigram=bigram, lemmas=lemmas)\n",
    "highlights_val_words = process_texts(val_highlights, bigram=bigram, lemmas=lemmas)\n",
    "\n",
    "id2word = corpora.Dictionary(articles_train_words)\n",
    "\n",
    "articles_train_corpus = [id2word.doc2bow(text) for text in articles_train_words]\n",
    "highlights_train_corpus = [id2word.doc2bow(text) for text in highlights_train_words]\n",
    "\n",
    "articles_val_corpus = [id2word.doc2bow(text) for text in articles_val_words]\n",
    "highlights_val_corpus = [id2word.doc2bow(text) for text in highlights_val_words]"
   ]
  },
  {
   "cell_type": "code",
   "execution_count": 8,
   "metadata": {},
   "outputs": [
    {
     "name": "stdout",
     "output_type": "stream",
     "text": [
      "CPU times: user 25.9 ms, sys: 8.01 ms, total: 33.9 ms\n",
      "Wall time: 33 ms\n"
     ]
    },
    {
     "data": {
      "text/plain": [
       "[(0,\n",
       "  '0.031*\"based\" + 0.026*\"million\" + 0.020*\"used\" + 0.018*\"startup\" + 0.014*\"using\" + 0.013*\"deal\" + 0.012*\"public\" + 0.011*\"worth\" + 0.011*\"months\" + 0.010*\"making\"'),\n",
       " (1,\n",
       "  '0.030*\"khan\" + 0.029*\"tweeted\" + 0.022*\"air\" + 0.020*\"part\" + 0.015*\"elections\" + 0.015*\"shah\" + 0.015*\"upcoming\" + 0.015*\"user\" + 0.014*\"flight\" + 0.013*\"show\"'),\n",
       " (2,\n",
       "  '0.028*\"india\" + 0.022*\"also\" + 0.018*\"years\" + 0.013*\"accused\" + 0.011*\"national\" + 0.011*\"arrested\" + 0.011*\"actress\" + 0.010*\"revealed\" + 0.010*\"leader\" + 0.009*\"according\"'),\n",
       " (3,\n",
       "  '0.081*\"said\" + 0.033*\"added\" + 0.019*\"film\" + 0.011*\"would\" + 0.010*\"like\" + 0.009*\"actor\" + 0.009*\"singh\" + 0.008*\"people\" + 0.007*\"wrote\" + 0.006*\"media\"'),\n",
       " (4,\n",
       "  '0.063*\"us\" + 0.040*\"president\" + 0.024*\"modi\" + 0.023*\"country\" + 0.023*\"pm\" + 0.021*\"trump\" + 0.017*\"pakistan\" + 0.015*\"narendra\" + 0.013*\"donald\" + 0.011*\"house\"'),\n",
       " (5,\n",
       "  '0.024*\"china\" + 0.022*\"security\" + 0.019*\"car\" + 0.015*\"series\" + 0.015*\"led\" + 0.015*\"states\" + 0.014*\"away\" + 0.014*\"capital\" + 0.013*\"space\" + 0.013*\"united\"'),\n",
       " (6,\n",
       "  '0.030*\"first\" + 0.028*\"indian\" + 0.022*\"world\" + 0.020*\"india\" + 0.015*\"team\" + 0.014*\"women\" + 0.014*\"time\" + 0.010*\"second\" + 0.010*\"former\" + 0.009*\"test\"'),\n",
       " (7,\n",
       "  '0.029*\"government\" + 0.022*\"court\" + 0.022*\"minister\" + 0.018*\"state\" + 0.017*\"said\" + 0.016*\"bjp\" + 0.015*\"congress\" + 0.013*\"chief\" + 0.012*\"tuesday\" + 0.011*\"party\"'),\n",
       " (8,\n",
       "  '0.038*\"year\" + 0.027*\"police\" + 0.024*\"two\" + 0.022*\"old\" + 0.016*\"reportedly\" + 0.013*\"man\" + 0.013*\"people\" + 0.011*\"three\" + 0.010*\"allegedly\" + 0.009*\"mumbai\"'),\n",
       " (9,\n",
       "  '0.027*\"crore\" + 0.019*\"company\" + 0.013*\"video\" + 0.012*\"billion\" + 0.012*\"announced\" + 0.010*\"ceo\" + 0.010*\"new\" + 0.010*\"users\" + 0.010*\"notably\" + 0.009*\"facebook\"')]"
      ]
     },
     "execution_count": 8,
     "metadata": {},
     "output_type": "execute_result"
    }
   ],
   "source": [
    "%%time\n",
    "if train_model:\n",
    "    lda_model = gensim.models.ldamodel.LdaModel(corpus=articles_train_corpus,\n",
    "                                                id2word=id2word,\n",
    "                                                num_topics=10, \n",
    "                                                random_state=100,\n",
    "                                                update_every=1,\n",
    "                                                chunksize=100,\n",
    "                                                passes=10,\n",
    "                                                alpha='auto',\n",
    "                                                per_word_topics=True)\n",
    "    lda_model.save(modelname)\n",
    "else:\n",
    "    lda_model = gensim.models.ldamodel.LdaModel.load(modelname)\n",
    "\n",
    "lda_model.print_topics()"
   ]
  },
  {
   "cell_type": "code",
   "execution_count": 9,
   "metadata": {},
   "outputs": [
    {
     "name": "stdout",
     "output_type": "stream",
     "text": [
      "Coherence Score:  0.38893017640073324\n"
     ]
    }
   ],
   "source": [
    "coherence_model_lda = CoherenceModel(model=lda_model,\n",
    "                                     texts=articles_train_words,\n",
    "                                     dictionary=id2word,\n",
    "                                     coherence='c_v')\n",
    "coherence_lda = coherence_model_lda.get_coherence()\n",
    "print('Coherence Score: ', coherence_lda)"
   ]
  },
  {
   "cell_type": "markdown",
   "metadata": {},
   "source": [
    "### 5. dataset and dataloaders"
   ]
  },
  {
   "cell_type": "code",
   "execution_count": 10,
   "metadata": {},
   "outputs": [],
   "source": [
    "vocab_size = 10000\n",
    "sp_modelname = f'sentencepiece_models/news{int(vocab_size/1000)}k.model'"
   ]
  },
  {
   "cell_type": "code",
   "execution_count": 11,
   "metadata": {},
   "outputs": [],
   "source": [
    "sp = spm.SentencePieceProcessor(model_file=sp_modelname)"
   ]
  },
  {
   "cell_type": "code",
   "execution_count": 12,
   "metadata": {},
   "outputs": [],
   "source": [
    "train_dataset = Dataset(train_articles, train_highlights, sp=sp)\n",
    "val_dataset = Dataset(val_articles, val_highlights, sp=sp)\n",
    "\n",
    "train_dataloader = DataLoader(train_dataset, batch_size=128,\n",
    "                              collate_fn=Padder(), shuffle=False)\n",
    "val_dataloader = DataLoader(val_dataset, batch_size=128,\n",
    "                            collate_fn=Padder(), shuffle=False)"
   ]
  },
  {
   "cell_type": "code",
   "execution_count": 13,
   "metadata": {},
   "outputs": [
    {
     "name": "stdout",
     "output_type": "stream",
     "text": [
      "torch.Size([103, 128])\n",
      "torch.Size([21, 128])\n"
     ]
    }
   ],
   "source": [
    "for batch in train_dataloader:\n",
    "    print(batch[0].size())\n",
    "    print(batch[1].size())\n",
    "    break"
   ]
  },
  {
   "cell_type": "markdown",
   "metadata": {},
   "source": [
    "### 6. model architecture"
   ]
  },
  {
   "cell_type": "code",
   "execution_count": 14,
   "metadata": {},
   "outputs": [
    {
     "name": "stdout",
     "output_type": "stream",
     "text": [
      "cuda:0\n"
     ]
    }
   ],
   "source": [
    "device = 'cuda:0' if torch.cuda.is_available() else 'cpu'\n",
    "print(device)"
   ]
  },
  {
   "cell_type": "code",
   "execution_count": 15,
   "metadata": {},
   "outputs": [],
   "source": [
    "writer = SummaryWriter()"
   ]
  },
  {
   "cell_type": "code",
   "execution_count": 16,
   "metadata": {},
   "outputs": [
    {
     "data": {
      "text/plain": [
       "<All keys matched successfully>"
      ]
     },
     "execution_count": 16,
     "metadata": {},
     "output_type": "execute_result"
    }
   ],
   "source": [
    "INPUT_DIM = vocab_size\n",
    "OUTPUT_DIM = vocab_size\n",
    "ENC_EMB_DIM = 256\n",
    "DEC_EMB_DIM = 256\n",
    "HID_DIM = 256\n",
    "N_LAYERS = 3\n",
    "ENC_DROPOUT = 0.1\n",
    "DEC_DROPOUT = 0.1\n",
    "\n",
    "enc = Encoder(INPUT_DIM, ENC_EMB_DIM, HID_DIM, N_LAYERS, ENC_DROPOUT)\n",
    "dec = Decoder(OUTPUT_DIM, DEC_EMB_DIM, HID_DIM, N_LAYERS, DEC_DROPOUT)\n",
    "\n",
    "G = Seq2Seq(enc, dec, device).to(device)\n",
    "save_path = 'saved_models/gen_adv.pth'\n",
    "G.load_state_dict(torch.load(save_path))"
   ]
  },
  {
   "cell_type": "markdown",
   "metadata": {},
   "source": [
    "### 8. adversarial training with topic difference reward"
   ]
  },
  {
   "cell_type": "code",
   "execution_count": 17,
   "metadata": {},
   "outputs": [],
   "source": [
    "device = 'cuda:0' if torch.cuda.is_available() else 'cpu'"
   ]
  },
  {
   "cell_type": "code",
   "execution_count": 18,
   "metadata": {},
   "outputs": [],
   "source": [
    "writer = SummaryWriter()"
   ]
  },
  {
   "cell_type": "code",
   "execution_count": 19,
   "metadata": {},
   "outputs": [
    {
     "data": {
      "text/plain": [
       "Seq2Seq(\n",
       "  (encoder): Encoder(\n",
       "    (embedding): Embedding(10000, 256)\n",
       "    (rnn): LSTM(256, 256, num_layers=3, dropout=0.1)\n",
       "    (dropout): Dropout(p=0.1, inplace=False)\n",
       "  )\n",
       "  (decoder): Decoder(\n",
       "    (embedding): Embedding(10000, 256)\n",
       "    (rnn): LSTM(256, 256, num_layers=3, dropout=0.1)\n",
       "    (out): Linear(in_features=512, out_features=10000, bias=True)\n",
       "    (w): Linear(in_features=256, out_features=256, bias=True)\n",
       "    (attn_lin): Linear(in_features=512, out_features=512, bias=True)\n",
       "    (dropout): Dropout(p=0.1, inplace=False)\n",
       "  )\n",
       ")"
      ]
     },
     "execution_count": 19,
     "metadata": {},
     "output_type": "execute_result"
    }
   ],
   "source": [
    "G.train()"
   ]
  },
  {
   "cell_type": "code",
   "execution_count": 20,
   "metadata": {},
   "outputs": [],
   "source": [
    "n_epochs = 150\n",
    "beta = 0.2\n",
    "teacher_forcing = 0.6\n",
    "\n",
    "generator_optimizer = torch.optim.Adam(G.parameters(), lr=1e-4)\n",
    "criterion_ml = nn.CrossEntropyLoss(ignore_index=0)\n",
    "scheduler = torch.optim.lr_scheduler.ReduceLROnPlateau(generator_optimizer, 'min', patience=10)\n",
    "\n",
    "G_losses = []\n",
    "iter_num = -1\n",
    "G_ce_val_losses = []"
   ]
  },
  {
   "cell_type": "code",
   "execution_count": 21,
   "metadata": {
    "scrolled": true
   },
   "outputs": [
    {
     "name": "stderr",
     "output_type": "stream",
     "text": [
      "539it [02:43,  3.30it/s]\n",
      "1it [00:00,  8.46it/s]"
     ]
    },
    {
     "name": "stdout",
     "output_type": "stream",
     "text": [
      "epoch 0 G loss: 2.2161131079881105\n"
     ]
    },
    {
     "name": "stderr",
     "output_type": "stream",
     "text": [
      "231it [00:29,  7.93it/s]\n",
      "0it [00:00, ?it/s]"
     ]
    },
    {
     "name": "stdout",
     "output_type": "stream",
     "text": [
      "predicted: un probing syrian chief syrians over syrian war\n",
      "truth: enough evidence to convict syrian prez of war crimes un\n",
      "\n",
      "predicted: doctor hospital hospital hospital hospital hospitalss dised toss\n",
      "truth: docs chant mantra for hours to bring down deaths in hospital\n",
      "\n",
      "predicted: fake news of shah rukh khan death on on news crash crash\n",
      "truth: fake news of srk s death emerges on european news channel\n",
      "\n",
      "predicted: fake news of shah rukh khan death on on news crash crash\n",
      "truth: fake news of srk s death emerges on european news channel\n",
      "\n",
      "predicted: srikanth sed padma shri shri india s sth civilian\n",
      "truth: kidambi srikanth conferred with padma shri award\n",
      "\n",
      "predicted: 36 deported 36 year old engineer over suspected links isis\n",
      "truth: uae deports indian over suspected links with isis\n",
      "\n",
      "predicted: farmers defy milk milk at 10 dayss on farmers\n",
      "truth: farmers dump vegetables spill milk on roads during protest\n",
      "\n",
      "predicted: 33 inmates married at gun6 in 2016\n",
      "truth: 3 075 grooms got married in bihar at gunpoint in 2016\n",
      "\n",
      "predicted: kerala school makes free weddings to gets hostel hostel\n",
      "truth: village issues marriage certificate only after green wedding\n",
      "\n",
      "predicted: whatsapp must have a grievance to to news union minister\n",
      "truth: whatsapp must have grievance officer in india it min to ceo\n",
      "\n"
     ]
    },
    {
     "name": "stderr",
     "output_type": "stream",
     "text": [
      "539it [02:42,  3.31it/s]\n",
      "1it [00:00,  8.39it/s]"
     ]
    },
    {
     "name": "stdout",
     "output_type": "stream",
     "text": [
      "epoch 1 G loss: 2.169170994630453\n"
     ]
    },
    {
     "name": "stderr",
     "output_type": "stream",
     "text": [
      "231it [00:29,  7.88it/s]\n",
      "0it [00:00, ?it/s]"
     ]
    },
    {
     "name": "stdout",
     "output_type": "stream",
     "text": [
      "predicted: jaggvis puts women women for g gndododo\n",
      "truth: game of thrones puts women at the forefront gwendoline\n",
      "\n",
      "predicted: google using own own ai to ai to improve life in android\n",
      "truth: google using ai to improve battery life on android phones\n",
      "\n",
      "predicted: australia australia australia is a good good of nz coach\n",
      "truth: sledging is a fun part of the game aus coach justin langer\n",
      "\n",
      "predicted: kerala treating sabarimalas like barks of interests amit shah\n",
      "truth: kerala treating sabarimala pilgrims like gulag inmates shah\n",
      "\n",
      "predicted: solar storm bound expected to hit earth earth\n",
      "truth: minor solar flare expected to hit earth today cause auroras\n",
      "\n",
      "predicted: kartarpur corridor at be sold by mistake in 2028 pm modi\n",
      "truth: kartarpur corridor atonement for mistake made in 1947 pm modi\n",
      "\n",
      "predicted: 14 yr old kills himself for watching videos in mumbai\n",
      "truth: scolded for using phone mumbai teen hangs self dies in hospital\n",
      "\n",
      "predicted: man dies diesinging dies diesinging dies in her car\n",
      "truth: man dies after crashing his scooter into zareen khan s car in goa\n",
      "\n",
      "predicted: 14 yr old kills himself for watching videos in mumbai\n",
      "truth: scolded for using phone mumbai teen hangs self dies in hospital\n",
      "\n",
      "predicted: jaggvis puts women women for g gndododo\n",
      "truth: game of thrones puts women at the forefront gwendoline\n",
      "\n"
     ]
    },
    {
     "name": "stderr",
     "output_type": "stream",
     "text": [
      "539it [02:43,  3.30it/s]\n",
      "1it [00:00,  8.43it/s]"
     ]
    },
    {
     "name": "stdout",
     "output_type": "stream",
     "text": [
      "epoch 2 G loss: 2.1012638487519766\n"
     ]
    },
    {
     "name": "stderr",
     "output_type": "stream",
     "text": [
      "231it [00:29,  7.89it/s]\n",
      "0it [00:00, ?it/s]"
     ]
    },
    {
     "name": "stdout",
     "output_type": "stream",
     "text": [
      "predicted: some society found pm modi for wel wel welable rss chief\n",
      "truth: modi is a contractor of social welfare rss chief bhagwat\n",
      "\n",
      "predicted: 18 mss get life imprisonment imprisonment by murder\n",
      "truth: 18 cpi m men get life term for killing tmc workers in 2010\n",
      "\n",
      "predicted: iraqi model mistakenly shot dead by us in iraq\n",
      "truth: 22 year old model shot dead inside her porsche in iraq\n",
      "\n",
      "predicted: sachin attends wedding ceremony of pandya s badkhuri\n",
      "truth: sachin tendulkar attends krunal pandya s wedding in mumbai\n",
      "\n",
      "predicted: north korea starved engine engine engine tests study\n",
      "truth: n korea missiles used russian or ukrainian engines reports\n",
      "\n",
      "predicted: indiaing bleed blood blood blood will be great great aus coachlanger\n",
      "truth: india are smelling blood we will show them great respect langer\n",
      "\n",
      "predicted: peoples you ll never walkleep survives in germany\n",
      "truth: event guests sing you ll never walk alone over terror threat\n",
      "\n",
      "predicted: pak will an asian statue under wc imran khanakhtarakhtar\n",
      "truth: pak will become asian tiger under imran khan shoaib akhtar\n",
      "\n",
      "predicted: whatsapp must have a grievance to to news union minister\n",
      "truth: whatsapp must have grievance officer in india it min to ceo\n",
      "\n",
      "predicted: airbus probe probe corruption corruption ined in us\n",
      "truth: airbus launches internal corruption investigation\n",
      "\n"
     ]
    },
    {
     "name": "stderr",
     "output_type": "stream",
     "text": [
      "539it [02:43,  3.29it/s]\n",
      "1it [00:00,  8.43it/s]"
     ]
    },
    {
     "name": "stdout",
     "output_type": "stream",
     "text": [
      "epoch 3 G loss: 2.004135137264363\n"
     ]
    },
    {
     "name": "stderr",
     "output_type": "stream",
     "text": [
      "231it [00:29,  7.77it/s]\n",
      "0it [00:00, ?it/s]"
     ]
    },
    {
     "name": "stdout",
     "output_type": "stream",
     "text": [
      "predicted: man creates selfable from car in car cars\n",
      "truth: man turns his car into a drivable hot tub\n",
      "\n",
      "predicted: australiaing australia is a good good of nz coach\n",
      "truth: sledging is a fun part of the game aus coach justin langer\n",
      "\n",
      "predicted: 1st 1st female teacher teacher teacher child child child child child\n",
      "truth: who was savitribai phule india s first female teacher\n",
      "\n",
      "predicted: un probing syrian chief syrians over syrian war\n",
      "truth: enough evidence to convict syrian prez of war crimes un\n",
      "\n",
      "predicted: jaggvis puts women women for g gndododo\n",
      "truth: game of thrones puts women at the forefront gwendoline\n",
      "\n",
      "predicted: india scoring more more than australia sehwag ons to win\n",
      "truth: aus ke score par laga gst bhaari pad gaya sehwag on india s loss\n",
      "\n",
      "predicted: was threatened to change birth till school till school 18 yrs old rape\n",
      "truth: was threatened to change asaram rape victim s age principal\n",
      "\n",
      "predicted: mytuck ined kids to kids children to kids  \n",
      "truth: de villiers hid love letters he wrote in his house s roof\n",
      "\n",
      "predicted: 18 m from wb activists convicted for murdering murder\n",
      "truth: 18 cpi m men get life term for killing tmc workers in 2010\n",
      "\n",
      "predicted: 1st 1st female teacher teacher teacher child child child child child\n",
      "truth: who was savitribai phule india s first female teacher\n",
      "\n"
     ]
    },
    {
     "name": "stderr",
     "output_type": "stream",
     "text": [
      "539it [02:43,  3.29it/s]\n",
      "1it [00:00,  7.70it/s]"
     ]
    },
    {
     "name": "stdout",
     "output_type": "stream",
     "text": [
      "epoch 4 G loss: 1.8797694880980012\n"
     ]
    },
    {
     "name": "stderr",
     "output_type": "stream",
     "text": [
      "231it [00:29,  7.83it/s]\n",
      "0it [00:00, ?it/s]"
     ]
    },
    {
     "name": "stdout",
     "output_type": "stream",
     "text": [
      "predicted: world s smallest computer computer temperatures\n",
      "truth: how does the world s smallest computer work\n",
      "\n",
      "predicted: mytuck ined kids to kids children to kids des de \n",
      "truth: de villiers hid love letters he wrote in his house s roof\n",
      "\n",
      "predicted: b luru police police uses challenge using mobile without helmet\n",
      "truth: b luru police ask people to wear helmets share 10 secs challenge\n",
      "\n",
      "predicted: scientists help black light exploded in years ago\n",
      "truth: online volunteers help find star that exploded 97 cr yrs ago\n",
      "\n",
      "predicted: zoomcar raises 40 million in seriera mahindra startup\n",
      "truth: car rental startup zoomcar raises 40 million in series c\n",
      "\n",
      "predicted: b luru police police uses challenge using mobile without helmet\n",
      "truth: b luru police ask people to wear helmets share 10 secs challenge\n",
      "\n",
      "predicted: 1st 1st female teacher teacher teacher child child child child child\n",
      "truth: who was savitribai phule india s first female teacher\n",
      "\n",
      "predicted: 35 inmates married at guns in 20166\n",
      "truth: 3 075 grooms got married in bihar at gunpoint in 2016\n",
      "\n",
      "predicted: amazon must pay moneys tax tax taxes trump trump\n",
      "truth: amazon must pay real costs and taxes now donald trump\n",
      "\n",
      "predicted: georgia s pm minister svivivivivivivivivi pm\n",
      "truth: georgia pm kvirikashvili resigns amid rift with ruling party\n",
      "\n"
     ]
    },
    {
     "name": "stderr",
     "output_type": "stream",
     "text": [
      "539it [02:43,  3.30it/s]\n",
      "1it [00:00,  8.41it/s]"
     ]
    },
    {
     "name": "stdout",
     "output_type": "stream",
     "text": [
      "epoch 5 G loss: 1.6847818593787205\n"
     ]
    },
    {
     "name": "stderr",
     "output_type": "stream",
     "text": [
      "231it [00:29,  7.78it/s]\n",
      "0it [00:00, ?it/s]"
     ]
    },
    {
     "name": "stdout",
     "output_type": "stream",
     "text": [
      "predicted: china probe probe anti corruptiononsed in in66\n",
      "truth: airbus launches internal corruption investigation\n",
      "\n",
      "predicted: akhtar an asian under under imran wc wc world shoaibakhtar\n",
      "truth: pak will become asian tiger under imran khan shoaib akhtar\n",
      "\n",
      "predicted: some society found pm for for wel wel welable rss chief\n",
      "truth: modi is a contractor of social welfare rss chief bhagwat\n",
      "\n",
      "predicted: b luru police police uses challenge usinging without helmet helmet\n",
      "truth: b luru police ask people to wear helmets share 10 secs challenge\n",
      "\n",
      "predicted: doctor hospital hospital hospital hospital hospitalsss dissss\n",
      "truth: docs chant mantra for hours to bring down deaths in hospital\n",
      "\n",
      "predicted: woman finds out after being throws snake in us\n",
      "truth: us woman severely injured after mistaking dynamite for candle\n",
      "\n",
      "predicted: climb climbs 30 ft in to to back back his to fianc e\n",
      "truth: man climbs 30 feet ghaziabad hoarding to win back ex fianc e\n",
      "\n",
      "predicted: china probe probe anti corruptiononsed in in66\n",
      "truth: airbus launches internal corruption investigation\n",
      "\n",
      "predicted: pm to visit china in in september summit\n",
      "truth: pm modi to attend brics summit in china\n",
      "\n",
      "predicted: whatsapp must have a grievance to to news union minister\n",
      "truth: whatsapp must have grievance officer in india it min to ceo\n",
      "\n"
     ]
    },
    {
     "name": "stderr",
     "output_type": "stream",
     "text": [
      "539it [02:43,  3.29it/s]\n",
      "1it [00:00,  8.41it/s]"
     ]
    },
    {
     "name": "stdout",
     "output_type": "stream",
     "text": [
      "epoch 6 G loss: 1.3268333139754735\n"
     ]
    },
    {
     "name": "stderr",
     "output_type": "stream",
     "text": [
      "173it [00:22,  7.51it/s]IOPub message rate exceeded.\n",
      "The notebook server will temporarily stop sending output\n",
      "to the client in order to avoid crashing it.\n",
      "To change this limit, set the config variable\n",
      "`--NotebookApp.iopub_msg_rate_limit`.\n",
      "\n",
      "Current values:\n",
      "NotebookApp.iopub_msg_rate_limit=1000.0 (msgs/sec)\n",
      "NotebookApp.rate_limit_window=3.0 (secs)\n",
      "\n",
      "539it [02:43,  3.30it/s]\n",
      "1it [00:00,  8.20it/s]"
     ]
    },
    {
     "name": "stdout",
     "output_type": "stream",
     "text": [
      "epoch 26 G loss: 0.29404242396325203\n"
     ]
    },
    {
     "name": "stderr",
     "output_type": "stream",
     "text": [
      "231it [00:29,  7.88it/s]\n",
      "0it [00:00, ?it/s]"
     ]
    },
    {
     "name": "stdout",
     "output_type": "stream",
     "text": [
      "predicted: kerala school makess weddings to for hostel hostel hostel\n",
      "truth: village issues marriage certificate only after green wedding\n",
      "\n",
      "predicted: fake news of shah khan death death on after crash crash crash crash report\n",
      "truth: fake news of srk s death emerges on european news channel\n",
      "\n",
      "predicted: vajpayee pm vajpayee 1st in inhindi at at party party\n",
      "truth: late pm vajpayee was 1st person to give hindi speech at un\n",
      "\n",
      "predicted: driver drivers for for foring bus bus bus bus bus bus\n",
      "truth: suffering for no fault driver who let langur control steering\n",
      "\n",
      "predicted: akhtar an asian statue under under wc wc pakakhtarakhtar\n",
      "truth: pak will become asian tiger under imran khan shoaib akhtar\n",
      "\n",
      "predicted: youth killed in clashes clashe clashess eid in kashmir\n",
      "truth: 20 yr old killed in clashes after eid prayers in kashmir\n",
      "\n",
      "predicted: delhi metro moves sc against to to to delhi infra\n",
      "truth: delhi metro moves sc against 60 crore payment to rinfra arm\n",
      "\n",
      "predicted: cbiinginginginginginging sa ona murder\n",
      "truth: cbi planted witnesses in aarushi murder case allahabad hc\n",
      "\n",
      "predicted: georgia s pm minister ministerss minister minister minister minister minister\n",
      "truth: georgia pm kvirikashvili resigns amid rift with ruling party\n",
      "\n",
      "predicted: us probes probes corrupti corruption ins666\n",
      "truth: airbus launches internal corruption investigation\n",
      "\n"
     ]
    },
    {
     "name": "stderr",
     "output_type": "stream",
     "text": [
      "539it [02:42,  3.31it/s]\n",
      "1it [00:00,  8.29it/s]"
     ]
    },
    {
     "name": "stdout",
     "output_type": "stream",
     "text": [
      "epoch 27 G loss: 0.3191242381905783\n"
     ]
    },
    {
     "name": "stderr",
     "output_type": "stream",
     "text": [
      "231it [00:29,  7.88it/s]\n",
      "0it [00:00, ?it/s]"
     ]
    },
    {
     "name": "stdout",
     "output_type": "stream",
     "text": [
      "predicted: sports can t run run bysss sports sports min\n",
      "truth: sports can t be run by bureaucrats sports minister rathore\n",
      "\n",
      "predicted: nasa proposes suns co co co coinging weather\n",
      "truth: nasa team proposes using sun as cosmic magnifying glass\n",
      "\n",
      "predicted: goted for for for b am b on s on yr yrs yrs\n",
      "truth: received best compliment from dilip kumar for black big b\n",
      "\n",
      "predicted: air indiaeded teded flightededed flight\n",
      "truth: air india refuses to let wheelchair bound passenger on plane\n",
      "\n",
      "predicted: 14 yr old kills after after for for watch video ons\n",
      "truth: scolded for using phone mumbai teen hangs self dies in hospital\n",
      "\n",
      "predicted: delhi metro moves sc against to to delhi infra infra\n",
      "truth: delhi metro moves sc against 60 crore payment to rinfra arm\n",
      "\n",
      "predicted: google us use ai own ai ai ai to improve android\n",
      "truth: google using ai to improve battery life on android phones\n",
      "\n",
      "predicted: sports can t run run bysss sports sports min\n",
      "truth: sports can t be run by bureaucrats sports minister rathore\n",
      "\n",
      "predicted: thieves ins inside inside inside toilets stolenn\n",
      "truth: us thieves try to steal tv return it as it didn t fit in car\n",
      "\n",
      "predicted: youth killed in clashes clashe clashes eid eid clashe kashmir\n",
      "truth: 20 yr old killed in clashes after eid prayers in kashmir\n",
      "\n"
     ]
    },
    {
     "name": "stderr",
     "output_type": "stream",
     "text": [
      "539it [02:43,  3.30it/s]\n",
      "1it [00:00,  8.18it/s]"
     ]
    },
    {
     "name": "stdout",
     "output_type": "stream",
     "text": [
      "epoch 28 G loss: 0.32781566691463954\n"
     ]
    },
    {
     "name": "stderr",
     "output_type": "stream",
     "text": [
      "231it [00:29,  7.85it/s]\n",
      "0it [00:00, ?it/s]"
     ]
    },
    {
     "name": "stdout",
     "output_type": "stream",
     "text": [
      "predicted: india scor more more more australia australia sehwag on\n",
      "truth: aus ke score par laga gst bhaari pad gaya sehwag on india s loss\n",
      "\n",
      "predicted: un probing syrianss syrians syrian syrian war\n",
      "truth: enough evidence to convict syrian prez of war crimes un\n",
      "\n",
      "predicted: facebook asks us to to share infossss report\n",
      "truth: facebook asks us banks for users financial data report\n",
      "\n",
      "predicted: maha school asks notice for for foringing leaders leaders leaders\n",
      "truth: rahul given notice over nude dalit kids being beaten up video\n",
      "\n",
      "predicted: india scor more more more australia australia sehwag on\n",
      "truth: aus ke score par laga gst bhaari pad gaya sehwag on india s loss\n",
      "\n",
      "predicted: karnataku ss to to to to s s stuck in bengalur\n",
      "truth: match s pre lunch session extended as food stuck in b luru traffic\n",
      "\n",
      "predicted: scientistss stared light meteoritess year\n",
      "truth: online volunteers help find star that exploded 97 cr yrs ago\n",
      "\n",
      "predicted: sachin attends weddingy ceremony s skarikhuri\n",
      "truth: sachin tendulkar attends krunal pandya s wedding in mumbai\n",
      "\n",
      "predicted: google using own own ai ai ai to cheap android\n",
      "truth: google using ai to improve battery life on android phones\n",
      "\n",
      "predicted: man makessableable   in car car co co\n",
      "truth: man turns his car into a drivable hot tub\n",
      "\n"
     ]
    },
    {
     "name": "stderr",
     "output_type": "stream",
     "text": [
      "539it [02:43,  3.30it/s]\n",
      "1it [00:00,  8.12it/s]"
     ]
    },
    {
     "name": "stdout",
     "output_type": "stream",
     "text": [
      "epoch 29 G loss: 0.3010090386678304\n"
     ]
    },
    {
     "name": "stderr",
     "output_type": "stream",
     "text": [
      "225it [00:28,  8.08it/s]IOPub message rate exceeded.\n",
      "The notebook server will temporarily stop sending output\n",
      "to the client in order to avoid crashing it.\n",
      "To change this limit, set the config variable\n",
      "`--NotebookApp.iopub_msg_rate_limit`.\n",
      "\n",
      "Current values:\n",
      "NotebookApp.iopub_msg_rate_limit=1000.0 (msgs/sec)\n",
      "NotebookApp.rate_limit_window=3.0 (secs)\n",
      "\n",
      "231it [00:29,  7.83it/s]\n",
      "0it [00:00, ?it/s]"
     ]
    },
    {
     "name": "stdout",
     "output_type": "stream",
     "text": [
      "predicted: worri threaten to to to till till class old old old old school\n",
      "truth: was threatened to change asaram rape victim s age principal\n",
      "\n",
      "predicted: kartarpur corridor at be for music mistake in pm on\n",
      "truth: kartarpur corridor atonement for mistake made in 1947 pm modi\n",
      "\n",
      "predicted: 1 worthssss 1s lakh on a a\n",
      "truth: nasa spacecraft landed on mars with names of over 1l indians\n",
      "\n",
      "predicted: akhtar an asian statue under wc wc wc pakakhtarakhtar\n",
      "truth: pak will become asian tiger under imran khan shoaib akhtar\n",
      "\n",
      "predicted: former nirmalm swor sworn in in governor governor\n",
      "truth: satya pal malik sworn in as governor of bihar\n",
      "\n",
      "predicted: world s smallest computer computer temperaturess\n",
      "truth: how does the world s smallest computer work\n",
      "\n",
      "predicted: nasa proposes useing co co copeinginging\n",
      "truth: nasa team proposes using sun as cosmic magnifying glass\n",
      "\n",
      "predicted: social media firmsenening retailers through trump trump trump\n",
      "truth: social media giants are silencing millions of people trump\n",
      "\n",
      "predicted: kejriwal kejriwal courts defamationion case againlalala\n",
      "truth: delhi cm discharged in defamation case over thulla remark\n",
      "\n",
      "predicted: woman finds after gas aftersss malfunction\n",
      "truth: us woman severely injured after mistaking dynamite for candle\n",
      "\n"
     ]
    },
    {
     "name": "stderr",
     "output_type": "stream",
     "text": [
      "539it [02:43,  3.31it/s]\n",
      "1it [00:00,  8.30it/s]"
     ]
    },
    {
     "name": "stdout",
     "output_type": "stream",
     "text": [
      "epoch 49 G loss: 0.31831185817092567\n"
     ]
    },
    {
     "name": "stderr",
     "output_type": "stream",
     "text": [
      "231it [00:29,  7.86it/s]\n",
      "0it [00:00, ?it/s]"
     ]
    },
    {
     "name": "stdout",
     "output_type": "stream",
     "text": [
      "predicted: 35 inmates married ated66666\n",
      "truth: 3 075 grooms got married in bihar at gunpoint in 2016\n",
      "\n",
      "predicted: woman finds after gas afters mo mos malfunction malfunction\n",
      "truth: us woman severely injured after mistaking dynamite for candle\n",
      "\n",
      "predicted: kerala treating sabarimalas likess of interest interest amit shah\n",
      "truth: kerala treating sabarimala pilgrims like gulag inmates shah\n",
      "\n",
      "predicted: cbiinginginginginging s s sarushi case\n",
      "truth: cbi planted witnesses in aarushi murder case allahabad hc\n",
      "\n",
      "predicted: bararcelona first club club to to toss ins\n",
      "truth: barcelona become world s 1st team to spend 500 million on wages\n",
      "\n",
      "predicted: kerala treating sabarimalas likess of interest interest amit shah\n",
      "truth: kerala treating sabarimala pilgrims like gulag inmates shah\n",
      "\n",
      "predicted: 35 inmates married ated66666\n",
      "truth: 3 075 grooms got married in bihar at gunpoint in 2016\n",
      "\n",
      "predicted: 36 deports 36 yr old  over kashmired suspect links isi isi\n",
      "truth: uae deports indian over suspected links with isis\n",
      "\n",
      "predicted: 13 yr old hurun crown passe away away ageded\n",
      "truth: 27 hurun rich list billionaires passed away last year\n",
      "\n",
      "predicted: society pm modi modi for for for wel wel chief rss chief\n",
      "truth: modi is a contractor of social welfare rss chief bhagwat\n",
      "\n"
     ]
    },
    {
     "name": "stderr",
     "output_type": "stream",
     "text": [
      "539it [02:43,  3.30it/s]\n",
      "1it [00:00,  8.14it/s]"
     ]
    },
    {
     "name": "stdout",
     "output_type": "stream",
     "text": [
      "epoch 50 G loss: 0.4359646014305854\n"
     ]
    },
    {
     "name": "stderr",
     "output_type": "stream",
     "text": [
      "231it [00:29,  7.81it/s]\n",
      "0it [00:00, ?it/s]"
     ]
    },
    {
     "name": "stdout",
     "output_type": "stream",
     "text": [
      "predicted: pm singing demonetisededededed union minister us us\n",
      "truth: manmohan s speech on demonetisation was scripted prasad\n",
      "\n",
      "predicted: sports cannot run run byss sports sports sports min us us us\n",
      "truth: sports can t be run by bureaucrats sports minister rathore\n",
      "\n",
      "predicted: ferrari s driver crashes car car car car after cars doors doors\n",
      "truth: f1 driver crashes after race ends rides back on another car\n",
      "\n",
      "predicted: 13 yr old hn crown 98 billionaire passes away aged us\n",
      "truth: 27 hurun rich list billionaires passed away last year\n",
      "\n",
      "predicted: china secrets probes corrupti corruption in6666 us us us\n",
      "truth: airbus launches internal corruption investigation\n",
      "\n",
      "predicted: amazon must pay money tax tax tax reforms donald trump us us us us\n",
      "truth: amazon must pay real costs and taxes now donald trump\n",
      "\n",
      "predicted: kerala treating sabarimalas like barks of interest interest amit shah us us\n",
      "truth: kerala treating sabarimala pilgrims like gulag inmates shah\n",
      "\n",
      "predicted: man winss 4 4 crore for over a shark shark shark us us us\n",
      "truth: us man awarded 4 8 crore after beer burns his organs\n",
      "\n",
      "predicted: kejriwal kejriwal in defamationionion lawyer againstla us us us\n",
      "truth: delhi cm discharged in defamation case over thulla remark\n",
      "\n",
      "predicted: 1 worth hurricanesss 1 1 lakh on on a us us\n",
      "truth: nasa spacecraft landed on mars with names of over 1l indians\n",
      "\n"
     ]
    },
    {
     "name": "stderr",
     "output_type": "stream",
     "text": [
      "539it [02:43,  3.30it/s]\n",
      "1it [00:00,  8.29it/s]"
     ]
    },
    {
     "name": "stdout",
     "output_type": "stream",
     "text": [
      "epoch 51 G loss: 0.7584378970160739\n"
     ]
    },
    {
     "name": "stderr",
     "output_type": "stream",
     "text": [
      "231it [00:29,  7.84it/s]\n",
      "0it [00:00, ?it/s]"
     ]
    },
    {
     "name": "stdout",
     "output_type": "stream",
     "text": [
      "predicted: worri threatened to to to till till school old old 18 old old report\n",
      "truth: was threatened to change asaram rape victim s age principal\n",
      "\n",
      "predicted: 1 was 1 1 female teacher teacher teacher child child child child child victim report report report\n",
      "truth: who was savitribai phule india s first female teacher\n",
      "\n",
      "predicted: d daredevils  d of ipl iplinging to hand hand hand report report\n",
      "truth: delhi s last year top scorer quinton de kock out of ipl 2017\n",
      "\n",
      "predicted: cbiinginginginginging of saaa\n",
      "truth: cbi planted witnesses in aarushi murder case allahabad hc\n",
      "\n",
      "predicted: barcelona first club club to spend tos in ins report report\n",
      "truth: barcelona become world s 1st team to spend 500 million on wages\n",
      "\n",
      "predicted: ex pmingedededededededed union minister\n",
      "truth: manmohan s speech on demonetisation was scripted prasad\n",
      "\n",
      "predicted: bus drivered for a mouth with bus bus bus bus bus bus k report report\n",
      "truth: suffering for no fault driver who let langur control steering\n",
      "\n",
      "predicted: delhi metrosss against hc order to relian infra report report report\n",
      "truth: delhi metro moves sc against 60 crore payment to rinfra arm\n",
      "\n",
      "predicted: cbiinginginginginging of saaa\n",
      "truth: cbi planted witnesses in aarushi murder case allahabad hc\n",
      "\n",
      "predicted: kartarpur corridor at be for by by mistake pm pm modi report\n",
      "truth: kartarpur corridor atonement for mistake made in 1947 pm modi\n",
      "\n"
     ]
    },
    {
     "name": "stderr",
     "output_type": "stream",
     "text": [
      "539it [02:42,  3.31it/s]\n",
      "1it [00:00,  7.61it/s]"
     ]
    },
    {
     "name": "stdout",
     "output_type": "stream",
     "text": [
      "epoch 52 G loss: 0.2805418016651876\n"
     ]
    },
    {
     "name": "stderr",
     "output_type": "stream",
     "text": [
      "124it [00:15,  7.97it/s]IOPub message rate exceeded.\n",
      "The notebook server will temporarily stop sending output\n",
      "to the client in order to avoid crashing it.\n",
      "To change this limit, set the config variable\n",
      "`--NotebookApp.iopub_msg_rate_limit`.\n",
      "\n",
      "Current values:\n",
      "NotebookApp.iopub_msg_rate_limit=1000.0 (msgs/sec)\n",
      "NotebookApp.rate_limit_window=3.0 (secs)\n",
      "\n",
      "539it [02:43,  3.29it/s]\n",
      "1it [00:00,  8.17it/s]"
     ]
    },
    {
     "name": "stdout",
     "output_type": "stream",
     "text": [
      "epoch 72 G loss: 0.48075483392653723\n"
     ]
    },
    {
     "name": "stderr",
     "output_type": "stream",
     "text": [
      "231it [00:29,  7.74it/s]\n",
      "0it [00:00, ?it/s]"
     ]
    },
    {
     "name": "stdout",
     "output_type": "stream",
     "text": [
      "predicted: 13 yr old hurun 98 billionaire passes away ageded\n",
      "truth: 27 hurun rich list billionaires passed away last year\n",
      "\n",
      "predicted: ex pming demonetisededededededed minister minister minister minister minister minister\n",
      "truth: manmohan s speech on demonetisation was scripted prasad\n",
      "\n",
      "predicted: society betrayed pm for for wel welcy sharad chief chief chief chief chief\n",
      "truth: modi is a contractor of social welfare rss chief bhagwat\n",
      "\n",
      "predicted: dd  de d out of iplinginging to onboard\n",
      "truth: delhi s last year top scorer quinton de kock out of ipl 2017\n",
      "\n",
      "predicted: srikanth ised padma padma shri shri india\n",
      "truth: kidambi srikanth conferred with padma shri award\n",
      "\n",
      "predicted: used to pe peuts with withs 22 csk lungi lungidi\n",
      "truth: csk pacer lungi reveals he used to sell peanuts on roadside\n",
      "\n",
      "predicted: srikanth ised padma padma shri shri india\n",
      "truth: kidambi srikanth conferred with padma shri award\n",
      "\n",
      "predicted: kerala treating sabarimala like likess of environment interest amit shah shah\n",
      "truth: kerala treating sabarimala pilgrims like gulag inmates shah\n",
      "\n",
      "predicted: former pm vajpayee 1st to in inhindi at  party\n",
      "truth: late pm vajpayee was 1st person to give hindi speech at un\n",
      "\n",
      "predicted: french singersss after after aftering in in\n",
      "truth: french singer barbara weldens dies on stage during concert\n",
      "\n"
     ]
    },
    {
     "name": "stderr",
     "output_type": "stream",
     "text": [
      "539it [02:43,  3.30it/s]\n",
      "1it [00:00,  8.21it/s]"
     ]
    },
    {
     "name": "stdout",
     "output_type": "stream",
     "text": [
      "epoch 73 G loss: 0.4804503655794625\n"
     ]
    },
    {
     "name": "stderr",
     "output_type": "stream",
     "text": [
      "231it [00:29,  7.73it/s]\n",
      "0it [00:00, ?it/s]"
     ]
    },
    {
     "name": "stdout",
     "output_type": "stream",
     "text": [
      "predicted: doctor hospital hospital hospital hospital hospitalss dissssss\n",
      "truth: docs chant mantra for hours to bring down deaths in hospital\n",
      "\n",
      "predicted: karnataku crickets toed to to s stuck in\n",
      "truth: match s pre lunch session extended as food stuck in b luru traffic\n",
      "\n",
      "predicted: worried to to to till till till class school 18 old old rape\n",
      "truth: was threatened to change asaram rape victim s age principal\n",
      "\n",
      "predicted: over secret firms exposed corrupti corruptions in666\n",
      "truth: airbus launches internal corruption investigation\n",
      "\n",
      "predicted: maha school get notice notice for foringing leaders leadersdd\n",
      "truth: rahul given notice over nude dalit kids being beaten up video\n",
      "\n",
      "predicted: pmmohan sed manededededed union\n",
      "truth: manmohan s speech on demonetisation was scripted prasad\n",
      "\n",
      "predicted: first look poster of sushant su kritierer raabtata out\n",
      "truth: first look poster of sushant kriti s raabta unveiled\n",
      "\n",
      "predicted: north korea missiles engine engine engine test test study\n",
      "truth: n korea missiles used russian or ukrainian engines reports\n",
      "\n",
      "predicted: us co stream shot shot dead by in in\n",
      "truth: 22 year old model shot dead inside her porsche in iraq\n",
      "\n",
      "predicted: vajpayee pm vajpayee 1st to in in in at at party\n",
      "truth: late pm vajpayee was 1st person to give hindi speech at un\n",
      "\n"
     ]
    },
    {
     "name": "stderr",
     "output_type": "stream",
     "text": [
      "539it [02:43,  3.29it/s]\n",
      "1it [00:00,  8.25it/s]"
     ]
    },
    {
     "name": "stdout",
     "output_type": "stream",
     "text": [
      "epoch 74 G loss: 0.28416045085620784\n"
     ]
    },
    {
     "name": "stderr",
     "output_type": "stream",
     "text": [
      "231it [00:29,  7.77it/s]\n",
      "0it [00:00, ?it/s]"
     ]
    },
    {
     "name": "stdout",
     "output_type": "stream",
     "text": [
      "predicted: woman falls after gas causes mo mo mos malfunction in\n",
      "truth: us woman severely injured after mistaking dynamite for candle\n",
      "\n",
      "predicted: 18 m mss life life imprisonment in murder\n",
      "truth: 18 cpi m men get life term for killing tmc workers in 2010\n",
      "\n",
      "predicted: kerala treating sabarimalas likess of environment interest shah shah\n",
      "truth: kerala treating sabarimala pilgrims like gulag inmates shah\n",
      "\n",
      "predicted: 4 farmerss milk milkssss on strike strike\n",
      "truth: farmers dump vegetables spill milk on roads during protest\n",
      "\n",
      "predicted: youth killed in violence dur clashess eid in\n",
      "truth: 20 yr old killed in clashes after eid prayers in kashmir\n",
      "\n",
      "predicted: australia australia is good good a of of zealand coach \n",
      "truth: sledging is a fun part of the game aus coach justin langer\n",
      "\n",
      "predicted: sachin attends weddingy at s wedding shuhuri\n",
      "truth: sachin tendulkar attends krunal pandya s wedding in mumbai\n",
      "\n",
      "predicted: thousandss to never walk walk walk aed in\n",
      "truth: event guests sing you ll never walk alone over terror threat\n",
      "\n",
      "predicted: solar storm storm expected to earth earth earth earth\n",
      "truth: minor solar flare expected to hit earth today cause auroras\n",
      "\n",
      "predicted: vajpayee pm 1st to inhindihindi in at at party\n",
      "truth: late pm vajpayee was 1st person to give hindi speech at un\n",
      "\n"
     ]
    },
    {
     "name": "stderr",
     "output_type": "stream",
     "text": [
      "539it [02:43,  3.30it/s]\n",
      "1it [00:00,  8.22it/s]"
     ]
    },
    {
     "name": "stdout",
     "output_type": "stream",
     "text": [
      "epoch 75 G loss: 0.748477402063965\n"
     ]
    },
    {
     "name": "stderr",
     "output_type": "stream",
     "text": [
      "231it [00:29,  7.72it/s]\n",
      "0it [00:00, ?it/s]"
     ]
    },
    {
     "name": "stdout",
     "output_type": "stream",
     "text": [
      "predicted: prem hates put puts women for g gndododo\n",
      "truth: game of thrones puts women at the forefront gwendoline\n",
      "\n",
      "predicted: vajpayee born 1st to inhindihindi at party party party chief chief\n",
      "truth: late pm vajpayee was 1st person to give hindi speech at un\n",
      "\n",
      "predicted: former nirmalm minister swor sworn in governor governor bihar chief chief chief chief\n",
      "truth: satya pal malik sworn in as governor of bihar\n",
      "\n",
      "predicted: nurse suessinginginging to to baby baby baby chief\n",
      "truth: italian nurse jailed for calming newborn with morphine\n",
      "\n",
      "predicted: un probing syrian chiefsss of syrian syrian chief chief chief chief\n",
      "truth: enough evidence to convict syrian prez of war crimes un\n",
      "\n",
      "predicted: cbiinging withinginging s saa on chief chief chief\n",
      "truth: cbi planted witnesses in aarushi murder case allahabad hc\n",
      "\n",
      "predicted: cbiinging withinginging s saa on chief chief chief\n",
      "truth: cbi planted witnesses in aarushi murder case allahabad hc\n",
      "\n",
      "predicted: ex pming demonetisedededededed union chief\n",
      "truth: manmohan s speech on demonetisation was scripted prasad\n",
      "\n",
      "predicted: man makessableable   in car car co co\n",
      "truth: man turns his car into a drivable hot tub\n",
      "\n",
      "predicted: social media firms stressen of of of trump trump trump trump chief chief chief\n",
      "truth: social media giants are silencing millions of people trump\n",
      "\n"
     ]
    },
    {
     "name": "stderr",
     "output_type": "stream",
     "text": [
      "40it [00:12,  3.28it/s]IOPub message rate exceeded.\n",
      "The notebook server will temporarily stop sending output\n",
      "to the client in order to avoid crashing it.\n",
      "To change this limit, set the config variable\n",
      "`--NotebookApp.iopub_msg_rate_limit`.\n",
      "\n",
      "Current values:\n",
      "NotebookApp.iopub_msg_rate_limit=1000.0 (msgs/sec)\n",
      "NotebookApp.rate_limit_window=3.0 (secs)\n",
      "\n",
      "539it [02:43,  3.30it/s]\n",
      "1it [00:00,  7.54it/s]"
     ]
    },
    {
     "name": "stdout",
     "output_type": "stream",
     "text": [
      "epoch 95 G loss: 0.4006489041368345\n"
     ]
    },
    {
     "name": "stderr",
     "output_type": "stream",
     "text": [
      "231it [00:29,  7.71it/s]\n",
      "0it [00:00, ?it/s]"
     ]
    },
    {
     "name": "stdout",
     "output_type": "stream",
     "text": [
      "predicted: youth killed in violence clashessss in kashmir polls\n",
      "truth: 20 yr old killed in clashes after eid prayers in kashmir\n",
      "\n",
      "predicted: delhi metro moves sc again to to pay crore delhi infra polls\n",
      "truth: delhi metro moves sc against 60 crore payment to rinfra arm\n",
      "\n",
      "predicted: kerala village makess weddings mandatory for marriage polls polls polls polls\n",
      "truth: village issues marriage certificate only after green wedding\n",
      "\n",
      "predicted: former pm vajpayee 1st to in in in at at in polls polls\n",
      "truth: late pm vajpayee was 1st person to give hindi speech at un\n",
      "\n",
      "predicted: facebook tos us to to reportsssss polls\n",
      "truth: facebook asks us banks for users financial data report\n",
      "\n",
      "predicted: kartarpur corridor at be for for mistake mistake in on pm polls\n",
      "truth: kartarpur corridor atonement for mistake made in 1947 pm modi\n",
      "\n",
      "predicted: world s smallest computer computer temperature tos\n",
      "truth: how does the world s smallest computer work\n",
      "\n",
      "predicted: sports cannot run run byss sports sports min polls polls\n",
      "truth: sports can t be run by bureaucrats sports minister rathore\n",
      "\n",
      "predicted: kartarpur corridor at be for for mistake mistake in on pm polls\n",
      "truth: kartarpur corridor atonement for mistake made in 1947 pm modi\n",
      "\n",
      "predicted: 33 inmates marrieded at66 in 2016\n",
      "truth: 3 075 grooms got married in bihar at gunpoint in 2016\n",
      "\n"
     ]
    },
    {
     "name": "stderr",
     "output_type": "stream",
     "text": [
      "539it [02:44,  3.28it/s]\n",
      "1it [00:00,  7.54it/s]"
     ]
    },
    {
     "name": "stdout",
     "output_type": "stream",
     "text": [
      "epoch 96 G loss: 0.29372681150732777\n"
     ]
    },
    {
     "name": "stderr",
     "output_type": "stream",
     "text": [
      "231it [00:29,  7.75it/s]\n",
      "0it [00:00, ?it/s]"
     ]
    },
    {
     "name": "stdout",
     "output_type": "stream",
     "text": [
      "predicted: facebook askss us to share infos reportsss\n",
      "truth: facebook asks us banks for users financial data report\n",
      "\n",
      "predicted: facebook askss us to share infos reportsss\n",
      "truth: facebook asks us banks for users financial data report\n",
      "\n",
      "predicted: armyables against soldiers soldiers soldiers soldiersss army\n",
      "truth: soldiers to face action for disrespecting militants bodies\n",
      "\n",
      "predicted: never never  think what i have have done done in my film kajol\n",
      "truth: i never think about what i should ve done differently kajol\n",
      "\n",
      "predicted: climb climbs climb 30 ft to to to to his to fianc e\n",
      "truth: man climbs 30 feet ghaziabad hoarding to win back ex fianc e\n",
      "\n",
      "predicted: amazon to test test delivery delivery for in fashion fashion london\n",
      "truth: amazon to test one hour delivery for fashion show clothes\n",
      "\n",
      "predicted: world s smallest computer computer temperaturess\n",
      "truth: how does the world s smallest computer work\n",
      "\n",
      "predicted: georgia pm s minister ministers prime minister minister ministervivivi\n",
      "truth: georgia pm kvirikashvili resigns amid rift with ruling party\n",
      "\n",
      "predicted: indiainging blood blood blood will be great great justinlanger\n",
      "truth: india are smelling blood we will show them great respect langer\n",
      "\n",
      "predicted: social media companies stressenings retailer trump trump trump\n",
      "truth: social media giants are silencing millions of people trump\n",
      "\n"
     ]
    },
    {
     "name": "stderr",
     "output_type": "stream",
     "text": [
      "539it [02:44,  3.28it/s]\n",
      "1it [00:00,  8.05it/s]"
     ]
    },
    {
     "name": "stdout",
     "output_type": "stream",
     "text": [
      "epoch 97 G loss: 0.4477165938593593\n"
     ]
    },
    {
     "name": "stderr",
     "output_type": "stream",
     "text": [
      "231it [00:29,  7.77it/s]\n",
      "0it [00:00, ?it/s]"
     ]
    },
    {
     "name": "stdout",
     "output_type": "stream",
     "text": [
      "predicted: rahul scor more more more more australiawagwagwag on games games games\n",
      "truth: aus ke score par laga gst bhaari pad gaya sehwag on india s loss\n",
      "\n",
      "predicted: 33 inmates marrieded at66 20166 games\n",
      "truth: 3 075 grooms got married in bihar at gunpoint in 2016\n",
      "\n",
      "predicted: was t allowededed flight flightededed flight flight\n",
      "truth: air india refuses to let wheelchair bound passenger on plane\n",
      "\n",
      "predicted: fresh airs probes corrupti corrupti666666\n",
      "truth: airbus launches internal corruption investigation\n",
      "\n",
      "predicted: woman eats after gas after after mo moite malfunction malfunction games games games\n",
      "truth: us woman severely injured after mistaking dynamite for candle\n",
      "\n",
      "predicted: climb climbs 30 ft in to to to back his to fianc e games\n",
      "truth: man climbs 30 feet ghaziabad hoarding to win back ex fianc e\n",
      "\n",
      "predicted: doctor hospital hospital hospital hospitalsss dissssss\n",
      "truth: docs chant mantra for hours to bring down deaths in hospital\n",
      "\n",
      "predicted: 14 yr old kills after after for fors on ons\n",
      "truth: scolded for using phone mumbai teen hangs self dies in hospital\n",
      "\n",
      "predicted: amitabh bachchan bachchaneded in leaks panama panama panama papers games games\n",
      "truth: amitabh aishwarya submit documents in panama papers probe\n",
      "\n",
      "predicted: used pe peuts with with hiss cskdididididi\n",
      "truth: csk pacer lungi reveals he used to sell peanuts on roadside\n",
      "\n"
     ]
    },
    {
     "name": "stderr",
     "output_type": "stream",
     "text": [
      "539it [02:43,  3.30it/s]\n",
      "1it [00:00,  7.61it/s]"
     ]
    },
    {
     "name": "stdout",
     "output_type": "stream",
     "text": [
      "epoch 98 G loss: 0.3744998675070222\n"
     ]
    },
    {
     "name": "stderr",
     "output_type": "stream",
     "text": [
      "231it [00:29,  7.74it/s]\n",
      "0it [00:00, ?it/s]"
     ]
    },
    {
     "name": "stdout",
     "output_type": "stream",
     "text": [
      "predicted: iit roorkee floating float electricit canfrom water water water water deal\n",
      "truth: iit roorkee tests device to generate electricity from river flow\n",
      "\n",
      "predicted: mumbai were 1 1 female teacher teacher in child child child victim deal deal deal deal\n",
      "truth: who was savitribai phule india s first female teacher\n",
      "\n",
      "predicted: some society found pm for for for welable sharad bhagwat deal deal deal deal\n",
      "truth: modi is a contractor of social welfare rss chief bhagwat\n",
      "\n",
      "predicted: bengaluruu police police useing usinging a helmet helmet helmet deal deal deal\n",
      "truth: b luru police ask people to wear helmets share 10 secs challenge\n",
      "\n",
      "predicted: doctor hospital hospital hospital hospitalsss deathssssss deal deal\n",
      "truth: docs chant mantra for hours to bring down deaths in hospital\n",
      "\n",
      "predicted: goted bachchan for aishwarya b bachchan am s bachchan bachchan deal deal\n",
      "truth: received best compliment from dilip kumar for black big b\n",
      "\n",
      "predicted: girl yr old kills after after for fors onss deal\n",
      "truth: scolded for using phone mumbai teen hangs self dies in hospital\n",
      "\n",
      "predicted: thieves in remove remove inside house after itn it deal deal\n",
      "truth: us thieves try to steal tv return it as it didn t fit in car\n",
      "\n",
      "predicted: my s sedss kidss kidsssss abd\n",
      "truth: de villiers hid love letters he wrote in his house s roof\n",
      "\n",
      "predicted: man climbs climbs in to to to back his to fianc e deal\n",
      "truth: man climbs 30 feet ghaziabad hoarding to win back ex fianc e\n",
      "\n"
     ]
    },
    {
     "name": "stderr",
     "output_type": "stream",
     "text": [
      "192it [00:58,  3.27it/s]IOPub message rate exceeded.\n",
      "The notebook server will temporarily stop sending output\n",
      "to the client in order to avoid crashing it.\n",
      "To change this limit, set the config variable\n",
      "`--NotebookApp.iopub_msg_rate_limit`.\n",
      "\n",
      "Current values:\n",
      "NotebookApp.iopub_msg_rate_limit=1000.0 (msgs/sec)\n",
      "NotebookApp.rate_limit_window=3.0 (secs)\n",
      "\n",
      "231it [00:29,  7.84it/s]\n",
      "0it [00:00, ?it/s]"
     ]
    },
    {
     "name": "stdout",
     "output_type": "stream",
     "text": [
      "predicted: us co stream shot dead by by in in\n",
      "truth: 22 year old model shot dead inside her porsche in iraq\n",
      "\n",
      "predicted: mumbai climb climb 30 ft in to to to to his to fianc e\n",
      "truth: man climbs 30 feet ghaziabad hoarding to win back ex fianc e\n",
      "\n",
      "predicted: barca first first club club to to tos in in in\n",
      "truth: barcelona become world s 1st team to spend 500 million on wages\n",
      "\n",
      "predicted: google uss own ai ai ai ai improve improve and android\n",
      "truth: google using ai to improve battery life on android phones\n",
      "\n",
      "predicted: zoomcar raises 40 million infrom mahindraras\n",
      "truth: car rental startup zoomcar raises 40 million in series c\n",
      "\n",
      "predicted: 33 inmates marri married at666 2016\n",
      "truth: 3 075 grooms got married in bihar at gunpoint in 2016\n",
      "\n",
      "predicted: north korea acquired engine engine engine test test study\n",
      "truth: n korea missiles used russian or ukrainian engines reports\n",
      "\n",
      "predicted: 14 yr old kills after after for forssss\n",
      "truth: scolded for using phone mumbai teen hangs self dies in hospital\n",
      "\n",
      "predicted: barca first first club club to to tos in in in\n",
      "truth: barcelona become world s 1st team to spend 500 million on wages\n",
      "\n",
      "predicted: 14 yr old kills after after for forssss\n",
      "truth: scolded for using phone mumbai teen hangs self dies in hospital\n",
      "\n"
     ]
    },
    {
     "name": "stderr",
     "output_type": "stream",
     "text": [
      "539it [02:43,  3.31it/s]\n",
      "1it [00:00,  7.64it/s]"
     ]
    },
    {
     "name": "stdout",
     "output_type": "stream",
     "text": [
      "epoch 118 G loss: 0.4112425557367444\n"
     ]
    },
    {
     "name": "stderr",
     "output_type": "stream",
     "text": [
      "231it [00:29,  7.82it/s]\n",
      "0it [00:00, ?it/s]"
     ]
    },
    {
     "name": "stdout",
     "output_type": "stream",
     "text": [
      "predicted: youb umars should behameded    snisss\n",
      "truth: akmal should be ashamed for being sent back to pak waqar\n",
      "\n",
      "predicted: aiminging blood blood blood will be great great justin coach games games games\n",
      "truth: india are smelling blood we will show them great respect langer\n",
      "\n",
      "predicted: karnataku s trains toed to to to stuck in games games games\n",
      "truth: match s pre lunch session extended as food stuck in b luru traffic\n",
      "\n",
      "predicted: 14 yr old kills after after for fors videos in games\n",
      "truth: scolded for using phone mumbai teen hangs self dies in hospital\n",
      "\n",
      "predicted: doctor hospital hospital hospital hospitalssss deathssssss\n",
      "truth: docs chant mantra for hours to bring down deaths in hospital\n",
      "\n",
      "predicted: my my i am i am me me me me meuddinuddin games\n",
      "truth: threat to my life claims aimim leader akbaruddin owaisi\n",
      "\n",
      "predicted: karnataku s trains toed to to to stuck in games games games\n",
      "truth: match s pre lunch session extended as food stuck in b luru traffic\n",
      "\n",
      "predicted: my sseded kidss kidss kidss abd\n",
      "truth: de villiers hid love letters he wrote in his house s roof\n",
      "\n",
      "predicted: bengaluruu cops use idiotinginging without helmet helmet games games games\n",
      "truth: b luru police ask people to wear helmets share 10 secs challenge\n",
      "\n",
      "predicted: whatsapp must have in india to to fake minister minister games games games games games\n",
      "truth: whatsapp must have grievance officer in india it min to ceo\n",
      "\n"
     ]
    },
    {
     "name": "stderr",
     "output_type": "stream",
     "text": [
      "539it [02:43,  3.30it/s]\n",
      "1it [00:00,  8.34it/s]"
     ]
    },
    {
     "name": "stdout",
     "output_type": "stream",
     "text": [
      "epoch 119 G loss: 0.4860037034906493\n"
     ]
    },
    {
     "name": "stderr",
     "output_type": "stream",
     "text": [
      "231it [00:29,  7.79it/s]\n",
      "0it [00:00, ?it/s]"
     ]
    },
    {
     "name": "stdout",
     "output_type": "stream",
     "text": [
      "predicted: used pe peuts with with fathers cskdididididi\n",
      "truth: csk pacer lungi reveals he used to sell peanuts on roadside\n",
      "\n",
      "predicted: rahul dravid more more more losslost australiawagwag on\n",
      "truth: aus ke score par laga gst bhaari pad gaya sehwag on india s loss\n",
      "\n",
      "predicted: woman finds after gas causes mo moite malfunction malfunction polls\n",
      "truth: us woman severely injured after mistaking dynamite for candle\n",
      "\n",
      "predicted: my ssed s notes love loves kidssss abd\n",
      "truth: de villiers hid love letters he wrote in his house s roof\n",
      "\n",
      "predicted: woman finds after gas causes mo moite malfunction malfunction polls\n",
      "truth: us woman severely injured after mistaking dynamite for candle\n",
      "\n",
      "predicted: thieves remove remove remove inside house after it stolen in polls\n",
      "truth: us thieves try to steal tv return it as it didn t fit in car\n",
      "\n",
      "predicted: rahul dravid more more more losslost australiawagwag on\n",
      "truth: aus ke score par laga gst bhaari pad gaya sehwag on india s loss\n",
      "\n",
      "predicted: protests in milking milkss andss on in strike polls\n",
      "truth: farmers dump vegetables spill milk on roads during protest\n",
      "\n",
      "predicted: sachin attends weddingy ceremony of skari panhuhuri polls\n",
      "truth: sachin tendulkar attends krunal pandya s wedding in mumbai\n",
      "\n",
      "predicted: srikanth iss padma padma shriing in in\n",
      "truth: kidambi srikanth conferred with padma shri award\n",
      "\n"
     ]
    },
    {
     "name": "stderr",
     "output_type": "stream",
     "text": [
      "539it [02:43,  3.30it/s]\n",
      "1it [00:00,  7.92it/s]"
     ]
    },
    {
     "name": "stdout",
     "output_type": "stream",
     "text": [
      "epoch 120 G loss: 0.4433524113984286\n"
     ]
    },
    {
     "name": "stderr",
     "output_type": "stream",
     "text": [
      "231it [00:29,  7.82it/s]\n",
      "0it [00:00, ?it/s]"
     ]
    },
    {
     "name": "stdout",
     "output_type": "stream",
     "text": [
      "predicted: used pe peuts with with fathers 22 cskdididididi\n",
      "truth: csk pacer lungi reveals he used to sell peanuts on roadside\n",
      "\n",
      "predicted: jaggs put puts women at for g gndodododo\n",
      "truth: game of thrones puts women at the forefront gwendoline\n",
      "\n",
      "predicted: sachin attends weddingy at s wedding of ambani panhuri\n",
      "truth: sachin tendulkar attends krunal pandya s wedding in mumbai\n",
      "\n",
      "predicted: my my i am i am me me me me meuddinuddin\n",
      "truth: threat to my life claims aimim leader akbaruddin owaisi\n",
      "\n",
      "predicted: north korea acquired engine engine engine test tests\n",
      "truth: n korea missiles used russian or ukrainian engines reports\n",
      "\n",
      "predicted: used pe peuts with with fathers 22 cskdididididi\n",
      "truth: csk pacer lungi reveals he used to sell peanuts on roadside\n",
      "\n",
      "predicted: amazon to test test delivery delivery for in fashion in london\n",
      "truth: amazon to test one hour delivery for fashion show clothes\n",
      "\n",
      "predicted: doctor hospital hospital hospital hospital hospitalss deathssssss\n",
      "truth: docs chant mantra for hours to bring down deaths in hospital\n",
      "\n",
      "predicted: karnataku ss to to to to to stuck in in bengalur\n",
      "truth: match s pre lunch session extended as food stuck in b luru traffic\n",
      "\n",
      "predicted: kerala school makess free wedding mandatory hostel\n",
      "truth: village issues marriage certificate only after green wedding\n",
      "\n"
     ]
    },
    {
     "name": "stderr",
     "output_type": "stream",
     "text": [
      "539it [02:43,  3.30it/s]\n",
      "1it [00:00,  7.93it/s]"
     ]
    },
    {
     "name": "stdout",
     "output_type": "stream",
     "text": [
      "epoch 121 G loss: 0.29466827062561235\n"
     ]
    },
    {
     "name": "stderr",
     "output_type": "stream",
     "text": [
      "62it [00:07,  7.92it/s]IOPub message rate exceeded.\n",
      "The notebook server will temporarily stop sending output\n",
      "to the client in order to avoid crashing it.\n",
      "To change this limit, set the config variable\n",
      "`--NotebookApp.iopub_msg_rate_limit`.\n",
      "\n",
      "Current values:\n",
      "NotebookApp.iopub_msg_rate_limit=1000.0 (msgs/sec)\n",
      "NotebookApp.rate_limit_window=3.0 (secs)\n",
      "\n",
      "231it [00:29,  7.79it/s]\n",
      "0it [00:00, ?it/s]"
     ]
    },
    {
     "name": "stdout",
     "output_type": "stream",
     "text": [
      "predicted: kartarpur corridor made for for for on pm on on on ondy\n",
      "truth: kartarpur corridor atonement for mistake made in 1947 pm modi\n",
      "\n",
      "predicted: 14 yr old kills after after forss onss\n",
      "truth: scolded for using phone mumbai teen hangs self dies in hospital\n",
      "\n",
      "predicted: peoples the ll never walk walk while evacuated in govt govt govt\n",
      "truth: event guests sing you ll never walk alone over terror threat\n",
      "\n",
      "predicted: man makes deviceableable   in in car co co\n",
      "truth: man turns his car into a drivable hot tub\n",
      "\n",
      "predicted: kartarpur corridor made for for for on pm on on on ondy\n",
      "truth: kartarpur corridor atonement for mistake made in 1947 pm modi\n",
      "\n",
      "predicted: assistableable against soldiers soldiers soldiers soldierss army army govt govt govt\n",
      "truth: soldiers to face action for disrespecting militants bodies\n",
      "\n",
      "predicted: india smelling blood blood will be great great justinlangerlanger govt govt govt govt\n",
      "truth: india are smelling blood we will show them great respect langer\n",
      "\n",
      "predicted: 4 missile fired  taliban taliban in pakistan govt govt govt\n",
      "truth: 4 missiles fired into pakistan from afghanistan\n",
      "\n",
      "predicted: delhi metro moves sc against delhi order to delhi delhi govt\n",
      "truth: delhi metro moves sc against 60 crore payment to rinfra arm\n",
      "\n",
      "predicted: world s smallest computer temperature temperature temperatures govt govt govt\n",
      "truth: how does the world s smallest computer work\n",
      "\n"
     ]
    },
    {
     "name": "stderr",
     "output_type": "stream",
     "text": [
      "539it [02:43,  3.30it/s]\n",
      "1it [00:00,  8.19it/s]"
     ]
    },
    {
     "name": "stdout",
     "output_type": "stream",
     "text": [
      "epoch 141 G loss: 0.8344447532011326\n"
     ]
    },
    {
     "name": "stderr",
     "output_type": "stream",
     "text": [
      "231it [00:29,  7.83it/s]\n",
      "0it [00:00, ?it/s]"
     ]
    },
    {
     "name": "stdout",
     "output_type": "stream",
     "text": [
      "predicted: freshable tost soldiers soldiers soldiers soldierss army army govt govt\n",
      "truth: soldiers to face action for disrespecting militants bodies\n",
      "\n",
      "predicted: man gets 4 4 cr 4 4 after after a shark shark\n",
      "truth: us man awarded 4 8 crore after beer burns his organs\n",
      "\n",
      "predicted: dd s de dding ipl to to league league finger\n",
      "truth: delhi s last year top scorer quinton de kock out of ipl 2017\n",
      "\n",
      "predicted: facebook tos us to sharessssss govt\n",
      "truth: facebook asks us banks for users financial data report\n",
      "\n",
      "predicted: facebook tos us to sharessssss govt\n",
      "truth: facebook asks us banks for users financial data report\n",
      "\n",
      "predicted: man ridu man ridinging dies dies diesing by car\n",
      "truth: man dies after crashing his scooter into zareen khan s car in goa\n",
      "\n",
      "predicted: woman falls with after after mo moites malfunction malfunction in govt govt\n",
      "truth: us woman severely injured after mistaking dynamite for candle\n",
      "\n",
      "predicted: delhi metro moves sc against delhi to to delhi\n",
      "truth: delhi metro moves sc against 60 crore payment to rinfra arm\n",
      "\n",
      "predicted: woman falls with after after mo moites malfunction malfunction in govt govt\n",
      "truth: us woman severely injured after mistaking dynamite for candle\n",
      "\n",
      "predicted: taliban streams shooting dead by by gun govt govt govt govt govt\n",
      "truth: 22 year old model shot dead inside her porsche in iraq\n",
      "\n"
     ]
    },
    {
     "name": "stderr",
     "output_type": "stream",
     "text": [
      "539it [02:43,  3.30it/s]\n",
      "1it [00:00,  8.33it/s]"
     ]
    },
    {
     "name": "stdout",
     "output_type": "stream",
     "text": [
      "epoch 142 G loss: 0.384454291192534\n"
     ]
    },
    {
     "name": "stderr",
     "output_type": "stream",
     "text": [
      "231it [00:29,  7.84it/s]\n",
      "0it [00:00, ?it/s]"
     ]
    },
    {
     "name": "stdout",
     "output_type": "stream",
     "text": [
      "predicted: 7 killed in violence dur clashesss in kashmir kashmir\n",
      "truth: 20 yr old killed in clashes after eid prayers in kashmir\n",
      "\n",
      "predicted: kartarpur corridor at an for on on in in pm modi\n",
      "truth: kartarpur corridor atonement for mistake made in 1947 pm modi\n",
      "\n",
      "predicted: barca first first club club to to earns in in in\n",
      "truth: barcelona become world s 1st team to spend 500 million on wages\n",
      "\n",
      "predicted: solar storm storm expected to earth earth earth earth\n",
      "truth: minor solar flare expected to hit earth today cause auroras\n",
      "\n",
      "predicted: doctor hospital hospital hospital hospitalssss deathssss\n",
      "truth: docs chant mantra for hours to bring down deaths in hospital\n",
      "\n",
      "predicted: delhi cm kejriwal court defamationion overststla remark\n",
      "truth: delhi cm discharged in defamation case over thulla remark\n",
      "\n",
      "predicted: srikanth sed srikanth conferred in india s sth civilian\n",
      "truth: kidambi srikanth conferred with padma shri award\n",
      "\n",
      "predicted: congress congress congress join to to up for for for seats\n",
      "truth: cong ncp join hands against bjp for maha council by poll\n",
      "\n",
      "predicted: man man dies maninging dies dies diesing car\n",
      "truth: man dies after crashing his scooter into zareen khan s car in goa\n",
      "\n",
      "predicted: facebook tos us to sharesss reports\n",
      "truth: facebook asks us banks for users financial data report\n",
      "\n"
     ]
    },
    {
     "name": "stderr",
     "output_type": "stream",
     "text": [
      "539it [02:43,  3.31it/s]\n",
      "1it [00:00,  8.33it/s]"
     ]
    },
    {
     "name": "stdout",
     "output_type": "stream",
     "text": [
      "epoch 143 G loss: 0.289173803411706\n"
     ]
    },
    {
     "name": "stderr",
     "output_type": "stream",
     "text": [
      "231it [00:29,  7.84it/s]\n",
      "0it [00:00, ?it/s]"
     ]
    },
    {
     "name": "stdout",
     "output_type": "stream",
     "text": [
      "predicted: was tededed flight india flightedededed flight\n",
      "truth: air india refuses to let wheelchair bound passenger on plane\n",
      "\n",
      "predicted: 4 missiles fired in taliban pakistan pakistan\n",
      "truth: 4 missiles fired into pakistan from afghanistan\n",
      "\n",
      "predicted: us co stream shot dead by by in in\n",
      "truth: 22 year old model shot dead inside her porsche in iraq\n",
      "\n",
      "predicted: b luru police police for idiotinginginging with helmet helmet\n",
      "truth: b luru police ask people to wear helmets share 10 secs challenge\n",
      "\n",
      "predicted: vajpayee pm vajpayee to to in inhindi at at party at\n",
      "truth: late pm vajpayee was 1st person to give hindi speech at un\n",
      "\n",
      "predicted: freshable tost soldiers soldiers soldiers soldiersss army army\n",
      "truth: soldiers to face action for disrespecting militants bodies\n",
      "\n",
      "predicted: my my my i am i my me me me meuddinuddin\n",
      "truth: threat to my life claims aimim leader akbaruddin owaisi\n",
      "\n",
      "predicted: got the for for for big b am bachchan on s yr yrs of 13\n",
      "truth: received best compliment from dilip kumar for black big b\n",
      "\n",
      "predicted: indiainging blood blood blood will be great justinlangerlanger\n",
      "truth: india are smelling blood we will show them great respect langer\n",
      "\n",
      "predicted: vajpayee pm vajpayee to to in inhindi at at party at\n",
      "truth: late pm vajpayee was 1st person to give hindi speech at un\n",
      "\n"
     ]
    },
    {
     "name": "stderr",
     "output_type": "stream",
     "text": [
      "539it [02:42,  3.31it/s]\n",
      "1it [00:00,  7.65it/s]"
     ]
    },
    {
     "name": "stdout",
     "output_type": "stream",
     "text": [
      "epoch 144 G loss: 0.5580843387394352\n"
     ]
    },
    {
     "name": "stderr",
     "output_type": "stream",
     "text": [
      "106it [00:13,  7.94it/s]IOPub message rate exceeded.\n",
      "The notebook server will temporarily stop sending output\n",
      "to the client in order to avoid crashing it.\n",
      "To change this limit, set the config variable\n",
      "`--NotebookApp.iopub_msg_rate_limit`.\n",
      "\n",
      "Current values:\n",
      "NotebookApp.iopub_msg_rate_limit=1000.0 (msgs/sec)\n",
      "NotebookApp.rate_limit_window=3.0 (secs)\n",
      "\n"
     ]
    }
   ],
   "source": [
    "generator_optimizer = torch.optim.Adam(G.parameters(), lr=1e-4)\n",
    "criterion = nn.CrossEntropyLoss(ignore_index=0)\n",
    "\n",
    "G_losses = []\n",
    "D_losses = []\n",
    "iter_num = -1\n",
    "G_ce_val_losses = []\n",
    "\n",
    "for epoch_idx in range(n_epochs):\n",
    "    topic_num = random.choice(np.arange(0, 10))\n",
    "    topic_token = 8000 + topic_num\n",
    "    topic_vector = np.zeros(10)\n",
    "    topic_vector[topic_num] = 1.\n",
    "    topic_vector = topic_vector.tolist()\n",
    "    \n",
    "    train_dataset = Dataset(train_articles, train_highlights, sp=sp, topic_token=topic_token)\n",
    "    val_dataset = Dataset(val_articles, val_highlights, sp=sp, topic_token=topic_token)\n",
    "\n",
    "    train_dataloader = DataLoader(train_dataset, batch_size=128,\n",
    "                                  collate_fn=Padder(), shuffle=True)\n",
    "    val_dataloader = DataLoader(val_dataset, batch_size=128,\n",
    "                                collate_fn=Padder(), shuffle=False)\n",
    "    \n",
    "    \n",
    "    beta += 0.02 * epoch_idx\n",
    "    beta = min(0.95, beta)\n",
    "    \n",
    "    teacher_forcing -= 0.02 * epoch_idx\n",
    "    teacher_forcing = max(0, teacher_forcing)\n",
    "    \n",
    "    total_G_loss = 0.\n",
    "    G.train()\n",
    "    for batch_idx, data_input in tqdm(enumerate(train_dataloader)):\n",
    "        iter_num += 1\n",
    "        article = data_input[0].to(device)\n",
    "        highlight = data_input[1].to(device)\n",
    "\n",
    "        # Generator\n",
    "        generator_optimizer.zero_grad()\n",
    "        gen_out, generated_highlight = G.sample(article, highlight, teacher_forcing_ratio=teacher_forcing)\n",
    "        \n",
    "        texts = tensor_to_text(generated_highlight, sp)\n",
    "        predicted_corpus = [id2word.doc2bow(text.split()) for text in texts]\n",
    "        predicted_topics = [get_topic_vector(lda_model, text) for text in predicted_corpus]\n",
    "        \n",
    "        # texts = tensor_to_text(article, sp, beam_search=True)\n",
    "        # article_corpus = [id2word.doc2bow(text.split()) for text in texts]\n",
    "        # article_topics = [get_topic_vector(lda_model, text) for text in article_corpus]\n",
    "        \n",
    "        # gen_list = generated_highlight.cpu().detach().numpy().T.tolist()\n",
    "        # all_len = generated_highlight.size(1)\n",
    "        # uniques = np.array(list(map(lambda x: len(np.unique(x)), gen_list)))\n",
    "        # factors = uniques / all_len\n",
    "    \n",
    "        # rewards = [[cosine(topic_vector, predicted_topic)*factors[i]]*generated_highlight.size(0)\n",
    "        #            for i, predicted_topic in enumerate(predicted_topics)]\n",
    "        rewards = [[predicted_topic[topic_num]]*generated_highlight.size(0)\n",
    "                   for predicted_topic in predicted_topics]\n",
    "        rewards = torch.tensor(rewards).to(device)\n",
    "        writer.add_scalar('Reward/train', torch.mean(rewards).item(), iter_num)\n",
    "        # rewards = 1 - rewards\n",
    "       \n",
    "        pg_loss = G.batch_pgloss_generated(gen_out, generated_highlight.permute(1, 0), rewards)\n",
    "        \n",
    "        out = G(article, highlight, teacher_forcing_ratio=teacher_forcing)\n",
    "        ml_loss = criterion_ml(out.permute(1, 2, 0), highlight.permute(1, 0))\n",
    "        \n",
    "        loss = beta*pg_loss + (1-beta)*ml_loss\n",
    "        loss.backward()\n",
    "        \n",
    "        generator_optimizer.step()\n",
    "        writer.add_scalar('Loss_train/loss', loss.data.item(), iter_num)\n",
    "        writer.add_scalar('Loss_train/ml_loss', ml_loss.data.item(), iter_num)\n",
    "        writer.add_scalar('Loss_train/pg_loss', pg_loss.data.item(), iter_num)\n",
    "        total_G_loss += loss.data.item() * article.size(1)\n",
    "        \n",
    "    G_losses.append(total_G_loss / len(train_dataset))\n",
    "    print(f'epoch {epoch_idx} G loss: {G_losses[-1]}')\n",
    "    \n",
    "    G.eval()\n",
    "    total_loss = 0.\n",
    "    total_reward = 0.\n",
    "    total_ml_loss = 0.\n",
    "    total_pg_loss = 0.\n",
    "    for batch_idx, data_input in tqdm(enumerate(val_dataloader), position=0, leave=True):\n",
    "        article = data_input[0].to(device)\n",
    "        highlight = data_input[1].to(device)\n",
    "        gen_out, generated_highlight = G.sample(article, highlight, teacher_forcing_ratio=0.)\n",
    "        \n",
    "        texts = tensor_to_text(generated_highlight, sp)\n",
    "        predicted_corpus = [id2word.doc2bow(text.split()) for text in texts]\n",
    "        predicted_topics = [get_topic_vector(lda_model, text) for text in predicted_corpus]\n",
    "        \n",
    "        # texts = tensor_to_text(article, sp)\n",
    "        # article_corpus = [id2word.doc2bow(text.split()) for text in texts]\n",
    "        # article_topics = [get_topic_vector(lda_model, text) for text in article_corpus]\n",
    "    \n",
    "        # rewards = [[cosine(topic_vector, predicted_topic)]*generated_highlight.size(0)\n",
    "        #            for predicted_topic in predicted_topics]\n",
    "        rewards = [[predicted_topic[topic_num]]*generated_highlight.size(0)\n",
    "                   for predicted_topic in predicted_topics]\n",
    "        rewards = torch.tensor(rewards).to(device)\n",
    "        total_reward += torch.mean(rewards).item() * article.size(1)\n",
    "        # rewards = 1 - rewards\n",
    "        pg_loss = G.batch_pgloss_generated(gen_out, generated_highlight.permute(1, 0), rewards)\n",
    "        \n",
    "        out = G(article, highlight, teacher_forcing_ratio=0.)\n",
    "        ml_loss = criterion_ml(out.permute(1, 2, 0), highlight.permute(1, 0))\n",
    "        \n",
    "        loss = beta*pg_loss + (1-beta)*ml_loss\n",
    "        total_loss += loss.data.item() * article.size(1)\n",
    "        \n",
    "        total_ml_loss += ml_loss.data.item() * article.size(1)\n",
    "        total_pg_loss += pg_loss.data.item() * article.size(1)\n",
    "        \n",
    "    writer.add_scalar('Reward/val', total_reward / len(val_dataset), iter_num)\n",
    "    writer.add_scalar('Loss_val/loss', total_loss / len(val_dataset), iter_num)\n",
    "    writer.add_scalar('Loss_val/ml_loss', total_ml_loss / len(val_dataset), iter_num)\n",
    "    writer.add_scalar('Loss_val/pg_loss', total_pg_loss / len(val_dataset), iter_num)\n",
    "    \n",
    "    writer.add_scalar('Params/beta', beta, iter_num)\n",
    "    writer.add_scalar('Params/teacher_forcing', teacher_forcing, iter_num)\n",
    "    \n",
    "    scheduler.step(total_loss)\n",
    "    \n",
    "    indices = sps.randint(0, out.size(1)).rvs(size=10)\n",
    "    pred_texts = tensor_to_text(out[:, indices, :], sp, beam_search=True)\n",
    "    truth_texts = tensor_to_text(highlight[:, indices], sp)\n",
    "    for pred, truth in zip(pred_texts, truth_texts):\n",
    "        writer.add_text('Texts/pred', pred, iter_num)\n",
    "        writer.add_text('Texts/truth', truth, iter_num)\n",
    "        print(f'predicted: {pred}')\n",
    "        print(f'truth: {truth}\\n')"
   ]
  },
  {
   "cell_type": "code",
   "execution_count": 22,
   "metadata": {},
   "outputs": [],
   "source": [
    "save_path = 'saved_models/gen_topics_ohe_3.pth'\n",
    "torch.save(G.state_dict(), save_path)"
   ]
  },
  {
   "cell_type": "code",
   "execution_count": null,
   "metadata": {},
   "outputs": [],
   "source": []
  }
 ],
 "metadata": {
  "kernelspec": {
   "display_name": "Python 3",
   "language": "python",
   "name": "python3"
  },
  "language_info": {
   "codemirror_mode": {
    "name": "ipython",
    "version": 3
   },
   "file_extension": ".py",
   "mimetype": "text/x-python",
   "name": "python",
   "nbconvert_exporter": "python",
   "pygments_lexer": "ipython3",
   "version": "3.7.7"
  }
 },
 "nbformat": 4,
 "nbformat_minor": 4
}
