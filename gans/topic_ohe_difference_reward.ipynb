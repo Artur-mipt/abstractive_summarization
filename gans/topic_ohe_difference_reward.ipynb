{
 "cells": [
  {
   "cell_type": "code",
   "execution_count": 1,
   "metadata": {},
   "outputs": [],
   "source": [
    "import sentencepiece as spm\n",
    "from tqdm import tqdm\n",
    "import pandas as pd\n",
    "import numpy as np\n",
    "import seaborn as sns\n",
    "import scipy.stats as sps\n",
    "import nlp\n",
    "import random\n",
    "\n",
    "from sklearn.model_selection import train_test_split\n",
    "\n",
    "import torch\n",
    "import torch.nn as nn\n",
    "import torch.optim as optim\n",
    "import torch.nn.functional as F\n",
    "from torch.utils.data import DataLoader\n",
    "from torch.utils.tensorboard import SummaryWriter\n",
    "\n",
    "from src.seq2seq_generator import Seq2Seq, Encoder, Decoder\n",
    "from src.cnn_discriminator import CNNDiscriminator\n",
    "from src.utils import *\n",
    "from src.dataset import Dataset, Padder\n",
    "\n",
    "import gensim.corpora as corpora\n",
    "from gensim.utils import simple_preprocess\n",
    "from gensim.models import CoherenceModel\n",
    "\n",
    "sns.set_style('whitegrid')"
   ]
  },
  {
   "cell_type": "markdown",
   "metadata": {},
   "source": [
    "### 1. load data"
   ]
  },
  {
   "cell_type": "code",
   "execution_count": 2,
   "metadata": {},
   "outputs": [],
   "source": [
    "dataset_name = 'news'"
   ]
  },
  {
   "cell_type": "code",
   "execution_count": 3,
   "metadata": {
    "scrolled": true
   },
   "outputs": [
    {
     "name": "stdout",
     "output_type": "stream",
     "text": [
      "CPU times: user 723 ms, sys: 35.9 ms, total: 759 ms\n",
      "Wall time: 758 ms\n"
     ]
    }
   ],
   "source": [
    "%%time\n",
    "\n",
    "if dataset_name == 'cnn':\n",
    "    train_dataset = nlp.load_dataset(\"cnn_dailymail\", \"3.0.0\", split=\"train\")\n",
    "    val_dataset = nlp.load_dataset(\"cnn_dailymail\", \"3.0.0\", split=\"validation\")\n",
    "    test_dataset = nlp.load_dataset(\"cnn_dailymail\", \"3.0.0\", split=\"test\")\n",
    "    train_articles = [item['article'] for item in train_dataset]\n",
    "    train_highlights = [item['highlights'] for item in train_dataset]\n",
    "    val_articles = [item['article'] for item in val_dataset]\n",
    "    val_highlights = [item['highlights'] for item in val_dataset]\n",
    "elif dataset_name == 'news':\n",
    "    news = pd.read_csv('data/news_summary.csv')\n",
    "    news.headlines = [process_str(s) for s in news.headlines]\n",
    "    news.text = [process_str(s) for s in news.text]\n",
    "    X_train, X_test = train_test_split(news, test_size=0.3,\n",
    "                                       random_state=42)\n",
    "    train_articles = X_train.text.values\n",
    "    train_highlights = X_train.headlines.values\n",
    "    val_articles = X_test.text.values\n",
    "    val_highlights = X_test.headlines.values"
   ]
  },
  {
   "cell_type": "markdown",
   "metadata": {},
   "source": [
    "### 2. sentencepiece model"
   ]
  },
  {
   "cell_type": "code",
   "execution_count": 4,
   "metadata": {},
   "outputs": [],
   "source": [
    "train_new_model = False"
   ]
  },
  {
   "cell_type": "code",
   "execution_count": 5,
   "metadata": {},
   "outputs": [
    {
     "name": "stdout",
     "output_type": "stream",
     "text": [
      "CPU times: user 1 µs, sys: 0 ns, total: 1 µs\n",
      "Wall time: 2.62 µs\n"
     ]
    }
   ],
   "source": [
    "%%time\n",
    "if train_new_model:\n",
    "    with open('data/news_texts.txt', 'a') as f:\n",
    "        for article in tqdm(train_articles):\n",
    "            f.write(article + '\\n')\n",
    "        for highlight in tqdm(train_highlights):\n",
    "            f.write(highlight + '\\n')\n",
    "        for article in tqdm(val_articles):\n",
    "            f.write(article + '\\n')\n",
    "        for highlight in tqdm(val_highlights):\n",
    "            f.write(highlight + '\\n')\n",
    "            \n",
    "    spm.SentencePieceTrainer.train(input='data/news_texts.txt',\n",
    "                                   model_prefix='news10k',\n",
    "                                   vocab_size=10000,\n",
    "                                   pad_id=0,\n",
    "                                   bos_id=1,\n",
    "                                   eos_id=2,\n",
    "                                   unk_id=3)"
   ]
  },
  {
   "cell_type": "markdown",
   "metadata": {},
   "source": [
    "### 3. lda"
   ]
  },
  {
   "cell_type": "code",
   "execution_count": 6,
   "metadata": {},
   "outputs": [],
   "source": [
    "bigram = False\n",
    "lemmas = False\n",
    "train_model = False\n",
    "modelname = f'topic_models/news_train_bigram{bigram}_lemmas{lemmas}.model'"
   ]
  },
  {
   "cell_type": "code",
   "execution_count": 7,
   "metadata": {},
   "outputs": [
    {
     "name": "stdout",
     "output_type": "stream",
     "text": [
      "CPU times: user 26.9 s, sys: 259 ms, total: 27.1 s\n",
      "Wall time: 27.1 s\n"
     ]
    }
   ],
   "source": [
    "%%time\n",
    "\n",
    "articles_train_words = process_texts(train_articles, bigram=bigram, lemmas=lemmas)\n",
    "highlights_train_words = process_texts(train_highlights, bigram=bigram, lemmas=lemmas)\n",
    "\n",
    "articles_val_words = process_texts(val_articles, bigram=bigram, lemmas=lemmas)\n",
    "highlights_val_words = process_texts(val_highlights, bigram=bigram, lemmas=lemmas)\n",
    "\n",
    "id2word = corpora.Dictionary(articles_train_words)\n",
    "\n",
    "articles_train_corpus = [id2word.doc2bow(text) for text in articles_train_words]\n",
    "highlights_train_corpus = [id2word.doc2bow(text) for text in highlights_train_words]\n",
    "\n",
    "articles_val_corpus = [id2word.doc2bow(text) for text in articles_val_words]\n",
    "highlights_val_corpus = [id2word.doc2bow(text) for text in highlights_val_words]"
   ]
  },
  {
   "cell_type": "code",
   "execution_count": 8,
   "metadata": {},
   "outputs": [
    {
     "name": "stdout",
     "output_type": "stream",
     "text": [
      "CPU times: user 26.7 ms, sys: 7.92 ms, total: 34.6 ms\n",
      "Wall time: 33 ms\n"
     ]
    },
    {
     "data": {
      "text/plain": [
       "[(0,\n",
       "  '0.031*\"based\" + 0.026*\"million\" + 0.020*\"used\" + 0.018*\"startup\" + 0.014*\"using\" + 0.013*\"deal\" + 0.012*\"public\" + 0.011*\"worth\" + 0.011*\"months\" + 0.010*\"making\"'),\n",
       " (1,\n",
       "  '0.030*\"khan\" + 0.029*\"tweeted\" + 0.022*\"air\" + 0.020*\"part\" + 0.015*\"elections\" + 0.015*\"shah\" + 0.015*\"upcoming\" + 0.015*\"user\" + 0.014*\"flight\" + 0.013*\"show\"'),\n",
       " (2,\n",
       "  '0.028*\"india\" + 0.022*\"also\" + 0.018*\"years\" + 0.013*\"accused\" + 0.011*\"national\" + 0.011*\"arrested\" + 0.011*\"actress\" + 0.010*\"revealed\" + 0.010*\"leader\" + 0.009*\"according\"'),\n",
       " (3,\n",
       "  '0.081*\"said\" + 0.033*\"added\" + 0.019*\"film\" + 0.011*\"would\" + 0.010*\"like\" + 0.009*\"actor\" + 0.009*\"singh\" + 0.008*\"people\" + 0.007*\"wrote\" + 0.006*\"media\"'),\n",
       " (4,\n",
       "  '0.063*\"us\" + 0.040*\"president\" + 0.024*\"modi\" + 0.023*\"country\" + 0.023*\"pm\" + 0.021*\"trump\" + 0.017*\"pakistan\" + 0.015*\"narendra\" + 0.013*\"donald\" + 0.011*\"house\"'),\n",
       " (5,\n",
       "  '0.024*\"china\" + 0.022*\"security\" + 0.019*\"car\" + 0.015*\"series\" + 0.015*\"led\" + 0.015*\"states\" + 0.014*\"away\" + 0.014*\"capital\" + 0.013*\"space\" + 0.013*\"united\"'),\n",
       " (6,\n",
       "  '0.030*\"first\" + 0.028*\"indian\" + 0.022*\"world\" + 0.020*\"india\" + 0.015*\"team\" + 0.014*\"women\" + 0.014*\"time\" + 0.010*\"second\" + 0.010*\"former\" + 0.009*\"test\"'),\n",
       " (7,\n",
       "  '0.029*\"government\" + 0.022*\"court\" + 0.022*\"minister\" + 0.018*\"state\" + 0.017*\"said\" + 0.016*\"bjp\" + 0.015*\"congress\" + 0.013*\"chief\" + 0.012*\"tuesday\" + 0.011*\"party\"'),\n",
       " (8,\n",
       "  '0.038*\"year\" + 0.027*\"police\" + 0.024*\"two\" + 0.022*\"old\" + 0.016*\"reportedly\" + 0.013*\"man\" + 0.013*\"people\" + 0.011*\"three\" + 0.010*\"allegedly\" + 0.009*\"mumbai\"'),\n",
       " (9,\n",
       "  '0.027*\"crore\" + 0.019*\"company\" + 0.013*\"video\" + 0.012*\"billion\" + 0.012*\"announced\" + 0.010*\"ceo\" + 0.010*\"new\" + 0.010*\"users\" + 0.010*\"notably\" + 0.009*\"facebook\"')]"
      ]
     },
     "execution_count": 8,
     "metadata": {},
     "output_type": "execute_result"
    }
   ],
   "source": [
    "%%time\n",
    "if train_model:\n",
    "    lda_model = gensim.models.ldamodel.LdaModel(corpus=articles_train_corpus,\n",
    "                                                id2word=id2word,\n",
    "                                                num_topics=10, \n",
    "                                                random_state=100,\n",
    "                                                update_every=1,\n",
    "                                                chunksize=100,\n",
    "                                                passes=10,\n",
    "                                                alpha='auto',\n",
    "                                                per_word_topics=True)\n",
    "    lda_model.save(modelname)\n",
    "else:\n",
    "    lda_model = gensim.models.ldamodel.LdaModel.load(modelname)\n",
    "\n",
    "lda_model.print_topics()"
   ]
  },
  {
   "cell_type": "code",
   "execution_count": 9,
   "metadata": {},
   "outputs": [
    {
     "name": "stdout",
     "output_type": "stream",
     "text": [
      "Coherence Score:  0.38893017640073324\n"
     ]
    }
   ],
   "source": [
    "coherence_model_lda = CoherenceModel(model=lda_model,\n",
    "                                     texts=articles_train_words,\n",
    "                                     dictionary=id2word,\n",
    "                                     coherence='c_v')\n",
    "coherence_lda = coherence_model_lda.get_coherence()\n",
    "print('Coherence Score: ', coherence_lda)"
   ]
  },
  {
   "cell_type": "markdown",
   "metadata": {},
   "source": [
    "### 5. dataset and dataloaders"
   ]
  },
  {
   "cell_type": "code",
   "execution_count": 10,
   "metadata": {},
   "outputs": [],
   "source": [
    "vocab_size = 10000\n",
    "sp_modelname = f'sentencepiece_models/news{int(vocab_size/1000)}k.model'"
   ]
  },
  {
   "cell_type": "code",
   "execution_count": 11,
   "metadata": {},
   "outputs": [],
   "source": [
    "sp = spm.SentencePieceProcessor(model_file=sp_modelname)"
   ]
  },
  {
   "cell_type": "code",
   "execution_count": 12,
   "metadata": {},
   "outputs": [],
   "source": [
    "train_dataset = Dataset(train_articles, train_highlights, sp=sp)\n",
    "val_dataset = Dataset(val_articles, val_highlights, sp=sp)\n",
    "\n",
    "train_dataloader = DataLoader(train_dataset, batch_size=128,\n",
    "                              collate_fn=Padder(), shuffle=False)\n",
    "val_dataloader = DataLoader(val_dataset, batch_size=128,\n",
    "                            collate_fn=Padder(), shuffle=False)"
   ]
  },
  {
   "cell_type": "code",
   "execution_count": 13,
   "metadata": {},
   "outputs": [
    {
     "name": "stdout",
     "output_type": "stream",
     "text": [
      "torch.Size([103, 128])\n",
      "torch.Size([21, 128])\n"
     ]
    }
   ],
   "source": [
    "for batch in train_dataloader:\n",
    "    print(batch[0].size())\n",
    "    print(batch[1].size())\n",
    "    break"
   ]
  },
  {
   "cell_type": "markdown",
   "metadata": {},
   "source": [
    "### 6. model architecture"
   ]
  },
  {
   "cell_type": "code",
   "execution_count": 14,
   "metadata": {},
   "outputs": [
    {
     "name": "stdout",
     "output_type": "stream",
     "text": [
      "cuda:0\n"
     ]
    }
   ],
   "source": [
    "device = 'cuda:0' if torch.cuda.is_available() else 'cpu'\n",
    "print(device)"
   ]
  },
  {
   "cell_type": "code",
   "execution_count": 15,
   "metadata": {},
   "outputs": [],
   "source": [
    "writer = SummaryWriter()"
   ]
  },
  {
   "cell_type": "code",
   "execution_count": 16,
   "metadata": {},
   "outputs": [
    {
     "data": {
      "text/plain": [
       "<All keys matched successfully>"
      ]
     },
     "execution_count": 16,
     "metadata": {},
     "output_type": "execute_result"
    }
   ],
   "source": [
    "INPUT_DIM = vocab_size\n",
    "OUTPUT_DIM = vocab_size\n",
    "ENC_EMB_DIM = 256\n",
    "DEC_EMB_DIM = 256\n",
    "HID_DIM = 256\n",
    "N_LAYERS = 3\n",
    "ENC_DROPOUT = 0.1\n",
    "DEC_DROPOUT = 0.1\n",
    "\n",
    "enc = Encoder(INPUT_DIM, ENC_EMB_DIM, HID_DIM, N_LAYERS, ENC_DROPOUT)\n",
    "dec = Decoder(OUTPUT_DIM, DEC_EMB_DIM, HID_DIM, N_LAYERS, DEC_DROPOUT)\n",
    "\n",
    "G = Seq2Seq(enc, dec, device).to(device)\n",
    "save_path = 'saved_models/gen_adv.pth'\n",
    "G.load_state_dict(torch.load(save_path))"
   ]
  },
  {
   "cell_type": "markdown",
   "metadata": {},
   "source": [
    "### 8. adversarial training with topic difference reward"
   ]
  },
  {
   "cell_type": "code",
   "execution_count": 17,
   "metadata": {},
   "outputs": [],
   "source": [
    "device = 'cuda:0' if torch.cuda.is_available() else 'cpu'"
   ]
  },
  {
   "cell_type": "code",
   "execution_count": 18,
   "metadata": {},
   "outputs": [],
   "source": [
    "writer = SummaryWriter()"
   ]
  },
  {
   "cell_type": "code",
   "execution_count": 19,
   "metadata": {},
   "outputs": [
    {
     "data": {
      "text/plain": [
       "Seq2Seq(\n",
       "  (encoder): Encoder(\n",
       "    (embedding): Embedding(10000, 256)\n",
       "    (rnn): LSTM(256, 256, num_layers=3, dropout=0.1)\n",
       "    (dropout): Dropout(p=0.1, inplace=False)\n",
       "  )\n",
       "  (decoder): Decoder(\n",
       "    (embedding): Embedding(10000, 256)\n",
       "    (rnn): LSTM(256, 256, num_layers=3, dropout=0.1)\n",
       "    (out): Linear(in_features=512, out_features=10000, bias=True)\n",
       "    (w): Linear(in_features=256, out_features=256, bias=True)\n",
       "    (attn_lin): Linear(in_features=512, out_features=512, bias=True)\n",
       "    (dropout): Dropout(p=0.1, inplace=False)\n",
       "  )\n",
       ")"
      ]
     },
     "execution_count": 19,
     "metadata": {},
     "output_type": "execute_result"
    }
   ],
   "source": [
    "G.train()"
   ]
  },
  {
   "cell_type": "code",
   "execution_count": 20,
   "metadata": {},
   "outputs": [],
   "source": [
    "n_epochs = 150\n",
    "beta = 0.2\n",
    "teacher_forcing = 0.6\n",
    "\n",
    "generator_optimizer = torch.optim.Adam(G.parameters(), lr=1e-4)\n",
    "criterion_ml = nn.CrossEntropyLoss(ignore_index=0)\n",
    "scheduler = torch.optim.lr_scheduler.ReduceLROnPlateau(generator_optimizer, 'min', patience=10)\n",
    "\n",
    "G_losses = []\n",
    "iter_num = -1\n",
    "G_ce_val_losses = []"
   ]
  },
  {
   "cell_type": "code",
   "execution_count": 21,
   "metadata": {
    "scrolled": true
   },
   "outputs": [
    {
     "name": "stderr",
     "output_type": "stream",
     "text": [
      "539it [02:42,  3.31it/s]\n",
      "1it [00:00,  8.36it/s]"
     ]
    },
    {
     "name": "stdout",
     "output_type": "stream",
     "text": [
      "epoch 0 G loss: 2.1646734432664365\n"
     ]
    },
    {
     "name": "stderr",
     "output_type": "stream",
     "text": [
      "231it [00:29,  7.91it/s]\n",
      "0it [00:00, ?it/s]"
     ]
    },
    {
     "name": "stdout",
     "output_type": "stream",
     "text": [
      "predicted: congress congress congress hands to to up for up for poll seats\n",
      "truth: cong ncp join hands against bjp for maha council by poll\n",
      "\n",
      "predicted: social media companien froming retailers trump trump\n",
      "truth: social media giants are silencing millions of people trump\n",
      "\n",
      "predicted: deatheeling after gorkhaland riots after after shot in\n",
      "truth: gorkhaland supporter killed in police firing in darjeeling\n",
      "\n",
      "predicted: fake news of shah rukh khan death on on news crash crash\n",
      "truth: fake news of srk s death emerges on european news channel\n",
      "\n",
      "predicted: climb climbs climbs to to back back back his fianc e\n",
      "truth: man climbs 30 feet ghaziabad hoarding to win back ex fianc e\n",
      "\n",
      "predicted: youth killed in clashes during eid clashes in kashmir\n",
      "truth: 20 yr old killed in clashes after eid prayers in kashmir\n",
      "\n",
      "predicted: kerala school makes free weddings for for hostels\n",
      "truth: village issues marriage certificate only after green wedding\n",
      "\n",
      "predicted: mytuck ined kids to kids children to kids  \n",
      "truth: de villiers hid love letters he wrote in his house s roof\n",
      "\n",
      "predicted: srikanth sed padma shri shri india s sth civilian\n",
      "truth: kidambi srikanth conferred with padma shri award\n",
      "\n",
      "predicted: facebook asks us to share info of info reports\n",
      "truth: facebook asks us banks for users financial data report\n",
      "\n"
     ]
    },
    {
     "name": "stderr",
     "output_type": "stream",
     "text": [
      "539it [02:43,  3.30it/s]\n",
      "1it [00:00,  8.34it/s]"
     ]
    },
    {
     "name": "stdout",
     "output_type": "stream",
     "text": [
      "epoch 1 G loss: 2.1431995255078857\n"
     ]
    },
    {
     "name": "stderr",
     "output_type": "stream",
     "text": [
      "231it [00:29,  7.87it/s]\n",
      "0it [00:00, ?it/s]"
     ]
    },
    {
     "name": "stdout",
     "output_type": "stream",
     "text": [
      "predicted: nasa shares 1 lakh lakh indians on a a chip\n",
      "truth: nasa spacecraft landed on mars with names of over 1l indians\n",
      "\n",
      "predicted: indiaing bleed blood blood blood will be great great aus langer\n",
      "truth: india are smelling blood we will show them great respect langer\n",
      "\n",
      "predicted: some society found pm modi for wel wel welable rss chief\n",
      "truth: modi is a contractor of social welfare rss chief bhagwat\n",
      "\n",
      "predicted: never think about what i have done differently in my film kajol\n",
      "truth: i never think about what i should ve done differently kajol\n",
      "\n",
      "predicted: nasa shares 1 lakh lakh indians on a a chip\n",
      "truth: nasa spacecraft landed on mars with names of over 1l indians\n",
      "\n",
      "predicted: peoples you ll never walk alone before ay threat in germany\n",
      "truth: event guests sing you ll never walk alone over terror threat\n",
      "\n",
      "predicted: 18 mss get life imprisonment imprisonment in two years\n",
      "truth: 18 cpi m men get life term for killing tmc workers in 2010\n",
      "\n",
      "predicted: kejriwal kejriwal in defamation case case filed against police\n",
      "truth: delhi cm discharged in defamation case over thulla remark\n",
      "\n",
      "predicted: man sues man singinging cockroaching baby baby baby\n",
      "truth: italian nurse jailed for calming newborn with morphine\n",
      "\n",
      "predicted: srikanth sed padma shri shri india s sth civilian\n",
      "truth: kidambi srikanth conferred with padma shri award\n",
      "\n"
     ]
    },
    {
     "name": "stderr",
     "output_type": "stream",
     "text": [
      "539it [02:42,  3.31it/s]\n",
      "1it [00:00,  8.33it/s]"
     ]
    },
    {
     "name": "stdout",
     "output_type": "stream",
     "text": [
      "epoch 2 G loss: 2.0262768663421915\n"
     ]
    },
    {
     "name": "stderr",
     "output_type": "stream",
     "text": [
      "231it [00:29,  7.88it/s]\n",
      "0it [00:00, ?it/s]"
     ]
    },
    {
     "name": "stdout",
     "output_type": "stream",
     "text": [
      "predicted: armyables against soldiers soldiers soldiers soldiers soldiers army\n",
      "truth: soldiers to face action for disrespecting militants bodies\n",
      "\n",
      "predicted: australiaing australia is a good a of nz coach\n",
      "truth: sledging is a fun part of the game aus coach justin langer\n",
      "\n",
      "predicted: akhtar an asian under under imran khan world shoaib akhtar\n",
      "truth: pak will become asian tiger under imran khan shoaib akhtar\n",
      "\n",
      "predicted: teen killed in clashes during eid clashes in kashmir\n",
      "truth: 20 yr old killed in clashes after eid prayers in kashmir\n",
      "\n",
      "predicted: cbiinging withinging oftrunpur on s murder case\n",
      "truth: cbi planted witnesses in aarushi murder case allahabad hc\n",
      "\n",
      "predicted: georgia s pm ministerss prime minister ministervivilili\n",
      "truth: georgia pm kvirikashvili resigns amid rift with ruling party\n",
      "\n",
      "predicted: srikanth sed padma shri shri india s sth civilian\n",
      "truth: kidambi srikanth conferred with padma shri award\n",
      "\n",
      "predicted: ferrari s driver crashes car car after car finishs carault\n",
      "truth: f1 driver crashes after race ends rides back on another car\n",
      "\n",
      "predicted: first look poster of sushant kriti kriti s raabta unveiled\n",
      "truth: first look poster of sushant kriti s raabta unveiled\n",
      "\n",
      "predicted: kartarpur corridor at an music made by mistake in 2022 pm modi\n",
      "truth: kartarpur corridor atonement for mistake made in 1947 pm modi\n",
      "\n"
     ]
    },
    {
     "name": "stderr",
     "output_type": "stream",
     "text": [
      "539it [02:43,  3.30it/s]\n",
      "1it [00:00,  8.33it/s]"
     ]
    },
    {
     "name": "stdout",
     "output_type": "stream",
     "text": [
      "epoch 3 G loss: 1.9206301054471935\n"
     ]
    },
    {
     "name": "stderr",
     "output_type": "stream",
     "text": [
      "218it [00:27,  7.96it/s]IOPub message rate exceeded.\n",
      "The notebook server will temporarily stop sending output\n",
      "to the client in order to avoid crashing it.\n",
      "To change this limit, set the config variable\n",
      "`--NotebookApp.iopub_msg_rate_limit`.\n",
      "\n",
      "Current values:\n",
      "NotebookApp.iopub_msg_rate_limit=1000.0 (msgs/sec)\n",
      "NotebookApp.rate_limit_window=3.0 (secs)\n",
      "\n",
      "539it [02:43,  3.30it/s]\n",
      "1it [00:00,  8.27it/s]"
     ]
    },
    {
     "name": "stdout",
     "output_type": "stream",
     "text": [
      "epoch 20 G loss: 0.5472479784693453\n"
     ]
    },
    {
     "name": "stderr",
     "output_type": "stream",
     "text": [
      "231it [00:29,  7.87it/s]\n",
      "0it [00:00, ?it/s]"
     ]
    },
    {
     "name": "stdout",
     "output_type": "stream",
     "text": [
      "predicted: driver drivered for a fors bus bus bus bus bus bus k taka\n",
      "truth: suffering for no fault driver who let langur control steering\n",
      "\n",
      "predicted: barca first first club club to spend toss ins\n",
      "truth: barcelona become world s 1st team to spend 500 million on wages\n",
      "\n",
      "predicted: driver drivered for a fors bus bus bus bus bus bus k taka\n",
      "truth: suffering for no fault driver who let langur control steering\n",
      "\n",
      "predicted: my life my my i am me me me me meuddin\n",
      "truth: threat to my life claims aimim leader akbaruddin owaisi\n",
      "\n",
      "predicted: pak will an asian statue under wc wc wc akhtarakhtarakhtar promo\n",
      "truth: pak will become asian tiger under imran khan shoaib akhtar\n",
      "\n",
      "predicted: amazon must pay money tax tax tax tax tax trump trump trump\n",
      "truth: amazon must pay real costs and taxes now donald trump\n",
      "\n",
      "predicted: 35 inmatess married ated66666\n",
      "truth: 3 075 grooms got married in bihar at gunpoint in 2016\n",
      "\n",
      "predicted: 1st look poster of sushant kriti kritier raab raabta out\n",
      "truth: first look poster of sushant kriti s raabta unveiled\n",
      "\n",
      "predicted: sachin attends weddingy ceremony at s skhuhuri\n",
      "truth: sachin tendulkar attends krunal pandya s wedding in mumbai\n",
      "\n",
      "predicted: world s smallest computer computer temperaturess\n",
      "truth: how does the world s smallest computer work\n",
      "\n"
     ]
    },
    {
     "name": "stderr",
     "output_type": "stream",
     "text": [
      "539it [02:43,  3.30it/s]\n",
      "1it [00:00,  8.27it/s]"
     ]
    },
    {
     "name": "stdout",
     "output_type": "stream",
     "text": [
      "epoch 21 G loss: 0.5735199501216622\n"
     ]
    },
    {
     "name": "stderr",
     "output_type": "stream",
     "text": [
      "231it [00:29,  7.79it/s]\n",
      "0it [00:00, ?it/s]"
     ]
    },
    {
     "name": "stdout",
     "output_type": "stream",
     "text": [
      "predicted: vajpayee wasst to to inhindi in at at party party\n",
      "truth: late pm vajpayee was 1st person to give hindi speech at un\n",
      "\n",
      "predicted: georgia pm s ministers prime minister minister minister minister ministervivili\n",
      "truth: georgia pm kvirikashvili resigns amid rift with ruling party\n",
      "\n",
      "predicted: exsssss are and and and andss cm\n",
      "truth: daughters should be taught about good bad touch mp cm\n",
      "\n",
      "predicted: sports cannot run run byss sports sports sports min promo\n",
      "truth: sports can t be run by bureaucrats sports minister rathore\n",
      "\n",
      "predicted: 13 yr old hurun crown passe away away ageded year\n",
      "truth: 27 hurun rich list billionaires passed away last year\n",
      "\n",
      "predicted: b luru police police usesing usinging with helmet helmet\n",
      "truth: b luru police ask people to wear helmets share 10 secs challenge\n",
      "\n",
      "predicted: my life my my i am me me me me meuddinuddin\n",
      "truth: threat to my life claims aimim leader akbaruddin owaisi\n",
      "\n",
      "predicted: former nirmalm swor sworn in in governor governor promo\n",
      "truth: satya pal malik sworn in as governor of bihar\n",
      "\n",
      "predicted: kartarpur corridor at be for for mistake mistake mistake pm\n",
      "truth: kartarpur corridor atonement for mistake made in 1947 pm modi\n",
      "\n",
      "predicted: goted for for b b am am bilip bachchan on year 13 yrsrs\n",
      "truth: received best compliment from dilip kumar for black big b\n",
      "\n"
     ]
    },
    {
     "name": "stderr",
     "output_type": "stream",
     "text": [
      "539it [02:43,  3.30it/s]\n",
      "1it [00:00,  8.27it/s]"
     ]
    },
    {
     "name": "stdout",
     "output_type": "stream",
     "text": [
      "epoch 22 G loss: 0.5791865541419183\n"
     ]
    },
    {
     "name": "stderr",
     "output_type": "stream",
     "text": [
      "231it [00:29,  7.87it/s]\n",
      "0it [00:00, ?it/s]"
     ]
    },
    {
     "name": "stdout",
     "output_type": "stream",
     "text": [
      "predicted: georgia pm s minister ministers prime minister minister minister ministervivili\n",
      "truth: georgia pm kvirikashvili resigns amid rift with ruling party\n",
      "\n",
      "predicted: 1 was 1 1 female teacher teacher teacher child child child child child\n",
      "truth: who was savitribai phule india s first female teacher\n",
      "\n",
      "predicted: nasa shares 1 1 1 lakh indians on a a a\n",
      "truth: nasa spacecraft landed on mars with names of over 1l indians\n",
      "\n",
      "predicted: 36 deport old 36 yr old  over kashmir terror suspect links isi\n",
      "truth: uae deports indian over suspected links with isis\n",
      "\n",
      "predicted: north korea starved engine engine engine test tests\n",
      "truth: n korea missiles used russian or ukrainian engines reports\n",
      "\n",
      "predicted: kerala treating sabarimalas likess of interest interest amit shah\n",
      "truth: kerala treating sabarimala pilgrims like gulag inmates shah\n",
      "\n",
      "predicted: pak will an asian statue under wc wc wc akhtarakhtarakhtar promo\n",
      "truth: pak will become asian tiger under imran khan shoaib akhtar\n",
      "\n",
      "predicted: rahul scor more more more australia losslost australia sehwag\n",
      "truth: aus ke score par laga gst bhaari pad gaya sehwag on india s loss\n",
      "\n",
      "predicted: i was threaten to to to till class class 18 old old school school\n",
      "truth: was threatened to change asaram rape victim s age principal\n",
      "\n",
      "predicted: ferrari s driver crashes car car car after car carss doors\n",
      "truth: f1 driver crashes after race ends rides back on another car\n",
      "\n"
     ]
    },
    {
     "name": "stderr",
     "output_type": "stream",
     "text": [
      "539it [02:43,  3.30it/s]\n",
      "1it [00:00,  8.27it/s]"
     ]
    },
    {
     "name": "stdout",
     "output_type": "stream",
     "text": [
      "epoch 23 G loss: 0.5982376633230204\n"
     ]
    },
    {
     "name": "stderr",
     "output_type": "stream",
     "text": [
      "231it [00:29,  7.79it/s]IOPub message rate exceeded.\n",
      "The notebook server will temporarily stop sending output\n",
      "to the client in order to avoid crashing it.\n",
      "To change this limit, set the config variable\n",
      "`--NotebookApp.iopub_msg_rate_limit`.\n",
      "\n",
      "Current values:\n",
      "NotebookApp.iopub_msg_rate_limit=1000.0 (msgs/sec)\n",
      "NotebookApp.rate_limit_window=3.0 (secs)\n",
      "\n",
      "539it [02:43,  3.30it/s]\n",
      "1it [00:00,  8.39it/s]"
     ]
    },
    {
     "name": "stdout",
     "output_type": "stream",
     "text": [
      "epoch 37 G loss: 0.5603398815562989\n"
     ]
    },
    {
     "name": "stderr",
     "output_type": "stream",
     "text": [
      "231it [00:29,  7.82it/s]\n",
      "0it [00:00, ?it/s]"
     ]
    },
    {
     "name": "stdout",
     "output_type": "stream",
     "text": [
      "predicted: ex pming demonetisationededededed union minister\n",
      "truth: manmohan s speech on demonetisation was scripted prasad\n",
      "\n",
      "predicted: i would to work with dutt with dutt dutt dutt dutt dutt\n",
      "truth: would like to work with ranbir kapoor again rajkumar hirani\n",
      "\n",
      "predicted: un probing syrian chiefsss syrian syrian syrian draw draw\n",
      "truth: enough evidence to convict syrian prez of war crimes un\n",
      "\n",
      "predicted: amazon must pay moneys tax tax taxs donald trump draw draw\n",
      "truth: amazon must pay real costs and taxes now donald trump\n",
      "\n",
      "predicted: indiainging blood blood blood will be great great justin coach fc fc\n",
      "truth: india are smelling blood we will show them great respect langer\n",
      "\n",
      "predicted: mumbai climbs climbs climb to to back back his to fianc e\n",
      "truth: man climbs 30 feet ghaziabad hoarding to win back ex fianc e\n",
      "\n",
      "predicted: people peoples to walk walk walk walk avoid evacuated in\n",
      "truth: event guests sing you ll never walk alone over terror threat\n",
      "\n",
      "predicted: dd de de  ding iplinging to injury\n",
      "truth: delhi s last year top scorer quinton de kock out of ipl 2017\n",
      "\n",
      "predicted: cbiinginginginginging s saaaa\n",
      "truth: cbi planted witnesses in aarushi murder case allahabad hc\n",
      "\n",
      "predicted: woman finds after gas causes mo moites malfunction fc\n",
      "truth: us woman severely injured after mistaking dynamite for candle\n",
      "\n"
     ]
    },
    {
     "name": "stderr",
     "output_type": "stream",
     "text": [
      "539it [02:43,  3.30it/s]\n",
      "1it [00:00,  8.29it/s]"
     ]
    },
    {
     "name": "stdout",
     "output_type": "stream",
     "text": [
      "epoch 38 G loss: 0.5451924154135962\n"
     ]
    },
    {
     "name": "stderr",
     "output_type": "stream",
     "text": [
      "231it [00:29,  7.84it/s]\n",
      "0it [00:00, ?it/s]"
     ]
    },
    {
     "name": "stdout",
     "output_type": "stream",
     "text": [
      "predicted: woman finds after gas causes mo moites in\n",
      "truth: us woman severely injured after mistaking dynamite for candle\n",
      "\n",
      "predicted: australia australia is good good a a of nz coach\n",
      "truth: sledging is a fun part of the game aus coach justin langer\n",
      "\n",
      "predicted: people peoples to walk walk walk avoid avoid evacuated\n",
      "truth: event guests sing you ll never walk alone over terror threat\n",
      "\n",
      "predicted: nasa proposes suns co co co coinginging\n",
      "truth: nasa team proposes using sun as cosmic magnifying glass\n",
      "\n",
      "predicted: 36 deported 36 year old engineer overeded isi links links isi\n",
      "truth: uae deports indian over suspected links with isis\n",
      "\n",
      "predicted: thieves in a inside inside housess it stolenn\n",
      "truth: us thieves try to steal tv return it as it didn t fit in car\n",
      "\n",
      "predicted: man makessableable   in in car co co\n",
      "truth: man turns his car into a drivable hot tub\n",
      "\n",
      "predicted: fake news of shah khan death death on after crash crash crash crash\n",
      "truth: fake news of srk s death emerges on european news channel\n",
      "\n",
      "predicted: delhi cm kejriwals defamationion overstlala remark\n",
      "truth: delhi cm discharged in defamation case over thulla remark\n",
      "\n",
      "predicted: man makessableable   in in car co co\n",
      "truth: man turns his car into a drivable hot tub\n",
      "\n"
     ]
    },
    {
     "name": "stderr",
     "output_type": "stream",
     "text": [
      "539it [02:43,  3.30it/s]\n",
      "1it [00:00,  8.27it/s]"
     ]
    },
    {
     "name": "stdout",
     "output_type": "stream",
     "text": [
      "epoch 39 G loss: 0.5748900479432558\n"
     ]
    },
    {
     "name": "stderr",
     "output_type": "stream",
     "text": [
      "231it [00:29,  7.79it/s]\n",
      "0it [00:00, ?it/s]"
     ]
    },
    {
     "name": "stdout",
     "output_type": "stream",
     "text": [
      "predicted: 4 missile fired  afghanistan afghanistan pakistan map map\n",
      "truth: 4 missiles fired into pakistan from afghanistan\n",
      "\n",
      "predicted: world s smallest computer computer temperature temperatures map\n",
      "truth: how does the world s smallest computer work\n",
      "\n",
      "predicted: man man dies maninging dies dies diesing car\n",
      "truth: man dies after crashing his scooter into zareen khan s car in goa\n",
      "\n",
      "predicted: jaggvi got puts women women at g g gdododo\n",
      "truth: game of thrones puts women at the forefront gwendoline\n",
      "\n",
      "predicted: am b aishwarya aishwaryaeded  in  panama panama papers map map\n",
      "truth: amitabh aishwarya submit documents in panama papers probe\n",
      "\n",
      "predicted: delhi metro orderss against to to delhi delhi\n",
      "truth: delhi metro moves sc against 60 crore payment to rinfra arm\n",
      "\n",
      "predicted: srikanth sed padma shri shri india in sth\n",
      "truth: kidambi srikanth conferred with padma shri award\n",
      "\n",
      "predicted: solar storm storm expected to earth earth earth earth map map\n",
      "truth: minor solar flare expected to hit earth today cause auroras\n",
      "\n",
      "predicted: scientistss bricks meteorites meteorites map\n",
      "truth: online volunteers help find star that exploded 97 cr yrs ago\n",
      "\n",
      "predicted: deatheeling after gorkhalandland after after in in\n",
      "truth: gorkhaland supporter killed in police firing in darjeeling\n",
      "\n"
     ]
    },
    {
     "name": "stderr",
     "output_type": "stream",
     "text": [
      "539it [02:43,  3.30it/s]\n",
      "1it [00:00,  8.32it/s]"
     ]
    },
    {
     "name": "stdout",
     "output_type": "stream",
     "text": [
      "epoch 40 G loss: 0.52950467843546\n"
     ]
    },
    {
     "name": "stderr",
     "output_type": "stream",
     "text": [
      "231it [00:29,  7.83it/s]\n",
      "0it [00:00, ?it/s]"
     ]
    },
    {
     "name": "stdout",
     "output_type": "stream",
     "text": [
      "predicted: karnataku s to to to to to s stuck in in\n",
      "truth: match s pre lunch session extended as food stuck in b luru traffic\n",
      "\n",
      "predicted: deatheeling after gorkhalandland after after in in\n",
      "truth: gorkhaland supporter killed in police firing in darjeeling\n",
      "\n",
      "predicted: armyables again soldiers soldiers soldiers soldiers soldiersss army\n",
      "truth: soldiers to face action for disrespecting militants bodies\n",
      "\n",
      "predicted: kerala treating sabarimalas likess of environment interest shah\n",
      "truth: kerala treating sabarimala pilgrims like gulag inmates shah\n",
      "\n",
      "predicted: wouldinging blood blood blood will be great justinlangerlanger fc\n",
      "truth: india are smelling blood we will show them great respect langer\n",
      "\n",
      "predicted: pm to visit china in in sept septemberember map\n",
      "truth: pm modi to attend brics summit in china\n",
      "\n",
      "predicted: ferrari s driver crashes car car car car after carss doors\n",
      "truth: f1 driver crashes after race ends rides back on another car\n",
      "\n",
      "predicted: solar storm storm expected to earth earth earth earth\n",
      "truth: minor solar flare expected to hit earth today cause auroras\n",
      "\n",
      "predicted: amazon tests test delivery delivery for in in london london test\n",
      "truth: amazon to test one hour delivery for fashion show clothes\n",
      "\n",
      "predicted: jaggvis puts women women at g g gndododo\n",
      "truth: game of thrones puts women at the forefront gwendoline\n",
      "\n"
     ]
    },
    {
     "name": "stderr",
     "output_type": "stream",
     "text": [
      "79it [00:24,  3.33it/s]IOPub message rate exceeded.\n",
      "The notebook server will temporarily stop sending output\n",
      "to the client in order to avoid crashing it.\n",
      "To change this limit, set the config variable\n",
      "`--NotebookApp.iopub_msg_rate_limit`.\n",
      "\n",
      "Current values:\n",
      "NotebookApp.iopub_msg_rate_limit=1000.0 (msgs/sec)\n",
      "NotebookApp.rate_limit_window=3.0 (secs)\n",
      "\n",
      "539it [02:43,  3.30it/s]\n",
      "1it [00:00,  7.93it/s]"
     ]
    },
    {
     "name": "stdout",
     "output_type": "stream",
     "text": [
      "epoch 43 G loss: 0.5587995870218196\n"
     ]
    },
    {
     "name": "stderr",
     "output_type": "stream",
     "text": [
      "231it [00:29,  7.84it/s]\n",
      "0it [00:00, ?it/s]"
     ]
    },
    {
     "name": "stdout",
     "output_type": "stream",
     "text": [
      "predicted: kerala school makess weddings mandatory hostel hostel hostel hub hub\n",
      "truth: village issues marriage certificate only after green wedding\n",
      "\n",
      "predicted: goted for for b b big b on s s s yr yrss\n",
      "truth: received best compliment from dilip kumar for black big b\n",
      "\n",
      "predicted: teen killed in clashes clashe clashess in kashmir kashmir\n",
      "truth: 20 yr old killed in clashes after eid prayers in kashmir\n",
      "\n",
      "predicted: pak will an asian statue under wc wc wc akhtarakhtarakhtar hub hub\n",
      "truth: pak will become asian tiger under imran khan shoaib akhtar\n",
      "\n",
      "predicted: man man dies maninging dies dies diesing car\n",
      "truth: man dies after crashing his scooter into zareen khan s car in goa\n",
      "\n",
      "predicted: un probing syrian chiefsss syrian syrian syrian\n",
      "truth: enough evidence to convict syrian prez of war crimes un\n",
      "\n",
      "predicted: zoomcar raises 40 million infrom mahindrara\n",
      "truth: car rental startup zoomcar raises 40 million in series c\n",
      "\n",
      "predicted: kartarpur corridor at be for for made mistake mistake pm modi\n",
      "truth: kartarpur corridor atonement for mistake made in 1947 pm modi\n",
      "\n",
      "predicted: nasa reaches 1 1 1 lakh indian pocket on a a\n",
      "truth: nasa spacecraft landed on mars with names of over 1l indians\n",
      "\n",
      "predicted: man makessableable   in car co co co\n",
      "truth: man turns his car into a drivable hot tub\n",
      "\n"
     ]
    },
    {
     "name": "stderr",
     "output_type": "stream",
     "text": [
      "539it [02:42,  3.31it/s]\n",
      "1it [00:00,  8.03it/s]"
     ]
    },
    {
     "name": "stdout",
     "output_type": "stream",
     "text": [
      "epoch 44 G loss: 0.5373398048991512\n"
     ]
    },
    {
     "name": "stderr",
     "output_type": "stream",
     "text": [
      "231it [00:29,  7.86it/s]\n",
      "0it [00:00, ?it/s]"
     ]
    },
    {
     "name": "stdout",
     "output_type": "stream",
     "text": [
      "predicted: solar storm storm expect to to earth earth earth earth\n",
      "truth: minor solar flare expected to hit earth today cause auroras\n",
      "\n",
      "predicted: goted for for b b big b on s sitabh yr yrss\n",
      "truth: received best compliment from dilip kumar for black big b\n",
      "\n",
      "predicted: 3 was 1 1 female teacher teacher teacher child child child child child victim\n",
      "truth: who was savitribai phule india s first female teacher\n",
      "\n",
      "predicted: nasa reaches 1 1 1 lakh indian pocket on a a\n",
      "truth: nasa spacecraft landed on mars with names of over 1l indians\n",
      "\n",
      "predicted: french singerss after studioss after in in\n",
      "truth: french singer barbara weldens dies on stage during concert\n",
      "\n",
      "predicted: rights rights issue notice notice for foringing leaders leaders for\n",
      "truth: rahul given notice over nude dalit kids being beaten up video\n",
      "\n",
      "predicted: woman finds after gas causes mo moites malfunction\n",
      "truth: us woman severely injured after mistaking dynamite for candle\n",
      "\n",
      "predicted: airbus probe probe corruption ins666 in66\n",
      "truth: airbus launches internal corruption investigation\n",
      "\n",
      "predicted: indiainging blood blood will be great great justinlangerlanger\n",
      "truth: india are smelling blood we will show them great respect langer\n",
      "\n",
      "predicted: people people the ll walk walk walk walks evacuated in\n",
      "truth: event guests sing you ll never walk alone over terror threat\n",
      "\n"
     ]
    },
    {
     "name": "stderr",
     "output_type": "stream",
     "text": [
      "539it [02:43,  3.30it/s]\n",
      "1it [00:00,  8.31it/s]"
     ]
    },
    {
     "name": "stdout",
     "output_type": "stream",
     "text": [
      "epoch 45 G loss: 0.5238845392633411\n"
     ]
    },
    {
     "name": "stderr",
     "output_type": "stream",
     "text": [
      "231it [00:29,  7.83it/s]\n",
      "0it [00:00, ?it/s]"
     ]
    },
    {
     "name": "stdout",
     "output_type": "stream",
     "text": [
      "predicted: jaggvis puts women women at g gndododo\n",
      "truth: game of thrones puts women at the forefront gwendoline\n",
      "\n",
      "predicted: 14 yr old kills after after for fors video ons\n",
      "truth: scolded for using phone mumbai teen hangs self dies in hospital\n",
      "\n",
      "predicted: man sells 4 4 4 4 after after a shark shark of\n",
      "truth: us man awarded 4 8 crore after beer burns his organs\n",
      "\n",
      "predicted: kerala civic bodys free weddings for for hostel hostel hostel hashtag hashtag\n",
      "truth: village issues marriage certificate only after green wedding\n",
      "\n",
      "predicted: thieves in a inside inside housess it stolen\n",
      "truth: us thieves try to steal tv return it as it didn t fit in car\n",
      "\n",
      "predicted: my my my my my why me me me meuddinuddin\n",
      "truth: threat to my life claims aimim leader akbaruddin owaisi\n",
      "\n",
      "predicted: mccullum hits cricket s fastest century to his his his match\n",
      "truth: brendon mccullum hit test cricket s fastest ton in his last match\n",
      "\n",
      "predicted: world s smallest computer computer temperature temperature\n",
      "truth: how does the world s smallest computer work\n",
      "\n",
      "predicted: farmers defy milk milkss andsss in strike\n",
      "truth: farmers dump vegetables spill milk on roads during protest\n",
      "\n",
      "predicted: solar storm storm expect to to earth earth earth\n",
      "truth: minor solar flare expected to hit earth today cause auroras\n",
      "\n"
     ]
    },
    {
     "name": "stderr",
     "output_type": "stream",
     "text": [
      "539it [02:43,  3.31it/s]\n",
      "1it [00:00,  8.26it/s]"
     ]
    },
    {
     "name": "stdout",
     "output_type": "stream",
     "text": [
      "epoch 46 G loss: 0.5472661636719783\n"
     ]
    },
    {
     "name": "stderr",
     "output_type": "stream",
     "text": [
      "231it [00:29,  7.83it/s]\n",
      "0it [00:00, ?it/s]"
     ]
    },
    {
     "name": "stdout",
     "output_type": "stream",
     "text": [
      "predicted: doctor hospital hospital hospital hospital hospitalsss deathsssss\n",
      "truth: docs chant mantra for hours to bring down deaths in hospital\n",
      "\n",
      "predicted: 13 yr old hurun crown passe away away awayed year year\n",
      "truth: 27 hurun rich list billionaires passed away last year\n",
      "\n",
      "predicted: sonam kapoor wears her  for for film film film fest\n",
      "truth: sonam wears custom made jewellery by sister rhea at cannes\n",
      "\n",
      "predicted: nasa reaches 1 1 lakh pocket indian pocket on a a\n",
      "truth: nasa spacecraft landed on mars with names of over 1l indians\n",
      "\n",
      "predicted: man suess foringinging cockroach to baby baby baby\n",
      "truth: italian nurse jailed for calming newborn with morphine\n",
      "\n",
      "predicted: air indiaeded deniededededededed flight\n",
      "truth: air india refuses to let wheelchair bound passenger on plane\n",
      "\n",
      "predicted: thieves in a remove inside inside toilets it stolen\n",
      "truth: us thieves try to steal tv return it as it didn t fit in car\n",
      "\n",
      "predicted: 33 inmates marrieded at6666\n",
      "truth: 3 075 grooms got married in bihar at gunpoint in 2016\n",
      "\n",
      "predicted: world s smallest computer computer temperature temperatures\n",
      "truth: how does the world s smallest computer work\n",
      "\n",
      "predicted: former nirmalm minister swor sworn in in governor row row\n",
      "truth: satya pal malik sworn in as governor of bihar\n",
      "\n"
     ]
    },
    {
     "name": "stderr",
     "output_type": "stream",
     "text": [
      "539it [02:43,  3.30it/s]\n",
      "1it [00:00,  8.31it/s]"
     ]
    },
    {
     "name": "stdout",
     "output_type": "stream",
     "text": [
      "epoch 47 G loss: 0.5429303192534904\n"
     ]
    },
    {
     "name": "stderr",
     "output_type": "stream",
     "text": [
      "231it [00:29,  7.83it/s]\n",
      "0it [00:00, ?it/s]"
     ]
    },
    {
     "name": "stdout",
     "output_type": "stream",
     "text": [
      "predicted: dd de de  d ipling ipling to injury\n",
      "truth: delhi s last year top scorer quinton de kock out of ipl 2017\n",
      "\n",
      "predicted: scientistss blacked meteorites meteorites\n",
      "truth: online volunteers help find star that exploded 97 cr yrs ago\n",
      "\n",
      "predicted: my my my my my why i me me meuddinuddin hub\n",
      "truth: threat to my life claims aimim leader akbaruddin owaisi\n",
      "\n",
      "predicted: zoomcar raises 40 million infrom mahindrara\n",
      "truth: car rental startup zoomcar raises 40 million in series c\n",
      "\n",
      "predicted: 3 was 1 1 female teacher teacher teacher child child child child child hub\n",
      "truth: who was savitribai phule india s first female teacher\n",
      "\n",
      "predicted: facebook askss us to share info ofs reportss hub\n",
      "truth: facebook asks us banks for users financial data report\n",
      "\n",
      "predicted: 3 was 1 1 female teacher teacher teacher child child child child child hub\n",
      "truth: who was savitribai phule india s first female teacher\n",
      "\n",
      "predicted: karnataku s to toed to to to stuck in in\n",
      "truth: match s pre lunch session extended as food stuck in b luru traffic\n",
      "\n",
      "predicted: society betrayed pm for for wel wel for sharad chief hub hub\n",
      "truth: modi is a contractor of social welfare rss chief bhagwat\n",
      "\n",
      "predicted: social media firmsenenings through trump trump trump trump hashtag\n",
      "truth: social media giants are silencing millions of people trump\n",
      "\n"
     ]
    },
    {
     "name": "stderr",
     "output_type": "stream",
     "text": [
      "539it [02:43,  3.30it/s]\n",
      "1it [00:00,  8.36it/s]"
     ]
    },
    {
     "name": "stdout",
     "output_type": "stream",
     "text": [
      "epoch 48 G loss: 0.5463090193250881\n"
     ]
    },
    {
     "name": "stderr",
     "output_type": "stream",
     "text": [
      "231it [00:29,  7.87it/s]\n",
      "0it [00:00, ?it/s]"
     ]
    },
    {
     "name": "stdout",
     "output_type": "stream",
     "text": [
      "predicted: world s smallest computer computer temperature temperature\n",
      "truth: how does the world s smallest computer work\n",
      "\n",
      "predicted: karnataku s to stadium toed to s stuck in\n",
      "truth: match s pre lunch session extended as food stuck in b luru traffic\n",
      "\n",
      "predicted: man gets 4 4 4 crore over over a shark shark shark\n",
      "truth: us man awarded 4 8 crore after beer burns his organs\n",
      "\n",
      "predicted: 1st look poster of sushant kriti kritier raabtata out\n",
      "truth: first look poster of sushant kriti s raabta unveiled\n",
      "\n",
      "predicted: iit roorkee float float float generate generate  water water water water\n",
      "truth: iit roorkee tests device to generate electricity from river flow\n",
      "\n",
      "predicted: zoomcar raises 40 million infrom mahindrara\n",
      "truth: car rental startup zoomcar raises 40 million in series c\n",
      "\n",
      "predicted: my life my my my why i me me me meuddin\n",
      "truth: threat to my life claims aimim leader akbaruddin owaisi\n",
      "\n",
      "predicted: bus for a for aed bus bus bus bus bus bus bus bus\n",
      "truth: suffering for no fault driver who let langur control steering\n",
      "\n",
      "predicted: people people the ll never walk walk walk theed in\n",
      "truth: event guests sing you ll never walk alone over terror threat\n",
      "\n",
      "predicted: delhi metross sc against to to delhi delhi\n",
      "truth: delhi metro moves sc against 60 crore payment to rinfra arm\n",
      "\n"
     ]
    },
    {
     "name": "stderr",
     "output_type": "stream",
     "text": [
      "539it [02:43,  3.30it/s]\n",
      "1it [00:00,  8.28it/s]"
     ]
    },
    {
     "name": "stdout",
     "output_type": "stream",
     "text": [
      "epoch 49 G loss: 0.520103377242114\n"
     ]
    },
    {
     "name": "stderr",
     "output_type": "stream",
     "text": [
      "231it [00:29,  7.82it/s]\n",
      "0it [00:00, ?it/s]"
     ]
    },
    {
     "name": "stdout",
     "output_type": "stream",
     "text": [
      "predicted: rights rightss notice notice for for foringingdding rahul\n",
      "truth: rahul given notice over nude dalit kids being beaten up video\n",
      "\n",
      "predicted: delhi metro orderss again to 60 crore to relian infra\n",
      "truth: delhi metro moves sc against 60 crore payment to rinfra arm\n",
      "\n",
      "predicted: social media firmsenenings through trump trump trump trump promo\n",
      "truth: social media giants are silencing millions of people trump\n",
      "\n",
      "predicted: amazon should pay moneys tax tax taxs donald trump promo\n",
      "truth: amazon must pay real costs and taxes now donald trump\n",
      "\n",
      "predicted: exssss t t and and and andss cm\n",
      "truth: daughters should be taught about good bad touch mp cm\n",
      "\n",
      "predicted: goted for for for b am am bilip on on yrs yrs\n",
      "truth: received best compliment from dilip kumar for black big b\n",
      "\n",
      "predicted: former nirmalm minister swor sworn in in governor promo promo\n",
      "truth: satya pal malik sworn in as governor of bihar\n",
      "\n",
      "predicted: solar storm storm expected to earth earth earth earth gym\n",
      "truth: minor solar flare expected to hit earth today cause auroras\n",
      "\n",
      "predicted: kerala civic bodys free weddings for for hostel hostel hostel gym gym\n",
      "truth: village issues marriage certificate only after green wedding\n",
      "\n",
      "predicted: 33 inmates married ated66666\n",
      "truth: 3 075 grooms got married in bihar at gunpoint in 2016\n",
      "\n"
     ]
    },
    {
     "name": "stderr",
     "output_type": "stream",
     "text": [
      "280it [01:25,  3.27it/s]IOPub message rate exceeded.\n",
      "The notebook server will temporarily stop sending output\n",
      "to the client in order to avoid crashing it.\n",
      "To change this limit, set the config variable\n",
      "`--NotebookApp.iopub_msg_rate_limit`.\n",
      "\n",
      "Current values:\n",
      "NotebookApp.iopub_msg_rate_limit=1000.0 (msgs/sec)\n",
      "NotebookApp.rate_limit_window=3.0 (secs)\n",
      "\n",
      "539it [02:43,  3.30it/s]\n",
      "1it [00:00,  8.23it/s]"
     ]
    },
    {
     "name": "stdout",
     "output_type": "stream",
     "text": [
      "epoch 69 G loss: 0.5161177527226768\n"
     ]
    },
    {
     "name": "stderr",
     "output_type": "stream",
     "text": [
      "231it [00:29,  7.81it/s]\n",
      "0it [00:00, ?it/s]"
     ]
    },
    {
     "name": "stdout",
     "output_type": "stream",
     "text": [
      "predicted: iit roorkee can float generate generate generate  water water water water hashtag hashtag\n",
      "truth: iit roorkee tests device to generate electricity from river flow\n",
      "\n",
      "predicted: rahul scoring more more more lossed sehwag on to\n",
      "truth: aus ke score par laga gst bhaari pad gaya sehwag on india s loss\n",
      "\n",
      "predicted: dd de de  ding ipling to to for\n",
      "truth: delhi s last year top scorer quinton de kock out of ipl 2017\n",
      "\n",
      "predicted: airbus secret probe  corruptiononed in6666\n",
      "truth: airbus launches internal corruption investigation\n",
      "\n",
      "predicted: georgia pm s minister ministersvivivi minister minister\n",
      "truth: georgia pm kvirikashvili resigns amid rift with ruling party\n",
      "\n",
      "predicted: kartarpur corridor at be for for made in mistake pm modi\n",
      "truth: kartarpur corridor atonement for mistake made in 1947 pm modi\n",
      "\n",
      "predicted: nasa proposes suns co co co coinging weather\n",
      "truth: nasa team proposes using sun as cosmic magnifying glass\n",
      "\n",
      "predicted: some society found pm for for wel wel for sharad rss hashtag hashtag\n",
      "truth: modi is a contractor of social welfare rss chief bhagwat\n",
      "\n",
      "predicted: un probing syrian probes humans syrian syrian syrian hashtag\n",
      "truth: enough evidence to convict syrian prez of war crimes un\n",
      "\n",
      "predicted: georgia pm s minister ministersvivivi minister minister\n",
      "truth: georgia pm kvirikashvili resigns amid rift with ruling party\n",
      "\n"
     ]
    },
    {
     "name": "stderr",
     "output_type": "stream",
     "text": [
      "539it [02:43,  3.30it/s]\n",
      "1it [00:00,  8.34it/s]"
     ]
    },
    {
     "name": "stdout",
     "output_type": "stream",
     "text": [
      "epoch 70 G loss: 0.550131566970624\n"
     ]
    },
    {
     "name": "stderr",
     "output_type": "stream",
     "text": [
      "231it [00:29,  7.86it/s]\n",
      "0it [00:00, ?it/s]"
     ]
    },
    {
     "name": "stdout",
     "output_type": "stream",
     "text": [
      "predicted: social media companies wereenings through through trump trump death probe\n",
      "truth: social media giants are silencing millions of people trump\n",
      "\n",
      "predicted: b luru police police police idiot ofinginging with helmet helmet\n",
      "truth: b luru police ask people to wear helmets share 10 secs challenge\n",
      "\n",
      "predicted: cbiinginginginginging s saaaa\n",
      "truth: cbi planted witnesses in aarushi murder case allahabad hc\n",
      "\n",
      "predicted: my s sededss love love lovessss abd\n",
      "truth: de villiers hid love letters he wrote in his house s roof\n",
      "\n",
      "predicted: armyables against soldiers soldiers soldierssss army army\n",
      "truth: soldiers to face action for disrespecting militants bodies\n",
      "\n",
      "predicted: goted for for for b big b silip s on yr yrss\n",
      "truth: received best compliment from dilip kumar for black big b\n",
      "\n",
      "predicted: kerala treating sabarimalas likess of environment interest amit shah death\n",
      "truth: kerala treating sabarimala pilgrims like gulag inmates shah\n",
      "\n",
      "predicted: man makessableable   in in car co\n",
      "truth: man turns his car into a drivable hot tub\n",
      "\n",
      "predicted: iit roorkee can float generate generate generate  water water water water probe probe\n",
      "truth: iit roorkee tests device to generate electricity from river flow\n",
      "\n",
      "predicted: scientists help brickss meteoritess year\n",
      "truth: online volunteers help find star that exploded 97 cr yrs ago\n",
      "\n"
     ]
    },
    {
     "name": "stderr",
     "output_type": "stream",
     "text": [
      "539it [02:43,  3.30it/s]\n",
      "1it [00:00,  8.28it/s]"
     ]
    },
    {
     "name": "stdout",
     "output_type": "stream",
     "text": [
      "epoch 71 G loss: 0.521789283074406\n"
     ]
    },
    {
     "name": "stderr",
     "output_type": "stream",
     "text": [
      "231it [00:29,  7.82it/s]\n",
      "0it [00:00, ?it/s]"
     ]
    },
    {
     "name": "stdout",
     "output_type": "stream",
     "text": [
      "predicted: man makessableable   in in co co\n",
      "truth: man turns his car into a drivable hot tub\n",
      "\n",
      "predicted: scientistss brickss meteoritess earth\n",
      "truth: online volunteers help find star that exploded 97 cr yrs ago\n",
      "\n",
      "predicted: 20 killed in clashes dur clashesss in kashmir kashmir\n",
      "truth: 20 yr old killed in clashes after eid prayers in kashmir\n",
      "\n",
      "predicted: dd de de  ding ipling to to for\n",
      "truth: delhi s last year top scorer quinton de kock out of ipl 2017\n",
      "\n",
      "predicted: world s smallest computer computer temperaturess\n",
      "truth: how does the world s smallest computer work\n",
      "\n",
      "predicted: people people the to walk walk walk walk the evacuated in\n",
      "truth: event guests sing you ll never walk alone over terror threat\n",
      "\n",
      "predicted: man makessableable   in in co co\n",
      "truth: man turns his car into a drivable hot tub\n",
      "\n",
      "predicted: congress congress cong join to to to up for up for seats hashtag hashtag\n",
      "truth: cong ncp join hands against bjp for maha council by poll\n",
      "\n",
      "predicted: doctor hospital hospital hospital hospital hospitalsss deathsssss\n",
      "truth: docs chant mantra for hours to bring down deaths in hospital\n",
      "\n",
      "predicted: kerala treating sabarimalas likess of environment interest amit shah hashtag\n",
      "truth: kerala treating sabarimala pilgrims like gulag inmates shah\n",
      "\n"
     ]
    },
    {
     "name": "stderr",
     "output_type": "stream",
     "text": [
      "539it [02:42,  3.31it/s]\n",
      "1it [00:00,  8.24it/s]"
     ]
    },
    {
     "name": "stdout",
     "output_type": "stream",
     "text": [
      "epoch 72 G loss: 0.47194432744658293\n"
     ]
    },
    {
     "name": "stderr",
     "output_type": "stream",
     "text": [
      "231it [00:29,  7.82it/s]\n",
      "0it [00:00, ?it/s]"
     ]
    },
    {
     "name": "stdout",
     "output_type": "stream",
     "text": [
      "predicted: whatsapp should have in india to to news minister minister mm mm\n",
      "truth: whatsapp must have grievance officer in india it min to ceo\n",
      "\n",
      "predicted: congress congress cong join to to to up for up for seats mm mm\n",
      "truth: cong ncp join hands against bjp for maha council by poll\n",
      "\n",
      "predicted: kerala govt makes free weddings mandatory marriage marriage mm mm\n",
      "truth: village issues marriage certificate only after green wedding\n",
      "\n",
      "predicted: bararcelona first club club to spend toss in in\n",
      "truth: barcelona become world s 1st team to spend 500 million on wages\n",
      "\n",
      "predicted: nasa proposes suns co co co coinging weather\n",
      "truth: nasa team proposes using sun as cosmic magnifying glass\n",
      "\n",
      "predicted: pm to visit china in in first sept summit summit mm mm mm\n",
      "truth: pm modi to attend brics summit in china\n",
      "\n",
      "predicted: delhi metro fares move against hc to to 3 months mm mm\n",
      "truth: delhi metro moves sc against 60 crore payment to rinfra arm\n",
      "\n",
      "predicted: man climbs climbs in to to back back back to to e e\n",
      "truth: man climbs 30 feet ghaziabad hoarding to win back ex fianc e\n",
      "\n",
      "predicted: people people the to walk walk walk walk the evacuated in\n",
      "truth: event guests sing you ll never walk alone over terror threat\n",
      "\n",
      "predicted: sonam kapoor wears her  for for film film film film mm\n",
      "truth: sonam wears custom made jewellery by sister rhea at cannes\n",
      "\n"
     ]
    },
    {
     "name": "stderr",
     "output_type": "stream",
     "text": [
      "219it [01:06,  3.31it/s]IOPub message rate exceeded.\n",
      "The notebook server will temporarily stop sending output\n",
      "to the client in order to avoid crashing it.\n",
      "To change this limit, set the config variable\n",
      "`--NotebookApp.iopub_msg_rate_limit`.\n",
      "\n",
      "Current values:\n",
      "NotebookApp.iopub_msg_rate_limit=1000.0 (msgs/sec)\n",
      "NotebookApp.rate_limit_window=3.0 (secs)\n",
      "\n",
      "539it [02:43,  3.30it/s]\n",
      "1it [00:00,  8.05it/s]"
     ]
    },
    {
     "name": "stdout",
     "output_type": "stream",
     "text": [
      "epoch 92 G loss: 0.43703544994044075\n"
     ]
    },
    {
     "name": "stderr",
     "output_type": "stream",
     "text": [
      "231it [00:29,  7.87it/s]\n",
      "0it [00:00, ?it/s]"
     ]
    },
    {
     "name": "stdout",
     "output_type": "stream",
     "text": [
      "predicted: 4 missile fired  afghanistan afghanistan pakistan in row\n",
      "truth: 4 missiles fired into pakistan from afghanistan\n",
      "\n",
      "predicted: some society found for for for wel wel modi rss rss chief\n",
      "truth: modi is a contractor of social welfare rss chief bhagwat\n",
      "\n",
      "predicted: deaths in after after after after in ins 8 8\n",
      "truth: gorkhaland supporter killed in police firing in darjeeling\n",
      "\n",
      "predicted: man suess foringinginging to baby baby baby\n",
      "truth: italian nurse jailed for calming newborn with morphine\n",
      "\n",
      "predicted: 1st look poster of sushant kriti kriti s raabta unveiled\n",
      "truth: first look poster of sushant kriti s raabta unveiled\n",
      "\n",
      "predicted: mccullum hits cricket s fastest century to his his his match\n",
      "truth: brendon mccullum hit test cricket s fastest ton in his last match\n",
      "\n",
      "predicted: georgia pm s minister ministerviviviss minister minister\n",
      "truth: georgia pm kvirikashvili resigns amid rift with ruling party\n",
      "\n",
      "predicted: vajpayee wasst 1st to in in at at un at\n",
      "truth: late pm vajpayee was 1st person to give hindi speech at un\n",
      "\n",
      "predicted: doctor hospital hospital hospital hospital hospitalss dis deathsssss\n",
      "truth: docs chant mantra for hours to bring down deaths in hospital\n",
      "\n",
      "predicted: facebook askss us to share info of info reportss row\n",
      "truth: facebook asks us banks for users financial data report\n",
      "\n"
     ]
    },
    {
     "name": "stderr",
     "output_type": "stream",
     "text": [
      "539it [02:42,  3.31it/s]\n",
      "1it [00:00,  8.33it/s]"
     ]
    },
    {
     "name": "stdout",
     "output_type": "stream",
     "text": [
      "epoch 93 G loss: 0.49095643221034657\n"
     ]
    },
    {
     "name": "stderr",
     "output_type": "stream",
     "text": [
      "231it [00:29,  7.86it/s]\n",
      "0it [00:00, ?it/s]"
     ]
    },
    {
     "name": "stdout",
     "output_type": "stream",
     "text": [
      "predicted: my my my my i my me me me me meuddin\n",
      "truth: threat to my life claims aimim leader akbaruddin owaisi\n",
      "\n",
      "predicted: i was threatened to to birth till class school 7 18 yr old old\n",
      "truth: was threatened to change asaram rape victim s age principal\n",
      "\n",
      "predicted: scientistss bricks meteorites meteoritess\n",
      "truth: online volunteers help find star that exploded 97 cr yrs ago\n",
      "\n",
      "predicted: barca first first club club to spend toss ins\n",
      "truth: barcelona become world s 1st team to spend 500 million on wages\n",
      "\n",
      "predicted: us stream stream newspaper shot dead by in in andaman death\n",
      "truth: 22 year old model shot dead inside her porsche in iraq\n",
      "\n",
      "predicted: 33 inmates got married at66666\n",
      "truth: 3 075 grooms got married in bihar at gunpoint in 2016\n",
      "\n",
      "predicted: us stream stream newspaper shot dead by in in andaman death\n",
      "truth: 22 year old model shot dead inside her porsche in iraq\n",
      "\n",
      "predicted: georgia pm s minister ministerviviviss minister\n",
      "truth: georgia pm kvirikashvili resigns amid rift with ruling party\n",
      "\n",
      "predicted: rights rightss notice notice for for foringdddinging\n",
      "truth: rahul given notice over nude dalit kids being beaten up video\n",
      "\n",
      "predicted: mccullum hits cricket s fastest century to his his match match\n",
      "truth: brendon mccullum hit test cricket s fastest ton in his last match\n",
      "\n"
     ]
    },
    {
     "name": "stderr",
     "output_type": "stream",
     "text": [
      "539it [02:43,  3.30it/s]\n",
      "1it [00:00,  7.78it/s]"
     ]
    },
    {
     "name": "stdout",
     "output_type": "stream",
     "text": [
      "epoch 94 G loss: 0.5048658710901405\n"
     ]
    },
    {
     "name": "stderr",
     "output_type": "stream",
     "text": [
      "231it [00:29,  7.86it/s]\n",
      "0it [00:00, ?it/s]"
     ]
    },
    {
     "name": "stdout",
     "output_type": "stream",
     "text": [
      "predicted: us stream streams shot dead by in in andaman death\n",
      "truth: 22 year old model shot dead inside her porsche in iraq\n",
      "\n",
      "predicted: 36 deport old 36 year old engineer overeded isi links links isi\n",
      "truth: uae deports indian over suspected links with isis\n",
      "\n",
      "predicted: sports canno run run run bysss sports sports sports min\n",
      "truth: sports can t be run by bureaucrats sports minister rathore\n",
      "\n",
      "predicted: doctor hospital hospital hospital hospital hospitalss dissssss\n",
      "truth: docs chant mantra for hours to bring down deaths in hospital\n",
      "\n",
      "predicted: french singerss after studioss dies in in\n",
      "truth: french singer barbara weldens dies on stage during concert\n",
      "\n",
      "predicted: sports canno run run run bysss sports sports sports min\n",
      "truth: sports can t be run by bureaucrats sports minister rathore\n",
      "\n",
      "predicted: deaths in gorkhaland after after after killed 8 8\n",
      "truth: gorkhaland supporter killed in police firing in darjeeling\n",
      "\n",
      "predicted: 13 year old hurun crown passe away away awayed year year\n",
      "truth: 27 hurun rich list billionaires passed away last year\n",
      "\n",
      "predicted: dd de de dding ipl ipl to for for\n",
      "truth: delhi s last year top scorer quinton de kock out of ipl 2017\n",
      "\n",
      "predicted: bararcelona first club club to spend tossss\n",
      "truth: barcelona become world s 1st team to spend 500 million on wages\n",
      "\n"
     ]
    },
    {
     "name": "stderr",
     "output_type": "stream",
     "text": [
      "539it [02:42,  3.31it/s]\n",
      "1it [00:00,  7.94it/s]"
     ]
    },
    {
     "name": "stdout",
     "output_type": "stream",
     "text": [
      "epoch 95 G loss: 0.4591540163780741\n"
     ]
    },
    {
     "name": "stderr",
     "output_type": "stream",
     "text": [
      "175it [00:22,  7.79it/s]IOPub message rate exceeded.\n",
      "The notebook server will temporarily stop sending output\n",
      "to the client in order to avoid crashing it.\n",
      "To change this limit, set the config variable\n",
      "`--NotebookApp.iopub_msg_rate_limit`.\n",
      "\n",
      "Current values:\n",
      "NotebookApp.iopub_msg_rate_limit=1000.0 (msgs/sec)\n",
      "NotebookApp.rate_limit_window=3.0 (secs)\n",
      "\n",
      "231it [00:29,  7.87it/s]\n",
      "0it [00:00, ?it/s]"
     ]
    },
    {
     "name": "stdout",
     "output_type": "stream",
     "text": [
      "predicted: man man old man diesinginging herss car\n",
      "truth: man dies after crashing his scooter into zareen khan s car in goa\n",
      "\n",
      "predicted: facebook askss us to share info of info reports row row\n",
      "truth: facebook asks us banks for users financial data report\n",
      "\n",
      "predicted: solar storm storm expected to hit earth earth earth row\n",
      "truth: minor solar flare expected to hit earth today cause auroras\n",
      "\n",
      "predicted: b luru police police for idiot idiotinging without helmet\n",
      "truth: b luru police ask people to wear helmets share 10 secs challenge\n",
      "\n",
      "predicted: congress congress congress hands to to up for up for poll seat row row\n",
      "truth: cong ncp join hands against bjp for maha council by poll\n",
      "\n",
      "predicted: whyb akss be aseded    snisss\n",
      "truth: akmal should be ashamed for being sent back to pak waqar\n",
      "\n",
      "predicted: kids give notice notice for for foringingddding\n",
      "truth: rahul given notice over nude dalit kids being beaten up video\n",
      "\n",
      "predicted: society pm modi for for social wel wel chief rss chief row row\n",
      "truth: modi is a contractor of social welfare rss chief bhagwat\n",
      "\n",
      "predicted: pm to visit china in china in september summit row row behaviour\n",
      "truth: pm modi to attend brics summit in china\n",
      "\n",
      "predicted: amazon should pay money cashs tax taxes trump donald trump row row\n",
      "truth: amazon must pay real costs and taxes now donald trump\n",
      "\n"
     ]
    },
    {
     "name": "stderr",
     "output_type": "stream",
     "text": [
      "539it [02:43,  3.30it/s]\n",
      "1it [00:00,  8.37it/s]"
     ]
    },
    {
     "name": "stdout",
     "output_type": "stream",
     "text": [
      "epoch 115 G loss: 0.5334993424790152\n"
     ]
    },
    {
     "name": "stderr",
     "output_type": "stream",
     "text": [
      "231it [00:29,  7.88it/s]\n",
      "0it [00:00, ?it/s]"
     ]
    },
    {
     "name": "stdout",
     "output_type": "stream",
     "text": [
      "predicted: sonam kapoor wears her  for film film film film row\n",
      "truth: sonam wears custom made jewellery by sister rhea at cannes\n",
      "\n",
      "predicted: former minister nirmalm interim sworn in as governor row row\n",
      "truth: satya pal malik sworn in as governor of bihar\n",
      "\n",
      "predicted: protests of milking ands andss on in strike strike\n",
      "truth: farmers dump vegetables spill milk on roads during protest\n",
      "\n",
      "predicted: nasa reaches 1 1 1 pocket pocket indian on a a row\n",
      "truth: nasa spacecraft landed on mars with names of over 1l indians\n",
      "\n",
      "predicted: kartarpur corridor at be for for pm pm modi on on on\n",
      "truth: kartarpur corridor atonement for mistake made in 1947 pm modi\n",
      "\n",
      "predicted: ferrari driver crashes driver driver car car car after cars\n",
      "truth: f1 driver crashes after race ends rides back on another car\n",
      "\n",
      "predicted: bararcelona first club club to spend to 76 bnss\n",
      "truth: barcelona become world s 1st team to spend 500 million on wages\n",
      "\n",
      "predicted: man suess foringinging trash to baby baby\n",
      "truth: italian nurse jailed for calming newborn with morphine\n",
      "\n",
      "predicted: man deported 36 year old  over kashmir terror isi links isi\n",
      "truth: uae deports indian over suspected links with isis\n",
      "\n",
      "predicted: 1 look poster of sushantshant kriti ser raabtata out row\n",
      "truth: first look poster of sushant kriti s raabta unveiled\n",
      "\n"
     ]
    },
    {
     "name": "stderr",
     "output_type": "stream",
     "text": [
      "539it [02:43,  3.30it/s]\n",
      "1it [00:00,  8.30it/s]"
     ]
    },
    {
     "name": "stdout",
     "output_type": "stream",
     "text": [
      "epoch 116 G loss: 0.4398300708179377\n"
     ]
    },
    {
     "name": "stderr",
     "output_type": "stream",
     "text": [
      "231it [00:29,  7.86it/s]\n",
      "0it [00:00, ?it/s]"
     ]
    },
    {
     "name": "stdout",
     "output_type": "stream",
     "text": [
      "predicted: ferrari s driver crashes driver car car car car afters\n",
      "truth: f1 driver crashes after race ends rides back on another car\n",
      "\n",
      "predicted: delhi metro courtss again to to delhi delhi infra mm\n",
      "truth: delhi metro moves sc against 60 crore payment to rinfra arm\n",
      "\n",
      "predicted: amazon should pay money pays tax taxes trump donald trump mm mm\n",
      "truth: amazon must pay real costs and taxes now donald trump\n",
      "\n",
      "predicted: big b aishwarya aishwaryaeds   in panama panama probe mm mm mm\n",
      "truth: amitabh aishwarya submit documents in panama papers probe\n",
      "\n",
      "predicted: 14 yr old kills after after for foring videoss dies\n",
      "truth: scolded for using phone mumbai teen hangs self dies in hospital\n",
      "\n",
      "predicted: man suess foringinging trash to baby baby baby\n",
      "truth: italian nurse jailed for calming newborn with morphine\n",
      "\n",
      "predicted: sachin attends weddingy ceremony at s b mm mm\n",
      "truth: sachin tendulkar attends krunal pandya s wedding in mumbai\n",
      "\n",
      "predicted: 33 inmates got married at6666\n",
      "truth: 3 075 grooms got married in bihar at gunpoint in 2016\n",
      "\n",
      "predicted: probe of probe probe suggests cias syrian syrian syrian mm mm\n",
      "truth: enough evidence to convict syrian prez of war crimes un\n",
      "\n",
      "predicted: scientists make stars meteorite 97 years ago ago\n",
      "truth: online volunteers help find star that exploded 97 cr yrs ago\n",
      "\n"
     ]
    },
    {
     "name": "stderr",
     "output_type": "stream",
     "text": [
      "539it [02:43,  3.30it/s]\n",
      "1it [00:00,  8.35it/s]"
     ]
    },
    {
     "name": "stdout",
     "output_type": "stream",
     "text": [
      "epoch 117 G loss: 0.4684959623444886\n"
     ]
    },
    {
     "name": "stderr",
     "output_type": "stream",
     "text": [
      "231it [00:29,  7.89it/s]\n",
      "0it [00:00, ?it/s]"
     ]
    },
    {
     "name": "stdout",
     "output_type": "stream",
     "text": [
      "predicted: ex andsssss and and and and case case cm\n",
      "truth: daughters should be taught about good bad touch mp cm\n",
      "\n",
      "predicted: man gets 4 8 cr for 8 8 after shark of shark\n",
      "truth: us man awarded 4 8 crore after beer burns his organs\n",
      "\n",
      "predicted: amazon tests test delivery delivery for in fashion in london london row mm\n",
      "truth: amazon to test one hour delivery for fashion show clothes\n",
      "\n",
      "predicted: my s sed stoods love love lovessss abd\n",
      "truth: de villiers hid love letters he wrote in his house s roof\n",
      "\n",
      "predicted: dd de de  barreding ipl ipling for on finger hand\n",
      "truth: delhi s last year top scorer quinton de kock out of ipl 2017\n",
      "\n",
      "predicted: sonam kapoor wears her  for for film film film\n",
      "truth: sonam wears custom made jewellery by sister rhea at cannes\n",
      "\n",
      "predicted: french singerss after studioss after in in\n",
      "truth: french singer barbara weldens dies on stage during concert\n",
      "\n",
      "predicted: 14 yr old kills after after for foring videoss dies\n",
      "truth: scolded for using phone mumbai teen hangs self dies in hospital\n",
      "\n",
      "predicted: thieves in a remove remove inside ins dept dept\n",
      "truth: us thieves try to steal tv return it as it didn t fit in car\n",
      "\n",
      "predicted: goted letter for for big b am bilip s on 13 13 yrs\n",
      "truth: received best compliment from dilip kumar for black big b\n",
      "\n"
     ]
    },
    {
     "name": "stderr",
     "output_type": "stream",
     "text": [
      "539it [02:43,  3.30it/s]\n",
      "1it [00:00,  8.33it/s]"
     ]
    },
    {
     "name": "stdout",
     "output_type": "stream",
     "text": [
      "epoch 118 G loss: 0.4207255768085742\n"
     ]
    },
    {
     "name": "stderr",
     "output_type": "stream",
     "text": [
      "117it [00:14,  7.70it/s]IOPub message rate exceeded.\n",
      "The notebook server will temporarily stop sending output\n",
      "to the client in order to avoid crashing it.\n",
      "To change this limit, set the config variable\n",
      "`--NotebookApp.iopub_msg_rate_limit`.\n",
      "\n",
      "Current values:\n",
      "NotebookApp.iopub_msg_rate_limit=1000.0 (msgs/sec)\n",
      "NotebookApp.rate_limit_window=3.0 (secs)\n",
      "\n",
      "231it [00:29,  7.86it/s]\n",
      "0it [00:00, ?it/s]"
     ]
    },
    {
     "name": "stdout",
     "output_type": "stream",
     "text": [
      "predicted: sports canno run run run bysss sports sports sports min\n",
      "truth: sports can t be run by bureaucrats sports minister rathore\n",
      "\n",
      "predicted: my ssed stoods love love lovessss abd\n",
      "truth: de villiers hid love letters he wrote in his house s roof\n",
      "\n",
      "predicted: facebook askss us to reports of info reports\n",
      "truth: facebook asks us banks for users financial data report\n",
      "\n",
      "predicted: rights rightss notice notice for for foringdddinging\n",
      "truth: rahul given notice over nude dalit kids being beaten up video\n",
      "\n",
      "predicted: four missile fired from afghanistan in pakistan\n",
      "truth: 4 missiles fired into pakistan from afghanistan\n",
      "\n",
      "predicted: 1 killed in violence durssss in clashe clashe\n",
      "truth: 20 yr old killed in clashes after eid prayers in kashmir\n",
      "\n",
      "predicted: ddon de  d out of ipl ipl foring on hand hand\n",
      "truth: delhi s last year top scorer quinton de kock out of ipl 2017\n",
      "\n",
      "predicted: vajpayee was tost to inhindihindi at in election\n",
      "truth: late pm vajpayee was 1st person to give hindi speech at un\n",
      "\n",
      "predicted: georgia pm pm ex ministerviviss with leader leader\n",
      "truth: georgia pm kvirikashvili resigns amid rift with ruling party\n",
      "\n",
      "predicted: saed to pe peans with withs 22 ndidididi\n",
      "truth: csk pacer lungi reveals he used to sell peanuts on roadside\n",
      "\n"
     ]
    },
    {
     "name": "stderr",
     "output_type": "stream",
     "text": [
      "539it [02:43,  3.30it/s]\n",
      "1it [00:00,  8.29it/s]"
     ]
    },
    {
     "name": "stdout",
     "output_type": "stream",
     "text": [
      "epoch 138 G loss: 0.4723634019818229\n"
     ]
    },
    {
     "name": "stderr",
     "output_type": "stream",
     "text": [
      "231it [00:29,  7.85it/s]\n",
      "0it [00:00, ?it/s]"
     ]
    },
    {
     "name": "stdout",
     "output_type": "stream",
     "text": [
      "predicted: whyb aks should be aseded    sniss\n",
      "truth: akmal should be ashamed for being sent back to pak waqar\n",
      "\n",
      "predicted: 1st look poster of sushant kriti kriti s raabtata out\n",
      "truth: first look poster of sushant kriti s raabta unveiled\n",
      "\n",
      "predicted: 1 1sss 1 1 pocket indian on a a chip\n",
      "truth: nasa spacecraft landed on mars with names of over 1l indians\n",
      "\n",
      "predicted: 14 yr old kills after after for foring videoss dies\n",
      "truth: scolded for using phone mumbai teen hangs self dies in hospital\n",
      "\n",
      "predicted: facebook askss us to share info of info reports hashtag hashtag\n",
      "truth: facebook asks us banks for users financial data report\n",
      "\n",
      "predicted: social media firms stress hiddening through through trump trump hashtag hashtag\n",
      "truth: social media giants are silencing millions of people trump\n",
      "\n",
      "predicted: kartarpur corridor at be for for pm pm on on on on\n",
      "truth: kartarpur corridor atonement for mistake made in 1947 pm modi\n",
      "\n",
      "predicted: 18 hn crown crown crown 98s away awayed year yearstst\n",
      "truth: 27 hurun rich list billionaires passed away last year\n",
      "\n",
      "predicted: man gets 4 8 cr for 4 8 over a shark shark of\n",
      "truth: us man awarded 4 8 crore after beer burns his organs\n",
      "\n",
      "predicted: amazon tests test delivery delivery for show fashion in london london hashtag hashtag jan\n",
      "truth: amazon to test one hour delivery for fashion show clothes\n",
      "\n"
     ]
    },
    {
     "name": "stderr",
     "output_type": "stream",
     "text": [
      "539it [02:43,  3.29it/s]\n",
      "1it [00:00,  8.29it/s]"
     ]
    },
    {
     "name": "stdout",
     "output_type": "stream",
     "text": [
      "epoch 139 G loss: 0.4162058815293294\n"
     ]
    },
    {
     "name": "stderr",
     "output_type": "stream",
     "text": [
      "231it [00:29,  7.86it/s]\n",
      "0it [00:00, ?it/s]"
     ]
    },
    {
     "name": "stdout",
     "output_type": "stream",
     "text": [
      "predicted: climb climbs 30 ft high to to back back back to to e e\n",
      "truth: man climbs 30 feet ghaziabad hoarding to win back ex fianc e\n",
      "\n",
      "predicted: kartarpur corridor at be for for pm pm on on on on ondnd\n",
      "truth: kartarpur corridor atonement for mistake made in 1947 pm modi\n",
      "\n",
      "predicted: kerala treating sabarimalas likess of environmentss shah\n",
      "truth: kerala treating sabarimala pilgrims like gulag inmates shah\n",
      "\n",
      "predicted: ddon de  d out of ipl ipl for for finger hand\n",
      "truth: delhi s last year top scorer quinton de kock out of ipl 2017\n",
      "\n",
      "predicted: north korea missiles engine engine engine engines study\n",
      "truth: n korea missiles used russian or ukrainian engines reports\n",
      "\n",
      "predicted: society has pm pm for for wel welcy rss rss chief\n",
      "truth: modi is a contractor of social welfare rss chief bhagwat\n",
      "\n",
      "predicted: sports run run run run bysss sports sports min min\n",
      "truth: sports can t be run by bureaucrats sports minister rathore\n",
      "\n",
      "predicted: us streams shooting shot dead by by in in death\n",
      "truth: 22 year old model shot dead inside her porsche in iraq\n",
      "\n",
      "predicted: hospital hospital hospital hospital hospital hospital hospitals death deathssssss\n",
      "truth: docs chant mantra for hours to bring down deaths in hospital\n",
      "\n",
      "predicted: fake news of shah khan death death after on crash crash crash\n",
      "truth: fake news of srk s death emerges on european news channel\n",
      "\n"
     ]
    },
    {
     "name": "stderr",
     "output_type": "stream",
     "text": [
      "539it [02:42,  3.31it/s]\n",
      "1it [00:00,  8.31it/s]"
     ]
    },
    {
     "name": "stdout",
     "output_type": "stream",
     "text": [
      "epoch 140 G loss: 0.44988912086974714\n"
     ]
    },
    {
     "name": "stderr",
     "output_type": "stream",
     "text": [
      "231it [00:29,  7.87it/s]\n",
      "0it [00:00, ?it/s]"
     ]
    },
    {
     "name": "stdout",
     "output_type": "stream",
     "text": [
      "predicted: us stream stream newspaper shot dead by us in hub hub hub\n",
      "truth: 22 year old model shot dead inside her porsche in iraq\n",
      "\n",
      "predicted: australia australia not enough of good a of england england hub hub\n",
      "truth: sledging is a fun part of the game aus coach justin langer\n",
      "\n",
      "predicted: my to my me i am me me me me meuddin\n",
      "truth: threat to my life claims aimim leader akbaruddin owaisi\n",
      "\n",
      "predicted: 14 yr old kills after after for foring videoss dies\n",
      "truth: scolded for using phone mumbai teen hangs self dies in hospital\n",
      "\n",
      "predicted: ddon de  d out of ipl ipl for for finger hand\n",
      "truth: delhi s last year top scorer quinton de kock out of ipl 2017\n",
      "\n",
      "predicted: india smelling blood blood blood will be great aus aus coach hub hub hub\n",
      "truth: india are smelling blood we will show them great respect langer\n",
      "\n",
      "predicted: wheelas for a mistake or bus bus bus bus bus bus bus taka\n",
      "truth: suffering for no fault driver who let langur control steering\n",
      "\n",
      "predicted: sonam kapoor wears her  for film film film film hub\n",
      "truth: sonam wears custom made jewellery by sister rhea at cannes\n",
      "\n",
      "predicted: man gets 4 4 cr for 4 4 after a shark of beer\n",
      "truth: us man awarded 4 8 crore after beer burns his organs\n",
      "\n",
      "predicted: pmmohan sed manssededed union\n",
      "truth: manmohan s speech on demonetisation was scripted prasad\n",
      "\n"
     ]
    },
    {
     "name": "stderr",
     "output_type": "stream",
     "text": [
      "539it [02:43,  3.29it/s]\n",
      "1it [00:00,  8.38it/s]"
     ]
    },
    {
     "name": "stdout",
     "output_type": "stream",
     "text": [
      "epoch 141 G loss: 0.43524093351950555\n"
     ]
    },
    {
     "name": "stderr",
     "output_type": "stream",
     "text": [
      "30it [00:03,  7.99it/s]IOPub message rate exceeded.\n",
      "The notebook server will temporarily stop sending output\n",
      "to the client in order to avoid crashing it.\n",
      "To change this limit, set the config variable\n",
      "`--NotebookApp.iopub_msg_rate_limit`.\n",
      "\n",
      "Current values:\n",
      "NotebookApp.iopub_msg_rate_limit=1000.0 (msgs/sec)\n",
      "NotebookApp.rate_limit_window=3.0 (secs)\n",
      "\n"
     ]
    }
   ],
   "source": [
    "generator_optimizer = torch.optim.Adam(G.parameters(), lr=1e-4)\n",
    "criterion = nn.CrossEntropyLoss(ignore_index=0)\n",
    "\n",
    "G_losses = []\n",
    "D_losses = []\n",
    "iter_num = -1\n",
    "G_ce_val_losses = []\n",
    "\n",
    "for epoch_idx in range(n_epochs):\n",
    "    topic_num = random.choice(np.arange(0, 10))\n",
    "    topic_token = 8000 + topic_num\n",
    "    topic_vector = np.zeros(10)\n",
    "    topic_vector[topic_num] = 1.\n",
    "    topic_vector = topic_vector.tolist()\n",
    "    \n",
    "    train_dataset = Dataset(train_articles, train_highlights, sp=sp, topic_token=topic_token)\n",
    "    val_dataset = Dataset(val_articles, val_highlights, sp=sp, topic_token=topic_token)\n",
    "\n",
    "    train_dataloader = DataLoader(train_dataset, batch_size=128,\n",
    "                                  collate_fn=Padder(), shuffle=True)\n",
    "    val_dataloader = DataLoader(val_dataset, batch_size=128,\n",
    "                                collate_fn=Padder(), shuffle=False)\n",
    "    \n",
    "    \n",
    "    beta += 0.02 * epoch_idx\n",
    "    beta = min(0.85, beta)\n",
    "    \n",
    "    teacher_forcing -= 0.02 * epoch_idx\n",
    "    teacher_forcing = max(0, teacher_forcing)\n",
    "    \n",
    "    total_G_loss = 0.\n",
    "    G.train()\n",
    "    for batch_idx, data_input in tqdm(enumerate(train_dataloader)):\n",
    "        iter_num += 1\n",
    "        article = data_input[0].to(device)\n",
    "        highlight = data_input[1].to(device)\n",
    "\n",
    "        # Generator\n",
    "        generator_optimizer.zero_grad()\n",
    "        gen_out, generated_highlight = G.sample(article, highlight, teacher_forcing_ratio=teacher_forcing)\n",
    "        \n",
    "        texts = tensor_to_text(generated_highlight, sp)\n",
    "        predicted_corpus = [id2word.doc2bow(text.split()) for text in texts]\n",
    "        predicted_topics = [get_topic_vector(lda_model, text) for text in predicted_corpus]\n",
    "        \n",
    "        # texts = tensor_to_text(article, sp, beam_search=True)\n",
    "        # article_corpus = [id2word.doc2bow(text.split()) for text in texts]\n",
    "        # article_topics = [get_topic_vector(lda_model, text) for text in article_corpus]\n",
    "        \n",
    "        gen_list = generated_highlight.cpu().detach().numpy().T.tolist()\n",
    "        all_len = generated_highlight.size(1)\n",
    "        uniques = np.array(list(map(lambda x: len(np.unique(x)), gen_list)))\n",
    "        factors = uniques / all_len\n",
    "        \n",
    "    \n",
    "        rewards = [[cosine(topic_vector, predicted_topic)*factors[i]]*generated_highlight.size(0)\n",
    "                   for i, predicted_topic in enumerate(predicted_topics)]\n",
    "        rewards = torch.tensor(rewards).to(device)\n",
    "        writer.add_scalar('Reward/train', torch.mean(rewards).item(), iter_num)\n",
    "        # rewards = 1 - rewards\n",
    "       \n",
    "        pg_loss = G.batch_pgloss_generated(gen_out, generated_highlight.permute(1, 0), rewards)\n",
    "        \n",
    "        out = G(article, highlight, teacher_forcing_ratio=teacher_forcing)\n",
    "        ml_loss = criterion_ml(out.permute(1, 2, 0), highlight.permute(1, 0))\n",
    "        \n",
    "        loss = beta*pg_loss + (1-beta)*ml_loss\n",
    "        loss.backward()\n",
    "        \n",
    "        generator_optimizer.step()\n",
    "        writer.add_scalar('Loss_train/loss', loss.data.item(), iter_num)\n",
    "        writer.add_scalar('Loss_train/ml_loss', ml_loss.data.item(), iter_num)\n",
    "        writer.add_scalar('Loss_train/pg_loss', pg_loss.data.item(), iter_num)\n",
    "        total_G_loss += loss.data.item() * article.size(1)\n",
    "        \n",
    "    G_losses.append(total_G_loss / len(train_dataset))\n",
    "    print(f'epoch {epoch_idx} G loss: {G_losses[-1]}')\n",
    "    \n",
    "    G.eval()\n",
    "    total_loss = 0.\n",
    "    total_reward = 0.\n",
    "    total_ml_loss = 0.\n",
    "    total_pg_loss = 0.\n",
    "    for batch_idx, data_input in tqdm(enumerate(val_dataloader), position=0, leave=True):\n",
    "        article = data_input[0].to(device)\n",
    "        highlight = data_input[1].to(device)\n",
    "        gen_out, generated_highlight = G.sample(article, highlight, teacher_forcing_ratio=0.)\n",
    "        \n",
    "        texts = tensor_to_text(generated_highlight, sp)\n",
    "        predicted_corpus = [id2word.doc2bow(text.split()) for text in texts]\n",
    "        predicted_topics = [get_topic_vector(lda_model, text) for text in predicted_corpus]\n",
    "        \n",
    "        # texts = tensor_to_text(article, sp)\n",
    "        # article_corpus = [id2word.doc2bow(text.split()) for text in texts]\n",
    "        # article_topics = [get_topic_vector(lda_model, text) for text in article_corpus]\n",
    "    \n",
    "        rewards = [[cosine(topic_vector, predicted_topic)]*generated_highlight.size(0)\n",
    "                   for predicted_topic in predicted_topics]\n",
    "        rewards = torch.tensor(rewards).to(device)\n",
    "        total_reward += torch.mean(rewards).item() * article.size(1)\n",
    "        # rewards = 1 - rewards\n",
    "        pg_loss = G.batch_pgloss_generated(gen_out, generated_highlight.permute(1, 0), rewards)\n",
    "        \n",
    "        out = G(article, highlight, teacher_forcing_ratio=0.)\n",
    "        ml_loss = criterion_ml(out.permute(1, 2, 0), highlight.permute(1, 0))\n",
    "        \n",
    "        loss = beta*pg_loss + (1-beta)*ml_loss\n",
    "        total_loss += loss.data.item() * article.size(1)\n",
    "        \n",
    "        total_ml_loss += ml_loss.data.item() * article.size(1)\n",
    "        total_pg_loss += pg_loss.data.item() * article.size(1)\n",
    "        \n",
    "    writer.add_scalar('Reward/val', total_reward / len(val_dataset), iter_num)\n",
    "    writer.add_scalar('Loss_val/loss', total_loss / len(val_dataset), iter_num)\n",
    "    writer.add_scalar('Loss_val/ml_loss', total_ml_loss / len(val_dataset), iter_num)\n",
    "    writer.add_scalar('Loss_val/pg_loss', total_pg_loss / len(val_dataset), iter_num)\n",
    "    \n",
    "    writer.add_scalar('Params/beta', beta, iter_num)\n",
    "    writer.add_scalar('Params/teacher_forcing', teacher_forcing, iter_num)\n",
    "    \n",
    "    scheduler.step(total_loss)\n",
    "    \n",
    "    indices = sps.randint(0, out.size(1)).rvs(size=10)\n",
    "    pred_texts = tensor_to_text(out[:, indices, :], sp, beam_search=True)\n",
    "    truth_texts = tensor_to_text(highlight[:, indices], sp)\n",
    "    for pred, truth in zip(pred_texts, truth_texts):\n",
    "        writer.add_text('Texts/pred', pred, iter_num)\n",
    "        writer.add_text('Texts/truth', truth, iter_num)\n",
    "        print(f'predicted: {pred}')\n",
    "        print(f'truth: {truth}\\n')"
   ]
  },
  {
   "cell_type": "code",
   "execution_count": 22,
   "metadata": {},
   "outputs": [],
   "source": [
    "save_path = 'saved_models/gen_topics_ohe_2.pth'\n",
    "torch.save(G.state_dict(), save_path)"
   ]
  },
  {
   "cell_type": "code",
   "execution_count": null,
   "metadata": {},
   "outputs": [],
   "source": []
  }
 ],
 "metadata": {
  "kernelspec": {
   "display_name": "Python 3",
   "language": "python",
   "name": "python3"
  },
  "language_info": {
   "codemirror_mode": {
    "name": "ipython",
    "version": 3
   },
   "file_extension": ".py",
   "mimetype": "text/x-python",
   "name": "python",
   "nbconvert_exporter": "python",
   "pygments_lexer": "ipython3",
   "version": "3.7.7"
  }
 },
 "nbformat": 4,
 "nbformat_minor": 4
}
